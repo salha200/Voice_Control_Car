{
  "cells": [
    {
      "cell_type": "code",
      "execution_count": null,
      "metadata": {
        "colab": {
          "base_uri": "https://localhost:8080/"
        },
        "id": "teLRZ34BC2OY",
        "outputId": "a8ae1065-c00a-4c80-86b5-be64e3ac4a3b"
      },
      "outputs": [
        {
          "output_type": "stream",
          "name": "stdout",
          "text": [
            "Mounted at /content/drive\n"
          ]
        }
      ],
      "source": [
        "from google.colab import drive\n",
        "drive.mount('/content/drive')"
      ]
    },
    {
      "cell_type": "markdown",
      "metadata": {
        "id": "NP2u5F4-j8o_"
      },
      "source": [
        "#Download Libraries"
      ]
    },
    {
      "cell_type": "code",
      "execution_count": null,
      "metadata": {
        "colab": {
          "base_uri": "https://localhost:8080/"
        },
        "id": "aj4KWC3QC73-",
        "outputId": "fac5a288-5480-425f-911e-d474f488c251"
      },
      "outputs": [
        {
          "output_type": "stream",
          "name": "stdout",
          "text": [
            "Requirement already satisfied: librosa in /usr/local/lib/python3.11/dist-packages (0.11.0)\n",
            "Requirement already satisfied: scikit-learn in /usr/local/lib/python3.11/dist-packages (1.6.1)\n",
            "Requirement already satisfied: numpy in /usr/local/lib/python3.11/dist-packages (2.0.2)\n",
            "Requirement already satisfied: audioread>=2.1.9 in /usr/local/lib/python3.11/dist-packages (from librosa) (3.0.1)\n",
            "Requirement already satisfied: numba>=0.51.0 in /usr/local/lib/python3.11/dist-packages (from librosa) (0.60.0)\n",
            "Requirement already satisfied: scipy>=1.6.0 in /usr/local/lib/python3.11/dist-packages (from librosa) (1.15.3)\n",
            "Requirement already satisfied: joblib>=1.0 in /usr/local/lib/python3.11/dist-packages (from librosa) (1.5.0)\n",
            "Requirement already satisfied: decorator>=4.3.0 in /usr/local/lib/python3.11/dist-packages (from librosa) (4.4.2)\n",
            "Requirement already satisfied: soundfile>=0.12.1 in /usr/local/lib/python3.11/dist-packages (from librosa) (0.13.1)\n",
            "Requirement already satisfied: pooch>=1.1 in /usr/local/lib/python3.11/dist-packages (from librosa) (1.8.2)\n",
            "Requirement already satisfied: soxr>=0.3.2 in /usr/local/lib/python3.11/dist-packages (from librosa) (0.5.0.post1)\n",
            "Requirement already satisfied: typing_extensions>=4.1.1 in /usr/local/lib/python3.11/dist-packages (from librosa) (4.13.2)\n",
            "Requirement already satisfied: lazy_loader>=0.1 in /usr/local/lib/python3.11/dist-packages (from librosa) (0.4)\n",
            "Requirement already satisfied: msgpack>=1.0 in /usr/local/lib/python3.11/dist-packages (from librosa) (1.1.0)\n",
            "Requirement already satisfied: threadpoolctl>=3.1.0 in /usr/local/lib/python3.11/dist-packages (from scikit-learn) (3.6.0)\n",
            "Requirement already satisfied: packaging in /usr/local/lib/python3.11/dist-packages (from lazy_loader>=0.1->librosa) (24.2)\n",
            "Requirement already satisfied: llvmlite<0.44,>=0.43.0dev0 in /usr/local/lib/python3.11/dist-packages (from numba>=0.51.0->librosa) (0.43.0)\n",
            "Requirement already satisfied: platformdirs>=2.5.0 in /usr/local/lib/python3.11/dist-packages (from pooch>=1.1->librosa) (4.3.8)\n",
            "Requirement already satisfied: requests>=2.19.0 in /usr/local/lib/python3.11/dist-packages (from pooch>=1.1->librosa) (2.32.3)\n",
            "Requirement already satisfied: cffi>=1.0 in /usr/local/lib/python3.11/dist-packages (from soundfile>=0.12.1->librosa) (1.17.1)\n",
            "Requirement already satisfied: pycparser in /usr/local/lib/python3.11/dist-packages (from cffi>=1.0->soundfile>=0.12.1->librosa) (2.22)\n",
            "Requirement already satisfied: charset-normalizer<4,>=2 in /usr/local/lib/python3.11/dist-packages (from requests>=2.19.0->pooch>=1.1->librosa) (3.4.2)\n",
            "Requirement already satisfied: idna<4,>=2.5 in /usr/local/lib/python3.11/dist-packages (from requests>=2.19.0->pooch>=1.1->librosa) (3.10)\n",
            "Requirement already satisfied: urllib3<3,>=1.21.1 in /usr/local/lib/python3.11/dist-packages (from requests>=2.19.0->pooch>=1.1->librosa) (2.4.0)\n",
            "Requirement already satisfied: certifi>=2017.4.17 in /usr/local/lib/python3.11/dist-packages (from requests>=2.19.0->pooch>=1.1->librosa) (2025.4.26)\n"
          ]
        }
      ],
      "source": [
        "pip install librosa scikit-learn numpy\n"
      ]
    },
    {
      "cell_type": "code",
      "execution_count": null,
      "metadata": {
        "colab": {
          "base_uri": "https://localhost:8080/"
        },
        "id": "sAI_AZXiDvey",
        "outputId": "9bc244ef-1ff6-49ae-8180-6fb90b3f63c3"
      },
      "outputs": [
        {
          "output_type": "stream",
          "name": "stdout",
          "text": [
            "Collecting pydub\n",
            "  Downloading pydub-0.25.1-py2.py3-none-any.whl.metadata (1.4 kB)\n",
            "Downloading pydub-0.25.1-py2.py3-none-any.whl (32 kB)\n",
            "Installing collected packages: pydub\n",
            "Successfully installed pydub-0.25.1\n"
          ]
        }
      ],
      "source": [
        "pip install pydub"
      ]
    },
    {
      "cell_type": "code",
      "execution_count": null,
      "metadata": {
        "colab": {
          "base_uri": "https://localhost:8080/"
        },
        "id": "L4LweayZDxJ5",
        "outputId": "aa200bae-d228-4f8b-8c88-e48e9545e4ec"
      },
      "outputs": [
        {
          "output_type": "stream",
          "name": "stdout",
          "text": [
            "\u001b[33m\r0% [Working]\u001b[0m\r            \rGet:1 http://security.ubuntu.com/ubuntu jammy-security InRelease [129 kB]\n",
            "\r            \rGet:2 https://developer.download.nvidia.com/compute/cuda/repos/ubuntu2204/x86_64  InRelease [1,581 B]\n",
            "Get:3 https://cloud.r-project.org/bin/linux/ubuntu jammy-cran40/ InRelease [3,632 B]\n",
            "Get:4 https://r2u.stat.illinois.edu/ubuntu jammy InRelease [6,555 B]\n",
            "Hit:5 http://archive.ubuntu.com/ubuntu jammy InRelease\n",
            "Get:6 https://developer.download.nvidia.com/compute/cuda/repos/ubuntu2204/x86_64  Packages [1,721 kB]\n",
            "Get:7 http://archive.ubuntu.com/ubuntu jammy-updates InRelease [128 kB]\n",
            "Hit:8 https://ppa.launchpadcontent.net/deadsnakes/ppa/ubuntu jammy InRelease\n",
            "Hit:9 https://ppa.launchpadcontent.net/graphics-drivers/ppa/ubuntu jammy InRelease\n",
            "Hit:10 https://ppa.launchpadcontent.net/ubuntugis/ppa/ubuntu jammy InRelease\n",
            "Get:11 http://archive.ubuntu.com/ubuntu jammy-backports InRelease [127 kB]\n",
            "Get:12 https://r2u.stat.illinois.edu/ubuntu jammy/main all Packages [8,992 kB]\n",
            "Get:13 http://security.ubuntu.com/ubuntu jammy-security/main amd64 Packages [2,953 kB]\n",
            "Get:14 https://r2u.stat.illinois.edu/ubuntu jammy/main amd64 Packages [2,734 kB]\n",
            "Get:15 http://security.ubuntu.com/ubuntu jammy-security/universe amd64 Packages [1,246 kB]\n",
            "Get:16 http://archive.ubuntu.com/ubuntu jammy-updates/universe amd64 Packages [1,553 kB]\n",
            "Get:17 http://archive.ubuntu.com/ubuntu jammy-updates/main amd64 Packages [3,264 kB]\n",
            "Fetched 22.9 MB in 6s (3,712 kB/s)\n",
            "Reading package lists... Done\n",
            "Building dependency tree... Done\n",
            "Reading state information... Done\n",
            "37 packages can be upgraded. Run 'apt list --upgradable' to see them.\n",
            "\u001b[1;33mW: \u001b[0mSkipping acquire of configured file 'main/source/Sources' as repository 'https://r2u.stat.illinois.edu/ubuntu jammy InRelease' does not seem to provide it (sources.list entry misspelt?)\u001b[0m\n",
            "Reading package lists... Done\n",
            "Building dependency tree... Done\n",
            "Reading state information... Done\n",
            "ffmpeg is already the newest version (7:4.4.2-0ubuntu0.22.04.1).\n",
            "0 upgraded, 0 newly installed, 0 to remove and 37 not upgraded.\n"
          ]
        }
      ],
      "source": [
        "!sudo apt update\n",
        "!sudo apt install ffmpeg -y\n"
      ]
    },
    {
      "cell_type": "markdown",
      "metadata": {
        "id": "Ky10kHsikIyX"
      },
      "source": [
        "#Upload Audio Files  \n"
      ]
    },
    {
      "cell_type": "code",
      "execution_count": null,
      "metadata": {
        "colab": {
          "base_uri": "https://localhost:8080/",
          "height": 73
        },
        "id": "rGR9mUs5D9g2",
        "outputId": "961be8e2-9a94-435f-9eac-3f104e135cdd"
      },
      "outputs": [
        {
          "output_type": "display_data",
          "data": {
            "text/plain": [
              "<IPython.core.display.HTML object>"
            ],
            "text/html": [
              "\n",
              "     <input type=\"file\" id=\"files-d1e00675-69f4-4f0c-ac3f-c73f9809c200\" name=\"files[]\" multiple disabled\n",
              "        style=\"border:none\" />\n",
              "     <output id=\"result-d1e00675-69f4-4f0c-ac3f-c73f9809c200\">\n",
              "      Upload widget is only available when the cell has been executed in the\n",
              "      current browser session. Please rerun this cell to enable.\n",
              "      </output>\n",
              "      <script>// Copyright 2017 Google LLC\n",
              "//\n",
              "// Licensed under the Apache License, Version 2.0 (the \"License\");\n",
              "// you may not use this file except in compliance with the License.\n",
              "// You may obtain a copy of the License at\n",
              "//\n",
              "//      http://www.apache.org/licenses/LICENSE-2.0\n",
              "//\n",
              "// Unless required by applicable law or agreed to in writing, software\n",
              "// distributed under the License is distributed on an \"AS IS\" BASIS,\n",
              "// WITHOUT WARRANTIES OR CONDITIONS OF ANY KIND, either express or implied.\n",
              "// See the License for the specific language governing permissions and\n",
              "// limitations under the License.\n",
              "\n",
              "/**\n",
              " * @fileoverview Helpers for google.colab Python module.\n",
              " */\n",
              "(function(scope) {\n",
              "function span(text, styleAttributes = {}) {\n",
              "  const element = document.createElement('span');\n",
              "  element.textContent = text;\n",
              "  for (const key of Object.keys(styleAttributes)) {\n",
              "    element.style[key] = styleAttributes[key];\n",
              "  }\n",
              "  return element;\n",
              "}\n",
              "\n",
              "// Max number of bytes which will be uploaded at a time.\n",
              "const MAX_PAYLOAD_SIZE = 100 * 1024;\n",
              "\n",
              "function _uploadFiles(inputId, outputId) {\n",
              "  const steps = uploadFilesStep(inputId, outputId);\n",
              "  const outputElement = document.getElementById(outputId);\n",
              "  // Cache steps on the outputElement to make it available for the next call\n",
              "  // to uploadFilesContinue from Python.\n",
              "  outputElement.steps = steps;\n",
              "\n",
              "  return _uploadFilesContinue(outputId);\n",
              "}\n",
              "\n",
              "// This is roughly an async generator (not supported in the browser yet),\n",
              "// where there are multiple asynchronous steps and the Python side is going\n",
              "// to poll for completion of each step.\n",
              "// This uses a Promise to block the python side on completion of each step,\n",
              "// then passes the result of the previous step as the input to the next step.\n",
              "function _uploadFilesContinue(outputId) {\n",
              "  const outputElement = document.getElementById(outputId);\n",
              "  const steps = outputElement.steps;\n",
              "\n",
              "  const next = steps.next(outputElement.lastPromiseValue);\n",
              "  return Promise.resolve(next.value.promise).then((value) => {\n",
              "    // Cache the last promise value to make it available to the next\n",
              "    // step of the generator.\n",
              "    outputElement.lastPromiseValue = value;\n",
              "    return next.value.response;\n",
              "  });\n",
              "}\n",
              "\n",
              "/**\n",
              " * Generator function which is called between each async step of the upload\n",
              " * process.\n",
              " * @param {string} inputId Element ID of the input file picker element.\n",
              " * @param {string} outputId Element ID of the output display.\n",
              " * @return {!Iterable<!Object>} Iterable of next steps.\n",
              " */\n",
              "function* uploadFilesStep(inputId, outputId) {\n",
              "  const inputElement = document.getElementById(inputId);\n",
              "  inputElement.disabled = false;\n",
              "\n",
              "  const outputElement = document.getElementById(outputId);\n",
              "  outputElement.innerHTML = '';\n",
              "\n",
              "  const pickedPromise = new Promise((resolve) => {\n",
              "    inputElement.addEventListener('change', (e) => {\n",
              "      resolve(e.target.files);\n",
              "    });\n",
              "  });\n",
              "\n",
              "  const cancel = document.createElement('button');\n",
              "  inputElement.parentElement.appendChild(cancel);\n",
              "  cancel.textContent = 'Cancel upload';\n",
              "  const cancelPromise = new Promise((resolve) => {\n",
              "    cancel.onclick = () => {\n",
              "      resolve(null);\n",
              "    };\n",
              "  });\n",
              "\n",
              "  // Wait for the user to pick the files.\n",
              "  const files = yield {\n",
              "    promise: Promise.race([pickedPromise, cancelPromise]),\n",
              "    response: {\n",
              "      action: 'starting',\n",
              "    }\n",
              "  };\n",
              "\n",
              "  cancel.remove();\n",
              "\n",
              "  // Disable the input element since further picks are not allowed.\n",
              "  inputElement.disabled = true;\n",
              "\n",
              "  if (!files) {\n",
              "    return {\n",
              "      response: {\n",
              "        action: 'complete',\n",
              "      }\n",
              "    };\n",
              "  }\n",
              "\n",
              "  for (const file of files) {\n",
              "    const li = document.createElement('li');\n",
              "    li.append(span(file.name, {fontWeight: 'bold'}));\n",
              "    li.append(span(\n",
              "        `(${file.type || 'n/a'}) - ${file.size} bytes, ` +\n",
              "        `last modified: ${\n",
              "            file.lastModifiedDate ? file.lastModifiedDate.toLocaleDateString() :\n",
              "                                    'n/a'} - `));\n",
              "    const percent = span('0% done');\n",
              "    li.appendChild(percent);\n",
              "\n",
              "    outputElement.appendChild(li);\n",
              "\n",
              "    const fileDataPromise = new Promise((resolve) => {\n",
              "      const reader = new FileReader();\n",
              "      reader.onload = (e) => {\n",
              "        resolve(e.target.result);\n",
              "      };\n",
              "      reader.readAsArrayBuffer(file);\n",
              "    });\n",
              "    // Wait for the data to be ready.\n",
              "    let fileData = yield {\n",
              "      promise: fileDataPromise,\n",
              "      response: {\n",
              "        action: 'continue',\n",
              "      }\n",
              "    };\n",
              "\n",
              "    // Use a chunked sending to avoid message size limits. See b/62115660.\n",
              "    let position = 0;\n",
              "    do {\n",
              "      const length = Math.min(fileData.byteLength - position, MAX_PAYLOAD_SIZE);\n",
              "      const chunk = new Uint8Array(fileData, position, length);\n",
              "      position += length;\n",
              "\n",
              "      const base64 = btoa(String.fromCharCode.apply(null, chunk));\n",
              "      yield {\n",
              "        response: {\n",
              "          action: 'append',\n",
              "          file: file.name,\n",
              "          data: base64,\n",
              "        },\n",
              "      };\n",
              "\n",
              "      let percentDone = fileData.byteLength === 0 ?\n",
              "          100 :\n",
              "          Math.round((position / fileData.byteLength) * 100);\n",
              "      percent.textContent = `${percentDone}% done`;\n",
              "\n",
              "    } while (position < fileData.byteLength);\n",
              "  }\n",
              "\n",
              "  // All done.\n",
              "  yield {\n",
              "    response: {\n",
              "      action: 'complete',\n",
              "    }\n",
              "  };\n",
              "}\n",
              "\n",
              "scope.google = scope.google || {};\n",
              "scope.google.colab = scope.google.colab || {};\n",
              "scope.google.colab._files = {\n",
              "  _uploadFiles,\n",
              "  _uploadFilesContinue,\n",
              "};\n",
              "})(self);\n",
              "</script> "
            ]
          },
          "metadata": {}
        },
        {
          "output_type": "stream",
          "name": "stdout",
          "text": [
            "Saving stop.zip to stop.zip\n"
          ]
        }
      ],
      "source": [
        "from google.colab import files\n",
        "uploaded = files.upload()"
      ]
    },
    {
      "cell_type": "code",
      "execution_count": null,
      "metadata": {
        "id": "SFCfLHRbFc4T"
      },
      "outputs": [],
      "source": [
        "!unzip -q stop.zip -d /content/stop\n"
      ]
    },
    {
      "cell_type": "code",
      "execution_count": null,
      "metadata": {
        "colab": {
          "base_uri": "https://localhost:8080/"
        },
        "id": "FFtt_6KEKStg",
        "outputId": "99fa2ea4-d0c5-45e8-f461-52815d71da2a"
      },
      "outputs": [
        {
          "output_type": "stream",
          "name": "stdout",
          "text": [
            "Folder: /content/stop\n",
            "Files: []\n",
            "Folder: /content/stop/stop\n",
            "Files: ['stop_391.mp3', 'stop_468.mp3', 'stop_377.mp3', 'stop_521.mp3', 'stop_358.mp3']\n"
          ]
        }
      ],
      "source": [
        "import os\n",
        "\n",
        "for root, dirs, files in os.walk('/content/stop'):\n",
        "    print(f'Folder: {root}')\n",
        "    print(f'Files: {files[:5]}')\n"
      ]
    },
    {
      "cell_type": "code",
      "execution_count": null,
      "metadata": {
        "colab": {
          "base_uri": "https://localhost:8080/",
          "height": 73
        },
        "id": "HXEcPy54KWpI",
        "outputId": "f1e30c3b-808d-4e42-bb64-9291d14ce82e"
      },
      "outputs": [
        {
          "output_type": "display_data",
          "data": {
            "text/plain": [
              "<IPython.core.display.HTML object>"
            ],
            "text/html": [
              "\n",
              "     <input type=\"file\" id=\"files-e0c59a83-a3a3-4be8-872f-310e22caf666\" name=\"files[]\" multiple disabled\n",
              "        style=\"border:none\" />\n",
              "     <output id=\"result-e0c59a83-a3a3-4be8-872f-310e22caf666\">\n",
              "      Upload widget is only available when the cell has been executed in the\n",
              "      current browser session. Please rerun this cell to enable.\n",
              "      </output>\n",
              "      <script>// Copyright 2017 Google LLC\n",
              "//\n",
              "// Licensed under the Apache License, Version 2.0 (the \"License\");\n",
              "// you may not use this file except in compliance with the License.\n",
              "// You may obtain a copy of the License at\n",
              "//\n",
              "//      http://www.apache.org/licenses/LICENSE-2.0\n",
              "//\n",
              "// Unless required by applicable law or agreed to in writing, software\n",
              "// distributed under the License is distributed on an \"AS IS\" BASIS,\n",
              "// WITHOUT WARRANTIES OR CONDITIONS OF ANY KIND, either express or implied.\n",
              "// See the License for the specific language governing permissions and\n",
              "// limitations under the License.\n",
              "\n",
              "/**\n",
              " * @fileoverview Helpers for google.colab Python module.\n",
              " */\n",
              "(function(scope) {\n",
              "function span(text, styleAttributes = {}) {\n",
              "  const element = document.createElement('span');\n",
              "  element.textContent = text;\n",
              "  for (const key of Object.keys(styleAttributes)) {\n",
              "    element.style[key] = styleAttributes[key];\n",
              "  }\n",
              "  return element;\n",
              "}\n",
              "\n",
              "// Max number of bytes which will be uploaded at a time.\n",
              "const MAX_PAYLOAD_SIZE = 100 * 1024;\n",
              "\n",
              "function _uploadFiles(inputId, outputId) {\n",
              "  const steps = uploadFilesStep(inputId, outputId);\n",
              "  const outputElement = document.getElementById(outputId);\n",
              "  // Cache steps on the outputElement to make it available for the next call\n",
              "  // to uploadFilesContinue from Python.\n",
              "  outputElement.steps = steps;\n",
              "\n",
              "  return _uploadFilesContinue(outputId);\n",
              "}\n",
              "\n",
              "// This is roughly an async generator (not supported in the browser yet),\n",
              "// where there are multiple asynchronous steps and the Python side is going\n",
              "// to poll for completion of each step.\n",
              "// This uses a Promise to block the python side on completion of each step,\n",
              "// then passes the result of the previous step as the input to the next step.\n",
              "function _uploadFilesContinue(outputId) {\n",
              "  const outputElement = document.getElementById(outputId);\n",
              "  const steps = outputElement.steps;\n",
              "\n",
              "  const next = steps.next(outputElement.lastPromiseValue);\n",
              "  return Promise.resolve(next.value.promise).then((value) => {\n",
              "    // Cache the last promise value to make it available to the next\n",
              "    // step of the generator.\n",
              "    outputElement.lastPromiseValue = value;\n",
              "    return next.value.response;\n",
              "  });\n",
              "}\n",
              "\n",
              "/**\n",
              " * Generator function which is called between each async step of the upload\n",
              " * process.\n",
              " * @param {string} inputId Element ID of the input file picker element.\n",
              " * @param {string} outputId Element ID of the output display.\n",
              " * @return {!Iterable<!Object>} Iterable of next steps.\n",
              " */\n",
              "function* uploadFilesStep(inputId, outputId) {\n",
              "  const inputElement = document.getElementById(inputId);\n",
              "  inputElement.disabled = false;\n",
              "\n",
              "  const outputElement = document.getElementById(outputId);\n",
              "  outputElement.innerHTML = '';\n",
              "\n",
              "  const pickedPromise = new Promise((resolve) => {\n",
              "    inputElement.addEventListener('change', (e) => {\n",
              "      resolve(e.target.files);\n",
              "    });\n",
              "  });\n",
              "\n",
              "  const cancel = document.createElement('button');\n",
              "  inputElement.parentElement.appendChild(cancel);\n",
              "  cancel.textContent = 'Cancel upload';\n",
              "  const cancelPromise = new Promise((resolve) => {\n",
              "    cancel.onclick = () => {\n",
              "      resolve(null);\n",
              "    };\n",
              "  });\n",
              "\n",
              "  // Wait for the user to pick the files.\n",
              "  const files = yield {\n",
              "    promise: Promise.race([pickedPromise, cancelPromise]),\n",
              "    response: {\n",
              "      action: 'starting',\n",
              "    }\n",
              "  };\n",
              "\n",
              "  cancel.remove();\n",
              "\n",
              "  // Disable the input element since further picks are not allowed.\n",
              "  inputElement.disabled = true;\n",
              "\n",
              "  if (!files) {\n",
              "    return {\n",
              "      response: {\n",
              "        action: 'complete',\n",
              "      }\n",
              "    };\n",
              "  }\n",
              "\n",
              "  for (const file of files) {\n",
              "    const li = document.createElement('li');\n",
              "    li.append(span(file.name, {fontWeight: 'bold'}));\n",
              "    li.append(span(\n",
              "        `(${file.type || 'n/a'}) - ${file.size} bytes, ` +\n",
              "        `last modified: ${\n",
              "            file.lastModifiedDate ? file.lastModifiedDate.toLocaleDateString() :\n",
              "                                    'n/a'} - `));\n",
              "    const percent = span('0% done');\n",
              "    li.appendChild(percent);\n",
              "\n",
              "    outputElement.appendChild(li);\n",
              "\n",
              "    const fileDataPromise = new Promise((resolve) => {\n",
              "      const reader = new FileReader();\n",
              "      reader.onload = (e) => {\n",
              "        resolve(e.target.result);\n",
              "      };\n",
              "      reader.readAsArrayBuffer(file);\n",
              "    });\n",
              "    // Wait for the data to be ready.\n",
              "    let fileData = yield {\n",
              "      promise: fileDataPromise,\n",
              "      response: {\n",
              "        action: 'continue',\n",
              "      }\n",
              "    };\n",
              "\n",
              "    // Use a chunked sending to avoid message size limits. See b/62115660.\n",
              "    let position = 0;\n",
              "    do {\n",
              "      const length = Math.min(fileData.byteLength - position, MAX_PAYLOAD_SIZE);\n",
              "      const chunk = new Uint8Array(fileData, position, length);\n",
              "      position += length;\n",
              "\n",
              "      const base64 = btoa(String.fromCharCode.apply(null, chunk));\n",
              "      yield {\n",
              "        response: {\n",
              "          action: 'append',\n",
              "          file: file.name,\n",
              "          data: base64,\n",
              "        },\n",
              "      };\n",
              "\n",
              "      let percentDone = fileData.byteLength === 0 ?\n",
              "          100 :\n",
              "          Math.round((position / fileData.byteLength) * 100);\n",
              "      percent.textContent = `${percentDone}% done`;\n",
              "\n",
              "    } while (position < fileData.byteLength);\n",
              "  }\n",
              "\n",
              "  // All done.\n",
              "  yield {\n",
              "    response: {\n",
              "      action: 'complete',\n",
              "    }\n",
              "  };\n",
              "}\n",
              "\n",
              "scope.google = scope.google || {};\n",
              "scope.google.colab = scope.google.colab || {};\n",
              "scope.google.colab._files = {\n",
              "  _uploadFiles,\n",
              "  _uploadFilesContinue,\n",
              "};\n",
              "})(self);\n",
              "</script> "
            ]
          },
          "metadata": {}
        },
        {
          "output_type": "stream",
          "name": "stdout",
          "text": [
            "Saving left.zip to left.zip\n"
          ]
        }
      ],
      "source": [
        "from google.colab import files\n",
        "uploaded = files.upload()"
      ]
    },
    {
      "cell_type": "code",
      "execution_count": null,
      "metadata": {
        "id": "rghha0zdKXQN"
      },
      "outputs": [],
      "source": [
        "!unzip -q left.zip -d /content/left"
      ]
    },
    {
      "cell_type": "code",
      "execution_count": null,
      "metadata": {
        "colab": {
          "base_uri": "https://localhost:8080/"
        },
        "id": "rxH4n2T5KoHU",
        "outputId": "e059d4aa-fb10-4040-c0f6-543e0d2e07f5"
      },
      "outputs": [
        {
          "output_type": "stream",
          "name": "stdout",
          "text": [
            "Folder: /content/left\n",
            "Files: []\n",
            "Folder: /content/left/left\n",
            "Files: ['left_775.mp3', 'left_841.mp3', 'left_823.mp3', 'left_763.mp3', 'left_712.mp3']\n"
          ]
        }
      ],
      "source": [
        "import os\n",
        "\n",
        "for root, dirs, files in os.walk('/content/left'):\n",
        "    print(f'Folder: {root}')\n",
        "    print(f'Files: {files[:5]}')\n"
      ]
    },
    {
      "cell_type": "code",
      "execution_count": null,
      "metadata": {
        "colab": {
          "base_uri": "https://localhost:8080/",
          "height": 73
        },
        "id": "JD4ZoTScKteH",
        "outputId": "acf33a60-910e-4118-c155-f5f450a4eaa8"
      },
      "outputs": [
        {
          "output_type": "display_data",
          "data": {
            "text/plain": [
              "<IPython.core.display.HTML object>"
            ],
            "text/html": [
              "\n",
              "     <input type=\"file\" id=\"files-abec3eb3-fa3e-4c49-9afa-8b0bd8589e64\" name=\"files[]\" multiple disabled\n",
              "        style=\"border:none\" />\n",
              "     <output id=\"result-abec3eb3-fa3e-4c49-9afa-8b0bd8589e64\">\n",
              "      Upload widget is only available when the cell has been executed in the\n",
              "      current browser session. Please rerun this cell to enable.\n",
              "      </output>\n",
              "      <script>// Copyright 2017 Google LLC\n",
              "//\n",
              "// Licensed under the Apache License, Version 2.0 (the \"License\");\n",
              "// you may not use this file except in compliance with the License.\n",
              "// You may obtain a copy of the License at\n",
              "//\n",
              "//      http://www.apache.org/licenses/LICENSE-2.0\n",
              "//\n",
              "// Unless required by applicable law or agreed to in writing, software\n",
              "// distributed under the License is distributed on an \"AS IS\" BASIS,\n",
              "// WITHOUT WARRANTIES OR CONDITIONS OF ANY KIND, either express or implied.\n",
              "// See the License for the specific language governing permissions and\n",
              "// limitations under the License.\n",
              "\n",
              "/**\n",
              " * @fileoverview Helpers for google.colab Python module.\n",
              " */\n",
              "(function(scope) {\n",
              "function span(text, styleAttributes = {}) {\n",
              "  const element = document.createElement('span');\n",
              "  element.textContent = text;\n",
              "  for (const key of Object.keys(styleAttributes)) {\n",
              "    element.style[key] = styleAttributes[key];\n",
              "  }\n",
              "  return element;\n",
              "}\n",
              "\n",
              "// Max number of bytes which will be uploaded at a time.\n",
              "const MAX_PAYLOAD_SIZE = 100 * 1024;\n",
              "\n",
              "function _uploadFiles(inputId, outputId) {\n",
              "  const steps = uploadFilesStep(inputId, outputId);\n",
              "  const outputElement = document.getElementById(outputId);\n",
              "  // Cache steps on the outputElement to make it available for the next call\n",
              "  // to uploadFilesContinue from Python.\n",
              "  outputElement.steps = steps;\n",
              "\n",
              "  return _uploadFilesContinue(outputId);\n",
              "}\n",
              "\n",
              "// This is roughly an async generator (not supported in the browser yet),\n",
              "// where there are multiple asynchronous steps and the Python side is going\n",
              "// to poll for completion of each step.\n",
              "// This uses a Promise to block the python side on completion of each step,\n",
              "// then passes the result of the previous step as the input to the next step.\n",
              "function _uploadFilesContinue(outputId) {\n",
              "  const outputElement = document.getElementById(outputId);\n",
              "  const steps = outputElement.steps;\n",
              "\n",
              "  const next = steps.next(outputElement.lastPromiseValue);\n",
              "  return Promise.resolve(next.value.promise).then((value) => {\n",
              "    // Cache the last promise value to make it available to the next\n",
              "    // step of the generator.\n",
              "    outputElement.lastPromiseValue = value;\n",
              "    return next.value.response;\n",
              "  });\n",
              "}\n",
              "\n",
              "/**\n",
              " * Generator function which is called between each async step of the upload\n",
              " * process.\n",
              " * @param {string} inputId Element ID of the input file picker element.\n",
              " * @param {string} outputId Element ID of the output display.\n",
              " * @return {!Iterable<!Object>} Iterable of next steps.\n",
              " */\n",
              "function* uploadFilesStep(inputId, outputId) {\n",
              "  const inputElement = document.getElementById(inputId);\n",
              "  inputElement.disabled = false;\n",
              "\n",
              "  const outputElement = document.getElementById(outputId);\n",
              "  outputElement.innerHTML = '';\n",
              "\n",
              "  const pickedPromise = new Promise((resolve) => {\n",
              "    inputElement.addEventListener('change', (e) => {\n",
              "      resolve(e.target.files);\n",
              "    });\n",
              "  });\n",
              "\n",
              "  const cancel = document.createElement('button');\n",
              "  inputElement.parentElement.appendChild(cancel);\n",
              "  cancel.textContent = 'Cancel upload';\n",
              "  const cancelPromise = new Promise((resolve) => {\n",
              "    cancel.onclick = () => {\n",
              "      resolve(null);\n",
              "    };\n",
              "  });\n",
              "\n",
              "  // Wait for the user to pick the files.\n",
              "  const files = yield {\n",
              "    promise: Promise.race([pickedPromise, cancelPromise]),\n",
              "    response: {\n",
              "      action: 'starting',\n",
              "    }\n",
              "  };\n",
              "\n",
              "  cancel.remove();\n",
              "\n",
              "  // Disable the input element since further picks are not allowed.\n",
              "  inputElement.disabled = true;\n",
              "\n",
              "  if (!files) {\n",
              "    return {\n",
              "      response: {\n",
              "        action: 'complete',\n",
              "      }\n",
              "    };\n",
              "  }\n",
              "\n",
              "  for (const file of files) {\n",
              "    const li = document.createElement('li');\n",
              "    li.append(span(file.name, {fontWeight: 'bold'}));\n",
              "    li.append(span(\n",
              "        `(${file.type || 'n/a'}) - ${file.size} bytes, ` +\n",
              "        `last modified: ${\n",
              "            file.lastModifiedDate ? file.lastModifiedDate.toLocaleDateString() :\n",
              "                                    'n/a'} - `));\n",
              "    const percent = span('0% done');\n",
              "    li.appendChild(percent);\n",
              "\n",
              "    outputElement.appendChild(li);\n",
              "\n",
              "    const fileDataPromise = new Promise((resolve) => {\n",
              "      const reader = new FileReader();\n",
              "      reader.onload = (e) => {\n",
              "        resolve(e.target.result);\n",
              "      };\n",
              "      reader.readAsArrayBuffer(file);\n",
              "    });\n",
              "    // Wait for the data to be ready.\n",
              "    let fileData = yield {\n",
              "      promise: fileDataPromise,\n",
              "      response: {\n",
              "        action: 'continue',\n",
              "      }\n",
              "    };\n",
              "\n",
              "    // Use a chunked sending to avoid message size limits. See b/62115660.\n",
              "    let position = 0;\n",
              "    do {\n",
              "      const length = Math.min(fileData.byteLength - position, MAX_PAYLOAD_SIZE);\n",
              "      const chunk = new Uint8Array(fileData, position, length);\n",
              "      position += length;\n",
              "\n",
              "      const base64 = btoa(String.fromCharCode.apply(null, chunk));\n",
              "      yield {\n",
              "        response: {\n",
              "          action: 'append',\n",
              "          file: file.name,\n",
              "          data: base64,\n",
              "        },\n",
              "      };\n",
              "\n",
              "      let percentDone = fileData.byteLength === 0 ?\n",
              "          100 :\n",
              "          Math.round((position / fileData.byteLength) * 100);\n",
              "      percent.textContent = `${percentDone}% done`;\n",
              "\n",
              "    } while (position < fileData.byteLength);\n",
              "  }\n",
              "\n",
              "  // All done.\n",
              "  yield {\n",
              "    response: {\n",
              "      action: 'complete',\n",
              "    }\n",
              "  };\n",
              "}\n",
              "\n",
              "scope.google = scope.google || {};\n",
              "scope.google.colab = scope.google.colab || {};\n",
              "scope.google.colab._files = {\n",
              "  _uploadFiles,\n",
              "  _uploadFilesContinue,\n",
              "};\n",
              "})(self);\n",
              "</script> "
            ]
          },
          "metadata": {}
        },
        {
          "output_type": "stream",
          "name": "stdout",
          "text": [
            "Saving right.zip to right.zip\n"
          ]
        }
      ],
      "source": [
        "from google.colab import files\n",
        "uploaded = files.upload()"
      ]
    },
    {
      "cell_type": "code",
      "execution_count": null,
      "metadata": {
        "id": "lnQYwIceKuTJ"
      },
      "outputs": [],
      "source": [
        "!unzip -q right.zip -d /content/right\n"
      ]
    },
    {
      "cell_type": "code",
      "execution_count": null,
      "metadata": {
        "colab": {
          "base_uri": "https://localhost:8080/"
        },
        "id": "TUwgQmnLK34t",
        "outputId": "a3323a2a-eca6-4dc0-cd1f-bba617710801"
      },
      "outputs": [
        {
          "output_type": "stream",
          "name": "stdout",
          "text": [
            "Folder: /content/right\n",
            "Files: []\n",
            "Folder: /content/right/right\n",
            "Files: ['right_681.mp3', 'right_659.mp3', 'right_670.mp3', 'right_628.mp3', 'right_573.mp3']\n"
          ]
        }
      ],
      "source": [
        "import os\n",
        "\n",
        "for root, dirs, files in os.walk('/content/right'):\n",
        "    print(f'Folder: {root}')\n",
        "    print(f'Files: {files[:5]}')\n"
      ]
    },
    {
      "cell_type": "code",
      "execution_count": null,
      "metadata": {
        "colab": {
          "base_uri": "https://localhost:8080/",
          "height": 73
        },
        "id": "9nTeFCX6K46L",
        "outputId": "fbff4af1-27f1-4a52-a8d5-7f37a5f570f5"
      },
      "outputs": [
        {
          "output_type": "display_data",
          "data": {
            "text/plain": [
              "<IPython.core.display.HTML object>"
            ],
            "text/html": [
              "\n",
              "     <input type=\"file\" id=\"files-fdb75a75-afdd-487d-8553-3697321c502a\" name=\"files[]\" multiple disabled\n",
              "        style=\"border:none\" />\n",
              "     <output id=\"result-fdb75a75-afdd-487d-8553-3697321c502a\">\n",
              "      Upload widget is only available when the cell has been executed in the\n",
              "      current browser session. Please rerun this cell to enable.\n",
              "      </output>\n",
              "      <script>// Copyright 2017 Google LLC\n",
              "//\n",
              "// Licensed under the Apache License, Version 2.0 (the \"License\");\n",
              "// you may not use this file except in compliance with the License.\n",
              "// You may obtain a copy of the License at\n",
              "//\n",
              "//      http://www.apache.org/licenses/LICENSE-2.0\n",
              "//\n",
              "// Unless required by applicable law or agreed to in writing, software\n",
              "// distributed under the License is distributed on an \"AS IS\" BASIS,\n",
              "// WITHOUT WARRANTIES OR CONDITIONS OF ANY KIND, either express or implied.\n",
              "// See the License for the specific language governing permissions and\n",
              "// limitations under the License.\n",
              "\n",
              "/**\n",
              " * @fileoverview Helpers for google.colab Python module.\n",
              " */\n",
              "(function(scope) {\n",
              "function span(text, styleAttributes = {}) {\n",
              "  const element = document.createElement('span');\n",
              "  element.textContent = text;\n",
              "  for (const key of Object.keys(styleAttributes)) {\n",
              "    element.style[key] = styleAttributes[key];\n",
              "  }\n",
              "  return element;\n",
              "}\n",
              "\n",
              "// Max number of bytes which will be uploaded at a time.\n",
              "const MAX_PAYLOAD_SIZE = 100 * 1024;\n",
              "\n",
              "function _uploadFiles(inputId, outputId) {\n",
              "  const steps = uploadFilesStep(inputId, outputId);\n",
              "  const outputElement = document.getElementById(outputId);\n",
              "  // Cache steps on the outputElement to make it available for the next call\n",
              "  // to uploadFilesContinue from Python.\n",
              "  outputElement.steps = steps;\n",
              "\n",
              "  return _uploadFilesContinue(outputId);\n",
              "}\n",
              "\n",
              "// This is roughly an async generator (not supported in the browser yet),\n",
              "// where there are multiple asynchronous steps and the Python side is going\n",
              "// to poll for completion of each step.\n",
              "// This uses a Promise to block the python side on completion of each step,\n",
              "// then passes the result of the previous step as the input to the next step.\n",
              "function _uploadFilesContinue(outputId) {\n",
              "  const outputElement = document.getElementById(outputId);\n",
              "  const steps = outputElement.steps;\n",
              "\n",
              "  const next = steps.next(outputElement.lastPromiseValue);\n",
              "  return Promise.resolve(next.value.promise).then((value) => {\n",
              "    // Cache the last promise value to make it available to the next\n",
              "    // step of the generator.\n",
              "    outputElement.lastPromiseValue = value;\n",
              "    return next.value.response;\n",
              "  });\n",
              "}\n",
              "\n",
              "/**\n",
              " * Generator function which is called between each async step of the upload\n",
              " * process.\n",
              " * @param {string} inputId Element ID of the input file picker element.\n",
              " * @param {string} outputId Element ID of the output display.\n",
              " * @return {!Iterable<!Object>} Iterable of next steps.\n",
              " */\n",
              "function* uploadFilesStep(inputId, outputId) {\n",
              "  const inputElement = document.getElementById(inputId);\n",
              "  inputElement.disabled = false;\n",
              "\n",
              "  const outputElement = document.getElementById(outputId);\n",
              "  outputElement.innerHTML = '';\n",
              "\n",
              "  const pickedPromise = new Promise((resolve) => {\n",
              "    inputElement.addEventListener('change', (e) => {\n",
              "      resolve(e.target.files);\n",
              "    });\n",
              "  });\n",
              "\n",
              "  const cancel = document.createElement('button');\n",
              "  inputElement.parentElement.appendChild(cancel);\n",
              "  cancel.textContent = 'Cancel upload';\n",
              "  const cancelPromise = new Promise((resolve) => {\n",
              "    cancel.onclick = () => {\n",
              "      resolve(null);\n",
              "    };\n",
              "  });\n",
              "\n",
              "  // Wait for the user to pick the files.\n",
              "  const files = yield {\n",
              "    promise: Promise.race([pickedPromise, cancelPromise]),\n",
              "    response: {\n",
              "      action: 'starting',\n",
              "    }\n",
              "  };\n",
              "\n",
              "  cancel.remove();\n",
              "\n",
              "  // Disable the input element since further picks are not allowed.\n",
              "  inputElement.disabled = true;\n",
              "\n",
              "  if (!files) {\n",
              "    return {\n",
              "      response: {\n",
              "        action: 'complete',\n",
              "      }\n",
              "    };\n",
              "  }\n",
              "\n",
              "  for (const file of files) {\n",
              "    const li = document.createElement('li');\n",
              "    li.append(span(file.name, {fontWeight: 'bold'}));\n",
              "    li.append(span(\n",
              "        `(${file.type || 'n/a'}) - ${file.size} bytes, ` +\n",
              "        `last modified: ${\n",
              "            file.lastModifiedDate ? file.lastModifiedDate.toLocaleDateString() :\n",
              "                                    'n/a'} - `));\n",
              "    const percent = span('0% done');\n",
              "    li.appendChild(percent);\n",
              "\n",
              "    outputElement.appendChild(li);\n",
              "\n",
              "    const fileDataPromise = new Promise((resolve) => {\n",
              "      const reader = new FileReader();\n",
              "      reader.onload = (e) => {\n",
              "        resolve(e.target.result);\n",
              "      };\n",
              "      reader.readAsArrayBuffer(file);\n",
              "    });\n",
              "    // Wait for the data to be ready.\n",
              "    let fileData = yield {\n",
              "      promise: fileDataPromise,\n",
              "      response: {\n",
              "        action: 'continue',\n",
              "      }\n",
              "    };\n",
              "\n",
              "    // Use a chunked sending to avoid message size limits. See b/62115660.\n",
              "    let position = 0;\n",
              "    do {\n",
              "      const length = Math.min(fileData.byteLength - position, MAX_PAYLOAD_SIZE);\n",
              "      const chunk = new Uint8Array(fileData, position, length);\n",
              "      position += length;\n",
              "\n",
              "      const base64 = btoa(String.fromCharCode.apply(null, chunk));\n",
              "      yield {\n",
              "        response: {\n",
              "          action: 'append',\n",
              "          file: file.name,\n",
              "          data: base64,\n",
              "        },\n",
              "      };\n",
              "\n",
              "      let percentDone = fileData.byteLength === 0 ?\n",
              "          100 :\n",
              "          Math.round((position / fileData.byteLength) * 100);\n",
              "      percent.textContent = `${percentDone}% done`;\n",
              "\n",
              "    } while (position < fileData.byteLength);\n",
              "  }\n",
              "\n",
              "  // All done.\n",
              "  yield {\n",
              "    response: {\n",
              "      action: 'complete',\n",
              "    }\n",
              "  };\n",
              "}\n",
              "\n",
              "scope.google = scope.google || {};\n",
              "scope.google.colab = scope.google.colab || {};\n",
              "scope.google.colab._files = {\n",
              "  _uploadFiles,\n",
              "  _uploadFilesContinue,\n",
              "};\n",
              "})(self);\n",
              "</script> "
            ]
          },
          "metadata": {}
        },
        {
          "output_type": "stream",
          "name": "stdout",
          "text": [
            "Saving slow_slower.zip to slow_slower.zip\n"
          ]
        }
      ],
      "source": [
        "from google.colab import files\n",
        "uploaded = files.upload()"
      ]
    },
    {
      "cell_type": "code",
      "execution_count": null,
      "metadata": {
        "id": "EfRGew14K7DX"
      },
      "outputs": [],
      "source": [
        "!unzip -q slow_slower.zip -d /content/slow_slower\n"
      ]
    },
    {
      "cell_type": "code",
      "execution_count": null,
      "metadata": {
        "colab": {
          "base_uri": "https://localhost:8080/"
        },
        "id": "PXxTJI84LTcz",
        "outputId": "be0f0eb9-6e4f-43ca-99a6-cb2ee9edfcb9"
      },
      "outputs": [
        {
          "output_type": "stream",
          "name": "stdout",
          "text": [
            "Folder: /content/slow_slower\n",
            "Files: []\n",
            "Folder: /content/slow_slower/slow_slower\n",
            "Files: ['slow_slower_280.mp3', 'slow_slower_170.mp3', 'slow_slower_205.mp3', 'slow_slower_168.mp3', 'slow_slower_144.mp3']\n"
          ]
        }
      ],
      "source": [
        "import os\n",
        "\n",
        "for root, dirs, files in os.walk('/content/slow_slower'):\n",
        "    print(f'Folder: {root}')\n",
        "    print(f'Files: {files[:5]}')"
      ]
    },
    {
      "cell_type": "code",
      "execution_count": null,
      "metadata": {
        "colab": {
          "base_uri": "https://localhost:8080/",
          "height": 73
        },
        "id": "S7dwu5vwLYAF",
        "outputId": "7fb50d2c-64e2-4de2-a689-f142c9b86f6d"
      },
      "outputs": [
        {
          "output_type": "display_data",
          "data": {
            "text/plain": [
              "<IPython.core.display.HTML object>"
            ],
            "text/html": [
              "\n",
              "     <input type=\"file\" id=\"files-c72a773f-a4db-48f7-8b75-6eb6bdef2bf1\" name=\"files[]\" multiple disabled\n",
              "        style=\"border:none\" />\n",
              "     <output id=\"result-c72a773f-a4db-48f7-8b75-6eb6bdef2bf1\">\n",
              "      Upload widget is only available when the cell has been executed in the\n",
              "      current browser session. Please rerun this cell to enable.\n",
              "      </output>\n",
              "      <script>// Copyright 2017 Google LLC\n",
              "//\n",
              "// Licensed under the Apache License, Version 2.0 (the \"License\");\n",
              "// you may not use this file except in compliance with the License.\n",
              "// You may obtain a copy of the License at\n",
              "//\n",
              "//      http://www.apache.org/licenses/LICENSE-2.0\n",
              "//\n",
              "// Unless required by applicable law or agreed to in writing, software\n",
              "// distributed under the License is distributed on an \"AS IS\" BASIS,\n",
              "// WITHOUT WARRANTIES OR CONDITIONS OF ANY KIND, either express or implied.\n",
              "// See the License for the specific language governing permissions and\n",
              "// limitations under the License.\n",
              "\n",
              "/**\n",
              " * @fileoverview Helpers for google.colab Python module.\n",
              " */\n",
              "(function(scope) {\n",
              "function span(text, styleAttributes = {}) {\n",
              "  const element = document.createElement('span');\n",
              "  element.textContent = text;\n",
              "  for (const key of Object.keys(styleAttributes)) {\n",
              "    element.style[key] = styleAttributes[key];\n",
              "  }\n",
              "  return element;\n",
              "}\n",
              "\n",
              "// Max number of bytes which will be uploaded at a time.\n",
              "const MAX_PAYLOAD_SIZE = 100 * 1024;\n",
              "\n",
              "function _uploadFiles(inputId, outputId) {\n",
              "  const steps = uploadFilesStep(inputId, outputId);\n",
              "  const outputElement = document.getElementById(outputId);\n",
              "  // Cache steps on the outputElement to make it available for the next call\n",
              "  // to uploadFilesContinue from Python.\n",
              "  outputElement.steps = steps;\n",
              "\n",
              "  return _uploadFilesContinue(outputId);\n",
              "}\n",
              "\n",
              "// This is roughly an async generator (not supported in the browser yet),\n",
              "// where there are multiple asynchronous steps and the Python side is going\n",
              "// to poll for completion of each step.\n",
              "// This uses a Promise to block the python side on completion of each step,\n",
              "// then passes the result of the previous step as the input to the next step.\n",
              "function _uploadFilesContinue(outputId) {\n",
              "  const outputElement = document.getElementById(outputId);\n",
              "  const steps = outputElement.steps;\n",
              "\n",
              "  const next = steps.next(outputElement.lastPromiseValue);\n",
              "  return Promise.resolve(next.value.promise).then((value) => {\n",
              "    // Cache the last promise value to make it available to the next\n",
              "    // step of the generator.\n",
              "    outputElement.lastPromiseValue = value;\n",
              "    return next.value.response;\n",
              "  });\n",
              "}\n",
              "\n",
              "/**\n",
              " * Generator function which is called between each async step of the upload\n",
              " * process.\n",
              " * @param {string} inputId Element ID of the input file picker element.\n",
              " * @param {string} outputId Element ID of the output display.\n",
              " * @return {!Iterable<!Object>} Iterable of next steps.\n",
              " */\n",
              "function* uploadFilesStep(inputId, outputId) {\n",
              "  const inputElement = document.getElementById(inputId);\n",
              "  inputElement.disabled = false;\n",
              "\n",
              "  const outputElement = document.getElementById(outputId);\n",
              "  outputElement.innerHTML = '';\n",
              "\n",
              "  const pickedPromise = new Promise((resolve) => {\n",
              "    inputElement.addEventListener('change', (e) => {\n",
              "      resolve(e.target.files);\n",
              "    });\n",
              "  });\n",
              "\n",
              "  const cancel = document.createElement('button');\n",
              "  inputElement.parentElement.appendChild(cancel);\n",
              "  cancel.textContent = 'Cancel upload';\n",
              "  const cancelPromise = new Promise((resolve) => {\n",
              "    cancel.onclick = () => {\n",
              "      resolve(null);\n",
              "    };\n",
              "  });\n",
              "\n",
              "  // Wait for the user to pick the files.\n",
              "  const files = yield {\n",
              "    promise: Promise.race([pickedPromise, cancelPromise]),\n",
              "    response: {\n",
              "      action: 'starting',\n",
              "    }\n",
              "  };\n",
              "\n",
              "  cancel.remove();\n",
              "\n",
              "  // Disable the input element since further picks are not allowed.\n",
              "  inputElement.disabled = true;\n",
              "\n",
              "  if (!files) {\n",
              "    return {\n",
              "      response: {\n",
              "        action: 'complete',\n",
              "      }\n",
              "    };\n",
              "  }\n",
              "\n",
              "  for (const file of files) {\n",
              "    const li = document.createElement('li');\n",
              "    li.append(span(file.name, {fontWeight: 'bold'}));\n",
              "    li.append(span(\n",
              "        `(${file.type || 'n/a'}) - ${file.size} bytes, ` +\n",
              "        `last modified: ${\n",
              "            file.lastModifiedDate ? file.lastModifiedDate.toLocaleDateString() :\n",
              "                                    'n/a'} - `));\n",
              "    const percent = span('0% done');\n",
              "    li.appendChild(percent);\n",
              "\n",
              "    outputElement.appendChild(li);\n",
              "\n",
              "    const fileDataPromise = new Promise((resolve) => {\n",
              "      const reader = new FileReader();\n",
              "      reader.onload = (e) => {\n",
              "        resolve(e.target.result);\n",
              "      };\n",
              "      reader.readAsArrayBuffer(file);\n",
              "    });\n",
              "    // Wait for the data to be ready.\n",
              "    let fileData = yield {\n",
              "      promise: fileDataPromise,\n",
              "      response: {\n",
              "        action: 'continue',\n",
              "      }\n",
              "    };\n",
              "\n",
              "    // Use a chunked sending to avoid message size limits. See b/62115660.\n",
              "    let position = 0;\n",
              "    do {\n",
              "      const length = Math.min(fileData.byteLength - position, MAX_PAYLOAD_SIZE);\n",
              "      const chunk = new Uint8Array(fileData, position, length);\n",
              "      position += length;\n",
              "\n",
              "      const base64 = btoa(String.fromCharCode.apply(null, chunk));\n",
              "      yield {\n",
              "        response: {\n",
              "          action: 'append',\n",
              "          file: file.name,\n",
              "          data: base64,\n",
              "        },\n",
              "      };\n",
              "\n",
              "      let percentDone = fileData.byteLength === 0 ?\n",
              "          100 :\n",
              "          Math.round((position / fileData.byteLength) * 100);\n",
              "      percent.textContent = `${percentDone}% done`;\n",
              "\n",
              "    } while (position < fileData.byteLength);\n",
              "  }\n",
              "\n",
              "  // All done.\n",
              "  yield {\n",
              "    response: {\n",
              "      action: 'complete',\n",
              "    }\n",
              "  };\n",
              "}\n",
              "\n",
              "scope.google = scope.google || {};\n",
              "scope.google.colab = scope.google.colab || {};\n",
              "scope.google.colab._files = {\n",
              "  _uploadFiles,\n",
              "  _uploadFilesContinue,\n",
              "};\n",
              "})(self);\n",
              "</script> "
            ]
          },
          "metadata": {}
        },
        {
          "output_type": "stream",
          "name": "stdout",
          "text": [
            "Saving Fast_Faster.zip to Fast_Faster.zip\n"
          ]
        }
      ],
      "source": [
        "from google.colab import files\n",
        "uploaded = files.upload()"
      ]
    },
    {
      "cell_type": "code",
      "execution_count": null,
      "metadata": {
        "id": "LxbDzHRWLZxK"
      },
      "outputs": [],
      "source": [
        "!unzip -q Fast_Faster.zip -d /content/Fast_Faster/\n"
      ]
    },
    {
      "cell_type": "code",
      "execution_count": null,
      "metadata": {
        "colab": {
          "base_uri": "https://localhost:8080/"
        },
        "id": "njF1cOcyLhos",
        "outputId": "dd3284eb-4e49-4cb3-89e3-ec4718196002"
      },
      "outputs": [
        {
          "output_type": "stream",
          "name": "stdout",
          "text": [
            "Folder: /content/Fast_Faster\n",
            "Files: []\n",
            "Folder: /content/Fast_Faster/Fast_Faster\n",
            "Files: ['fast_faster_1680.mp3', 'fast_faster_1505.mp3', 'fast_faster_1690.mp3', 'fast_faster_1697.mp3', 'fast_faster_1556.mp3']\n"
          ]
        }
      ],
      "source": [
        "import os\n",
        "\n",
        "for root, dirs, files in os.walk('/content/Fast_Faster'):\n",
        "    print(f'Folder: {root}')\n",
        "    print(f'Files: {files[:5]}')\n"
      ]
    },
    {
      "cell_type": "code",
      "execution_count": null,
      "metadata": {
        "colab": {
          "base_uri": "https://localhost:8080/",
          "height": 73
        },
        "id": "ll3x9G60aPKS",
        "outputId": "99bb7f9a-2f1e-4fd1-9f76-4b988f0fd4ae"
      },
      "outputs": [
        {
          "output_type": "display_data",
          "data": {
            "text/plain": [
              "<IPython.core.display.HTML object>"
            ],
            "text/html": [
              "\n",
              "     <input type=\"file\" id=\"files-b4317ae2-a227-49bd-a3d8-b22da3cba3e5\" name=\"files[]\" multiple disabled\n",
              "        style=\"border:none\" />\n",
              "     <output id=\"result-b4317ae2-a227-49bd-a3d8-b22da3cba3e5\">\n",
              "      Upload widget is only available when the cell has been executed in the\n",
              "      current browser session. Please rerun this cell to enable.\n",
              "      </output>\n",
              "      <script>// Copyright 2017 Google LLC\n",
              "//\n",
              "// Licensed under the Apache License, Version 2.0 (the \"License\");\n",
              "// you may not use this file except in compliance with the License.\n",
              "// You may obtain a copy of the License at\n",
              "//\n",
              "//      http://www.apache.org/licenses/LICENSE-2.0\n",
              "//\n",
              "// Unless required by applicable law or agreed to in writing, software\n",
              "// distributed under the License is distributed on an \"AS IS\" BASIS,\n",
              "// WITHOUT WARRANTIES OR CONDITIONS OF ANY KIND, either express or implied.\n",
              "// See the License for the specific language governing permissions and\n",
              "// limitations under the License.\n",
              "\n",
              "/**\n",
              " * @fileoverview Helpers for google.colab Python module.\n",
              " */\n",
              "(function(scope) {\n",
              "function span(text, styleAttributes = {}) {\n",
              "  const element = document.createElement('span');\n",
              "  element.textContent = text;\n",
              "  for (const key of Object.keys(styleAttributes)) {\n",
              "    element.style[key] = styleAttributes[key];\n",
              "  }\n",
              "  return element;\n",
              "}\n",
              "\n",
              "// Max number of bytes which will be uploaded at a time.\n",
              "const MAX_PAYLOAD_SIZE = 100 * 1024;\n",
              "\n",
              "function _uploadFiles(inputId, outputId) {\n",
              "  const steps = uploadFilesStep(inputId, outputId);\n",
              "  const outputElement = document.getElementById(outputId);\n",
              "  // Cache steps on the outputElement to make it available for the next call\n",
              "  // to uploadFilesContinue from Python.\n",
              "  outputElement.steps = steps;\n",
              "\n",
              "  return _uploadFilesContinue(outputId);\n",
              "}\n",
              "\n",
              "// This is roughly an async generator (not supported in the browser yet),\n",
              "// where there are multiple asynchronous steps and the Python side is going\n",
              "// to poll for completion of each step.\n",
              "// This uses a Promise to block the python side on completion of each step,\n",
              "// then passes the result of the previous step as the input to the next step.\n",
              "function _uploadFilesContinue(outputId) {\n",
              "  const outputElement = document.getElementById(outputId);\n",
              "  const steps = outputElement.steps;\n",
              "\n",
              "  const next = steps.next(outputElement.lastPromiseValue);\n",
              "  return Promise.resolve(next.value.promise).then((value) => {\n",
              "    // Cache the last promise value to make it available to the next\n",
              "    // step of the generator.\n",
              "    outputElement.lastPromiseValue = value;\n",
              "    return next.value.response;\n",
              "  });\n",
              "}\n",
              "\n",
              "/**\n",
              " * Generator function which is called between each async step of the upload\n",
              " * process.\n",
              " * @param {string} inputId Element ID of the input file picker element.\n",
              " * @param {string} outputId Element ID of the output display.\n",
              " * @return {!Iterable<!Object>} Iterable of next steps.\n",
              " */\n",
              "function* uploadFilesStep(inputId, outputId) {\n",
              "  const inputElement = document.getElementById(inputId);\n",
              "  inputElement.disabled = false;\n",
              "\n",
              "  const outputElement = document.getElementById(outputId);\n",
              "  outputElement.innerHTML = '';\n",
              "\n",
              "  const pickedPromise = new Promise((resolve) => {\n",
              "    inputElement.addEventListener('change', (e) => {\n",
              "      resolve(e.target.files);\n",
              "    });\n",
              "  });\n",
              "\n",
              "  const cancel = document.createElement('button');\n",
              "  inputElement.parentElement.appendChild(cancel);\n",
              "  cancel.textContent = 'Cancel upload';\n",
              "  const cancelPromise = new Promise((resolve) => {\n",
              "    cancel.onclick = () => {\n",
              "      resolve(null);\n",
              "    };\n",
              "  });\n",
              "\n",
              "  // Wait for the user to pick the files.\n",
              "  const files = yield {\n",
              "    promise: Promise.race([pickedPromise, cancelPromise]),\n",
              "    response: {\n",
              "      action: 'starting',\n",
              "    }\n",
              "  };\n",
              "\n",
              "  cancel.remove();\n",
              "\n",
              "  // Disable the input element since further picks are not allowed.\n",
              "  inputElement.disabled = true;\n",
              "\n",
              "  if (!files) {\n",
              "    return {\n",
              "      response: {\n",
              "        action: 'complete',\n",
              "      }\n",
              "    };\n",
              "  }\n",
              "\n",
              "  for (const file of files) {\n",
              "    const li = document.createElement('li');\n",
              "    li.append(span(file.name, {fontWeight: 'bold'}));\n",
              "    li.append(span(\n",
              "        `(${file.type || 'n/a'}) - ${file.size} bytes, ` +\n",
              "        `last modified: ${\n",
              "            file.lastModifiedDate ? file.lastModifiedDate.toLocaleDateString() :\n",
              "                                    'n/a'} - `));\n",
              "    const percent = span('0% done');\n",
              "    li.appendChild(percent);\n",
              "\n",
              "    outputElement.appendChild(li);\n",
              "\n",
              "    const fileDataPromise = new Promise((resolve) => {\n",
              "      const reader = new FileReader();\n",
              "      reader.onload = (e) => {\n",
              "        resolve(e.target.result);\n",
              "      };\n",
              "      reader.readAsArrayBuffer(file);\n",
              "    });\n",
              "    // Wait for the data to be ready.\n",
              "    let fileData = yield {\n",
              "      promise: fileDataPromise,\n",
              "      response: {\n",
              "        action: 'continue',\n",
              "      }\n",
              "    };\n",
              "\n",
              "    // Use a chunked sending to avoid message size limits. See b/62115660.\n",
              "    let position = 0;\n",
              "    do {\n",
              "      const length = Math.min(fileData.byteLength - position, MAX_PAYLOAD_SIZE);\n",
              "      const chunk = new Uint8Array(fileData, position, length);\n",
              "      position += length;\n",
              "\n",
              "      const base64 = btoa(String.fromCharCode.apply(null, chunk));\n",
              "      yield {\n",
              "        response: {\n",
              "          action: 'append',\n",
              "          file: file.name,\n",
              "          data: base64,\n",
              "        },\n",
              "      };\n",
              "\n",
              "      let percentDone = fileData.byteLength === 0 ?\n",
              "          100 :\n",
              "          Math.round((position / fileData.byteLength) * 100);\n",
              "      percent.textContent = `${percentDone}% done`;\n",
              "\n",
              "    } while (position < fileData.byteLength);\n",
              "  }\n",
              "\n",
              "  // All done.\n",
              "  yield {\n",
              "    response: {\n",
              "      action: 'complete',\n",
              "    }\n",
              "  };\n",
              "}\n",
              "\n",
              "scope.google = scope.google || {};\n",
              "scope.google.colab = scope.google.colab || {};\n",
              "scope.google.colab._files = {\n",
              "  _uploadFiles,\n",
              "  _uploadFilesContinue,\n",
              "};\n",
              "})(self);\n",
              "</script> "
            ]
          },
          "metadata": {}
        },
        {
          "output_type": "stream",
          "name": "stdout",
          "text": [
            "Saving front_forworld_streight.zip to front_forworld_streight.zip\n"
          ]
        }
      ],
      "source": [
        "from google.colab import files\n",
        "uploaded = files.upload()"
      ]
    },
    {
      "cell_type": "code",
      "execution_count": null,
      "metadata": {
        "id": "1p2uSwPKLnaW"
      },
      "outputs": [],
      "source": [
        "!unzip -q front_forworld_streight.zip -d /content/front_forworld_streight\n"
      ]
    },
    {
      "cell_type": "code",
      "execution_count": null,
      "metadata": {
        "colab": {
          "base_uri": "https://localhost:8080/"
        },
        "id": "_eWooLSTLotL",
        "outputId": "88b8fbb0-ac02-409f-c281-5f26e5ec4a3c"
      },
      "outputs": [
        {
          "output_type": "stream",
          "name": "stdout",
          "text": [
            "Folder: /content/front_forworld_streight\n",
            "Files: []\n",
            "Folder: /content/front_forworld_streight/front_forworld_streight\n",
            "Files: ['front_forworld_streight_924.mp3', 'front_forworld_streight_1199.mp3', 'front_forworld_streight_966.mp3', 'front_forworld_streight_931.mp3', 'front_forworld_streight_1094.mp3']\n"
          ]
        }
      ],
      "source": [
        "import os\n",
        "\n",
        "for root, dirs, files in os.walk('/content/front_forworld_streight'):\n",
        "    print(f'Folder: {root}')\n",
        "    print(f'Files: {files[:5]}')\n"
      ]
    },
    {
      "cell_type": "code",
      "execution_count": null,
      "metadata": {
        "colab": {
          "base_uri": "https://localhost:8080/",
          "height": 73
        },
        "id": "d0w4GBrjLyo1",
        "outputId": "3462e240-1a4b-4efe-9d51-037b49e26c19"
      },
      "outputs": [
        {
          "output_type": "display_data",
          "data": {
            "text/plain": [
              "<IPython.core.display.HTML object>"
            ],
            "text/html": [
              "\n",
              "     <input type=\"file\" id=\"files-e713c0e9-7534-4d19-ad4f-8f5cb2dfa63e\" name=\"files[]\" multiple disabled\n",
              "        style=\"border:none\" />\n",
              "     <output id=\"result-e713c0e9-7534-4d19-ad4f-8f5cb2dfa63e\">\n",
              "      Upload widget is only available when the cell has been executed in the\n",
              "      current browser session. Please rerun this cell to enable.\n",
              "      </output>\n",
              "      <script>// Copyright 2017 Google LLC\n",
              "//\n",
              "// Licensed under the Apache License, Version 2.0 (the \"License\");\n",
              "// you may not use this file except in compliance with the License.\n",
              "// You may obtain a copy of the License at\n",
              "//\n",
              "//      http://www.apache.org/licenses/LICENSE-2.0\n",
              "//\n",
              "// Unless required by applicable law or agreed to in writing, software\n",
              "// distributed under the License is distributed on an \"AS IS\" BASIS,\n",
              "// WITHOUT WARRANTIES OR CONDITIONS OF ANY KIND, either express or implied.\n",
              "// See the License for the specific language governing permissions and\n",
              "// limitations under the License.\n",
              "\n",
              "/**\n",
              " * @fileoverview Helpers for google.colab Python module.\n",
              " */\n",
              "(function(scope) {\n",
              "function span(text, styleAttributes = {}) {\n",
              "  const element = document.createElement('span');\n",
              "  element.textContent = text;\n",
              "  for (const key of Object.keys(styleAttributes)) {\n",
              "    element.style[key] = styleAttributes[key];\n",
              "  }\n",
              "  return element;\n",
              "}\n",
              "\n",
              "// Max number of bytes which will be uploaded at a time.\n",
              "const MAX_PAYLOAD_SIZE = 100 * 1024;\n",
              "\n",
              "function _uploadFiles(inputId, outputId) {\n",
              "  const steps = uploadFilesStep(inputId, outputId);\n",
              "  const outputElement = document.getElementById(outputId);\n",
              "  // Cache steps on the outputElement to make it available for the next call\n",
              "  // to uploadFilesContinue from Python.\n",
              "  outputElement.steps = steps;\n",
              "\n",
              "  return _uploadFilesContinue(outputId);\n",
              "}\n",
              "\n",
              "// This is roughly an async generator (not supported in the browser yet),\n",
              "// where there are multiple asynchronous steps and the Python side is going\n",
              "// to poll for completion of each step.\n",
              "// This uses a Promise to block the python side on completion of each step,\n",
              "// then passes the result of the previous step as the input to the next step.\n",
              "function _uploadFilesContinue(outputId) {\n",
              "  const outputElement = document.getElementById(outputId);\n",
              "  const steps = outputElement.steps;\n",
              "\n",
              "  const next = steps.next(outputElement.lastPromiseValue);\n",
              "  return Promise.resolve(next.value.promise).then((value) => {\n",
              "    // Cache the last promise value to make it available to the next\n",
              "    // step of the generator.\n",
              "    outputElement.lastPromiseValue = value;\n",
              "    return next.value.response;\n",
              "  });\n",
              "}\n",
              "\n",
              "/**\n",
              " * Generator function which is called between each async step of the upload\n",
              " * process.\n",
              " * @param {string} inputId Element ID of the input file picker element.\n",
              " * @param {string} outputId Element ID of the output display.\n",
              " * @return {!Iterable<!Object>} Iterable of next steps.\n",
              " */\n",
              "function* uploadFilesStep(inputId, outputId) {\n",
              "  const inputElement = document.getElementById(inputId);\n",
              "  inputElement.disabled = false;\n",
              "\n",
              "  const outputElement = document.getElementById(outputId);\n",
              "  outputElement.innerHTML = '';\n",
              "\n",
              "  const pickedPromise = new Promise((resolve) => {\n",
              "    inputElement.addEventListener('change', (e) => {\n",
              "      resolve(e.target.files);\n",
              "    });\n",
              "  });\n",
              "\n",
              "  const cancel = document.createElement('button');\n",
              "  inputElement.parentElement.appendChild(cancel);\n",
              "  cancel.textContent = 'Cancel upload';\n",
              "  const cancelPromise = new Promise((resolve) => {\n",
              "    cancel.onclick = () => {\n",
              "      resolve(null);\n",
              "    };\n",
              "  });\n",
              "\n",
              "  // Wait for the user to pick the files.\n",
              "  const files = yield {\n",
              "    promise: Promise.race([pickedPromise, cancelPromise]),\n",
              "    response: {\n",
              "      action: 'starting',\n",
              "    }\n",
              "  };\n",
              "\n",
              "  cancel.remove();\n",
              "\n",
              "  // Disable the input element since further picks are not allowed.\n",
              "  inputElement.disabled = true;\n",
              "\n",
              "  if (!files) {\n",
              "    return {\n",
              "      response: {\n",
              "        action: 'complete',\n",
              "      }\n",
              "    };\n",
              "  }\n",
              "\n",
              "  for (const file of files) {\n",
              "    const li = document.createElement('li');\n",
              "    li.append(span(file.name, {fontWeight: 'bold'}));\n",
              "    li.append(span(\n",
              "        `(${file.type || 'n/a'}) - ${file.size} bytes, ` +\n",
              "        `last modified: ${\n",
              "            file.lastModifiedDate ? file.lastModifiedDate.toLocaleDateString() :\n",
              "                                    'n/a'} - `));\n",
              "    const percent = span('0% done');\n",
              "    li.appendChild(percent);\n",
              "\n",
              "    outputElement.appendChild(li);\n",
              "\n",
              "    const fileDataPromise = new Promise((resolve) => {\n",
              "      const reader = new FileReader();\n",
              "      reader.onload = (e) => {\n",
              "        resolve(e.target.result);\n",
              "      };\n",
              "      reader.readAsArrayBuffer(file);\n",
              "    });\n",
              "    // Wait for the data to be ready.\n",
              "    let fileData = yield {\n",
              "      promise: fileDataPromise,\n",
              "      response: {\n",
              "        action: 'continue',\n",
              "      }\n",
              "    };\n",
              "\n",
              "    // Use a chunked sending to avoid message size limits. See b/62115660.\n",
              "    let position = 0;\n",
              "    do {\n",
              "      const length = Math.min(fileData.byteLength - position, MAX_PAYLOAD_SIZE);\n",
              "      const chunk = new Uint8Array(fileData, position, length);\n",
              "      position += length;\n",
              "\n",
              "      const base64 = btoa(String.fromCharCode.apply(null, chunk));\n",
              "      yield {\n",
              "        response: {\n",
              "          action: 'append',\n",
              "          file: file.name,\n",
              "          data: base64,\n",
              "        },\n",
              "      };\n",
              "\n",
              "      let percentDone = fileData.byteLength === 0 ?\n",
              "          100 :\n",
              "          Math.round((position / fileData.byteLength) * 100);\n",
              "      percent.textContent = `${percentDone}% done`;\n",
              "\n",
              "    } while (position < fileData.byteLength);\n",
              "  }\n",
              "\n",
              "  // All done.\n",
              "  yield {\n",
              "    response: {\n",
              "      action: 'complete',\n",
              "    }\n",
              "  };\n",
              "}\n",
              "\n",
              "scope.google = scope.google || {};\n",
              "scope.google.colab = scope.google.colab || {};\n",
              "scope.google.colab._files = {\n",
              "  _uploadFiles,\n",
              "  _uploadFilesContinue,\n",
              "};\n",
              "})(self);\n",
              "</script> "
            ]
          },
          "metadata": {}
        },
        {
          "output_type": "stream",
          "name": "stdout",
          "text": [
            "Saving back_backworld.zip to back_backworld.zip\n"
          ]
        }
      ],
      "source": [
        "from google.colab import files\n",
        "uploaded = files.upload()"
      ]
    },
    {
      "cell_type": "code",
      "execution_count": null,
      "metadata": {
        "id": "x3VYW401L0Mq"
      },
      "outputs": [],
      "source": [
        "!unzip -q back_backworld.zip -d /content/back_backworld\n"
      ]
    },
    {
      "cell_type": "code",
      "execution_count": null,
      "metadata": {
        "colab": {
          "base_uri": "https://localhost:8080/"
        },
        "id": "fyWqVdZ5L8nn",
        "outputId": "3211f350-e33a-4799-cc1f-76cd14727c3e"
      },
      "outputs": [
        {
          "output_type": "stream",
          "name": "stdout",
          "text": [
            "Folder: /content/back_backworld\n",
            "Files: []\n",
            "Folder: /content/back_backworld/back_backworld\n",
            "Files: ['back_backworld_1972.mp3', 'back_backworld_1939.mp3', 'back_backworld_1958.mp3', 'back_backworld_1983.mp3', 'back_backworld_1937.mp3']\n"
          ]
        }
      ],
      "source": [
        "import os\n",
        "\n",
        "for root, dirs, files in os.walk('/content/back_backworld'):\n",
        "    print(f'Folder: {root}')\n",
        "    print(f'Files: {files[:5]}')\n"
      ]
    },
    {
      "cell_type": "code",
      "execution_count": null,
      "metadata": {
        "colab": {
          "base_uri": "https://localhost:8080/"
        },
        "id": "rYiR3H-GL_-5",
        "outputId": "a4112b05-9f59-4af5-c208-31fa0a9b74c9"
      },
      "outputs": [
        {
          "output_type": "stream",
          "name": "stdout",
          "text": [
            "Requirement already satisfied: librosa in /usr/local/lib/python3.11/dist-packages (0.11.0)\n",
            "Requirement already satisfied: pydub in /usr/local/lib/python3.11/dist-packages (0.25.1)\n",
            "Requirement already satisfied: audioread>=2.1.9 in /usr/local/lib/python3.11/dist-packages (from librosa) (3.0.1)\n",
            "Requirement already satisfied: numba>=0.51.0 in /usr/local/lib/python3.11/dist-packages (from librosa) (0.60.0)\n",
            "Requirement already satisfied: numpy>=1.22.3 in /usr/local/lib/python3.11/dist-packages (from librosa) (2.0.2)\n",
            "Requirement already satisfied: scipy>=1.6.0 in /usr/local/lib/python3.11/dist-packages (from librosa) (1.15.3)\n",
            "Requirement already satisfied: scikit-learn>=1.1.0 in /usr/local/lib/python3.11/dist-packages (from librosa) (1.6.1)\n",
            "Requirement already satisfied: joblib>=1.0 in /usr/local/lib/python3.11/dist-packages (from librosa) (1.5.0)\n",
            "Requirement already satisfied: decorator>=4.3.0 in /usr/local/lib/python3.11/dist-packages (from librosa) (4.4.2)\n",
            "Requirement already satisfied: soundfile>=0.12.1 in /usr/local/lib/python3.11/dist-packages (from librosa) (0.13.1)\n",
            "Requirement already satisfied: pooch>=1.1 in /usr/local/lib/python3.11/dist-packages (from librosa) (1.8.2)\n",
            "Requirement already satisfied: soxr>=0.3.2 in /usr/local/lib/python3.11/dist-packages (from librosa) (0.5.0.post1)\n",
            "Requirement already satisfied: typing_extensions>=4.1.1 in /usr/local/lib/python3.11/dist-packages (from librosa) (4.13.2)\n",
            "Requirement already satisfied: lazy_loader>=0.1 in /usr/local/lib/python3.11/dist-packages (from librosa) (0.4)\n",
            "Requirement already satisfied: msgpack>=1.0 in /usr/local/lib/python3.11/dist-packages (from librosa) (1.1.0)\n",
            "Requirement already satisfied: packaging in /usr/local/lib/python3.11/dist-packages (from lazy_loader>=0.1->librosa) (24.2)\n",
            "Requirement already satisfied: llvmlite<0.44,>=0.43.0dev0 in /usr/local/lib/python3.11/dist-packages (from numba>=0.51.0->librosa) (0.43.0)\n",
            "Requirement already satisfied: platformdirs>=2.5.0 in /usr/local/lib/python3.11/dist-packages (from pooch>=1.1->librosa) (4.3.8)\n",
            "Requirement already satisfied: requests>=2.19.0 in /usr/local/lib/python3.11/dist-packages (from pooch>=1.1->librosa) (2.32.3)\n",
            "Requirement already satisfied: threadpoolctl>=3.1.0 in /usr/local/lib/python3.11/dist-packages (from scikit-learn>=1.1.0->librosa) (3.6.0)\n",
            "Requirement already satisfied: cffi>=1.0 in /usr/local/lib/python3.11/dist-packages (from soundfile>=0.12.1->librosa) (1.17.1)\n",
            "Requirement already satisfied: pycparser in /usr/local/lib/python3.11/dist-packages (from cffi>=1.0->soundfile>=0.12.1->librosa) (2.22)\n",
            "Requirement already satisfied: charset-normalizer<4,>=2 in /usr/local/lib/python3.11/dist-packages (from requests>=2.19.0->pooch>=1.1->librosa) (3.4.2)\n",
            "Requirement already satisfied: idna<4,>=2.5 in /usr/local/lib/python3.11/dist-packages (from requests>=2.19.0->pooch>=1.1->librosa) (3.10)\n",
            "Requirement already satisfied: urllib3<3,>=1.21.1 in /usr/local/lib/python3.11/dist-packages (from requests>=2.19.0->pooch>=1.1->librosa) (2.4.0)\n",
            "Requirement already satisfied: certifi>=2017.4.17 in /usr/local/lib/python3.11/dist-packages (from requests>=2.19.0->pooch>=1.1->librosa) (2025.4.26)\n"
          ]
        }
      ],
      "source": [
        "!pip install librosa pydub\n"
      ]
    },
    {
      "cell_type": "code",
      "execution_count": null,
      "metadata": {
        "colab": {
          "base_uri": "https://localhost:8080/"
        },
        "id": "_speVTNQV4TB",
        "outputId": "280ebffb-0358-4b35-e4c4-736f5398bdd0"
      },
      "outputs": [
        {
          "output_type": "stream",
          "name": "stdout",
          "text": [
            "Reading package lists... Done\n",
            "Building dependency tree... Done\n",
            "Reading state information... Done\n",
            "ffmpeg is already the newest version (7:4.4.2-0ubuntu0.22.04.1).\n",
            "0 upgraded, 0 newly installed, 0 to remove and 37 not upgraded.\n"
          ]
        }
      ],
      "source": [
        "!apt-get install -y ffmpeg"
      ]
    },
    {
      "cell_type": "markdown",
      "metadata": {
        "id": "Vr4cHAUQkUwi"
      },
      "source": [
        "#Convert All Audio Files From m4a,mp3 to wav Format .\n"
      ]
    },
    {
      "cell_type": "code",
      "execution_count": null,
      "metadata": {
        "colab": {
          "base_uri": "https://localhost:8080/"
        },
        "id": "wCVTuWTYXOL0",
        "outputId": "239f4653-1698-43b0-b1ec-0bb97579fa4d"
      },
      "outputs": [
        {
          "output_type": "stream",
          "name": "stdout",
          "text": [
            "Converted /content/stop/stop/stop_391.mp3 to /content/wav_files/stop/stop_391.wav\n",
            "Converted /content/stop/stop/stop_468.mp3 to /content/wav_files/stop/stop_468.wav\n",
            "Converted /content/stop/stop/stop_377.mp3 to /content/wav_files/stop/stop_377.wav\n",
            "Converted /content/stop/stop/stop_521.mp3 to /content/wav_files/stop/stop_521.wav\n",
            "Converted /content/stop/stop/stop_358.mp3 to /content/wav_files/stop/stop_358.wav\n",
            "Converted /content/stop/stop/stop_452.mp3 to /content/wav_files/stop/stop_452.wav\n",
            "Converted /content/stop/stop/stop_399.mp3 to /content/wav_files/stop/stop_399.wav\n",
            "Converted /content/stop/stop/stop_504.mp3 to /content/wav_files/stop/stop_504.wav\n",
            "Converted /content/stop/stop/stop_487.mp3 to /content/wav_files/stop/stop_487.wav\n",
            "Converted /content/stop/stop/stop_517.mp3 to /content/wav_files/stop/stop_517.wav\n",
            "Converted /content/stop/stop/stop_516.mp3 to /content/wav_files/stop/stop_516.wav\n",
            "Converted /content/stop/stop/stop_475.mp3 to /content/wav_files/stop/stop_475.wav\n",
            "Converted /content/stop/stop/stop_495.mp3 to /content/wav_files/stop/stop_495.wav\n",
            "Converted /content/stop/stop/stop_425.mp3 to /content/wav_files/stop/stop_425.wav\n",
            "Converted /content/stop/stop/stop_416.mp3 to /content/wav_files/stop/stop_416.wav\n",
            "Converted /content/stop/stop/stop_409.mp3 to /content/wav_files/stop/stop_409.wav\n",
            "Converted /content/stop/stop/stop_369.mp3 to /content/wav_files/stop/stop_369.wav\n",
            "Converted /content/stop/stop/stop_472.mp3 to /content/wav_files/stop/stop_472.wav\n",
            "Converted /content/stop/stop/stop_386.mp3 to /content/wav_files/stop/stop_386.wav\n",
            "Converted /content/stop/stop/stop_407.mp3 to /content/wav_files/stop/stop_407.wav\n",
            "Converted /content/stop/stop/stop_493.mp3 to /content/wav_files/stop/stop_493.wav\n",
            "Converted /content/stop/stop/stop_444.mp3 to /content/wav_files/stop/stop_444.wav\n",
            "Converted /content/stop/stop/stop_379.mp3 to /content/wav_files/stop/stop_379.wav\n",
            "Converted /content/stop/stop/stop_418.mp3 to /content/wav_files/stop/stop_418.wav\n",
            "Converted /content/stop/stop/stop_362.mp3 to /content/wav_files/stop/stop_362.wav\n",
            "Converted /content/stop/stop/stop_421.mp3 to /content/wav_files/stop/stop_421.wav\n",
            "Converted /content/stop/stop/stop_403.mp3 to /content/wav_files/stop/stop_403.wav\n",
            "Converted /content/stop/stop/stop_446.mp3 to /content/wav_files/stop/stop_446.wav\n",
            "Converted /content/stop/stop/stop_389.mp3 to /content/wav_files/stop/stop_389.wav\n",
            "Converted /content/stop/stop/stop_380.mp3 to /content/wav_files/stop/stop_380.wav\n",
            "Converted /content/stop/stop/stop_394.mp3 to /content/wav_files/stop/stop_394.wav\n",
            "Converted /content/stop/stop/stop_519.mp3 to /content/wav_files/stop/stop_519.wav\n",
            "Converted /content/stop/stop/stop_430.mp3 to /content/wav_files/stop/stop_430.wav\n",
            "Converted /content/stop/stop/stop_479.mp3 to /content/wav_files/stop/stop_479.wav\n",
            "Converted /content/stop/stop/stop_367.mp3 to /content/wav_files/stop/stop_367.wav\n",
            "Converted /content/stop/stop/stop_384.mp3 to /content/wav_files/stop/stop_384.wav\n",
            "Converted /content/stop/stop/stop_432.mp3 to /content/wav_files/stop/stop_432.wav\n",
            "Converted /content/stop/stop/stop_387.mp3 to /content/wav_files/stop/stop_387.wav\n",
            "Converted /content/stop/stop/stop_511.mp3 to /content/wav_files/stop/stop_511.wav\n",
            "Converted /content/stop/stop/stop_365.mp3 to /content/wav_files/stop/stop_365.wav\n",
            "Converted /content/stop/stop/stop_464.mp3 to /content/wav_files/stop/stop_464.wav\n",
            "Converted /content/stop/stop/stop_498.mp3 to /content/wav_files/stop/stop_498.wav\n",
            "Converted /content/stop/stop/stop_415.mp3 to /content/wav_files/stop/stop_415.wav\n",
            "Converted /content/stop/stop/stop_408.mp3 to /content/wav_files/stop/stop_408.wav\n",
            "Converted /content/stop/stop/stop_356.mp3 to /content/wav_files/stop/stop_356.wav\n",
            "Converted /content/stop/stop/stop_373.mp3 to /content/wav_files/stop/stop_373.wav\n",
            "Converted /content/stop/stop/stop_518.mp3 to /content/wav_files/stop/stop_518.wav\n",
            "Converted /content/stop/stop/stop_405.mp3 to /content/wav_files/stop/stop_405.wav\n",
            "Converted /content/stop/stop/stop_375.mp3 to /content/wav_files/stop/stop_375.wav\n",
            "Converted /content/stop/stop/stop_436.mp3 to /content/wav_files/stop/stop_436.wav\n",
            "Converted /content/stop/stop/stop_376.mp3 to /content/wav_files/stop/stop_376.wav\n",
            "Converted /content/stop/stop/stop_450.mp3 to /content/wav_files/stop/stop_450.wav\n",
            "Converted /content/stop/stop/stop_393.mp3 to /content/wav_files/stop/stop_393.wav\n",
            "Converted /content/stop/stop/stop_509.mp3 to /content/wav_files/stop/stop_509.wav\n",
            "Converted /content/stop/stop/stop_366.mp3 to /content/wav_files/stop/stop_366.wav\n",
            "Converted /content/stop/stop/stop_437.mp3 to /content/wav_files/stop/stop_437.wav\n",
            "Converted /content/stop/stop/stop_458.mp3 to /content/wav_files/stop/stop_458.wav\n",
            "Converted /content/stop/stop/stop_453.mp3 to /content/wav_files/stop/stop_453.wav\n",
            "Converted /content/stop/stop/stop_364.mp3 to /content/wav_files/stop/stop_364.wav\n",
            "Converted /content/stop/stop/stop_496.mp3 to /content/wav_files/stop/stop_496.wav\n",
            "Converted /content/stop/stop/stop_491.mp3 to /content/wav_files/stop/stop_491.wav\n",
            "Converted /content/stop/stop/stop_499.mp3 to /content/wav_files/stop/stop_499.wav\n",
            "Converted /content/stop/stop/stop_372.mp3 to /content/wav_files/stop/stop_372.wav\n",
            "Converted /content/stop/stop/stop_482.mp3 to /content/wav_files/stop/stop_482.wav\n",
            "Converted /content/stop/stop/stop_510.mp3 to /content/wav_files/stop/stop_510.wav\n",
            "Converted /content/stop/stop/stop_497.mp3 to /content/wav_files/stop/stop_497.wav\n",
            "Converted /content/stop/stop/stop_506.mp3 to /content/wav_files/stop/stop_506.wav\n",
            "Converted /content/stop/stop/stop_520.mp3 to /content/wav_files/stop/stop_520.wav\n",
            "Converted /content/stop/stop/stop_385.mp3 to /content/wav_files/stop/stop_385.wav\n",
            "Converted /content/stop/stop/stop_438.mp3 to /content/wav_files/stop/stop_438.wav\n",
            "Converted /content/stop/stop/stop_503.mp3 to /content/wav_files/stop/stop_503.wav\n",
            "Converted /content/stop/stop/stop_381.mp3 to /content/wav_files/stop/stop_381.wav\n",
            "Converted /content/stop/stop/stop_398.mp3 to /content/wav_files/stop/stop_398.wav\n",
            "Converted /content/stop/stop/stop_477.mp3 to /content/wav_files/stop/stop_477.wav\n",
            "Converted /content/stop/stop/stop_422.mp3 to /content/wav_files/stop/stop_422.wav\n",
            "Converted /content/stop/stop/stop_359.mp3 to /content/wav_files/stop/stop_359.wav\n",
            "Converted /content/stop/stop/stop_429.mp3 to /content/wav_files/stop/stop_429.wav\n",
            "Converted /content/stop/stop/stop_423.mp3 to /content/wav_files/stop/stop_423.wav\n",
            "Converted /content/stop/stop/stop_500.mp3 to /content/wav_files/stop/stop_500.wav\n",
            "Converted /content/stop/stop/stop_426.mp3 to /content/wav_files/stop/stop_426.wav\n",
            "Converted /content/stop/stop/stop_354.mp3 to /content/wav_files/stop/stop_354.wav\n",
            "Converted /content/stop/stop/stop_404.mp3 to /content/wav_files/stop/stop_404.wav\n",
            "Converted /content/stop/stop/stop_388.mp3 to /content/wav_files/stop/stop_388.wav\n",
            "Converted /content/stop/stop/stop_480.mp3 to /content/wav_files/stop/stop_480.wav\n",
            "Converted /content/stop/stop/stop_360.mp3 to /content/wav_files/stop/stop_360.wav\n",
            "Converted /content/stop/stop/stop_434.mp3 to /content/wav_files/stop/stop_434.wav\n",
            "Converted /content/stop/stop/stop_382.mp3 to /content/wav_files/stop/stop_382.wav\n",
            "Converted /content/stop/stop/stop_463.mp3 to /content/wav_files/stop/stop_463.wav\n",
            "Converted /content/stop/stop/stop_390.mp3 to /content/wav_files/stop/stop_390.wav\n",
            "Converted /content/stop/stop/stop_419.mp3 to /content/wav_files/stop/stop_419.wav\n",
            "Converted /content/stop/stop/stop_461.mp3 to /content/wav_files/stop/stop_461.wav\n",
            "Converted /content/stop/stop/stop_396.mp3 to /content/wav_files/stop/stop_396.wav\n",
            "Converted /content/stop/stop/stop_431.mp3 to /content/wav_files/stop/stop_431.wav\n",
            "Converted /content/stop/stop/stop_507.mp3 to /content/wav_files/stop/stop_507.wav\n",
            "Converted /content/stop/stop/stop_412.mp3 to /content/wav_files/stop/stop_412.wav\n",
            "Converted /content/stop/stop/stop_455.mp3 to /content/wav_files/stop/stop_455.wav\n",
            "Converted /content/stop/stop/stop_460.mp3 to /content/wav_files/stop/stop_460.wav\n",
            "Converted /content/stop/stop/stop_467.mp3 to /content/wav_files/stop/stop_467.wav\n",
            "Converted /content/stop/stop/stop_374.mp3 to /content/wav_files/stop/stop_374.wav\n",
            "Converted /content/stop/stop/stop_441.mp3 to /content/wav_files/stop/stop_441.wav\n",
            "Converted /content/stop/stop/stop_402.mp3 to /content/wav_files/stop/stop_402.wav\n",
            "Converted /content/stop/stop/stop_471.mp3 to /content/wav_files/stop/stop_471.wav\n",
            "Converted /content/stop/stop/stop_501.mp3 to /content/wav_files/stop/stop_501.wav\n",
            "Converted /content/stop/stop/stop_474.mp3 to /content/wav_files/stop/stop_474.wav\n",
            "Converted /content/stop/stop/stop_368.mp3 to /content/wav_files/stop/stop_368.wav\n",
            "Converted /content/stop/stop/stop_448.mp3 to /content/wav_files/stop/stop_448.wav\n",
            "Converted /content/stop/stop/stop_451.mp3 to /content/wav_files/stop/stop_451.wav\n",
            "Converted /content/stop/stop/stop_440.mp3 to /content/wav_files/stop/stop_440.wav\n",
            "Converted /content/stop/stop/stop_478.mp3 to /content/wav_files/stop/stop_478.wav\n",
            "Converted /content/stop/stop/stop_443.mp3 to /content/wav_files/stop/stop_443.wav\n",
            "Converted /content/stop/stop/stop_481.mp3 to /content/wav_files/stop/stop_481.wav\n",
            "Converted /content/stop/stop/stop_378.mp3 to /content/wav_files/stop/stop_378.wav\n",
            "Converted /content/stop/stop/stop_485.mp3 to /content/wav_files/stop/stop_485.wav\n",
            "Converted /content/stop/stop/stop_397.mp3 to /content/wav_files/stop/stop_397.wav\n",
            "Converted /content/stop/stop/stop_400.mp3 to /content/wav_files/stop/stop_400.wav\n",
            "Converted /content/stop/stop/stop_420.mp3 to /content/wav_files/stop/stop_420.wav\n",
            "Converted /content/stop/stop/stop_413.mp3 to /content/wav_files/stop/stop_413.wav\n",
            "Converted /content/stop/stop/stop_492.mp3 to /content/wav_files/stop/stop_492.wav\n",
            "Converted /content/stop/stop/stop_371.mp3 to /content/wav_files/stop/stop_371.wav\n",
            "Converted /content/stop/stop/stop_484.mp3 to /content/wav_files/stop/stop_484.wav\n",
            "Converted /content/stop/stop/stop_442.mp3 to /content/wav_files/stop/stop_442.wav\n",
            "Converted /content/stop/stop/stop_447.mp3 to /content/wav_files/stop/stop_447.wav\n",
            "Converted /content/stop/stop/stop_454.mp3 to /content/wav_files/stop/stop_454.wav\n",
            "Converted /content/stop/stop/stop_456.mp3 to /content/wav_files/stop/stop_456.wav\n",
            "Converted /content/stop/stop/stop_469.mp3 to /content/wav_files/stop/stop_469.wav\n",
            "Converted /content/stop/stop/stop_363.mp3 to /content/wav_files/stop/stop_363.wav\n",
            "Converted /content/stop/stop/stop_411.mp3 to /content/wav_files/stop/stop_411.wav\n",
            "Converted /content/stop/stop/stop_401.mp3 to /content/wav_files/stop/stop_401.wav\n",
            "Converted /content/stop/stop/stop_514.mp3 to /content/wav_files/stop/stop_514.wav\n",
            "Converted /content/stop/stop/stop_465.mp3 to /content/wav_files/stop/stop_465.wav\n",
            "Converted /content/stop/stop/stop_523.mp3 to /content/wav_files/stop/stop_523.wav\n",
            "Converted /content/stop/stop/stop_410.mp3 to /content/wav_files/stop/stop_410.wav\n",
            "Converted /content/stop/stop/stop_392.mp3 to /content/wav_files/stop/stop_392.wav\n",
            "Converted /content/stop/stop/stop_473.mp3 to /content/wav_files/stop/stop_473.wav\n",
            "Converted /content/stop/stop/stop_505.mp3 to /content/wav_files/stop/stop_505.wav\n",
            "Converted /content/stop/stop/stop_439.mp3 to /content/wav_files/stop/stop_439.wav\n",
            "Converted /content/stop/stop/stop_486.mp3 to /content/wav_files/stop/stop_486.wav\n",
            "Converted /content/stop/stop/stop_424.mp3 to /content/wav_files/stop/stop_424.wav\n",
            "Converted /content/stop/stop/stop_457.mp3 to /content/wav_files/stop/stop_457.wav\n",
            "Converted /content/stop/stop/stop_508.mp3 to /content/wav_files/stop/stop_508.wav\n",
            "Converted /content/stop/stop/stop_470.mp3 to /content/wav_files/stop/stop_470.wav\n",
            "Converted /content/stop/stop/stop_361.mp3 to /content/wav_files/stop/stop_361.wav\n",
            "Converted /content/stop/stop/stop_383.mp3 to /content/wav_files/stop/stop_383.wav\n",
            "Converted /content/stop/stop/stop_466.mp3 to /content/wav_files/stop/stop_466.wav\n",
            "Converted /content/stop/stop/stop_406.mp3 to /content/wav_files/stop/stop_406.wav\n",
            "Converted /content/stop/stop/stop_515.mp3 to /content/wav_files/stop/stop_515.wav\n",
            "Converted /content/stop/stop/stop_513.mp3 to /content/wav_files/stop/stop_513.wav\n",
            "Converted /content/stop/stop/stop_512.mp3 to /content/wav_files/stop/stop_512.wav\n",
            "Converted /content/stop/stop/stop_462.mp3 to /content/wav_files/stop/stop_462.wav\n",
            "Converted /content/stop/stop/stop_357.mp3 to /content/wav_files/stop/stop_357.wav\n",
            "Converted /content/stop/stop/stop_476.mp3 to /content/wav_files/stop/stop_476.wav\n",
            "Converted /content/stop/stop/stop_370.mp3 to /content/wav_files/stop/stop_370.wav\n",
            "Converted /content/stop/stop/stop_395.mp3 to /content/wav_files/stop/stop_395.wav\n",
            "Converted /content/stop/stop/stop_490.mp3 to /content/wav_files/stop/stop_490.wav\n",
            "Converted /content/stop/stop/stop_524.mp3 to /content/wav_files/stop/stop_524.wav\n",
            "Converted /content/stop/stop/stop_489.mp3 to /content/wav_files/stop/stop_489.wav\n",
            "Converted /content/stop/stop/stop_488.mp3 to /content/wav_files/stop/stop_488.wav\n",
            "Converted /content/stop/stop/stop_494.mp3 to /content/wav_files/stop/stop_494.wav\n",
            "Converted /content/stop/stop/stop_355.mp3 to /content/wav_files/stop/stop_355.wav\n",
            "Converted /content/stop/stop/stop_502.mp3 to /content/wav_files/stop/stop_502.wav\n",
            "Converted /content/stop/stop/stop_428.mp3 to /content/wav_files/stop/stop_428.wav\n",
            "Converted /content/stop/stop/stop_427.mp3 to /content/wav_files/stop/stop_427.wav\n",
            "Converted /content/stop/stop/stop_522.mp3 to /content/wav_files/stop/stop_522.wav\n",
            "Converted /content/stop/stop/stop_417.mp3 to /content/wav_files/stop/stop_417.wav\n",
            "Converted /content/stop/stop/stop_445.mp3 to /content/wav_files/stop/stop_445.wav\n",
            "Converted /content/stop/stop/stop_449.mp3 to /content/wav_files/stop/stop_449.wav\n",
            "Converted /content/stop/stop/stop_414.mp3 to /content/wav_files/stop/stop_414.wav\n",
            "Converted /content/stop/stop/stop_459.mp3 to /content/wav_files/stop/stop_459.wav\n",
            "Converted /content/stop/stop/stop_433.mp3 to /content/wav_files/stop/stop_433.wav\n",
            "Converted /content/stop/stop/stop_483.mp3 to /content/wav_files/stop/stop_483.wav\n",
            "Converted /content/stop/stop/stop_435.mp3 to /content/wav_files/stop/stop_435.wav\n",
            "Converted /content/left/left/left_775.mp3 to /content/wav_files/left/left_775.wav\n",
            "Converted /content/left/left/left_841.mp3 to /content/wav_files/left/left_841.wav\n",
            "Converted /content/left/left/left_823.mp3 to /content/wav_files/left/left_823.wav\n",
            "Converted /content/left/left/left_763.mp3 to /content/wav_files/left/left_763.wav\n",
            "Converted /content/left/left/left_712.mp3 to /content/wav_files/left/left_712.wav\n",
            "Converted /content/left/left/left_782.mp3 to /content/wav_files/left/left_782.wav\n",
            "Converted /content/left/left/left_699.mp3 to /content/wav_files/left/left_699.wav\n",
            "Converted /content/left/left/left_858.mp3 to /content/wav_files/left/left_858.wav\n",
            "Converted /content/left/left/left_840.mp3 to /content/wav_files/left/left_840.wav\n",
            "Converted /content/left/left/left_836.mp3 to /content/wav_files/left/left_836.wav\n",
            "Converted /content/left/left/left_875.mp3 to /content/wav_files/left/left_875.wav\n",
            "Converted /content/left/left/left_767.mp3 to /content/wav_files/left/left_767.wav\n",
            "Converted /content/left/left/left_716.mp3 to /content/wav_files/left/left_716.wav\n",
            "Converted /content/left/left/left_774.mp3 to /content/wav_files/left/left_774.wav\n",
            "Converted /content/left/left/left_762.mp3 to /content/wav_files/left/left_762.wav\n",
            "Converted /content/left/left/left_845.mp3 to /content/wav_files/left/left_845.wav\n",
            "Converted /content/left/left/left_794.mp3 to /content/wav_files/left/left_794.wav\n",
            "Converted /content/left/left/left_830.mp3 to /content/wav_files/left/left_830.wav\n",
            "Converted /content/left/left/left_842.mp3 to /content/wav_files/left/left_842.wav\n",
            "Converted /content/left/left/left_700.mp3 to /content/wav_files/left/left_700.wav\n",
            "Converted /content/left/left/left_718.mp3 to /content/wav_files/left/left_718.wav\n",
            "Converted /content/left/left/left_722.mp3 to /content/wav_files/left/left_722.wav\n",
            "Converted /content/left/left/left_761.mp3 to /content/wav_files/left/left_761.wav\n",
            "Converted /content/left/left/left_759.mp3 to /content/wav_files/left/left_759.wav\n",
            "Converted /content/left/left/left_732.mp3 to /content/wav_files/left/left_732.wav\n",
            "Converted /content/left/left/left_844.mp3 to /content/wav_files/left/left_844.wav\n",
            "Converted /content/left/left/left_739.mp3 to /content/wav_files/left/left_739.wav\n",
            "Converted /content/left/left/left_848.mp3 to /content/wav_files/left/left_848.wav\n",
            "Converted /content/left/left/left_726.mp3 to /content/wav_files/left/left_726.wav\n",
            "Converted /content/left/left/left_799.mp3 to /content/wav_files/left/left_799.wav\n",
            "Converted /content/left/left/left_733.mp3 to /content/wav_files/left/left_733.wav\n",
            "Converted /content/left/left/left_771.mp3 to /content/wav_files/left/left_771.wav\n",
            "Converted /content/left/left/left_757.mp3 to /content/wav_files/left/left_757.wav\n",
            "Converted /content/left/left/left_833.mp3 to /content/wav_files/left/left_833.wav\n",
            "Converted /content/left/left/left_788.mp3 to /content/wav_files/left/left_788.wav\n",
            "Converted /content/left/left/left_713.mp3 to /content/wav_files/left/left_713.wav\n",
            "Converted /content/left/left/left_859.mp3 to /content/wav_files/left/left_859.wav\n",
            "Converted /content/left/left/left_802.mp3 to /content/wav_files/left/left_802.wav\n",
            "Converted /content/left/left/left_805.mp3 to /content/wav_files/left/left_805.wav\n",
            "Converted /content/left/left/left_707.mp3 to /content/wav_files/left/left_707.wav\n",
            "Converted /content/left/left/left_749.mp3 to /content/wav_files/left/left_749.wav\n",
            "Converted /content/left/left/left_801.mp3 to /content/wav_files/left/left_801.wav\n",
            "Converted /content/left/left/left_824.mp3 to /content/wav_files/left/left_824.wav\n",
            "Converted /content/left/left/left_873.mp3 to /content/wav_files/left/left_873.wav\n",
            "Converted /content/left/left/left_866.mp3 to /content/wav_files/left/left_866.wav\n",
            "Converted /content/left/left/left_812.mp3 to /content/wav_files/left/left_812.wav\n",
            "Converted /content/left/left/left_741.mp3 to /content/wav_files/left/left_741.wav\n",
            "Converted /content/left/left/left_808.mp3 to /content/wav_files/left/left_808.wav\n",
            "Converted /content/left/left/left_743.mp3 to /content/wav_files/left/left_743.wav\n",
            "Converted /content/left/left/left_792.mp3 to /content/wav_files/left/left_792.wav\n",
            "Converted /content/left/left/left_868.mp3 to /content/wav_files/left/left_868.wav\n",
            "Converted /content/left/left/left_750.mp3 to /content/wav_files/left/left_750.wav\n",
            "Converted /content/left/left/left_777.mp3 to /content/wav_files/left/left_777.wav\n",
            "Converted /content/left/left/left_742.mp3 to /content/wav_files/left/left_742.wav\n",
            "Converted /content/left/left/left_797.mp3 to /content/wav_files/left/left_797.wav\n",
            "Converted /content/left/left/left_705.mp3 to /content/wav_files/left/left_705.wav\n",
            "Converted /content/left/left/left_790.mp3 to /content/wav_files/left/left_790.wav\n",
            "Converted /content/left/left/left_852.mp3 to /content/wav_files/left/left_852.wav\n",
            "Converted /content/left/left/left_764.mp3 to /content/wav_files/left/left_764.wav\n",
            "Converted /content/left/left/left_731.mp3 to /content/wav_files/left/left_731.wav\n",
            "Converted /content/left/left/left_876.mp3 to /content/wav_files/left/left_876.wav\n",
            "Converted /content/left/left/left_740.mp3 to /content/wav_files/left/left_740.wav\n",
            "Converted /content/left/left/left_778.mp3 to /content/wav_files/left/left_778.wav\n",
            "Converted /content/left/left/left_784.mp3 to /content/wav_files/left/left_784.wav\n",
            "Converted /content/left/left/left_714.mp3 to /content/wav_files/left/left_714.wav\n",
            "Converted /content/left/left/left_847.mp3 to /content/wav_files/left/left_847.wav\n",
            "Converted /content/left/left/left_865.mp3 to /content/wav_files/left/left_865.wav\n",
            "Converted /content/left/left/left_827.mp3 to /content/wav_files/left/left_827.wav\n",
            "Converted /content/left/left/left_828.mp3 to /content/wav_files/left/left_828.wav\n",
            "Converted /content/left/left/left_855.mp3 to /content/wav_files/left/left_855.wav\n",
            "Converted /content/left/left/left_856.mp3 to /content/wav_files/left/left_856.wav\n",
            "Converted /content/left/left/left_839.mp3 to /content/wav_files/left/left_839.wav\n",
            "Converted /content/left/left/left_753.mp3 to /content/wav_files/left/left_753.wav\n",
            "Converted /content/left/left/left_877.mp3 to /content/wav_files/left/left_877.wav\n",
            "Converted /content/left/left/left_785.mp3 to /content/wav_files/left/left_785.wav\n",
            "Converted /content/left/left/left_825.mp3 to /content/wav_files/left/left_825.wav\n",
            "Converted /content/left/left/left_735.mp3 to /content/wav_files/left/left_735.wav\n",
            "Converted /content/left/left/left_870.mp3 to /content/wav_files/left/left_870.wav\n",
            "Converted /content/left/left/left_803.mp3 to /content/wav_files/left/left_803.wav\n",
            "Converted /content/left/left/left_748.mp3 to /content/wav_files/left/left_748.wav\n",
            "Converted /content/left/left/left_811.mp3 to /content/wav_files/left/left_811.wav\n",
            "Converted /content/left/left/left_721.mp3 to /content/wav_files/left/left_721.wav\n",
            "Converted /content/left/left/left_843.mp3 to /content/wav_files/left/left_843.wav\n",
            "Converted /content/left/left/left_754.mp3 to /content/wav_files/left/left_754.wav\n",
            "Converted /content/left/left/left_728.mp3 to /content/wav_files/left/left_728.wav\n",
            "Converted /content/left/left/left_737.mp3 to /content/wav_files/left/left_737.wav\n",
            "Converted /content/left/left/left_702.mp3 to /content/wav_files/left/left_702.wav\n",
            "Converted /content/left/left/left_729.mp3 to /content/wav_files/left/left_729.wav\n",
            "Converted /content/left/left/left_810.mp3 to /content/wav_files/left/left_810.wav\n",
            "Converted /content/left/left/left_818.mp3 to /content/wav_files/left/left_818.wav\n",
            "Converted /content/left/left/left_804.mp3 to /content/wav_files/left/left_804.wav\n",
            "Converted /content/left/left/left_831.mp3 to /content/wav_files/left/left_831.wav\n",
            "Converted /content/left/left/left_851.mp3 to /content/wav_files/left/left_851.wav\n",
            "Converted /content/left/left/left_807.mp3 to /content/wav_files/left/left_807.wav\n",
            "Converted /content/left/left/left_800.mp3 to /content/wav_files/left/left_800.wav\n",
            "Converted /content/left/left/left_766.mp3 to /content/wav_files/left/left_766.wav\n",
            "Converted /content/left/left/left_860.mp3 to /content/wav_files/left/left_860.wav\n",
            "Converted /content/left/left/left_806.mp3 to /content/wav_files/left/left_806.wav\n",
            "Converted /content/left/left/left_837.mp3 to /content/wav_files/left/left_837.wav\n",
            "Converted /content/left/left/left_815.mp3 to /content/wav_files/left/left_815.wav\n",
            "Converted /content/left/left/left_772.mp3 to /content/wav_files/left/left_772.wav\n",
            "Converted /content/left/left/left_744.mp3 to /content/wav_files/left/left_744.wav\n",
            "Converted /content/left/left/left_835.mp3 to /content/wav_files/left/left_835.wav\n",
            "Converted /content/left/left/left_864.mp3 to /content/wav_files/left/left_864.wav\n",
            "Converted /content/left/left/left_727.mp3 to /content/wav_files/left/left_727.wav\n",
            "Converted /content/left/left/left_723.mp3 to /content/wav_files/left/left_723.wav\n",
            "Converted /content/left/left/left_814.mp3 to /content/wav_files/left/left_814.wav\n",
            "Converted /content/left/left/left_710.mp3 to /content/wav_files/left/left_710.wav\n",
            "Converted /content/left/left/left_730.mp3 to /content/wav_files/left/left_730.wav\n",
            "Converted /content/left/left/left_869.mp3 to /content/wav_files/left/left_869.wav\n",
            "Converted /content/left/left/left_751.mp3 to /content/wav_files/left/left_751.wav\n",
            "Converted /content/left/left/left_769.mp3 to /content/wav_files/left/left_769.wav\n",
            "Converted /content/left/left/left_768.mp3 to /content/wav_files/left/left_768.wav\n",
            "Converted /content/left/left/left_798.mp3 to /content/wav_files/left/left_798.wav\n",
            "Converted /content/left/left/left_862.mp3 to /content/wav_files/left/left_862.wav\n",
            "Converted /content/left/left/left_781.mp3 to /content/wav_files/left/left_781.wav\n",
            "Converted /content/left/left/left_834.mp3 to /content/wav_files/left/left_834.wav\n",
            "Converted /content/left/left/left_765.mp3 to /content/wav_files/left/left_765.wav\n",
            "Converted /content/left/left/left_871.mp3 to /content/wav_files/left/left_871.wav\n",
            "Converted /content/left/left/left_861.mp3 to /content/wav_files/left/left_861.wav\n",
            "Converted /content/left/left/left_746.mp3 to /content/wav_files/left/left_746.wav\n",
            "Converted /content/left/left/left_783.mp3 to /content/wav_files/left/left_783.wav\n",
            "Converted /content/left/left/left_874.mp3 to /content/wav_files/left/left_874.wav\n",
            "Converted /content/left/left/left_822.mp3 to /content/wav_files/left/left_822.wav\n",
            "Converted /content/left/left/left_701.mp3 to /content/wav_files/left/left_701.wav\n",
            "Converted /content/left/left/left_719.mp3 to /content/wav_files/left/left_719.wav\n",
            "Converted /content/left/left/left_849.mp3 to /content/wav_files/left/left_849.wav\n",
            "Converted /content/left/left/left_832.mp3 to /content/wav_files/left/left_832.wav\n",
            "Converted /content/left/left/left_850.mp3 to /content/wav_files/left/left_850.wav\n",
            "Converted /content/left/left/left_793.mp3 to /content/wav_files/left/left_793.wav\n",
            "Converted /content/left/left/left_854.mp3 to /content/wav_files/left/left_854.wav\n",
            "Converted /content/left/left/left_760.mp3 to /content/wav_files/left/left_760.wav\n",
            "Converted /content/left/left/left_773.mp3 to /content/wav_files/left/left_773.wav\n",
            "Converted /content/left/left/left_786.mp3 to /content/wav_files/left/left_786.wav\n",
            "Converted /content/left/left/left_736.mp3 to /content/wav_files/left/left_736.wav\n",
            "Converted /content/left/left/left_734.mp3 to /content/wav_files/left/left_734.wav\n",
            "Converted /content/left/left/left_745.mp3 to /content/wav_files/left/left_745.wav\n",
            "Converted /content/left/left/left_846.mp3 to /content/wav_files/left/left_846.wav\n",
            "Converted /content/left/left/left_872.mp3 to /content/wav_files/left/left_872.wav\n",
            "Converted /content/left/left/left_755.mp3 to /content/wav_files/left/left_755.wav\n",
            "Converted /content/left/left/left_770.mp3 to /content/wav_files/left/left_770.wav\n",
            "Converted /content/left/left/left_821.mp3 to /content/wav_files/left/left_821.wav\n",
            "Converted /content/left/left/left_747.mp3 to /content/wav_files/left/left_747.wav\n",
            "Converted /content/left/left/left_738.mp3 to /content/wav_files/left/left_738.wav\n",
            "Converted /content/left/left/left_720.mp3 to /content/wav_files/left/left_720.wav\n",
            "Converted /content/left/left/left_756.mp3 to /content/wav_files/left/left_756.wav\n",
            "Converted /content/left/left/left_787.mp3 to /content/wav_files/left/left_787.wav\n",
            "Converted /content/left/left/left_863.mp3 to /content/wav_files/left/left_863.wav\n",
            "Converted /content/left/left/left_725.mp3 to /content/wav_files/left/left_725.wav\n",
            "Converted /content/left/left/left_795.mp3 to /content/wav_files/left/left_795.wav\n",
            "Converted /content/left/left/left_779.mp3 to /content/wav_files/left/left_779.wav\n",
            "Converted /content/left/left/left_813.mp3 to /content/wav_files/left/left_813.wav\n",
            "Converted /content/left/left/left_717.mp3 to /content/wav_files/left/left_717.wav\n",
            "Converted /content/left/left/left_708.mp3 to /content/wav_files/left/left_708.wav\n",
            "Converted /content/left/left/left_780.mp3 to /content/wav_files/left/left_780.wav\n",
            "Converted /content/left/left/left_724.mp3 to /content/wav_files/left/left_724.wav\n",
            "Converted /content/left/left/left_706.mp3 to /content/wav_files/left/left_706.wav\n",
            "Converted /content/left/left/left_776.mp3 to /content/wav_files/left/left_776.wav\n",
            "Converted /content/left/left/left_711.mp3 to /content/wav_files/left/left_711.wav\n",
            "Converted /content/left/left/left_816.mp3 to /content/wav_files/left/left_816.wav\n",
            "Converted /content/left/left/left_829.mp3 to /content/wav_files/left/left_829.wav\n",
            "Converted /content/left/left/left_791.mp3 to /content/wav_files/left/left_791.wav\n",
            "Converted /content/left/left/left_703.mp3 to /content/wav_files/left/left_703.wav\n",
            "Converted /content/left/left/left_867.mp3 to /content/wav_files/left/left_867.wav\n",
            "Converted /content/left/left/left_853.mp3 to /content/wav_files/left/left_853.wav\n",
            "Converted /content/left/left/left_809.mp3 to /content/wav_files/left/left_809.wav\n",
            "Converted /content/left/left/left_826.mp3 to /content/wav_files/left/left_826.wav\n",
            "Converted /content/left/left/left_838.mp3 to /content/wav_files/left/left_838.wav\n",
            "Converted /content/left/left/left_820.mp3 to /content/wav_files/left/left_820.wav\n",
            "Converted /content/left/left/left_796.mp3 to /content/wav_files/left/left_796.wav\n",
            "Converted /content/left/left/left_819.mp3 to /content/wav_files/left/left_819.wav\n",
            "Converted /content/left/left/left_715.mp3 to /content/wav_files/left/left_715.wav\n",
            "Converted /content/left/left/left_857.mp3 to /content/wav_files/left/left_857.wav\n",
            "Converted /content/left/left/left_704.mp3 to /content/wav_files/left/left_704.wav\n",
            "Converted /content/left/left/left_817.mp3 to /content/wav_files/left/left_817.wav\n",
            "Converted /content/left/left/left_758.mp3 to /content/wav_files/left/left_758.wav\n",
            "Converted /content/left/left/left_752.mp3 to /content/wav_files/left/left_752.wav\n",
            "Converted /content/left/left/left_709.mp3 to /content/wav_files/left/left_709.wav\n",
            "Converted /content/left/left/left_789.mp3 to /content/wav_files/left/left_789.wav\n",
            "Converted /content/right/right/right_681.mp3 to /content/wav_files/right/right_681.wav\n",
            "Converted /content/right/right/right_659.mp3 to /content/wav_files/right/right_659.wav\n",
            "Converted /content/right/right/right_670.mp3 to /content/wav_files/right/right_670.wav\n",
            "Converted /content/right/right/right_628.mp3 to /content/wav_files/right/right_628.wav\n",
            "Converted /content/right/right/right_573.mp3 to /content/wav_files/right/right_573.wav\n",
            "Converted /content/right/right/right_655.mp3 to /content/wav_files/right/right_655.wav\n",
            "Converted /content/right/right/right_612.mp3 to /content/wav_files/right/right_612.wav\n",
            "Converted /content/right/right/right_538.mp3 to /content/wav_files/right/right_538.wav\n",
            "Converted /content/right/right/right_669.mp3 to /content/wav_files/right/right_669.wav\n",
            "Converted /content/right/right/right_531.mp3 to /content/wav_files/right/right_531.wav\n",
            "Converted /content/right/right/right_525.mp3 to /content/wav_files/right/right_525.wav\n",
            "Converted /content/right/right/right_581.mp3 to /content/wav_files/right/right_581.wav\n",
            "Converted /content/right/right/right_557.mp3 to /content/wav_files/right/right_557.wav\n",
            "Converted /content/right/right/right_621.mp3 to /content/wav_files/right/right_621.wav\n",
            "Converted /content/right/right/right_674.mp3 to /content/wav_files/right/right_674.wav\n",
            "Converted /content/right/right/right_679.mp3 to /content/wav_files/right/right_679.wav\n",
            "Converted /content/right/right/right_570.mp3 to /content/wav_files/right/right_570.wav\n",
            "Converted /content/right/right/right_671.mp3 to /content/wav_files/right/right_671.wav\n",
            "Converted /content/right/right/right_680.mp3 to /content/wav_files/right/right_680.wav\n",
            "Converted /content/right/right/right_616.mp3 to /content/wav_files/right/right_616.wav\n",
            "Converted /content/right/right/right_583.mp3 to /content/wav_files/right/right_583.wav\n",
            "Converted /content/right/right/right_604.mp3 to /content/wav_files/right/right_604.wav\n",
            "Converted /content/right/right/right_694.mp3 to /content/wav_files/right/right_694.wav\n",
            "Converted /content/right/right/right_690.mp3 to /content/wav_files/right/right_690.wav\n",
            "Converted /content/right/right/right_620.mp3 to /content/wav_files/right/right_620.wav\n",
            "Converted /content/right/right/right_609.mp3 to /content/wav_files/right/right_609.wav\n",
            "Converted /content/right/right/right_619.mp3 to /content/wav_files/right/right_619.wav\n",
            "Converted /content/right/right/right_618.mp3 to /content/wav_files/right/right_618.wav\n",
            "Converted /content/right/right/right_605.mp3 to /content/wav_files/right/right_605.wav\n",
            "Converted /content/right/right/right_588.mp3 to /content/wav_files/right/right_588.wav\n",
            "Converted /content/right/right/right_547.mp3 to /content/wav_files/right/right_547.wav\n",
            "Converted /content/right/right/right_589.mp3 to /content/wav_files/right/right_589.wav\n",
            "Converted /content/right/right/right_607.mp3 to /content/wav_files/right/right_607.wav\n",
            "Converted /content/right/right/right_594.mp3 to /content/wav_files/right/right_594.wav\n",
            "Converted /content/right/right/right_642.mp3 to /content/wav_files/right/right_642.wav\n",
            "Converted /content/right/right/right_668.mp3 to /content/wav_files/right/right_668.wav\n",
            "Converted /content/right/right/right_574.mp3 to /content/wav_files/right/right_574.wav\n",
            "Converted /content/right/right/right_622.mp3 to /content/wav_files/right/right_622.wav\n",
            "Converted /content/right/right/right_635.mp3 to /content/wav_files/right/right_635.wav\n",
            "Converted /content/right/right/right_623.mp3 to /content/wav_files/right/right_623.wav\n",
            "Converted /content/right/right/right_556.mp3 to /content/wav_files/right/right_556.wav\n",
            "Converted /content/right/right/right_541.mp3 to /content/wav_files/right/right_541.wav\n",
            "Converted /content/right/right/right_533.mp3 to /content/wav_files/right/right_533.wav\n",
            "Converted /content/right/right/right_552.mp3 to /content/wav_files/right/right_552.wav\n",
            "Converted /content/right/right/right_585.mp3 to /content/wav_files/right/right_585.wav\n",
            "Converted /content/right/right/right_528.mp3 to /content/wav_files/right/right_528.wav\n",
            "Converted /content/right/right/right_649.mp3 to /content/wav_files/right/right_649.wav\n",
            "Converted /content/right/right/right_678.mp3 to /content/wav_files/right/right_678.wav\n",
            "Converted /content/right/right/right_544.mp3 to /content/wav_files/right/right_544.wav\n",
            "Converted /content/right/right/right_546.mp3 to /content/wav_files/right/right_546.wav\n",
            "Converted /content/right/right/right_684.mp3 to /content/wav_files/right/right_684.wav\n",
            "Converted /content/right/right/right_631.mp3 to /content/wav_files/right/right_631.wav\n",
            "Converted /content/right/right/right_606.mp3 to /content/wav_files/right/right_606.wav\n",
            "Converted /content/right/right/right_627.mp3 to /content/wav_files/right/right_627.wav\n",
            "Converted /content/right/right/right_555.mp3 to /content/wav_files/right/right_555.wav\n",
            "Converted /content/right/right/right_608.mp3 to /content/wav_files/right/right_608.wav\n",
            "Converted /content/right/right/right_562.mp3 to /content/wav_files/right/right_562.wav\n",
            "Converted /content/right/right/right_666.mp3 to /content/wav_files/right/right_666.wav\n",
            "Converted /content/right/right/right_685.mp3 to /content/wav_files/right/right_685.wav\n",
            "Converted /content/right/right/right_558.mp3 to /content/wav_files/right/right_558.wav\n",
            "Converted /content/right/right/right_599.mp3 to /content/wav_files/right/right_599.wav\n",
            "Converted /content/right/right/right_595.mp3 to /content/wav_files/right/right_595.wav\n",
            "Converted /content/right/right/right_532.mp3 to /content/wav_files/right/right_532.wav\n",
            "Converted /content/right/right/right_587.mp3 to /content/wav_files/right/right_587.wav\n",
            "Converted /content/right/right/right_639.mp3 to /content/wav_files/right/right_639.wav\n",
            "Converted /content/right/right/right_613.mp3 to /content/wav_files/right/right_613.wav\n",
            "Converted /content/right/right/right_535.mp3 to /content/wav_files/right/right_535.wav\n",
            "Converted /content/right/right/right_656.mp3 to /content/wav_files/right/right_656.wav\n",
            "Converted /content/right/right/right_529.mp3 to /content/wav_files/right/right_529.wav\n",
            "Converted /content/right/right/right_629.mp3 to /content/wav_files/right/right_629.wav\n",
            "Converted /content/right/right/right_576.mp3 to /content/wav_files/right/right_576.wav\n",
            "Converted /content/right/right/right_603.mp3 to /content/wav_files/right/right_603.wav\n",
            "Converted /content/right/right/right_571.mp3 to /content/wav_files/right/right_571.wav\n",
            "Converted /content/right/right/right_548.mp3 to /content/wav_files/right/right_548.wav\n",
            "Converted /content/right/right/right_568.mp3 to /content/wav_files/right/right_568.wav\n",
            "Converted /content/right/right/right_692.mp3 to /content/wav_files/right/right_692.wav\n",
            "Converted /content/right/right/right_625.mp3 to /content/wav_files/right/right_625.wav\n",
            "Converted /content/right/right/right_598.mp3 to /content/wav_files/right/right_598.wav\n",
            "Converted /content/right/right/right_542.mp3 to /content/wav_files/right/right_542.wav\n",
            "Converted /content/right/right/right_652.mp3 to /content/wav_files/right/right_652.wav\n",
            "Converted /content/right/right/right_638.mp3 to /content/wav_files/right/right_638.wav\n",
            "Converted /content/right/right/right_534.mp3 to /content/wav_files/right/right_534.wav\n",
            "Converted /content/right/right/right_643.mp3 to /content/wav_files/right/right_643.wav\n",
            "Converted /content/right/right/right_597.mp3 to /content/wav_files/right/right_597.wav\n",
            "Converted /content/right/right/right_697.mp3 to /content/wav_files/right/right_697.wav\n",
            "Converted /content/right/right/right_647.mp3 to /content/wav_files/right/right_647.wav\n",
            "Converted /content/right/right/right_651.mp3 to /content/wav_files/right/right_651.wav\n",
            "Converted /content/right/right/right_637.mp3 to /content/wav_files/right/right_637.wav\n",
            "Converted /content/right/right/right_630.mp3 to /content/wav_files/right/right_630.wav\n",
            "Converted /content/right/right/right_592.mp3 to /content/wav_files/right/right_592.wav\n",
            "Converted /content/right/right/right_527.mp3 to /content/wav_files/right/right_527.wav\n",
            "Converted /content/right/right/right_545.mp3 to /content/wav_files/right/right_545.wav\n",
            "Converted /content/right/right/right_663.mp3 to /content/wav_files/right/right_663.wav\n",
            "Converted /content/right/right/right_677.mp3 to /content/wav_files/right/right_677.wav\n",
            "Converted /content/right/right/right_567.mp3 to /content/wav_files/right/right_567.wav\n",
            "Converted /content/right/right/right_687.mp3 to /content/wav_files/right/right_687.wav\n",
            "Converted /content/right/right/right_693.mp3 to /content/wav_files/right/right_693.wav\n",
            "Converted /content/right/right/right_601.mp3 to /content/wav_files/right/right_601.wav\n",
            "Converted /content/right/right/right_657.mp3 to /content/wav_files/right/right_657.wav\n",
            "Converted /content/right/right/right_667.mp3 to /content/wav_files/right/right_667.wav\n",
            "Converted /content/right/right/right_530.mp3 to /content/wav_files/right/right_530.wav\n",
            "Converted /content/right/right/right_572.mp3 to /content/wav_files/right/right_572.wav\n",
            "Converted /content/right/right/right_648.mp3 to /content/wav_files/right/right_648.wav\n",
            "Converted /content/right/right/right_634.mp3 to /content/wav_files/right/right_634.wav\n",
            "Converted /content/right/right/right_665.mp3 to /content/wav_files/right/right_665.wav\n",
            "Converted /content/right/right/right_653.mp3 to /content/wav_files/right/right_653.wav\n",
            "Converted /content/right/right/right_600.mp3 to /content/wav_files/right/right_600.wav\n",
            "Converted /content/right/right/right_549.mp3 to /content/wav_files/right/right_549.wav\n",
            "Converted /content/right/right/right_645.mp3 to /content/wav_files/right/right_645.wav\n",
            "Converted /content/right/right/right_691.mp3 to /content/wav_files/right/right_691.wav\n",
            "Converted /content/right/right/right_550.mp3 to /content/wav_files/right/right_550.wav\n",
            "Converted /content/right/right/right_560.mp3 to /content/wav_files/right/right_560.wav\n",
            "Converted /content/right/right/right_632.mp3 to /content/wav_files/right/right_632.wav\n",
            "Converted /content/right/right/right_640.mp3 to /content/wav_files/right/right_640.wav\n",
            "Converted /content/right/right/right_696.mp3 to /content/wav_files/right/right_696.wav\n",
            "Converted /content/right/right/right_695.mp3 to /content/wav_files/right/right_695.wav\n",
            "Converted /content/right/right/right_526.mp3 to /content/wav_files/right/right_526.wav\n",
            "Converted /content/right/right/right_698.mp3 to /content/wav_files/right/right_698.wav\n",
            "Converted /content/right/right/right_564.mp3 to /content/wav_files/right/right_564.wav\n",
            "Converted /content/right/right/right_686.mp3 to /content/wav_files/right/right_686.wav\n",
            "Converted /content/right/right/right_565.mp3 to /content/wav_files/right/right_565.wav\n",
            "Converted /content/right/right/right_580.mp3 to /content/wav_files/right/right_580.wav\n",
            "Converted /content/right/right/right_636.mp3 to /content/wav_files/right/right_636.wav\n",
            "Converted /content/right/right/right_559.mp3 to /content/wav_files/right/right_559.wav\n",
            "Converted /content/right/right/right_626.mp3 to /content/wav_files/right/right_626.wav\n",
            "Converted /content/right/right/right_578.mp3 to /content/wav_files/right/right_578.wav\n",
            "Converted /content/right/right/right_586.mp3 to /content/wav_files/right/right_586.wav\n",
            "Converted /content/right/right/right_554.mp3 to /content/wav_files/right/right_554.wav\n",
            "Converted /content/right/right/right_660.mp3 to /content/wav_files/right/right_660.wav\n",
            "Converted /content/right/right/right_539.mp3 to /content/wav_files/right/right_539.wav\n",
            "Converted /content/right/right/right_561.mp3 to /content/wav_files/right/right_561.wav\n",
            "Converted /content/right/right/right_654.mp3 to /content/wav_files/right/right_654.wav\n",
            "Converted /content/right/right/right_563.mp3 to /content/wav_files/right/right_563.wav\n",
            "Converted /content/right/right/right_633.mp3 to /content/wav_files/right/right_633.wav\n",
            "Converted /content/right/right/right_579.mp3 to /content/wav_files/right/right_579.wav\n",
            "Converted /content/right/right/right_650.mp3 to /content/wav_files/right/right_650.wav\n",
            "Converted /content/right/right/right_540.mp3 to /content/wav_files/right/right_540.wav\n",
            "Converted /content/right/right/right_537.mp3 to /content/wav_files/right/right_537.wav\n",
            "Converted /content/right/right/right_582.mp3 to /content/wav_files/right/right_582.wav\n",
            "Converted /content/right/right/right_536.mp3 to /content/wav_files/right/right_536.wav\n",
            "Converted /content/right/right/right_664.mp3 to /content/wav_files/right/right_664.wav\n",
            "Converted /content/right/right/right_615.mp3 to /content/wav_files/right/right_615.wav\n",
            "Converted /content/right/right/right_672.mp3 to /content/wav_files/right/right_672.wav\n",
            "Converted /content/right/right/right_644.mp3 to /content/wav_files/right/right_644.wav\n",
            "Converted /content/right/right/right_553.mp3 to /content/wav_files/right/right_553.wav\n",
            "Converted /content/right/right/right_617.mp3 to /content/wav_files/right/right_617.wav\n",
            "Converted /content/right/right/right_590.mp3 to /content/wav_files/right/right_590.wav\n",
            "Converted /content/right/right/right_662.mp3 to /content/wav_files/right/right_662.wav\n",
            "Converted /content/right/right/right_584.mp3 to /content/wav_files/right/right_584.wav\n",
            "Converted /content/right/right/right_682.mp3 to /content/wav_files/right/right_682.wav\n",
            "Converted /content/right/right/right_661.mp3 to /content/wav_files/right/right_661.wav\n",
            "Converted /content/right/right/right_575.mp3 to /content/wav_files/right/right_575.wav\n",
            "Converted /content/right/right/right_591.mp3 to /content/wav_files/right/right_591.wav\n",
            "Converted /content/right/right/right_614.mp3 to /content/wav_files/right/right_614.wav\n",
            "Converted /content/right/right/right_675.mp3 to /content/wav_files/right/right_675.wav\n",
            "Converted /content/right/right/right_602.mp3 to /content/wav_files/right/right_602.wav\n",
            "Converted /content/right/right/right_641.mp3 to /content/wav_files/right/right_641.wav\n",
            "Converted /content/right/right/right_611.mp3 to /content/wav_files/right/right_611.wav\n",
            "Converted /content/right/right/right_688.mp3 to /content/wav_files/right/right_688.wav\n",
            "Converted /content/right/right/right_543.mp3 to /content/wav_files/right/right_543.wav\n",
            "Converted /content/right/right/right_683.mp3 to /content/wav_files/right/right_683.wav\n",
            "Converted /content/right/right/right_551.mp3 to /content/wav_files/right/right_551.wav\n",
            "Converted /content/right/right/right_676.mp3 to /content/wav_files/right/right_676.wav\n",
            "Converted /content/right/right/right_624.mp3 to /content/wav_files/right/right_624.wav\n",
            "Converted /content/right/right/right_577.mp3 to /content/wav_files/right/right_577.wav\n",
            "Converted /content/right/right/right_593.mp3 to /content/wav_files/right/right_593.wav\n",
            "Converted /content/right/right/right_658.mp3 to /content/wav_files/right/right_658.wav\n",
            "Converted /content/right/right/right_689.mp3 to /content/wav_files/right/right_689.wav\n",
            "Converted /content/right/right/right_673.mp3 to /content/wav_files/right/right_673.wav\n",
            "Converted /content/right/right/right_596.mp3 to /content/wav_files/right/right_596.wav\n",
            "Converted /content/right/right/right_646.mp3 to /content/wav_files/right/right_646.wav\n",
            "Converted /content/right/right/right_566.mp3 to /content/wav_files/right/right_566.wav\n",
            "Converted /content/right/right/right_610.mp3 to /content/wav_files/right/right_610.wav\n",
            "Converted /content/right/right/right_569.mp3 to /content/wav_files/right/right_569.wav\n",
            "Converted /content/Fast_Faster/Fast_Faster/fast_faster_1680.mp3 to /content/wav_files/Fast_Faster/fast_faster_1680.wav\n",
            "Converted /content/Fast_Faster/Fast_Faster/fast_faster_1505.mp3 to /content/wav_files/Fast_Faster/fast_faster_1505.wav\n",
            "Converted /content/Fast_Faster/Fast_Faster/fast_faster_1690.mp3 to /content/wav_files/Fast_Faster/fast_faster_1690.wav\n",
            "Converted /content/Fast_Faster/Fast_Faster/fast_faster_1697.mp3 to /content/wav_files/Fast_Faster/fast_faster_1697.wav\n",
            "Converted /content/Fast_Faster/Fast_Faster/fast_faster_1556.mp3 to /content/wav_files/Fast_Faster/fast_faster_1556.wav\n",
            "Converted /content/Fast_Faster/Fast_Faster/fast_faster_1513.mp3 to /content/wav_files/Fast_Faster/fast_faster_1513.wav\n",
            "Converted /content/Fast_Faster/Fast_Faster/fast_faster_1618.mp3 to /content/wav_files/Fast_Faster/fast_faster_1618.wav\n",
            "Converted /content/Fast_Faster/Fast_Faster/fast_faster_1447.mp3 to /content/wav_files/Fast_Faster/fast_faster_1447.wav\n",
            "Converted /content/Fast_Faster/Fast_Faster/fast_faster_1488.mp3 to /content/wav_files/Fast_Faster/fast_faster_1488.wav\n",
            "Converted /content/Fast_Faster/Fast_Faster/fast_faster_1695.mp3 to /content/wav_files/Fast_Faster/fast_faster_1695.wav\n",
            "Converted /content/Fast_Faster/Fast_Faster/fast_faster_1699.mp3 to /content/wav_files/Fast_Faster/fast_faster_1699.wav\n",
            "Converted /content/Fast_Faster/Fast_Faster/fast_faster_1500.mp3 to /content/wav_files/Fast_Faster/fast_faster_1500.wav\n",
            "Converted /content/Fast_Faster/Fast_Faster/fast_faster_1647.mp3 to /content/wav_files/Fast_Faster/fast_faster_1647.wav\n",
            "Converted /content/Fast_Faster/Fast_Faster/fast_faster_1603.mp3 to /content/wav_files/Fast_Faster/fast_faster_1603.wav\n",
            "Converted /content/Fast_Faster/Fast_Faster/fast_faster_1459.mp3 to /content/wav_files/Fast_Faster/fast_faster_1459.wav\n",
            "Converted /content/Fast_Faster/Fast_Faster/fast_faster_1399.mp3 to /content/wav_files/Fast_Faster/fast_faster_1399.wav\n",
            "Converted /content/Fast_Faster/Fast_Faster/fast_faster_1535.mp3 to /content/wav_files/Fast_Faster/fast_faster_1535.wav\n",
            "Converted /content/Fast_Faster/Fast_Faster/fast_faster_1606.mp3 to /content/wav_files/Fast_Faster/fast_faster_1606.wav\n",
            "Converted /content/Fast_Faster/Fast_Faster/fast_faster_1413.mp3 to /content/wav_files/Fast_Faster/fast_faster_1413.wav\n",
            "Converted /content/Fast_Faster/Fast_Faster/fast_faster_1503.mp3 to /content/wav_files/Fast_Faster/fast_faster_1503.wav\n",
            "Converted /content/Fast_Faster/Fast_Faster/fast_faster_1569.mp3 to /content/wav_files/Fast_Faster/fast_faster_1569.wav\n",
            "Converted /content/Fast_Faster/Fast_Faster/fast_faster_1565.mp3 to /content/wav_files/Fast_Faster/fast_faster_1565.wav\n",
            "Converted /content/Fast_Faster/Fast_Faster/fast_faster_1678.mp3 to /content/wav_files/Fast_Faster/fast_faster_1678.wav\n",
            "Converted /content/Fast_Faster/Fast_Faster/fast_faster_1397.mp3 to /content/wav_files/Fast_Faster/fast_faster_1397.wav\n",
            "Converted /content/Fast_Faster/Fast_Faster/fast_faster_1457.mp3 to /content/wav_files/Fast_Faster/fast_faster_1457.wav\n",
            "Converted /content/Fast_Faster/Fast_Faster/fast_faster_1673.mp3 to /content/wav_files/Fast_Faster/fast_faster_1673.wav\n",
            "Converted /content/Fast_Faster/Fast_Faster/fast_faster_1670.mp3 to /content/wav_files/Fast_Faster/fast_faster_1670.wav\n",
            "Converted /content/Fast_Faster/Fast_Faster/fast_faster_1599.mp3 to /content/wav_files/Fast_Faster/fast_faster_1599.wav\n",
            "Converted /content/Fast_Faster/Fast_Faster/fast_faster_1466.mp3 to /content/wav_files/Fast_Faster/fast_faster_1466.wav\n",
            "Converted /content/Fast_Faster/Fast_Faster/fast_faster_1712.mp3 to /content/wav_files/Fast_Faster/fast_faster_1712.wav\n",
            "Converted /content/Fast_Faster/Fast_Faster/fast_faster_1675.mp3 to /content/wav_files/Fast_Faster/fast_faster_1675.wav\n",
            "Converted /content/Fast_Faster/Fast_Faster/fast_faster_1637.mp3 to /content/wav_files/Fast_Faster/fast_faster_1637.wav\n",
            "Converted /content/Fast_Faster/Fast_Faster/fast_faster_1469.mp3 to /content/wav_files/Fast_Faster/fast_faster_1469.wav\n",
            "Converted /content/Fast_Faster/Fast_Faster/fast_faster_1595.mp3 to /content/wav_files/Fast_Faster/fast_faster_1595.wav\n",
            "Converted /content/Fast_Faster/Fast_Faster/fast_faster_1501.mp3 to /content/wav_files/Fast_Faster/fast_faster_1501.wav\n",
            "Converted /content/Fast_Faster/Fast_Faster/fast_faster_1633.mp3 to /content/wav_files/Fast_Faster/fast_faster_1633.wav\n",
            "Converted /content/Fast_Faster/Fast_Faster/fast_faster_1476.mp3 to /content/wav_files/Fast_Faster/fast_faster_1476.wav\n",
            "Converted /content/Fast_Faster/Fast_Faster/fast_faster_1686.mp3 to /content/wav_files/Fast_Faster/fast_faster_1686.wav\n",
            "Converted /content/Fast_Faster/Fast_Faster/fast_faster_1489.mp3 to /content/wav_files/Fast_Faster/fast_faster_1489.wav\n",
            "Converted /content/Fast_Faster/Fast_Faster/fast_faster_1465.mp3 to /content/wav_files/Fast_Faster/fast_faster_1465.wav\n",
            "Converted /content/Fast_Faster/Fast_Faster/fast_faster_1451.mp3 to /content/wav_files/Fast_Faster/fast_faster_1451.wav\n",
            "Converted /content/Fast_Faster/Fast_Faster/fast_faster_1461.mp3 to /content/wav_files/Fast_Faster/fast_faster_1461.wav\n",
            "Converted /content/Fast_Faster/Fast_Faster/fast_faster_1534.mp3 to /content/wav_files/Fast_Faster/fast_faster_1534.wav\n",
            "Converted /content/Fast_Faster/Fast_Faster/fast_faster_1568.mp3 to /content/wav_files/Fast_Faster/fast_faster_1568.wav\n",
            "Converted /content/Fast_Faster/Fast_Faster/fast_faster_1710.mp3 to /content/wav_files/Fast_Faster/fast_faster_1710.wav\n",
            "Converted /content/Fast_Faster/Fast_Faster/fast_faster_1658.mp3 to /content/wav_files/Fast_Faster/fast_faster_1658.wav\n",
            "Converted /content/Fast_Faster/Fast_Faster/fast_faster_1530.mp3 to /content/wav_files/Fast_Faster/fast_faster_1530.wav\n",
            "Converted /content/Fast_Faster/Fast_Faster/fast_faster_1582.mp3 to /content/wav_files/Fast_Faster/fast_faster_1582.wav\n",
            "Converted /content/Fast_Faster/Fast_Faster/fast_faster_1611.mp3 to /content/wav_files/Fast_Faster/fast_faster_1611.wav\n",
            "Converted /content/Fast_Faster/Fast_Faster/fast_faster_1644.mp3 to /content/wav_files/Fast_Faster/fast_faster_1644.wav\n",
            "Converted /content/Fast_Faster/Fast_Faster/fast_faster_1495.mp3 to /content/wav_files/Fast_Faster/fast_faster_1495.wav\n",
            "Converted /content/Fast_Faster/Fast_Faster/fast_faster_1537.mp3 to /content/wav_files/Fast_Faster/fast_faster_1537.wav\n",
            "Converted /content/Fast_Faster/Fast_Faster/fast_faster_1478.mp3 to /content/wav_files/Fast_Faster/fast_faster_1478.wav\n",
            "Converted /content/Fast_Faster/Fast_Faster/fast_faster_1653.mp3 to /content/wav_files/Fast_Faster/fast_faster_1653.wav\n",
            "Converted /content/Fast_Faster/Fast_Faster/fast_faster_1640.mp3 to /content/wav_files/Fast_Faster/fast_faster_1640.wav\n",
            "Converted /content/Fast_Faster/Fast_Faster/fast_faster_1631.mp3 to /content/wav_files/Fast_Faster/fast_faster_1631.wav\n",
            "Converted /content/Fast_Faster/Fast_Faster/fast_faster_1598.mp3 to /content/wav_files/Fast_Faster/fast_faster_1598.wav\n",
            "Converted /content/Fast_Faster/Fast_Faster/fast_faster_1402.mp3 to /content/wav_files/Fast_Faster/fast_faster_1402.wav\n",
            "Converted /content/Fast_Faster/Fast_Faster/fast_faster_1632.mp3 to /content/wav_files/Fast_Faster/fast_faster_1632.wav\n",
            "Converted /content/Fast_Faster/Fast_Faster/fast_faster_1439.mp3 to /content/wav_files/Fast_Faster/fast_faster_1439.wav\n",
            "Converted /content/Fast_Faster/Fast_Faster/fast_faster_1702.mp3 to /content/wav_files/Fast_Faster/fast_faster_1702.wav\n",
            "Converted /content/Fast_Faster/Fast_Faster/fast_faster_1417.mp3 to /content/wav_files/Fast_Faster/fast_faster_1417.wav\n",
            "Converted /content/Fast_Faster/Fast_Faster/fast_faster_1576.mp3 to /content/wav_files/Fast_Faster/fast_faster_1576.wav\n",
            "Converted /content/Fast_Faster/Fast_Faster/fast_faster_1583.mp3 to /content/wav_files/Fast_Faster/fast_faster_1583.wav\n",
            "Converted /content/Fast_Faster/Fast_Faster/fast_faster_1683.mp3 to /content/wav_files/Fast_Faster/fast_faster_1683.wav\n",
            "Converted /content/Fast_Faster/Fast_Faster/fast_faster_1407.mp3 to /content/wav_files/Fast_Faster/fast_faster_1407.wav\n",
            "Converted /content/Fast_Faster/Fast_Faster/fast_faster_1428.mp3 to /content/wav_files/Fast_Faster/fast_faster_1428.wav\n",
            "Converted /content/Fast_Faster/Fast_Faster/fast_faster_1449.mp3 to /content/wav_files/Fast_Faster/fast_faster_1449.wav\n",
            "Converted /content/Fast_Faster/Fast_Faster/fast_faster_1665.mp3 to /content/wav_files/Fast_Faster/fast_faster_1665.wav\n",
            "Converted /content/Fast_Faster/Fast_Faster/fast_faster_1409.mp3 to /content/wav_files/Fast_Faster/fast_faster_1409.wav\n",
            "Converted /content/Fast_Faster/Fast_Faster/fast_faster_1586.mp3 to /content/wav_files/Fast_Faster/fast_faster_1586.wav\n",
            "Converted /content/Fast_Faster/Fast_Faster/fast_faster_1508.mp3 to /content/wav_files/Fast_Faster/fast_faster_1508.wav\n",
            "Converted /content/Fast_Faster/Fast_Faster/fast_faster_1590.mp3 to /content/wav_files/Fast_Faster/fast_faster_1590.wav\n",
            "Converted /content/Fast_Faster/Fast_Faster/fast_faster_1406.mp3 to /content/wav_files/Fast_Faster/fast_faster_1406.wav\n",
            "Converted /content/Fast_Faster/Fast_Faster/fast_faster_1437.mp3 to /content/wav_files/Fast_Faster/fast_faster_1437.wav\n",
            "Converted /content/Fast_Faster/Fast_Faster/fast_faster_1538.mp3 to /content/wav_files/Fast_Faster/fast_faster_1538.wav\n",
            "Converted /content/Fast_Faster/Fast_Faster/fast_faster_1403.mp3 to /content/wav_files/Fast_Faster/fast_faster_1403.wav\n",
            "Converted /content/Fast_Faster/Fast_Faster/fast_faster_1429.mp3 to /content/wav_files/Fast_Faster/fast_faster_1429.wav\n",
            "Converted /content/Fast_Faster/Fast_Faster/fast_faster_1531.mp3 to /content/wav_files/Fast_Faster/fast_faster_1531.wav\n",
            "Converted /content/Fast_Faster/Fast_Faster/fast_faster_1522.mp3 to /content/wav_files/Fast_Faster/fast_faster_1522.wav\n",
            "Converted /content/Fast_Faster/Fast_Faster/fast_faster_1648.mp3 to /content/wav_files/Fast_Faster/fast_faster_1648.wav\n",
            "Converted /content/Fast_Faster/Fast_Faster/fast_faster_1483.mp3 to /content/wav_files/Fast_Faster/fast_faster_1483.wav\n",
            "Converted /content/Fast_Faster/Fast_Faster/fast_faster_1494.mp3 to /content/wav_files/Fast_Faster/fast_faster_1494.wav\n",
            "Converted /content/Fast_Faster/Fast_Faster/fast_faster_1455.mp3 to /content/wav_files/Fast_Faster/fast_faster_1455.wav\n",
            "Converted /content/Fast_Faster/Fast_Faster/fast_faster_1464.mp3 to /content/wav_files/Fast_Faster/fast_faster_1464.wav\n",
            "Converted /content/Fast_Faster/Fast_Faster/fast_faster_1588.mp3 to /content/wav_files/Fast_Faster/fast_faster_1588.wav\n",
            "Converted /content/Fast_Faster/Fast_Faster/fast_faster_1681.mp3 to /content/wav_files/Fast_Faster/fast_faster_1681.wav\n",
            "Converted /content/Fast_Faster/Fast_Faster/fast_faster_1410.mp3 to /content/wav_files/Fast_Faster/fast_faster_1410.wav\n",
            "Converted /content/Fast_Faster/Fast_Faster/fast_faster_1482.mp3 to /content/wav_files/Fast_Faster/fast_faster_1482.wav\n",
            "Converted /content/Fast_Faster/Fast_Faster/fast_faster_1542.mp3 to /content/wav_files/Fast_Faster/fast_faster_1542.wav\n",
            "Converted /content/Fast_Faster/Fast_Faster/fast_faster_1446.mp3 to /content/wav_files/Fast_Faster/fast_faster_1446.wav\n",
            "Converted /content/Fast_Faster/Fast_Faster/fast_faster_1641.mp3 to /content/wav_files/Fast_Faster/fast_faster_1641.wav\n",
            "Converted /content/Fast_Faster/Fast_Faster/fast_faster_1614.mp3 to /content/wav_files/Fast_Faster/fast_faster_1614.wav\n",
            "Converted /content/Fast_Faster/Fast_Faster/fast_faster_1587.mp3 to /content/wav_files/Fast_Faster/fast_faster_1587.wav\n",
            "Converted /content/Fast_Faster/Fast_Faster/fast_faster_1473.mp3 to /content/wav_files/Fast_Faster/fast_faster_1473.wav\n",
            "Converted /content/Fast_Faster/Fast_Faster/fast_faster_1442.mp3 to /content/wav_files/Fast_Faster/fast_faster_1442.wav\n",
            "Converted /content/Fast_Faster/Fast_Faster/fast_faster_1506.mp3 to /content/wav_files/Fast_Faster/fast_faster_1506.wav\n",
            "Converted /content/Fast_Faster/Fast_Faster/fast_faster_1607.mp3 to /content/wav_files/Fast_Faster/fast_faster_1607.wav\n",
            "Converted /content/Fast_Faster/Fast_Faster/fast_faster_1704.mp3 to /content/wav_files/Fast_Faster/fast_faster_1704.wav\n",
            "Converted /content/Fast_Faster/Fast_Faster/fast_faster_1548.mp3 to /content/wav_files/Fast_Faster/fast_faster_1548.wav\n",
            "Converted /content/Fast_Faster/Fast_Faster/fast_faster_1579.mp3 to /content/wav_files/Fast_Faster/fast_faster_1579.wav\n",
            "Converted /content/Fast_Faster/Fast_Faster/fast_faster_1596.mp3 to /content/wav_files/Fast_Faster/fast_faster_1596.wav\n",
            "Converted /content/Fast_Faster/Fast_Faster/fast_faster_1600.mp3 to /content/wav_files/Fast_Faster/fast_faster_1600.wav\n",
            "Converted /content/Fast_Faster/Fast_Faster/fast_faster_1479.mp3 to /content/wav_files/Fast_Faster/fast_faster_1479.wav\n",
            "Converted /content/Fast_Faster/Fast_Faster/fast_faster_1691.mp3 to /content/wav_files/Fast_Faster/fast_faster_1691.wav\n",
            "Converted /content/Fast_Faster/Fast_Faster/fast_faster_1652.mp3 to /content/wav_files/Fast_Faster/fast_faster_1652.wav\n",
            "Converted /content/Fast_Faster/Fast_Faster/fast_faster_1657.mp3 to /content/wav_files/Fast_Faster/fast_faster_1657.wav\n",
            "Converted /content/Fast_Faster/Fast_Faster/fast_faster_1643.mp3 to /content/wav_files/Fast_Faster/fast_faster_1643.wav\n",
            "Converted /content/Fast_Faster/Fast_Faster/fast_faster_1470.mp3 to /content/wav_files/Fast_Faster/fast_faster_1470.wav\n",
            "Converted /content/Fast_Faster/Fast_Faster/fast_faster_1462.mp3 to /content/wav_files/Fast_Faster/fast_faster_1462.wav\n",
            "Converted /content/Fast_Faster/Fast_Faster/fast_faster_1679.mp3 to /content/wav_files/Fast_Faster/fast_faster_1679.wav\n",
            "Converted /content/Fast_Faster/Fast_Faster/fast_faster_1646.mp3 to /content/wav_files/Fast_Faster/fast_faster_1646.wav\n",
            "Converted /content/Fast_Faster/Fast_Faster/fast_faster_1692.mp3 to /content/wav_files/Fast_Faster/fast_faster_1692.wav\n",
            "Converted /content/Fast_Faster/Fast_Faster/fast_faster_1526.mp3 to /content/wav_files/Fast_Faster/fast_faster_1526.wav\n",
            "Converted /content/Fast_Faster/Fast_Faster/fast_faster_1553.mp3 to /content/wav_files/Fast_Faster/fast_faster_1553.wav\n",
            "Converted /content/Fast_Faster/Fast_Faster/fast_faster_1688.mp3 to /content/wav_files/Fast_Faster/fast_faster_1688.wav\n",
            "Converted /content/Fast_Faster/Fast_Faster/fast_faster_1472.mp3 to /content/wav_files/Fast_Faster/fast_faster_1472.wav\n",
            "Converted /content/Fast_Faster/Fast_Faster/fast_faster_1444.mp3 to /content/wav_files/Fast_Faster/fast_faster_1444.wav\n",
            "Converted /content/Fast_Faster/Fast_Faster/fast_faster_1545.mp3 to /content/wav_files/Fast_Faster/fast_faster_1545.wav\n",
            "Converted /content/Fast_Faster/Fast_Faster/fast_faster_1664.mp3 to /content/wav_files/Fast_Faster/fast_faster_1664.wav\n",
            "Converted /content/Fast_Faster/Fast_Faster/fast_faster_1434.mp3 to /content/wav_files/Fast_Faster/fast_faster_1434.wav\n",
            "Converted /content/Fast_Faster/Fast_Faster/fast_faster_1567.mp3 to /content/wav_files/Fast_Faster/fast_faster_1567.wav\n",
            "Converted /content/Fast_Faster/Fast_Faster/fast_faster_1676.mp3 to /content/wav_files/Fast_Faster/fast_faster_1676.wav\n",
            "Converted /content/Fast_Faster/Fast_Faster/fast_faster_1645.mp3 to /content/wav_files/Fast_Faster/fast_faster_1645.wav\n",
            "Converted /content/Fast_Faster/Fast_Faster/fast_faster_1575.mp3 to /content/wav_files/Fast_Faster/fast_faster_1575.wav\n",
            "Converted /content/Fast_Faster/Fast_Faster/fast_faster_1629.mp3 to /content/wav_files/Fast_Faster/fast_faster_1629.wav\n",
            "Converted /content/Fast_Faster/Fast_Faster/fast_faster_1592.mp3 to /content/wav_files/Fast_Faster/fast_faster_1592.wav\n",
            "Converted /content/Fast_Faster/Fast_Faster/fast_faster_1615.mp3 to /content/wav_files/Fast_Faster/fast_faster_1615.wav\n",
            "Converted /content/Fast_Faster/Fast_Faster/fast_faster_1687.mp3 to /content/wav_files/Fast_Faster/fast_faster_1687.wav\n",
            "Converted /content/Fast_Faster/Fast_Faster/fast_faster_1487.mp3 to /content/wav_files/Fast_Faster/fast_faster_1487.wav\n",
            "Converted /content/Fast_Faster/Fast_Faster/fast_faster_1510.mp3 to /content/wav_files/Fast_Faster/fast_faster_1510.wav\n",
            "Converted /content/Fast_Faster/Fast_Faster/fast_faster_1572.mp3 to /content/wav_files/Fast_Faster/fast_faster_1572.wav\n",
            "Converted /content/Fast_Faster/Fast_Faster/fast_faster_1580.mp3 to /content/wav_files/Fast_Faster/fast_faster_1580.wav\n",
            "Converted /content/Fast_Faster/Fast_Faster/fast_faster_1656.mp3 to /content/wav_files/Fast_Faster/fast_faster_1656.wav\n",
            "Converted /content/Fast_Faster/Fast_Faster/fast_faster_1431.mp3 to /content/wav_files/Fast_Faster/fast_faster_1431.wav\n",
            "Converted /content/Fast_Faster/Fast_Faster/fast_faster_1433.mp3 to /content/wav_files/Fast_Faster/fast_faster_1433.wav\n",
            "Converted /content/Fast_Faster/Fast_Faster/fast_faster_1532.mp3 to /content/wav_files/Fast_Faster/fast_faster_1532.wav\n",
            "Converted /content/Fast_Faster/Fast_Faster/fast_faster_1574.mp3 to /content/wav_files/Fast_Faster/fast_faster_1574.wav\n",
            "Converted /content/Fast_Faster/Fast_Faster/fast_faster_1481.mp3 to /content/wav_files/Fast_Faster/fast_faster_1481.wav\n",
            "Converted /content/Fast_Faster/Fast_Faster/fast_faster_1636.mp3 to /content/wav_files/Fast_Faster/fast_faster_1636.wav\n",
            "Converted /content/Fast_Faster/Fast_Faster/fast_faster_1707.mp3 to /content/wav_files/Fast_Faster/fast_faster_1707.wav\n",
            "Converted /content/Fast_Faster/Fast_Faster/fast_faster_1504.mp3 to /content/wav_files/Fast_Faster/fast_faster_1504.wav\n",
            "Converted /content/Fast_Faster/Fast_Faster/fast_faster_1448.mp3 to /content/wav_files/Fast_Faster/fast_faster_1448.wav\n",
            "Converted /content/Fast_Faster/Fast_Faster/fast_faster_1591.mp3 to /content/wav_files/Fast_Faster/fast_faster_1591.wav\n",
            "Converted /content/Fast_Faster/Fast_Faster/fast_faster_1426.mp3 to /content/wav_files/Fast_Faster/fast_faster_1426.wav\n",
            "Converted /content/Fast_Faster/Fast_Faster/fast_faster_1438.mp3 to /content/wav_files/Fast_Faster/fast_faster_1438.wav\n",
            "Converted /content/Fast_Faster/Fast_Faster/fast_faster_1518.mp3 to /content/wav_files/Fast_Faster/fast_faster_1518.wav\n",
            "Converted /content/Fast_Faster/Fast_Faster/fast_faster_1619.mp3 to /content/wav_files/Fast_Faster/fast_faster_1619.wav\n",
            "Converted /content/Fast_Faster/Fast_Faster/fast_faster_1708.mp3 to /content/wav_files/Fast_Faster/fast_faster_1708.wav\n",
            "Converted /content/Fast_Faster/Fast_Faster/fast_faster_1639.mp3 to /content/wav_files/Fast_Faster/fast_faster_1639.wav\n",
            "Converted /content/Fast_Faster/Fast_Faster/fast_faster_1638.mp3 to /content/wav_files/Fast_Faster/fast_faster_1638.wav\n",
            "Converted /content/Fast_Faster/Fast_Faster/fast_faster_1650.mp3 to /content/wav_files/Fast_Faster/fast_faster_1650.wav\n",
            "Converted /content/Fast_Faster/Fast_Faster/fast_faster_1662.mp3 to /content/wav_files/Fast_Faster/fast_faster_1662.wav\n",
            "Converted /content/Fast_Faster/Fast_Faster/fast_faster_1689.mp3 to /content/wav_files/Fast_Faster/fast_faster_1689.wav\n",
            "Converted /content/Fast_Faster/Fast_Faster/fast_faster_1661.mp3 to /content/wav_files/Fast_Faster/fast_faster_1661.wav\n",
            "Converted /content/Fast_Faster/Fast_Faster/fast_faster_1698.mp3 to /content/wav_files/Fast_Faster/fast_faster_1698.wav\n",
            "Converted /content/Fast_Faster/Fast_Faster/fast_faster_1711.mp3 to /content/wav_files/Fast_Faster/fast_faster_1711.wav\n",
            "Converted /content/Fast_Faster/Fast_Faster/fast_faster_1559.mp3 to /content/wav_files/Fast_Faster/fast_faster_1559.wav\n",
            "Converted /content/Fast_Faster/Fast_Faster/fast_faster_1566.mp3 to /content/wav_files/Fast_Faster/fast_faster_1566.wav\n",
            "Converted /content/Fast_Faster/Fast_Faster/fast_faster_1706.mp3 to /content/wav_files/Fast_Faster/fast_faster_1706.wav\n",
            "Converted /content/Fast_Faster/Fast_Faster/fast_faster_1408.mp3 to /content/wav_files/Fast_Faster/fast_faster_1408.wav\n",
            "Converted /content/Fast_Faster/Fast_Faster/fast_faster_1511.mp3 to /content/wav_files/Fast_Faster/fast_faster_1511.wav\n",
            "Converted /content/Fast_Faster/Fast_Faster/fast_faster_1498.mp3 to /content/wav_files/Fast_Faster/fast_faster_1498.wav\n",
            "Converted /content/Fast_Faster/Fast_Faster/fast_faster_1701.mp3 to /content/wav_files/Fast_Faster/fast_faster_1701.wav\n",
            "Converted /content/Fast_Faster/Fast_Faster/fast_faster_1411.mp3 to /content/wav_files/Fast_Faster/fast_faster_1411.wav\n",
            "Converted /content/Fast_Faster/Fast_Faster/fast_faster_1477.mp3 to /content/wav_files/Fast_Faster/fast_faster_1477.wav\n",
            "Converted /content/Fast_Faster/Fast_Faster/fast_faster_1441.mp3 to /content/wav_files/Fast_Faster/fast_faster_1441.wav\n",
            "Converted /content/Fast_Faster/Fast_Faster/fast_faster_1543.mp3 to /content/wav_files/Fast_Faster/fast_faster_1543.wav\n",
            "Converted /content/Fast_Faster/Fast_Faster/fast_faster_1563.mp3 to /content/wav_files/Fast_Faster/fast_faster_1563.wav\n",
            "Converted /content/Fast_Faster/Fast_Faster/fast_faster_1642.mp3 to /content/wav_files/Fast_Faster/fast_faster_1642.wav\n",
            "Converted /content/Fast_Faster/Fast_Faster/fast_faster_1669.mp3 to /content/wav_files/Fast_Faster/fast_faster_1669.wav\n",
            "Converted /content/Fast_Faster/Fast_Faster/fast_faster_1625.mp3 to /content/wav_files/Fast_Faster/fast_faster_1625.wav\n",
            "Converted /content/Fast_Faster/Fast_Faster/fast_faster_1492.mp3 to /content/wav_files/Fast_Faster/fast_faster_1492.wav\n",
            "Converted /content/Fast_Faster/Fast_Faster/fast_faster_1703.mp3 to /content/wav_files/Fast_Faster/fast_faster_1703.wav\n",
            "Converted /content/Fast_Faster/Fast_Faster/fast_faster_1630.mp3 to /content/wav_files/Fast_Faster/fast_faster_1630.wav\n",
            "Converted /content/Fast_Faster/Fast_Faster/fast_faster_1418.mp3 to /content/wav_files/Fast_Faster/fast_faster_1418.wav\n",
            "Converted /content/Fast_Faster/Fast_Faster/fast_faster_1570.mp3 to /content/wav_files/Fast_Faster/fast_faster_1570.wav\n",
            "Converted /content/Fast_Faster/Fast_Faster/fast_faster_1509.mp3 to /content/wav_files/Fast_Faster/fast_faster_1509.wav\n",
            "Converted /content/Fast_Faster/Fast_Faster/fast_faster_1405.mp3 to /content/wav_files/Fast_Faster/fast_faster_1405.wav\n",
            "Converted /content/Fast_Faster/Fast_Faster/fast_faster_1517.mp3 to /content/wav_files/Fast_Faster/fast_faster_1517.wav\n",
            "Converted /content/Fast_Faster/Fast_Faster/fast_faster_1589.mp3 to /content/wav_files/Fast_Faster/fast_faster_1589.wav\n",
            "Converted /content/Fast_Faster/Fast_Faster/fast_faster_1610.mp3 to /content/wav_files/Fast_Faster/fast_faster_1610.wav\n",
            "Converted /content/Fast_Faster/Fast_Faster/fast_faster_1551.mp3 to /content/wav_files/Fast_Faster/fast_faster_1551.wav\n",
            "Converted /content/Fast_Faster/Fast_Faster/fast_faster_1544.mp3 to /content/wav_files/Fast_Faster/fast_faster_1544.wav\n",
            "Converted /content/Fast_Faster/Fast_Faster/fast_faster_1613.mp3 to /content/wav_files/Fast_Faster/fast_faster_1613.wav\n",
            "Converted /content/Fast_Faster/Fast_Faster/fast_faster_1499.mp3 to /content/wav_files/Fast_Faster/fast_faster_1499.wav\n",
            "Converted /content/Fast_Faster/Fast_Faster/fast_faster_1523.mp3 to /content/wav_files/Fast_Faster/fast_faster_1523.wav\n",
            "Converted /content/Fast_Faster/Fast_Faster/fast_faster_1430.mp3 to /content/wav_files/Fast_Faster/fast_faster_1430.wav\n",
            "Converted /content/Fast_Faster/Fast_Faster/fast_faster_1460.mp3 to /content/wav_files/Fast_Faster/fast_faster_1460.wav\n",
            "Converted /content/Fast_Faster/Fast_Faster/fast_faster_1484.mp3 to /content/wav_files/Fast_Faster/fast_faster_1484.wav\n",
            "Converted /content/Fast_Faster/Fast_Faster/fast_faster_1594.mp3 to /content/wav_files/Fast_Faster/fast_faster_1594.wav\n",
            "Converted /content/Fast_Faster/Fast_Faster/fast_faster_1400.mp3 to /content/wav_files/Fast_Faster/fast_faster_1400.wav\n",
            "Converted /content/Fast_Faster/Fast_Faster/fast_faster_1593.mp3 to /content/wav_files/Fast_Faster/fast_faster_1593.wav\n",
            "Converted /content/Fast_Faster/Fast_Faster/fast_faster_1651.mp3 to /content/wav_files/Fast_Faster/fast_faster_1651.wav\n",
            "Converted /content/Fast_Faster/Fast_Faster/fast_faster_1601.mp3 to /content/wav_files/Fast_Faster/fast_faster_1601.wav\n",
            "Converted /content/Fast_Faster/Fast_Faster/fast_faster_1634.mp3 to /content/wav_files/Fast_Faster/fast_faster_1634.wav\n",
            "Converted /content/Fast_Faster/Fast_Faster/fast_faster_1401.mp3 to /content/wav_files/Fast_Faster/fast_faster_1401.wav\n",
            "Converted /content/Fast_Faster/Fast_Faster/fast_faster_1414.mp3 to /content/wav_files/Fast_Faster/fast_faster_1414.wav\n",
            "Converted /content/Fast_Faster/Fast_Faster/fast_faster_1621.mp3 to /content/wav_files/Fast_Faster/fast_faster_1621.wav\n",
            "Converted /content/Fast_Faster/Fast_Faster/fast_faster_1560.mp3 to /content/wav_files/Fast_Faster/fast_faster_1560.wav\n",
            "Converted /content/Fast_Faster/Fast_Faster/fast_faster_1424.mp3 to /content/wav_files/Fast_Faster/fast_faster_1424.wav\n",
            "Converted /content/Fast_Faster/Fast_Faster/fast_faster_1628.mp3 to /content/wav_files/Fast_Faster/fast_faster_1628.wav\n",
            "Converted /content/Fast_Faster/Fast_Faster/fast_faster_1467.mp3 to /content/wav_files/Fast_Faster/fast_faster_1467.wav\n",
            "Converted /content/Fast_Faster/Fast_Faster/fast_faster_1684.mp3 to /content/wav_files/Fast_Faster/fast_faster_1684.wav\n",
            "Converted /content/Fast_Faster/Fast_Faster/fast_faster_1659.mp3 to /content/wav_files/Fast_Faster/fast_faster_1659.wav\n",
            "Converted /content/Fast_Faster/Fast_Faster/fast_faster_1546.mp3 to /content/wav_files/Fast_Faster/fast_faster_1546.wav\n",
            "Converted /content/Fast_Faster/Fast_Faster/fast_faster_1635.mp3 to /content/wav_files/Fast_Faster/fast_faster_1635.wav\n",
            "Converted /content/Fast_Faster/Fast_Faster/fast_faster_1456.mp3 to /content/wav_files/Fast_Faster/fast_faster_1456.wav\n",
            "Converted /content/Fast_Faster/Fast_Faster/fast_faster_1533.mp3 to /content/wav_files/Fast_Faster/fast_faster_1533.wav\n",
            "Converted /content/Fast_Faster/Fast_Faster/fast_faster_1395.mp3 to /content/wav_files/Fast_Faster/fast_faster_1395.wav\n",
            "Converted /content/Fast_Faster/Fast_Faster/fast_faster_1554.mp3 to /content/wav_files/Fast_Faster/fast_faster_1554.wav\n",
            "Converted /content/Fast_Faster/Fast_Faster/fast_faster_1520.mp3 to /content/wav_files/Fast_Faster/fast_faster_1520.wav\n",
            "Converted /content/Fast_Faster/Fast_Faster/fast_faster_1415.mp3 to /content/wav_files/Fast_Faster/fast_faster_1415.wav\n",
            "Converted /content/Fast_Faster/Fast_Faster/fast_faster_1398.mp3 to /content/wav_files/Fast_Faster/fast_faster_1398.wav\n",
            "Converted /content/Fast_Faster/Fast_Faster/fast_faster_1617.mp3 to /content/wav_files/Fast_Faster/fast_faster_1617.wav\n",
            "Converted /content/Fast_Faster/Fast_Faster/fast_faster_1623.mp3 to /content/wav_files/Fast_Faster/fast_faster_1623.wav\n",
            "Converted /content/Fast_Faster/Fast_Faster/fast_faster_1463.mp3 to /content/wav_files/Fast_Faster/fast_faster_1463.wav\n",
            "Converted /content/Fast_Faster/Fast_Faster/fast_faster_1525.mp3 to /content/wav_files/Fast_Faster/fast_faster_1525.wav\n",
            "Converted /content/Fast_Faster/Fast_Faster/fast_faster_1474.mp3 to /content/wav_files/Fast_Faster/fast_faster_1474.wav\n",
            "Converted /content/Fast_Faster/Fast_Faster/fast_faster_1423.mp3 to /content/wav_files/Fast_Faster/fast_faster_1423.wav\n",
            "Converted /content/Fast_Faster/Fast_Faster/fast_faster_1597.mp3 to /content/wav_files/Fast_Faster/fast_faster_1597.wav\n",
            "Converted /content/Fast_Faster/Fast_Faster/fast_faster_1541.mp3 to /content/wav_files/Fast_Faster/fast_faster_1541.wav\n",
            "Converted /content/Fast_Faster/Fast_Faster/fast_faster_1672.mp3 to /content/wav_files/Fast_Faster/fast_faster_1672.wav\n",
            "Converted /content/Fast_Faster/Fast_Faster/fast_faster_1655.mp3 to /content/wav_files/Fast_Faster/fast_faster_1655.wav\n",
            "Converted /content/Fast_Faster/Fast_Faster/fast_faster_1527.mp3 to /content/wav_files/Fast_Faster/fast_faster_1527.wav\n",
            "Converted /content/Fast_Faster/Fast_Faster/fast_faster_1524.mp3 to /content/wav_files/Fast_Faster/fast_faster_1524.wav\n",
            "Converted /content/Fast_Faster/Fast_Faster/fast_faster_1604.mp3 to /content/wav_files/Fast_Faster/fast_faster_1604.wav\n",
            "Converted /content/Fast_Faster/Fast_Faster/fast_faster_1685.mp3 to /content/wav_files/Fast_Faster/fast_faster_1685.wav\n",
            "Converted /content/Fast_Faster/Fast_Faster/fast_faster_1571.mp3 to /content/wav_files/Fast_Faster/fast_faster_1571.wav\n",
            "Converted /content/Fast_Faster/Fast_Faster/fast_faster_1540.mp3 to /content/wav_files/Fast_Faster/fast_faster_1540.wav\n",
            "Converted /content/Fast_Faster/Fast_Faster/fast_faster_1693.mp3 to /content/wav_files/Fast_Faster/fast_faster_1693.wav\n",
            "Converted /content/Fast_Faster/Fast_Faster/fast_faster_1539.mp3 to /content/wav_files/Fast_Faster/fast_faster_1539.wav\n",
            "Converted /content/Fast_Faster/Fast_Faster/fast_faster_1626.mp3 to /content/wav_files/Fast_Faster/fast_faster_1626.wav\n",
            "Converted /content/Fast_Faster/Fast_Faster/fast_faster_1620.mp3 to /content/wav_files/Fast_Faster/fast_faster_1620.wav\n",
            "Converted /content/Fast_Faster/Fast_Faster/fast_faster_1573.mp3 to /content/wav_files/Fast_Faster/fast_faster_1573.wav\n",
            "Converted /content/Fast_Faster/Fast_Faster/fast_faster_1445.mp3 to /content/wav_files/Fast_Faster/fast_faster_1445.wav\n",
            "Converted /content/Fast_Faster/Fast_Faster/fast_faster_1512.mp3 to /content/wav_files/Fast_Faster/fast_faster_1512.wav\n",
            "Converted /content/Fast_Faster/Fast_Faster/fast_faster_1696.mp3 to /content/wav_files/Fast_Faster/fast_faster_1696.wav\n",
            "Converted /content/Fast_Faster/Fast_Faster/fast_faster_1471.mp3 to /content/wav_files/Fast_Faster/fast_faster_1471.wav\n",
            "Converted /content/Fast_Faster/Fast_Faster/fast_faster_1458.mp3 to /content/wav_files/Fast_Faster/fast_faster_1458.wav\n",
            "Converted /content/Fast_Faster/Fast_Faster/fast_faster_1514.mp3 to /content/wav_files/Fast_Faster/fast_faster_1514.wav\n",
            "Converted /content/Fast_Faster/Fast_Faster/fast_faster_1475.mp3 to /content/wav_files/Fast_Faster/fast_faster_1475.wav\n",
            "Converted /content/Fast_Faster/Fast_Faster/fast_faster_1584.mp3 to /content/wav_files/Fast_Faster/fast_faster_1584.wav\n",
            "Converted /content/Fast_Faster/Fast_Faster/fast_faster_1624.mp3 to /content/wav_files/Fast_Faster/fast_faster_1624.wav\n",
            "Converted /content/Fast_Faster/Fast_Faster/fast_faster_1416.mp3 to /content/wav_files/Fast_Faster/fast_faster_1416.wav\n",
            "Converted /content/Fast_Faster/Fast_Faster/fast_faster_1562.mp3 to /content/wav_files/Fast_Faster/fast_faster_1562.wav\n",
            "Converted /content/Fast_Faster/Fast_Faster/fast_faster_1609.mp3 to /content/wav_files/Fast_Faster/fast_faster_1609.wav\n",
            "Converted /content/Fast_Faster/Fast_Faster/fast_faster_1608.mp3 to /content/wav_files/Fast_Faster/fast_faster_1608.wav\n",
            "Converted /content/Fast_Faster/Fast_Faster/fast_faster_1671.mp3 to /content/wav_files/Fast_Faster/fast_faster_1671.wav\n",
            "Converted /content/Fast_Faster/Fast_Faster/fast_faster_1443.mp3 to /content/wav_files/Fast_Faster/fast_faster_1443.wav\n",
            "Converted /content/Fast_Faster/Fast_Faster/fast_faster_1421.mp3 to /content/wav_files/Fast_Faster/fast_faster_1421.wav\n",
            "Converted /content/Fast_Faster/Fast_Faster/fast_faster_1622.mp3 to /content/wav_files/Fast_Faster/fast_faster_1622.wav\n",
            "Converted /content/Fast_Faster/Fast_Faster/fast_faster_1515.mp3 to /content/wav_files/Fast_Faster/fast_faster_1515.wav\n",
            "Converted /content/Fast_Faster/Fast_Faster/fast_faster_1485.mp3 to /content/wav_files/Fast_Faster/fast_faster_1485.wav\n",
            "Converted /content/Fast_Faster/Fast_Faster/fast_faster_1493.mp3 to /content/wav_files/Fast_Faster/fast_faster_1493.wav\n",
            "Converted /content/Fast_Faster/Fast_Faster/fast_faster_1585.mp3 to /content/wav_files/Fast_Faster/fast_faster_1585.wav\n",
            "Converted /content/Fast_Faster/Fast_Faster/fast_faster_1432.mp3 to /content/wav_files/Fast_Faster/fast_faster_1432.wav\n",
            "Converted /content/Fast_Faster/Fast_Faster/fast_faster_1602.mp3 to /content/wav_files/Fast_Faster/fast_faster_1602.wav\n",
            "Converted /content/Fast_Faster/Fast_Faster/fast_faster_1649.mp3 to /content/wav_files/Fast_Faster/fast_faster_1649.wav\n",
            "Converted /content/Fast_Faster/Fast_Faster/fast_faster_1519.mp3 to /content/wav_files/Fast_Faster/fast_faster_1519.wav\n",
            "Converted /content/Fast_Faster/Fast_Faster/fast_faster_1468.mp3 to /content/wav_files/Fast_Faster/fast_faster_1468.wav\n",
            "Converted /content/Fast_Faster/Fast_Faster/fast_faster_1490.mp3 to /content/wav_files/Fast_Faster/fast_faster_1490.wav\n",
            "Converted /content/Fast_Faster/Fast_Faster/fast_faster_1528.mp3 to /content/wav_files/Fast_Faster/fast_faster_1528.wav\n",
            "Converted /content/Fast_Faster/Fast_Faster/fast_faster_1425.mp3 to /content/wav_files/Fast_Faster/fast_faster_1425.wav\n",
            "Converted /content/Fast_Faster/Fast_Faster/fast_faster_1558.mp3 to /content/wav_files/Fast_Faster/fast_faster_1558.wav\n",
            "Converted /content/Fast_Faster/Fast_Faster/fast_faster_1412.mp3 to /content/wav_files/Fast_Faster/fast_faster_1412.wav\n",
            "Converted /content/Fast_Faster/Fast_Faster/fast_faster_1435.mp3 to /content/wav_files/Fast_Faster/fast_faster_1435.wav\n",
            "Converted /content/Fast_Faster/Fast_Faster/fast_faster_1452.mp3 to /content/wav_files/Fast_Faster/fast_faster_1452.wav\n",
            "Converted /content/Fast_Faster/Fast_Faster/fast_faster_1480.mp3 to /content/wav_files/Fast_Faster/fast_faster_1480.wav\n",
            "Converted /content/Fast_Faster/Fast_Faster/fast_faster_1453.mp3 to /content/wav_files/Fast_Faster/fast_faster_1453.wav\n",
            "Converted /content/Fast_Faster/Fast_Faster/fast_faster_1507.mp3 to /content/wav_files/Fast_Faster/fast_faster_1507.wav\n",
            "Converted /content/Fast_Faster/Fast_Faster/fast_faster_1404.mp3 to /content/wav_files/Fast_Faster/fast_faster_1404.wav\n",
            "Converted /content/Fast_Faster/Fast_Faster/fast_faster_1705.mp3 to /content/wav_files/Fast_Faster/fast_faster_1705.wav\n",
            "Converted /content/Fast_Faster/Fast_Faster/fast_faster_1605.mp3 to /content/wav_files/Fast_Faster/fast_faster_1605.wav\n",
            "Converted /content/Fast_Faster/Fast_Faster/fast_faster_1654.mp3 to /content/wav_files/Fast_Faster/fast_faster_1654.wav\n",
            "Converted /content/Fast_Faster/Fast_Faster/fast_faster_1581.mp3 to /content/wav_files/Fast_Faster/fast_faster_1581.wav\n",
            "Converted /content/Fast_Faster/Fast_Faster/fast_faster_1700.mp3 to /content/wav_files/Fast_Faster/fast_faster_1700.wav\n",
            "Converted /content/Fast_Faster/Fast_Faster/fast_faster_1550.mp3 to /content/wav_files/Fast_Faster/fast_faster_1550.wav\n",
            "Converted /content/Fast_Faster/Fast_Faster/fast_faster_1440.mp3 to /content/wav_files/Fast_Faster/fast_faster_1440.wav\n",
            "Converted /content/Fast_Faster/Fast_Faster/fast_faster_1682.mp3 to /content/wav_files/Fast_Faster/fast_faster_1682.wav\n",
            "Converted /content/Fast_Faster/Fast_Faster/fast_faster_1516.mp3 to /content/wav_files/Fast_Faster/fast_faster_1516.wav\n",
            "Converted /content/Fast_Faster/Fast_Faster/fast_faster_1663.mp3 to /content/wav_files/Fast_Faster/fast_faster_1663.wav\n",
            "Converted /content/Fast_Faster/Fast_Faster/fast_faster_1497.mp3 to /content/wav_files/Fast_Faster/fast_faster_1497.wav\n",
            "Converted /content/Fast_Faster/Fast_Faster/fast_faster_1422.mp3 to /content/wav_files/Fast_Faster/fast_faster_1422.wav\n",
            "Converted /content/Fast_Faster/Fast_Faster/fast_faster_1555.mp3 to /content/wav_files/Fast_Faster/fast_faster_1555.wav\n",
            "Converted /content/Fast_Faster/Fast_Faster/fast_faster_1552.mp3 to /content/wav_files/Fast_Faster/fast_faster_1552.wav\n",
            "Converted /content/Fast_Faster/Fast_Faster/fast_faster_1667.mp3 to /content/wav_files/Fast_Faster/fast_faster_1667.wav\n",
            "Converted /content/Fast_Faster/Fast_Faster/fast_faster_1627.mp3 to /content/wav_files/Fast_Faster/fast_faster_1627.wav\n",
            "Converted /content/Fast_Faster/Fast_Faster/fast_faster_1454.mp3 to /content/wav_files/Fast_Faster/fast_faster_1454.wav\n",
            "Converted /content/Fast_Faster/Fast_Faster/fast_faster_1578.mp3 to /content/wav_files/Fast_Faster/fast_faster_1578.wav\n",
            "Converted /content/Fast_Faster/Fast_Faster/fast_faster_1666.mp3 to /content/wav_files/Fast_Faster/fast_faster_1666.wav\n",
            "Converted /content/Fast_Faster/Fast_Faster/fast_faster_1674.mp3 to /content/wav_files/Fast_Faster/fast_faster_1674.wav\n",
            "Converted /content/Fast_Faster/Fast_Faster/fast_faster_1577.mp3 to /content/wav_files/Fast_Faster/fast_faster_1577.wav\n",
            "Converted /content/Fast_Faster/Fast_Faster/fast_faster_1561.mp3 to /content/wav_files/Fast_Faster/fast_faster_1561.wav\n",
            "Converted /content/Fast_Faster/Fast_Faster/fast_faster_1396.mp3 to /content/wav_files/Fast_Faster/fast_faster_1396.wav\n",
            "Converted /content/Fast_Faster/Fast_Faster/fast_faster_1709.mp3 to /content/wav_files/Fast_Faster/fast_faster_1709.wav\n",
            "Converted /content/Fast_Faster/Fast_Faster/fast_faster_1612.mp3 to /content/wav_files/Fast_Faster/fast_faster_1612.wav\n",
            "Converted /content/Fast_Faster/Fast_Faster/fast_faster_1616.mp3 to /content/wav_files/Fast_Faster/fast_faster_1616.wav\n",
            "Converted /content/Fast_Faster/Fast_Faster/fast_faster_1694.mp3 to /content/wav_files/Fast_Faster/fast_faster_1694.wav\n",
            "Converted /content/Fast_Faster/Fast_Faster/fast_faster_1486.mp3 to /content/wav_files/Fast_Faster/fast_faster_1486.wav\n",
            "Converted /content/Fast_Faster/Fast_Faster/fast_faster_1419.mp3 to /content/wav_files/Fast_Faster/fast_faster_1419.wav\n",
            "Converted /content/Fast_Faster/Fast_Faster/fast_faster_1450.mp3 to /content/wav_files/Fast_Faster/fast_faster_1450.wav\n",
            "Converted /content/Fast_Faster/Fast_Faster/fast_faster_1502.mp3 to /content/wav_files/Fast_Faster/fast_faster_1502.wav\n",
            "Converted /content/Fast_Faster/Fast_Faster/fast_faster_1547.mp3 to /content/wav_files/Fast_Faster/fast_faster_1547.wav\n",
            "Converted /content/Fast_Faster/Fast_Faster/fast_faster_1521.mp3 to /content/wav_files/Fast_Faster/fast_faster_1521.wav\n",
            "Converted /content/Fast_Faster/Fast_Faster/fast_faster_1529.mp3 to /content/wav_files/Fast_Faster/fast_faster_1529.wav\n",
            "Converted /content/Fast_Faster/Fast_Faster/fast_faster_1557.mp3 to /content/wav_files/Fast_Faster/fast_faster_1557.wav\n",
            "Converted /content/Fast_Faster/Fast_Faster/fast_faster_1420.mp3 to /content/wav_files/Fast_Faster/fast_faster_1420.wav\n",
            "Converted /content/Fast_Faster/Fast_Faster/fast_faster_1536.mp3 to /content/wav_files/Fast_Faster/fast_faster_1536.wav\n",
            "Converted /content/Fast_Faster/Fast_Faster/fast_faster_1436.mp3 to /content/wav_files/Fast_Faster/fast_faster_1436.wav\n",
            "Converted /content/Fast_Faster/Fast_Faster/fast_faster_1549.mp3 to /content/wav_files/Fast_Faster/fast_faster_1549.wav\n",
            "Converted /content/Fast_Faster/Fast_Faster/fast_faster_1564.mp3 to /content/wav_files/Fast_Faster/fast_faster_1564.wav\n",
            "Converted /content/Fast_Faster/Fast_Faster/fast_faster_1668.mp3 to /content/wav_files/Fast_Faster/fast_faster_1668.wav\n",
            "Converted /content/Fast_Faster/Fast_Faster/fast_faster_1491.mp3 to /content/wav_files/Fast_Faster/fast_faster_1491.wav\n",
            "Converted /content/Fast_Faster/Fast_Faster/fast_faster_1496.mp3 to /content/wav_files/Fast_Faster/fast_faster_1496.wav\n",
            "Converted /content/Fast_Faster/Fast_Faster/fast_faster_1660.mp3 to /content/wav_files/Fast_Faster/fast_faster_1660.wav\n",
            "Converted /content/Fast_Faster/Fast_Faster/fast_faster_1427.mp3 to /content/wav_files/Fast_Faster/fast_faster_1427.wav\n",
            "Converted /content/Fast_Faster/Fast_Faster/fast_faster_1677.mp3 to /content/wav_files/Fast_Faster/fast_faster_1677.wav\n",
            "Converted /content/slow_slower/slow_slower/slow_slower_280.mp3 to /content/wav_files/slow_slower/slow_slower_280.wav\n",
            "Converted /content/slow_slower/slow_slower/slow_slower_170.mp3 to /content/wav_files/slow_slower/slow_slower_170.wav\n",
            "Converted /content/slow_slower/slow_slower/slow_slower_205.mp3 to /content/wav_files/slow_slower/slow_slower_205.wav\n",
            "Converted /content/slow_slower/slow_slower/slow_slower_168.mp3 to /content/wav_files/slow_slower/slow_slower_168.wav\n",
            "Converted /content/slow_slower/slow_slower/slow_slower_144.mp3 to /content/wav_files/slow_slower/slow_slower_144.wav\n",
            "Converted /content/slow_slower/slow_slower/slow_slower_315.mp3 to /content/wav_files/slow_slower/slow_slower_315.wav\n",
            "Converted /content/slow_slower/slow_slower/slow_slower_284.mp3 to /content/wav_files/slow_slower/slow_slower_284.wav\n",
            "Converted /content/slow_slower/slow_slower/slow_slower_254.mp3 to /content/wav_files/slow_slower/slow_slower_254.wav\n",
            "Converted /content/slow_slower/slow_slower/slow_slower_34.mp3 to /content/wav_files/slow_slower/slow_slower_34.wav\n",
            "Converted /content/slow_slower/slow_slower/slow_slower_134.mp3 to /content/wav_files/slow_slower/slow_slower_134.wav\n",
            "Converted /content/slow_slower/slow_slower/slow_slower_335.mp3 to /content/wav_files/slow_slower/slow_slower_335.wav\n",
            "Converted /content/slow_slower/slow_slower/slow_slower_133.mp3 to /content/wav_files/slow_slower/slow_slower_133.wav\n",
            "Converted /content/slow_slower/slow_slower/slow_slower_261.mp3 to /content/wav_files/slow_slower/slow_slower_261.wav\n",
            "Converted /content/slow_slower/slow_slower/slow_slower_4.mp3 to /content/wav_files/slow_slower/slow_slower_4.wav\n",
            "Converted /content/slow_slower/slow_slower/slow_slower_163.mp3 to /content/wav_files/slow_slower/slow_slower_163.wav\n",
            "Converted /content/slow_slower/slow_slower/slow_slower_210.mp3 to /content/wav_files/slow_slower/slow_slower_210.wav\n",
            "Converted /content/slow_slower/slow_slower/slow_slower_294.mp3 to /content/wav_files/slow_slower/slow_slower_294.wav\n",
            "Converted /content/slow_slower/slow_slower/slow_slower_14.mp3 to /content/wav_files/slow_slower/slow_slower_14.wav\n",
            "Converted /content/slow_slower/slow_slower/slow_slower_230.mp3 to /content/wav_files/slow_slower/slow_slower_230.wav\n",
            "Converted /content/slow_slower/slow_slower/slow_slower_25.mp3 to /content/wav_files/slow_slower/slow_slower_25.wav\n",
            "Converted /content/slow_slower/slow_slower/slow_slower_293.mp3 to /content/wav_files/slow_slower/slow_slower_293.wav\n",
            "Converted /content/slow_slower/slow_slower/slow_slower_39.mp3 to /content/wav_files/slow_slower/slow_slower_39.wav\n",
            "Converted /content/slow_slower/slow_slower/slow_slower_120.mp3 to /content/wav_files/slow_slower/slow_slower_120.wav\n",
            "Converted /content/slow_slower/slow_slower/slow_slower_217.mp3 to /content/wav_files/slow_slower/slow_slower_217.wav\n",
            "Converted /content/slow_slower/slow_slower/slow_slower_42.mp3 to /content/wav_files/slow_slower/slow_slower_42.wav\n",
            "Converted /content/slow_slower/slow_slower/slow_slower_136.mp3 to /content/wav_files/slow_slower/slow_slower_136.wav\n",
            "Converted /content/slow_slower/slow_slower/slow_slower_113.mp3 to /content/wav_files/slow_slower/slow_slower_113.wav\n",
            "Converted /content/slow_slower/slow_slower/slow_slower_119.mp3 to /content/wav_files/slow_slower/slow_slower_119.wav\n",
            "Converted /content/slow_slower/slow_slower/slow_slower_236.mp3 to /content/wav_files/slow_slower/slow_slower_236.wav\n",
            "Converted /content/slow_slower/slow_slower/slow_slower_281.mp3 to /content/wav_files/slow_slower/slow_slower_281.wav\n",
            "Converted /content/slow_slower/slow_slower/slow_slower_277.mp3 to /content/wav_files/slow_slower/slow_slower_277.wav\n",
            "Converted /content/slow_slower/slow_slower/slow_slower_41.mp3 to /content/wav_files/slow_slower/slow_slower_41.wav\n",
            "Converted /content/slow_slower/slow_slower/slow_slower_98.mp3 to /content/wav_files/slow_slower/slow_slower_98.wav\n",
            "Converted /content/slow_slower/slow_slower/slow_slower_75.mp3 to /content/wav_files/slow_slower/slow_slower_75.wav\n",
            "Converted /content/slow_slower/slow_slower/slow_slower_259.mp3 to /content/wav_files/slow_slower/slow_slower_259.wav\n",
            "Converted /content/slow_slower/slow_slower/slow_slower_220.mp3 to /content/wav_files/slow_slower/slow_slower_220.wav\n",
            "Converted /content/slow_slower/slow_slower/slow_slower_161.mp3 to /content/wav_files/slow_slower/slow_slower_161.wav\n",
            "Converted /content/slow_slower/slow_slower/slow_slower_145.mp3 to /content/wav_files/slow_slower/slow_slower_145.wav\n",
            "Converted /content/slow_slower/slow_slower/slow_slower_78.mp3 to /content/wav_files/slow_slower/slow_slower_78.wav\n",
            "Converted /content/slow_slower/slow_slower/slow_slower_225.mp3 to /content/wav_files/slow_slower/slow_slower_225.wav\n",
            "Converted /content/slow_slower/slow_slower/slow_slower_3.mp3 to /content/wav_files/slow_slower/slow_slower_3.wav\n",
            "Converted /content/slow_slower/slow_slower/slow_slower_50.mp3 to /content/wav_files/slow_slower/slow_slower_50.wav\n",
            "Converted /content/slow_slower/slow_slower/slow_slower_188.mp3 to /content/wav_files/slow_slower/slow_slower_188.wav\n",
            "Converted /content/slow_slower/slow_slower/slow_slower_222.mp3 to /content/wav_files/slow_slower/slow_slower_222.wav\n",
            "Converted /content/slow_slower/slow_slower/slow_slower_312.mp3 to /content/wav_files/slow_slower/slow_slower_312.wav\n",
            "Converted /content/slow_slower/slow_slower/slow_slower_246.mp3 to /content/wav_files/slow_slower/slow_slower_246.wav\n",
            "Converted /content/slow_slower/slow_slower/slow_slower_224.mp3 to /content/wav_files/slow_slower/slow_slower_224.wav\n",
            "Converted /content/slow_slower/slow_slower/slow_slower_19.mp3 to /content/wav_files/slow_slower/slow_slower_19.wav\n",
            "Converted /content/slow_slower/slow_slower/slow_slower_257.mp3 to /content/wav_files/slow_slower/slow_slower_257.wav\n",
            "Converted /content/slow_slower/slow_slower/slow_slower_266.mp3 to /content/wav_files/slow_slower/slow_slower_266.wav\n",
            "Converted /content/slow_slower/slow_slower/slow_slower_242.mp3 to /content/wav_files/slow_slower/slow_slower_242.wav\n",
            "Converted /content/slow_slower/slow_slower/slow_slower_100.mp3 to /content/wav_files/slow_slower/slow_slower_100.wav\n",
            "Converted /content/slow_slower/slow_slower/slow_slower_111.mp3 to /content/wav_files/slow_slower/slow_slower_111.wav\n",
            "Converted /content/slow_slower/slow_slower/slow_slower_5.mp3 to /content/wav_files/slow_slower/slow_slower_5.wav\n",
            "Converted /content/slow_slower/slow_slower/slow_slower_58.mp3 to /content/wav_files/slow_slower/slow_slower_58.wav\n",
            "Converted /content/slow_slower/slow_slower/slow_slower_79.mp3 to /content/wav_files/slow_slower/slow_slower_79.wav\n",
            "Converted /content/slow_slower/slow_slower/slow_slower_92.mp3 to /content/wav_files/slow_slower/slow_slower_92.wav\n",
            "Converted /content/slow_slower/slow_slower/slow_slower_346.mp3 to /content/wav_files/slow_slower/slow_slower_346.wav\n",
            "Converted /content/slow_slower/slow_slower/slow_slower_200.mp3 to /content/wav_files/slow_slower/slow_slower_200.wav\n",
            "Converted /content/slow_slower/slow_slower/slow_slower_206.mp3 to /content/wav_files/slow_slower/slow_slower_206.wav\n",
            "Converted /content/slow_slower/slow_slower/slow_slower_195.mp3 to /content/wav_files/slow_slower/slow_slower_195.wav\n",
            "Converted /content/slow_slower/slow_slower/slow_slower_112.mp3 to /content/wav_files/slow_slower/slow_slower_112.wav\n",
            "Converted /content/slow_slower/slow_slower/slow_slower_122.mp3 to /content/wav_files/slow_slower/slow_slower_122.wav\n",
            "Converted /content/slow_slower/slow_slower/slow_slower_269.mp3 to /content/wav_files/slow_slower/slow_slower_269.wav\n",
            "Converted /content/slow_slower/slow_slower/slow_slower_191.mp3 to /content/wav_files/slow_slower/slow_slower_191.wav\n",
            "Converted /content/slow_slower/slow_slower/slow_slower_173.mp3 to /content/wav_files/slow_slower/slow_slower_173.wav\n",
            "Converted /content/slow_slower/slow_slower/slow_slower_232.mp3 to /content/wav_files/slow_slower/slow_slower_232.wav\n",
            "Converted /content/slow_slower/slow_slower/slow_slower_128.mp3 to /content/wav_files/slow_slower/slow_slower_128.wav\n",
            "Converted /content/slow_slower/slow_slower/slow_slower_107.mp3 to /content/wav_files/slow_slower/slow_slower_107.wav\n",
            "Converted /content/slow_slower/slow_slower/slow_slower_38.mp3 to /content/wav_files/slow_slower/slow_slower_38.wav\n",
            "Converted /content/slow_slower/slow_slower/slow_slower_186.mp3 to /content/wav_files/slow_slower/slow_slower_186.wav\n",
            "Converted /content/slow_slower/slow_slower/slow_slower_95.mp3 to /content/wav_files/slow_slower/slow_slower_95.wav\n",
            "Converted /content/slow_slower/slow_slower/slow_slower_184.mp3 to /content/wav_files/slow_slower/slow_slower_184.wav\n",
            "Converted /content/slow_slower/slow_slower/slow_slower_6.mp3 to /content/wav_files/slow_slower/slow_slower_6.wav\n",
            "Converted /content/slow_slower/slow_slower/slow_slower_176.mp3 to /content/wav_files/slow_slower/slow_slower_176.wav\n",
            "Converted /content/slow_slower/slow_slower/slow_slower_17.mp3 to /content/wav_files/slow_slower/slow_slower_17.wav\n",
            "Converted /content/slow_slower/slow_slower/slow_slower_97.mp3 to /content/wav_files/slow_slower/slow_slower_97.wav\n",
            "Converted /content/slow_slower/slow_slower/slow_slower_131.mp3 to /content/wav_files/slow_slower/slow_slower_131.wav\n",
            "Converted /content/slow_slower/slow_slower/slow_slower_265.mp3 to /content/wav_files/slow_slower/slow_slower_265.wav\n",
            "Converted /content/slow_slower/slow_slower/slow_slower_326.mp3 to /content/wav_files/slow_slower/slow_slower_326.wav\n",
            "Converted /content/slow_slower/slow_slower/slow_slower_322.mp3 to /content/wav_files/slow_slower/slow_slower_322.wav\n",
            "Converted /content/slow_slower/slow_slower/slow_slower_235.mp3 to /content/wav_files/slow_slower/slow_slower_235.wav\n",
            "Converted /content/slow_slower/slow_slower/slow_slower_337.mp3 to /content/wav_files/slow_slower/slow_slower_337.wav\n",
            "Converted /content/slow_slower/slow_slower/slow_slower_316.mp3 to /content/wav_files/slow_slower/slow_slower_316.wav\n",
            "Converted /content/slow_slower/slow_slower/slow_slower_231.mp3 to /content/wav_files/slow_slower/slow_slower_231.wav\n",
            "Converted /content/slow_slower/slow_slower/slow_slower_159.mp3 to /content/wav_files/slow_slower/slow_slower_159.wav\n",
            "Converted /content/slow_slower/slow_slower/slow_slower_197.mp3 to /content/wav_files/slow_slower/slow_slower_197.wav\n",
            "Converted /content/slow_slower/slow_slower/slow_slower_140.mp3 to /content/wav_files/slow_slower/slow_slower_140.wav\n",
            "Converted /content/slow_slower/slow_slower/slow_slower_333.mp3 to /content/wav_files/slow_slower/slow_slower_333.wav\n",
            "Converted /content/slow_slower/slow_slower/slow_slower_211.mp3 to /content/wav_files/slow_slower/slow_slower_211.wav\n",
            "Converted /content/slow_slower/slow_slower/slow_slower_80.mp3 to /content/wav_files/slow_slower/slow_slower_80.wav\n",
            "Converted /content/slow_slower/slow_slower/slow_slower_83.mp3 to /content/wav_files/slow_slower/slow_slower_83.wav\n",
            "Converted /content/slow_slower/slow_slower/slow_slower_151.mp3 to /content/wav_files/slow_slower/slow_slower_151.wav\n",
            "Converted /content/slow_slower/slow_slower/slow_slower_84.mp3 to /content/wav_files/slow_slower/slow_slower_84.wav\n",
            "Converted /content/slow_slower/slow_slower/slow_slower_288.mp3 to /content/wav_files/slow_slower/slow_slower_288.wav\n",
            "Converted /content/slow_slower/slow_slower/slow_slower_116.mp3 to /content/wav_files/slow_slower/slow_slower_116.wav\n",
            "Converted /content/slow_slower/slow_slower/slow_slower_88.mp3 to /content/wav_files/slow_slower/slow_slower_88.wav\n",
            "Converted /content/slow_slower/slow_slower/slow_slower_72.mp3 to /content/wav_files/slow_slower/slow_slower_72.wav\n",
            "Converted /content/slow_slower/slow_slower/slow_slower_51.mp3 to /content/wav_files/slow_slower/slow_slower_51.wav\n",
            "Converted /content/slow_slower/slow_slower/slow_slower_262.mp3 to /content/wav_files/slow_slower/slow_slower_262.wav\n",
            "Converted /content/slow_slower/slow_slower/slow_slower_54.mp3 to /content/wav_files/slow_slower/slow_slower_54.wav\n",
            "Converted /content/slow_slower/slow_slower/slow_slower_320.mp3 to /content/wav_files/slow_slower/slow_slower_320.wav\n",
            "Converted /content/slow_slower/slow_slower/slow_slower_327.mp3 to /content/wav_files/slow_slower/slow_slower_327.wav\n",
            "Converted /content/slow_slower/slow_slower/slow_slower_233.mp3 to /content/wav_files/slow_slower/slow_slower_233.wav\n",
            "Converted /content/slow_slower/slow_slower/slow_slower_69.mp3 to /content/wav_files/slow_slower/slow_slower_69.wav\n",
            "Converted /content/slow_slower/slow_slower/slow_slower_198.mp3 to /content/wav_files/slow_slower/slow_slower_198.wav\n",
            "Converted /content/slow_slower/slow_slower/slow_slower_275.mp3 to /content/wav_files/slow_slower/slow_slower_275.wav\n",
            "Converted /content/slow_slower/slow_slower/slow_slower_352.mp3 to /content/wav_files/slow_slower/slow_slower_352.wav\n",
            "Converted /content/slow_slower/slow_slower/slow_slower_287.mp3 to /content/wav_files/slow_slower/slow_slower_287.wav\n",
            "Converted /content/slow_slower/slow_slower/slow_slower_228.mp3 to /content/wav_files/slow_slower/slow_slower_228.wav\n",
            "Converted /content/slow_slower/slow_slower/slow_slower_309.mp3 to /content/wav_files/slow_slower/slow_slower_309.wav\n",
            "Converted /content/slow_slower/slow_slower/slow_slower_187.mp3 to /content/wav_files/slow_slower/slow_slower_187.wav\n",
            "Converted /content/slow_slower/slow_slower/slow_slower_76.mp3 to /content/wav_files/slow_slower/slow_slower_76.wav\n",
            "Converted /content/slow_slower/slow_slower/slow_slower_143.mp3 to /content/wav_files/slow_slower/slow_slower_143.wav\n",
            "Converted /content/slow_slower/slow_slower/slow_slower_73.mp3 to /content/wav_files/slow_slower/slow_slower_73.wav\n",
            "Converted /content/slow_slower/slow_slower/slow_slower_33.mp3 to /content/wav_files/slow_slower/slow_slower_33.wav\n",
            "Converted /content/slow_slower/slow_slower/slow_slower_345.mp3 to /content/wav_files/slow_slower/slow_slower_345.wav\n",
            "Converted /content/slow_slower/slow_slower/slow_slower_27.mp3 to /content/wav_files/slow_slower/slow_slower_27.wav\n",
            "Converted /content/slow_slower/slow_slower/slow_slower_135.mp3 to /content/wav_files/slow_slower/slow_slower_135.wav\n",
            "Converted /content/slow_slower/slow_slower/slow_slower_215.mp3 to /content/wav_files/slow_slower/slow_slower_215.wav\n",
            "Converted /content/slow_slower/slow_slower/slow_slower_164.mp3 to /content/wav_files/slow_slower/slow_slower_164.wav\n",
            "Converted /content/slow_slower/slow_slower/slow_slower_157.mp3 to /content/wav_files/slow_slower/slow_slower_157.wav\n",
            "Converted /content/slow_slower/slow_slower/slow_slower_250.mp3 to /content/wav_files/slow_slower/slow_slower_250.wav\n",
            "Converted /content/slow_slower/slow_slower/slow_slower_348.mp3 to /content/wav_files/slow_slower/slow_slower_348.wav\n",
            "Converted /content/slow_slower/slow_slower/slow_slower_31.mp3 to /content/wav_files/slow_slower/slow_slower_31.wav\n",
            "Converted /content/slow_slower/slow_slower/slow_slower_334.mp3 to /content/wav_files/slow_slower/slow_slower_334.wav\n",
            "Converted /content/slow_slower/slow_slower/slow_slower_343.mp3 to /content/wav_files/slow_slower/slow_slower_343.wav\n",
            "Converted /content/slow_slower/slow_slower/slow_slower_174.mp3 to /content/wav_files/slow_slower/slow_slower_174.wav\n",
            "Converted /content/slow_slower/slow_slower/slow_slower_213.mp3 to /content/wav_files/slow_slower/slow_slower_213.wav\n",
            "Converted /content/slow_slower/slow_slower/slow_slower_274.mp3 to /content/wav_files/slow_slower/slow_slower_274.wav\n",
            "Converted /content/slow_slower/slow_slower/slow_slower_317.mp3 to /content/wav_files/slow_slower/slow_slower_317.wav\n",
            "Converted /content/slow_slower/slow_slower/slow_slower_104.mp3 to /content/wav_files/slow_slower/slow_slower_104.wav\n",
            "Converted /content/slow_slower/slow_slower/slow_slower_20.mp3 to /content/wav_files/slow_slower/slow_slower_20.wav\n",
            "Converted /content/slow_slower/slow_slower/slow_slower_307.mp3 to /content/wav_files/slow_slower/slow_slower_307.wav\n",
            "Converted /content/slow_slower/slow_slower/slow_slower_171.mp3 to /content/wav_files/slow_slower/slow_slower_171.wav\n",
            "Converted /content/slow_slower/slow_slower/slow_slower_278.mp3 to /content/wav_files/slow_slower/slow_slower_278.wav\n",
            "Converted /content/slow_slower/slow_slower/slow_slower_342.mp3 to /content/wav_files/slow_slower/slow_slower_342.wav\n",
            "Converted /content/slow_slower/slow_slower/slow_slower_147.mp3 to /content/wav_files/slow_slower/slow_slower_147.wav\n",
            "Converted /content/slow_slower/slow_slower/slow_slower_256.mp3 to /content/wav_files/slow_slower/slow_slower_256.wav\n",
            "Converted /content/slow_slower/slow_slower/slow_slower_341.mp3 to /content/wav_files/slow_slower/slow_slower_341.wav\n",
            "Converted /content/slow_slower/slow_slower/slow_slower_308.mp3 to /content/wav_files/slow_slower/slow_slower_308.wav\n",
            "Converted /content/slow_slower/slow_slower/slow_slower_249.mp3 to /content/wav_files/slow_slower/slow_slower_249.wav\n",
            "Converted /content/slow_slower/slow_slower/slow_slower_313.mp3 to /content/wav_files/slow_slower/slow_slower_313.wav\n",
            "Converted /content/slow_slower/slow_slower/slow_slower_94.mp3 to /content/wav_files/slow_slower/slow_slower_94.wav\n",
            "Converted /content/slow_slower/slow_slower/slow_slower_332.mp3 to /content/wav_files/slow_slower/slow_slower_332.wav\n",
            "Converted /content/slow_slower/slow_slower/slow_slower_179.mp3 to /content/wav_files/slow_slower/slow_slower_179.wav\n",
            "Converted /content/slow_slower/slow_slower/slow_slower_353.mp3 to /content/wav_files/slow_slower/slow_slower_353.wav\n",
            "Converted /content/slow_slower/slow_slower/slow_slower_82.mp3 to /content/wav_files/slow_slower/slow_slower_82.wav\n",
            "Converted /content/slow_slower/slow_slower/slow_slower_13.mp3 to /content/wav_files/slow_slower/slow_slower_13.wav\n",
            "Converted /content/slow_slower/slow_slower/slow_slower_229.mp3 to /content/wav_files/slow_slower/slow_slower_229.wav\n",
            "Converted /content/slow_slower/slow_slower/slow_slower_193.mp3 to /content/wav_files/slow_slower/slow_slower_193.wav\n",
            "Converted /content/slow_slower/slow_slower/slow_slower_142.mp3 to /content/wav_files/slow_slower/slow_slower_142.wav\n",
            "Converted /content/slow_slower/slow_slower/slow_slower_35.mp3 to /content/wav_files/slow_slower/slow_slower_35.wav\n",
            "Converted /content/slow_slower/slow_slower/slow_slower_165.mp3 to /content/wav_files/slow_slower/slow_slower_165.wav\n",
            "Converted /content/slow_slower/slow_slower/slow_slower_85.mp3 to /content/wav_files/slow_slower/slow_slower_85.wav\n",
            "Converted /content/slow_slower/slow_slower/slow_slower_214.mp3 to /content/wav_files/slow_slower/slow_slower_214.wav\n",
            "Converted /content/slow_slower/slow_slower/slow_slower_148.mp3 to /content/wav_files/slow_slower/slow_slower_148.wav\n",
            "Converted /content/slow_slower/slow_slower/slow_slower_86.mp3 to /content/wav_files/slow_slower/slow_slower_86.wav\n",
            "Converted /content/slow_slower/slow_slower/slow_slower_44.mp3 to /content/wav_files/slow_slower/slow_slower_44.wav\n",
            "Converted /content/slow_slower/slow_slower/slow_slower_52.mp3 to /content/wav_files/slow_slower/slow_slower_52.wav\n",
            "Converted /content/slow_slower/slow_slower/slow_slower_64.mp3 to /content/wav_files/slow_slower/slow_slower_64.wav\n",
            "Converted /content/slow_slower/slow_slower/slow_slower_338.mp3 to /content/wav_files/slow_slower/slow_slower_338.wav\n",
            "Converted /content/slow_slower/slow_slower/slow_slower_108.mp3 to /content/wav_files/slow_slower/slow_slower_108.wav\n",
            "Converted /content/slow_slower/slow_slower/slow_slower_70.mp3 to /content/wav_files/slow_slower/slow_slower_70.wav\n",
            "Converted /content/slow_slower/slow_slower/slow_slower_251.mp3 to /content/wav_files/slow_slower/slow_slower_251.wav\n",
            "Converted /content/slow_slower/slow_slower/slow_slower_127.mp3 to /content/wav_files/slow_slower/slow_slower_127.wav\n",
            "Converted /content/slow_slower/slow_slower/slow_slower_11.mp3 to /content/wav_files/slow_slower/slow_slower_11.wav\n",
            "Converted /content/slow_slower/slow_slower/slow_slower_1.mp3 to /content/wav_files/slow_slower/slow_slower_1.wav\n",
            "Converted /content/slow_slower/slow_slower/slow_slower_299.mp3 to /content/wav_files/slow_slower/slow_slower_299.wav\n",
            "Converted /content/slow_slower/slow_slower/slow_slower_9.mp3 to /content/wav_files/slow_slower/slow_slower_9.wav\n",
            "Converted /content/slow_slower/slow_slower/slow_slower_29.mp3 to /content/wav_files/slow_slower/slow_slower_29.wav\n",
            "Converted /content/slow_slower/slow_slower/slow_slower_349.mp3 to /content/wav_files/slow_slower/slow_slower_349.wav\n",
            "Converted /content/slow_slower/slow_slower/slow_slower_103.mp3 to /content/wav_files/slow_slower/slow_slower_103.wav\n",
            "Converted /content/slow_slower/slow_slower/slow_slower_340.mp3 to /content/wav_files/slow_slower/slow_slower_340.wav\n",
            "Converted /content/slow_slower/slow_slower/slow_slower_130.mp3 to /content/wav_files/slow_slower/slow_slower_130.wav\n",
            "Converted /content/slow_slower/slow_slower/slow_slower_183.mp3 to /content/wav_files/slow_slower/slow_slower_183.wav\n",
            "Converted /content/slow_slower/slow_slower/slow_slower_314.mp3 to /content/wav_files/slow_slower/slow_slower_314.wav\n",
            "Converted /content/slow_slower/slow_slower/slow_slower_303.mp3 to /content/wav_files/slow_slower/slow_slower_303.wav\n",
            "Converted /content/slow_slower/slow_slower/slow_slower_260.mp3 to /content/wav_files/slow_slower/slow_slower_260.wav\n",
            "Converted /content/slow_slower/slow_slower/slow_slower_15.mp3 to /content/wav_files/slow_slower/slow_slower_15.wav\n",
            "Converted /content/slow_slower/slow_slower/slow_slower_182.mp3 to /content/wav_files/slow_slower/slow_slower_182.wav\n",
            "Converted /content/slow_slower/slow_slower/slow_slower_237.mp3 to /content/wav_files/slow_slower/slow_slower_237.wav\n",
            "Converted /content/slow_slower/slow_slower/slow_slower_223.mp3 to /content/wav_files/slow_slower/slow_slower_223.wav\n",
            "Converted /content/slow_slower/slow_slower/slow_slower_23.mp3 to /content/wav_files/slow_slower/slow_slower_23.wav\n",
            "Converted /content/slow_slower/slow_slower/slow_slower_208.mp3 to /content/wav_files/slow_slower/slow_slower_208.wav\n",
            "Converted /content/slow_slower/slow_slower/slow_slower_283.mp3 to /content/wav_files/slow_slower/slow_slower_283.wav\n",
            "Converted /content/slow_slower/slow_slower/slow_slower_239.mp3 to /content/wav_files/slow_slower/slow_slower_239.wav\n",
            "Converted /content/slow_slower/slow_slower/slow_slower_43.mp3 to /content/wav_files/slow_slower/slow_slower_43.wav\n",
            "Converted /content/slow_slower/slow_slower/slow_slower_301.mp3 to /content/wav_files/slow_slower/slow_slower_301.wav\n",
            "Converted /content/slow_slower/slow_slower/slow_slower_99.mp3 to /content/wav_files/slow_slower/slow_slower_99.wav\n",
            "Converted /content/slow_slower/slow_slower/slow_slower_267.mp3 to /content/wav_files/slow_slower/slow_slower_267.wav\n",
            "Converted /content/slow_slower/slow_slower/slow_slower_347.mp3 to /content/wav_files/slow_slower/slow_slower_347.wav\n",
            "Converted /content/slow_slower/slow_slower/slow_slower_129.mp3 to /content/wav_files/slow_slower/slow_slower_129.wav\n",
            "Converted /content/slow_slower/slow_slower/slow_slower_300.mp3 to /content/wav_files/slow_slower/slow_slower_300.wav\n",
            "Converted /content/slow_slower/slow_slower/slow_slower_109.mp3 to /content/wav_files/slow_slower/slow_slower_109.wav\n",
            "Converted /content/slow_slower/slow_slower/slow_slower_204.mp3 to /content/wav_files/slow_slower/slow_slower_204.wav\n",
            "Converted /content/slow_slower/slow_slower/slow_slower_110.mp3 to /content/wav_files/slow_slower/slow_slower_110.wav\n",
            "Converted /content/slow_slower/slow_slower/slow_slower_276.mp3 to /content/wav_files/slow_slower/slow_slower_276.wav\n",
            "Converted /content/slow_slower/slow_slower/slow_slower_7.mp3 to /content/wav_files/slow_slower/slow_slower_7.wav\n",
            "Converted /content/slow_slower/slow_slower/slow_slower_154.mp3 to /content/wav_files/slow_slower/slow_slower_154.wav\n",
            "Converted /content/slow_slower/slow_slower/slow_slower_40.mp3 to /content/wav_files/slow_slower/slow_slower_40.wav\n",
            "Converted /content/slow_slower/slow_slower/slow_slower_125.mp3 to /content/wav_files/slow_slower/slow_slower_125.wav\n",
            "Converted /content/slow_slower/slow_slower/slow_slower_46.mp3 to /content/wav_files/slow_slower/slow_slower_46.wav\n",
            "Converted /content/slow_slower/slow_slower/slow_slower_268.mp3 to /content/wav_files/slow_slower/slow_slower_268.wav\n",
            "Converted /content/slow_slower/slow_slower/slow_slower_286.mp3 to /content/wav_files/slow_slower/slow_slower_286.wav\n",
            "Converted /content/slow_slower/slow_slower/slow_slower_330.mp3 to /content/wav_files/slow_slower/slow_slower_330.wav\n",
            "Converted /content/slow_slower/slow_slower/slow_slower_331.mp3 to /content/wav_files/slow_slower/slow_slower_331.wav\n",
            "Converted /content/slow_slower/slow_slower/slow_slower_311.mp3 to /content/wav_files/slow_slower/slow_slower_311.wav\n",
            "Converted /content/slow_slower/slow_slower/slow_slower_202.mp3 to /content/wav_files/slow_slower/slow_slower_202.wav\n",
            "Converted /content/slow_slower/slow_slower/slow_slower_30.mp3 to /content/wav_files/slow_slower/slow_slower_30.wav\n",
            "Converted /content/slow_slower/slow_slower/slow_slower_22.mp3 to /content/wav_files/slow_slower/slow_slower_22.wav\n",
            "Converted /content/slow_slower/slow_slower/slow_slower_304.mp3 to /content/wav_files/slow_slower/slow_slower_304.wav\n",
            "Converted /content/slow_slower/slow_slower/slow_slower_325.mp3 to /content/wav_files/slow_slower/slow_slower_325.wav\n",
            "Converted /content/slow_slower/slow_slower/slow_slower_169.mp3 to /content/wav_files/slow_slower/slow_slower_169.wav\n",
            "Converted /content/slow_slower/slow_slower/slow_slower_66.mp3 to /content/wav_files/slow_slower/slow_slower_66.wav\n",
            "Converted /content/slow_slower/slow_slower/slow_slower_24.mp3 to /content/wav_files/slow_slower/slow_slower_24.wav\n",
            "Converted /content/slow_slower/slow_slower/slow_slower_90.mp3 to /content/wav_files/slow_slower/slow_slower_90.wav\n",
            "Converted /content/slow_slower/slow_slower/slow_slower_192.mp3 to /content/wav_files/slow_slower/slow_slower_192.wav\n",
            "Converted /content/slow_slower/slow_slower/slow_slower_63.mp3 to /content/wav_files/slow_slower/slow_slower_63.wav\n",
            "Converted /content/slow_slower/slow_slower/slow_slower_181.mp3 to /content/wav_files/slow_slower/slow_slower_181.wav\n",
            "Converted /content/slow_slower/slow_slower/slow_slower_137.mp3 to /content/wav_files/slow_slower/slow_slower_137.wav\n",
            "Converted /content/slow_slower/slow_slower/slow_slower_56.mp3 to /content/wav_files/slow_slower/slow_slower_56.wav\n",
            "Converted /content/slow_slower/slow_slower/slow_slower_302.mp3 to /content/wav_files/slow_slower/slow_slower_302.wav\n",
            "Converted /content/slow_slower/slow_slower/slow_slower_234.mp3 to /content/wav_files/slow_slower/slow_slower_234.wav\n",
            "Converted /content/slow_slower/slow_slower/slow_slower_139.mp3 to /content/wav_files/slow_slower/slow_slower_139.wav\n",
            "Converted /content/slow_slower/slow_slower/slow_slower_344.mp3 to /content/wav_files/slow_slower/slow_slower_344.wav\n",
            "Converted /content/slow_slower/slow_slower/slow_slower_2.mp3 to /content/wav_files/slow_slower/slow_slower_2.wav\n",
            "Converted /content/slow_slower/slow_slower/slow_slower_180.mp3 to /content/wav_files/slow_slower/slow_slower_180.wav\n",
            "Converted /content/slow_slower/slow_slower/slow_slower_207.mp3 to /content/wav_files/slow_slower/slow_slower_207.wav\n",
            "Converted /content/slow_slower/slow_slower/slow_slower_295.mp3 to /content/wav_files/slow_slower/slow_slower_295.wav\n",
            "Converted /content/slow_slower/slow_slower/slow_slower_118.mp3 to /content/wav_files/slow_slower/slow_slower_118.wav\n",
            "Converted /content/slow_slower/slow_slower/slow_slower_115.mp3 to /content/wav_files/slow_slower/slow_slower_115.wav\n",
            "Converted /content/slow_slower/slow_slower/slow_slower_45.mp3 to /content/wav_files/slow_slower/slow_slower_45.wav\n",
            "Converted /content/slow_slower/slow_slower/slow_slower_305.mp3 to /content/wav_files/slow_slower/slow_slower_305.wav\n",
            "Converted /content/slow_slower/slow_slower/slow_slower_272.mp3 to /content/wav_files/slow_slower/slow_slower_272.wav\n",
            "Converted /content/slow_slower/slow_slower/slow_slower_16.mp3 to /content/wav_files/slow_slower/slow_slower_16.wav\n",
            "Converted /content/slow_slower/slow_slower/slow_slower_285.mp3 to /content/wav_files/slow_slower/slow_slower_285.wav\n",
            "Converted /content/slow_slower/slow_slower/slow_slower_32.mp3 to /content/wav_files/slow_slower/slow_slower_32.wav\n",
            "Converted /content/slow_slower/slow_slower/slow_slower_71.mp3 to /content/wav_files/slow_slower/slow_slower_71.wav\n",
            "Converted /content/slow_slower/slow_slower/slow_slower_132.mp3 to /content/wav_files/slow_slower/slow_slower_132.wav\n",
            "Converted /content/slow_slower/slow_slower/slow_slower_166.mp3 to /content/wav_files/slow_slower/slow_slower_166.wav\n",
            "Converted /content/slow_slower/slow_slower/slow_slower_36.mp3 to /content/wav_files/slow_slower/slow_slower_36.wav\n",
            "Converted /content/slow_slower/slow_slower/slow_slower_282.mp3 to /content/wav_files/slow_slower/slow_slower_282.wav\n",
            "Converted /content/slow_slower/slow_slower/slow_slower_271.mp3 to /content/wav_files/slow_slower/slow_slower_271.wav\n",
            "Converted /content/slow_slower/slow_slower/slow_slower_289.mp3 to /content/wav_files/slow_slower/slow_slower_289.wav\n",
            "Converted /content/slow_slower/slow_slower/slow_slower_245.mp3 to /content/wav_files/slow_slower/slow_slower_245.wav\n",
            "Converted /content/slow_slower/slow_slower/slow_slower_212.mp3 to /content/wav_files/slow_slower/slow_slower_212.wav\n",
            "Converted /content/slow_slower/slow_slower/slow_slower_247.mp3 to /content/wav_files/slow_slower/slow_slower_247.wav\n",
            "Converted /content/slow_slower/slow_slower/slow_slower_138.mp3 to /content/wav_files/slow_slower/slow_slower_138.wav\n",
            "Converted /content/slow_slower/slow_slower/slow_slower_209.mp3 to /content/wav_files/slow_slower/slow_slower_209.wav\n",
            "Converted /content/slow_slower/slow_slower/slow_slower_105.mp3 to /content/wav_files/slow_slower/slow_slower_105.wav\n",
            "Converted /content/slow_slower/slow_slower/slow_slower_178.mp3 to /content/wav_files/slow_slower/slow_slower_178.wav\n",
            "Converted /content/slow_slower/slow_slower/slow_slower_264.mp3 to /content/wav_files/slow_slower/slow_slower_264.wav\n",
            "Converted /content/slow_slower/slow_slower/slow_slower_158.mp3 to /content/wav_files/slow_slower/slow_slower_158.wav\n",
            "Converted /content/slow_slower/slow_slower/slow_slower_61.mp3 to /content/wav_files/slow_slower/slow_slower_61.wav\n",
            "Converted /content/slow_slower/slow_slower/slow_slower_87.mp3 to /content/wav_files/slow_slower/slow_slower_87.wav\n",
            "Converted /content/slow_slower/slow_slower/slow_slower_102.mp3 to /content/wav_files/slow_slower/slow_slower_102.wav\n",
            "Converted /content/slow_slower/slow_slower/slow_slower_298.mp3 to /content/wav_files/slow_slower/slow_slower_298.wav\n",
            "Converted /content/slow_slower/slow_slower/slow_slower_252.mp3 to /content/wav_files/slow_slower/slow_slower_252.wav\n",
            "Converted /content/slow_slower/slow_slower/slow_slower_270.mp3 to /content/wav_files/slow_slower/slow_slower_270.wav\n",
            "Converted /content/slow_slower/slow_slower/slow_slower_244.mp3 to /content/wav_files/slow_slower/slow_slower_244.wav\n",
            "Converted /content/slow_slower/slow_slower/slow_slower_248.mp3 to /content/wav_files/slow_slower/slow_slower_248.wav\n",
            "Converted /content/slow_slower/slow_slower/slow_slower_74.mp3 to /content/wav_files/slow_slower/slow_slower_74.wav\n",
            "Converted /content/slow_slower/slow_slower/slow_slower_319.mp3 to /content/wav_files/slow_slower/slow_slower_319.wav\n",
            "Converted /content/slow_slower/slow_slower/slow_slower_194.mp3 to /content/wav_files/slow_slower/slow_slower_194.wav\n",
            "Converted /content/slow_slower/slow_slower/slow_slower_226.mp3 to /content/wav_files/slow_slower/slow_slower_226.wav\n",
            "Converted /content/slow_slower/slow_slower/slow_slower_279.mp3 to /content/wav_files/slow_slower/slow_slower_279.wav\n",
            "Converted /content/slow_slower/slow_slower/slow_slower_48.mp3 to /content/wav_files/slow_slower/slow_slower_48.wav\n",
            "Converted /content/slow_slower/slow_slower/slow_slower_321.mp3 to /content/wav_files/slow_slower/slow_slower_321.wav\n",
            "Converted /content/slow_slower/slow_slower/slow_slower_273.mp3 to /content/wav_files/slow_slower/slow_slower_273.wav\n",
            "Converted /content/slow_slower/slow_slower/slow_slower_60.mp3 to /content/wav_files/slow_slower/slow_slower_60.wav\n",
            "Converted /content/slow_slower/slow_slower/slow_slower_350.mp3 to /content/wav_files/slow_slower/slow_slower_350.wav\n",
            "Converted /content/slow_slower/slow_slower/slow_slower_240.mp3 to /content/wav_files/slow_slower/slow_slower_240.wav\n",
            "Converted /content/slow_slower/slow_slower/slow_slower_10.mp3 to /content/wav_files/slow_slower/slow_slower_10.wav\n",
            "Converted /content/slow_slower/slow_slower/slow_slower_57.mp3 to /content/wav_files/slow_slower/slow_slower_57.wav\n",
            "Converted /content/slow_slower/slow_slower/slow_slower_96.mp3 to /content/wav_files/slow_slower/slow_slower_96.wav\n",
            "Converted /content/slow_slower/slow_slower/slow_slower_219.mp3 to /content/wav_files/slow_slower/slow_slower_219.wav\n",
            "Converted /content/slow_slower/slow_slower/slow_slower_324.mp3 to /content/wav_files/slow_slower/slow_slower_324.wav\n",
            "Converted /content/slow_slower/slow_slower/slow_slower_67.mp3 to /content/wav_files/slow_slower/slow_slower_67.wav\n",
            "Converted /content/slow_slower/slow_slower/slow_slower_175.mp3 to /content/wav_files/slow_slower/slow_slower_175.wav\n",
            "Converted /content/slow_slower/slow_slower/slow_slower_227.mp3 to /content/wav_files/slow_slower/slow_slower_227.wav\n",
            "Converted /content/slow_slower/slow_slower/slow_slower_28.mp3 to /content/wav_files/slow_slower/slow_slower_28.wav\n",
            "Converted /content/slow_slower/slow_slower/slow_slower_18.mp3 to /content/wav_files/slow_slower/slow_slower_18.wav\n",
            "Converted /content/slow_slower/slow_slower/slow_slower_243.mp3 to /content/wav_files/slow_slower/slow_slower_243.wav\n",
            "Converted /content/slow_slower/slow_slower/slow_slower_258.mp3 to /content/wav_files/slow_slower/slow_slower_258.wav\n",
            "Converted /content/slow_slower/slow_slower/slow_slower_121.mp3 to /content/wav_files/slow_slower/slow_slower_121.wav\n",
            "Converted /content/slow_slower/slow_slower/slow_slower_93.mp3 to /content/wav_files/slow_slower/slow_slower_93.wav\n",
            "Converted /content/slow_slower/slow_slower/slow_slower_149.mp3 to /content/wav_files/slow_slower/slow_slower_149.wav\n",
            "Converted /content/slow_slower/slow_slower/slow_slower_238.mp3 to /content/wav_files/slow_slower/slow_slower_238.wav\n",
            "Converted /content/slow_slower/slow_slower/slow_slower_91.mp3 to /content/wav_files/slow_slower/slow_slower_91.wav\n",
            "Converted /content/slow_slower/slow_slower/slow_slower_146.mp3 to /content/wav_files/slow_slower/slow_slower_146.wav\n",
            "Converted /content/slow_slower/slow_slower/slow_slower_201.mp3 to /content/wav_files/slow_slower/slow_slower_201.wav\n",
            "Converted /content/slow_slower/slow_slower/slow_slower_150.mp3 to /content/wav_files/slow_slower/slow_slower_150.wav\n",
            "Converted /content/slow_slower/slow_slower/slow_slower_290.mp3 to /content/wav_files/slow_slower/slow_slower_290.wav\n",
            "Converted /content/slow_slower/slow_slower/slow_slower_339.mp3 to /content/wav_files/slow_slower/slow_slower_339.wav\n",
            "Converted /content/slow_slower/slow_slower/slow_slower_306.mp3 to /content/wav_files/slow_slower/slow_slower_306.wav\n",
            "Converted /content/slow_slower/slow_slower/slow_slower_126.mp3 to /content/wav_files/slow_slower/slow_slower_126.wav\n",
            "Converted /content/slow_slower/slow_slower/slow_slower_218.mp3 to /content/wav_files/slow_slower/slow_slower_218.wav\n",
            "Converted /content/slow_slower/slow_slower/slow_slower_292.mp3 to /content/wav_files/slow_slower/slow_slower_292.wav\n",
            "Converted /content/slow_slower/slow_slower/slow_slower_255.mp3 to /content/wav_files/slow_slower/slow_slower_255.wav\n",
            "Converted /content/slow_slower/slow_slower/slow_slower_123.mp3 to /content/wav_files/slow_slower/slow_slower_123.wav\n",
            "Converted /content/slow_slower/slow_slower/slow_slower_101.mp3 to /content/wav_files/slow_slower/slow_slower_101.wav\n",
            "Converted /content/slow_slower/slow_slower/slow_slower_62.mp3 to /content/wav_files/slow_slower/slow_slower_62.wav\n",
            "Converted /content/slow_slower/slow_slower/slow_slower_160.mp3 to /content/wav_files/slow_slower/slow_slower_160.wav\n",
            "Converted /content/slow_slower/slow_slower/slow_slower_89.mp3 to /content/wav_files/slow_slower/slow_slower_89.wav\n",
            "Converted /content/slow_slower/slow_slower/slow_slower_291.mp3 to /content/wav_files/slow_slower/slow_slower_291.wav\n",
            "Converted /content/slow_slower/slow_slower/slow_slower_124.mp3 to /content/wav_files/slow_slower/slow_slower_124.wav\n",
            "Converted /content/slow_slower/slow_slower/slow_slower_203.mp3 to /content/wav_files/slow_slower/slow_slower_203.wav\n",
            "Converted /content/slow_slower/slow_slower/slow_slower_47.mp3 to /content/wav_files/slow_slower/slow_slower_47.wav\n",
            "Converted /content/slow_slower/slow_slower/slow_slower_68.mp3 to /content/wav_files/slow_slower/slow_slower_68.wav\n",
            "Converted /content/slow_slower/slow_slower/slow_slower_172.mp3 to /content/wav_files/slow_slower/slow_slower_172.wav\n",
            "Converted /content/slow_slower/slow_slower/slow_slower_336.mp3 to /content/wav_files/slow_slower/slow_slower_336.wav\n",
            "Converted /content/slow_slower/slow_slower/slow_slower_117.mp3 to /content/wav_files/slow_slower/slow_slower_117.wav\n",
            "Converted /content/slow_slower/slow_slower/slow_slower_253.mp3 to /content/wav_files/slow_slower/slow_slower_253.wav\n",
            "Converted /content/slow_slower/slow_slower/slow_slower_12.mp3 to /content/wav_files/slow_slower/slow_slower_12.wav\n",
            "Converted /content/slow_slower/slow_slower/slow_slower_199.mp3 to /content/wav_files/slow_slower/slow_slower_199.wav\n",
            "Converted /content/slow_slower/slow_slower/slow_slower_216.mp3 to /content/wav_files/slow_slower/slow_slower_216.wav\n",
            "Converted /content/slow_slower/slow_slower/slow_slower_296.mp3 to /content/wav_files/slow_slower/slow_slower_296.wav\n",
            "Converted /content/slow_slower/slow_slower/slow_slower_81.mp3 to /content/wav_files/slow_slower/slow_slower_81.wav\n",
            "Converted /content/slow_slower/slow_slower/slow_slower_152.mp3 to /content/wav_files/slow_slower/slow_slower_152.wav\n",
            "Converted /content/slow_slower/slow_slower/slow_slower_59.mp3 to /content/wav_files/slow_slower/slow_slower_59.wav\n",
            "Converted /content/slow_slower/slow_slower/slow_slower_141.mp3 to /content/wav_files/slow_slower/slow_slower_141.wav\n",
            "Converted /content/slow_slower/slow_slower/slow_slower_8.mp3 to /content/wav_files/slow_slower/slow_slower_8.wav\n",
            "Converted /content/slow_slower/slow_slower/slow_slower_162.mp3 to /content/wav_files/slow_slower/slow_slower_162.wav\n",
            "Converted /content/slow_slower/slow_slower/slow_slower_65.mp3 to /content/wav_files/slow_slower/slow_slower_65.wav\n",
            "Converted /content/slow_slower/slow_slower/slow_slower_190.mp3 to /content/wav_files/slow_slower/slow_slower_190.wav\n",
            "Converted /content/slow_slower/slow_slower/slow_slower_351.mp3 to /content/wav_files/slow_slower/slow_slower_351.wav\n",
            "Converted /content/slow_slower/slow_slower/slow_slower_153.mp3 to /content/wav_files/slow_slower/slow_slower_153.wav\n",
            "Converted /content/slow_slower/slow_slower/slow_slower_77.mp3 to /content/wav_files/slow_slower/slow_slower_77.wav\n",
            "Converted /content/slow_slower/slow_slower/slow_slower_37.mp3 to /content/wav_files/slow_slower/slow_slower_37.wav\n",
            "Converted /content/slow_slower/slow_slower/slow_slower_241.mp3 to /content/wav_files/slow_slower/slow_slower_241.wav\n",
            "Converted /content/slow_slower/slow_slower/slow_slower_221.mp3 to /content/wav_files/slow_slower/slow_slower_221.wav\n",
            "Converted /content/slow_slower/slow_slower/slow_slower_310.mp3 to /content/wav_files/slow_slower/slow_slower_310.wav\n",
            "Converted /content/slow_slower/slow_slower/slow_slower_318.mp3 to /content/wav_files/slow_slower/slow_slower_318.wav\n",
            "Converted /content/slow_slower/slow_slower/slow_slower_297.mp3 to /content/wav_files/slow_slower/slow_slower_297.wav\n",
            "Converted /content/slow_slower/slow_slower/slow_slower_55.mp3 to /content/wav_files/slow_slower/slow_slower_55.wav\n",
            "Converted /content/slow_slower/slow_slower/slow_slower_185.mp3 to /content/wav_files/slow_slower/slow_slower_185.wav\n",
            "Converted /content/slow_slower/slow_slower/slow_slower_155.mp3 to /content/wav_files/slow_slower/slow_slower_155.wav\n",
            "Converted /content/slow_slower/slow_slower/slow_slower_49.mp3 to /content/wav_files/slow_slower/slow_slower_49.wav\n",
            "Converted /content/slow_slower/slow_slower/slow_slower_328.mp3 to /content/wav_files/slow_slower/slow_slower_328.wav\n",
            "Converted /content/slow_slower/slow_slower/slow_slower_323.mp3 to /content/wav_files/slow_slower/slow_slower_323.wav\n",
            "Converted /content/slow_slower/slow_slower/slow_slower_263.mp3 to /content/wav_files/slow_slower/slow_slower_263.wav\n",
            "Converted /content/slow_slower/slow_slower/slow_slower_177.mp3 to /content/wav_files/slow_slower/slow_slower_177.wav\n",
            "Converted /content/slow_slower/slow_slower/slow_slower_156.mp3 to /content/wav_files/slow_slower/slow_slower_156.wav\n",
            "Converted /content/slow_slower/slow_slower/slow_slower_114.mp3 to /content/wav_files/slow_slower/slow_slower_114.wav\n",
            "Converted /content/slow_slower/slow_slower/slow_slower_53.mp3 to /content/wav_files/slow_slower/slow_slower_53.wav\n",
            "Converted /content/slow_slower/slow_slower/slow_slower_329.mp3 to /content/wav_files/slow_slower/slow_slower_329.wav\n",
            "Converted /content/slow_slower/slow_slower/slow_slower_106.mp3 to /content/wav_files/slow_slower/slow_slower_106.wav\n",
            "Converted /content/slow_slower/slow_slower/slow_slower_21.mp3 to /content/wav_files/slow_slower/slow_slower_21.wav\n",
            "Converted /content/slow_slower/slow_slower/slow_slower_167.mp3 to /content/wav_files/slow_slower/slow_slower_167.wav\n",
            "Converted /content/slow_slower/slow_slower/slow_slower_196.mp3 to /content/wav_files/slow_slower/slow_slower_196.wav\n",
            "Converted /content/slow_slower/slow_slower/slow_slower_189.mp3 to /content/wav_files/slow_slower/slow_slower_189.wav\n",
            "Converted /content/slow_slower/slow_slower/slow_slower_26.mp3 to /content/wav_files/slow_slower/slow_slower_26.wav\n",
            "Converted /content/front_forworld_streight/front_forworld_streight/front_forworld_streight_924.mp3 to /content/wav_files/front_forworld_streight/front_forworld_streight_924.wav\n",
            "Converted /content/front_forworld_streight/front_forworld_streight/front_forworld_streight_1199.mp3 to /content/wav_files/front_forworld_streight/front_forworld_streight_1199.wav\n",
            "Converted /content/front_forworld_streight/front_forworld_streight/front_forworld_streight_966.mp3 to /content/wav_files/front_forworld_streight/front_forworld_streight_966.wav\n",
            "Converted /content/front_forworld_streight/front_forworld_streight/front_forworld_streight_931.mp3 to /content/wav_files/front_forworld_streight/front_forworld_streight_931.wav\n",
            "Converted /content/front_forworld_streight/front_forworld_streight/front_forworld_streight_1094.mp3 to /content/wav_files/front_forworld_streight/front_forworld_streight_1094.wav\n",
            "Converted /content/front_forworld_streight/front_forworld_streight/front_forworld_streight_1009.mp3 to /content/wav_files/front_forworld_streight/front_forworld_streight_1009.wav\n",
            "Converted /content/front_forworld_streight/front_forworld_streight/front_forworld_streight_1338.mp3 to /content/wav_files/front_forworld_streight/front_forworld_streight_1338.wav\n",
            "Converted /content/front_forworld_streight/front_forworld_streight/front_forworld_streight_914.mp3 to /content/wav_files/front_forworld_streight/front_forworld_streight_914.wav\n",
            "Converted /content/front_forworld_streight/front_forworld_streight/front_forworld_streight_1248.mp3 to /content/wav_files/front_forworld_streight/front_forworld_streight_1248.wav\n",
            "Converted /content/front_forworld_streight/front_forworld_streight/front_forworld_streight_955.mp3 to /content/wav_files/front_forworld_streight/front_forworld_streight_955.wav\n",
            "Converted /content/front_forworld_streight/front_forworld_streight/front_forworld_streight_908.mp3 to /content/wav_files/front_forworld_streight/front_forworld_streight_908.wav\n",
            "Converted /content/front_forworld_streight/front_forworld_streight/front_forworld_streight_1384.mp3 to /content/wav_files/front_forworld_streight/front_forworld_streight_1384.wav\n",
            "Converted /content/front_forworld_streight/front_forworld_streight/front_forworld_streight_1159.mp3 to /content/wav_files/front_forworld_streight/front_forworld_streight_1159.wav\n",
            "Converted /content/front_forworld_streight/front_forworld_streight/front_forworld_streight_1377.mp3 to /content/wav_files/front_forworld_streight/front_forworld_streight_1377.wav\n",
            "Converted /content/front_forworld_streight/front_forworld_streight/front_forworld_streight_1327.mp3 to /content/wav_files/front_forworld_streight/front_forworld_streight_1327.wav\n",
            "Converted /content/front_forworld_streight/front_forworld_streight/front_forworld_streight_1161.mp3 to /content/wav_files/front_forworld_streight/front_forworld_streight_1161.wav\n",
            "Converted /content/front_forworld_streight/front_forworld_streight/front_forworld_streight_1117.mp3 to /content/wav_files/front_forworld_streight/front_forworld_streight_1117.wav\n",
            "Converted /content/front_forworld_streight/front_forworld_streight/front_forworld_streight_1194.mp3 to /content/wav_files/front_forworld_streight/front_forworld_streight_1194.wav\n",
            "Converted /content/front_forworld_streight/front_forworld_streight/front_forworld_streight_1314.mp3 to /content/wav_files/front_forworld_streight/front_forworld_streight_1314.wav\n",
            "Converted /content/front_forworld_streight/front_forworld_streight/front_forworld_streight_1203.mp3 to /content/wav_files/front_forworld_streight/front_forworld_streight_1203.wav\n",
            "Converted /content/front_forworld_streight/front_forworld_streight/front_forworld_streight_1058.mp3 to /content/wav_files/front_forworld_streight/front_forworld_streight_1058.wav\n",
            "Converted /content/front_forworld_streight/front_forworld_streight/front_forworld_streight_1391.mp3 to /content/wav_files/front_forworld_streight/front_forworld_streight_1391.wav\n",
            "Converted /content/front_forworld_streight/front_forworld_streight/front_forworld_streight_897.mp3 to /content/wav_files/front_forworld_streight/front_forworld_streight_897.wav\n",
            "Converted /content/front_forworld_streight/front_forworld_streight/front_forworld_streight_1049.mp3 to /content/wav_files/front_forworld_streight/front_forworld_streight_1049.wav\n",
            "Converted /content/front_forworld_streight/front_forworld_streight/front_forworld_streight_1271.mp3 to /content/wav_files/front_forworld_streight/front_forworld_streight_1271.wav\n",
            "Converted /content/front_forworld_streight/front_forworld_streight/front_forworld_streight_1152.mp3 to /content/wav_files/front_forworld_streight/front_forworld_streight_1152.wav\n",
            "Converted /content/front_forworld_streight/front_forworld_streight/front_forworld_streight_1222.mp3 to /content/wav_files/front_forworld_streight/front_forworld_streight_1222.wav\n",
            "Converted /content/front_forworld_streight/front_forworld_streight/front_forworld_streight_1380.mp3 to /content/wav_files/front_forworld_streight/front_forworld_streight_1380.wav\n",
            "Converted /content/front_forworld_streight/front_forworld_streight/front_forworld_streight_1233.mp3 to /content/wav_files/front_forworld_streight/front_forworld_streight_1233.wav\n",
            "Converted /content/front_forworld_streight/front_forworld_streight/front_forworld_streight_1365.mp3 to /content/wav_files/front_forworld_streight/front_forworld_streight_1365.wav\n",
            "Converted /content/front_forworld_streight/front_forworld_streight/front_forworld_streight_902.mp3 to /content/wav_files/front_forworld_streight/front_forworld_streight_902.wav\n",
            "Converted /content/front_forworld_streight/front_forworld_streight/front_forworld_streight_910.mp3 to /content/wav_files/front_forworld_streight/front_forworld_streight_910.wav\n",
            "Converted /content/front_forworld_streight/front_forworld_streight/front_forworld_streight_1360.mp3 to /content/wav_files/front_forworld_streight/front_forworld_streight_1360.wav\n",
            "Converted /content/front_forworld_streight/front_forworld_streight/front_forworld_streight_1226.mp3 to /content/wav_files/front_forworld_streight/front_forworld_streight_1226.wav\n",
            "Converted /content/front_forworld_streight/front_forworld_streight/front_forworld_streight_960.mp3 to /content/wav_files/front_forworld_streight/front_forworld_streight_960.wav\n",
            "Converted /content/front_forworld_streight/front_forworld_streight/front_forworld_streight_1036.mp3 to /content/wav_files/front_forworld_streight/front_forworld_streight_1036.wav\n",
            "Converted /content/front_forworld_streight/front_forworld_streight/front_forworld_streight_881.mp3 to /content/wav_files/front_forworld_streight/front_forworld_streight_881.wav\n",
            "Converted /content/front_forworld_streight/front_forworld_streight/front_forworld_streight_990.mp3 to /content/wav_files/front_forworld_streight/front_forworld_streight_990.wav\n",
            "Converted /content/front_forworld_streight/front_forworld_streight/front_forworld_streight_1142.mp3 to /content/wav_files/front_forworld_streight/front_forworld_streight_1142.wav\n",
            "Converted /content/front_forworld_streight/front_forworld_streight/front_forworld_streight_1126.mp3 to /content/wav_files/front_forworld_streight/front_forworld_streight_1126.wav\n",
            "Converted /content/front_forworld_streight/front_forworld_streight/front_forworld_streight_1306.mp3 to /content/wav_files/front_forworld_streight/front_forworld_streight_1306.wav\n",
            "Converted /content/front_forworld_streight/front_forworld_streight/front_forworld_streight_1383.mp3 to /content/wav_files/front_forworld_streight/front_forworld_streight_1383.wav\n",
            "Converted /content/front_forworld_streight/front_forworld_streight/front_forworld_streight_1344.mp3 to /content/wav_files/front_forworld_streight/front_forworld_streight_1344.wav\n",
            "Converted /content/front_forworld_streight/front_forworld_streight/front_forworld_streight_1350.mp3 to /content/wav_files/front_forworld_streight/front_forworld_streight_1350.wav\n",
            "Converted /content/front_forworld_streight/front_forworld_streight/front_forworld_streight_913.mp3 to /content/wav_files/front_forworld_streight/front_forworld_streight_913.wav\n",
            "Converted /content/front_forworld_streight/front_forworld_streight/front_forworld_streight_1176.mp3 to /content/wav_files/front_forworld_streight/front_forworld_streight_1176.wav\n",
            "Converted /content/front_forworld_streight/front_forworld_streight/front_forworld_streight_1193.mp3 to /content/wav_files/front_forworld_streight/front_forworld_streight_1193.wav\n",
            "Converted /content/front_forworld_streight/front_forworld_streight/front_forworld_streight_1331.mp3 to /content/wav_files/front_forworld_streight/front_forworld_streight_1331.wav\n",
            "Converted /content/front_forworld_streight/front_forworld_streight/front_forworld_streight_1084.mp3 to /content/wav_files/front_forworld_streight/front_forworld_streight_1084.wav\n",
            "Converted /content/front_forworld_streight/front_forworld_streight/front_forworld_streight_1179.mp3 to /content/wav_files/front_forworld_streight/front_forworld_streight_1179.wav\n",
            "Converted /content/front_forworld_streight/front_forworld_streight/front_forworld_streight_1173.mp3 to /content/wav_files/front_forworld_streight/front_forworld_streight_1173.wav\n",
            "Converted /content/front_forworld_streight/front_forworld_streight/front_forworld_streight_1072.mp3 to /content/wav_files/front_forworld_streight/front_forworld_streight_1072.wav\n",
            "Converted /content/front_forworld_streight/front_forworld_streight/front_forworld_streight_1245.mp3 to /content/wav_files/front_forworld_streight/front_forworld_streight_1245.wav\n",
            "Converted /content/front_forworld_streight/front_forworld_streight/front_forworld_streight_1275.mp3 to /content/wav_files/front_forworld_streight/front_forworld_streight_1275.wav\n",
            "Converted /content/front_forworld_streight/front_forworld_streight/front_forworld_streight_974.mp3 to /content/wav_files/front_forworld_streight/front_forworld_streight_974.wav\n",
            "Converted /content/front_forworld_streight/front_forworld_streight/front_forworld_streight_1207.mp3 to /content/wav_files/front_forworld_streight/front_forworld_streight_1207.wav\n",
            "Converted /content/front_forworld_streight/front_forworld_streight/front_forworld_streight_991.mp3 to /content/wav_files/front_forworld_streight/front_forworld_streight_991.wav\n",
            "Converted /content/front_forworld_streight/front_forworld_streight/front_forworld_streight_1106.mp3 to /content/wav_files/front_forworld_streight/front_forworld_streight_1106.wav\n",
            "Converted /content/front_forworld_streight/front_forworld_streight/front_forworld_streight_1316.mp3 to /content/wav_files/front_forworld_streight/front_forworld_streight_1316.wav\n",
            "Converted /content/front_forworld_streight/front_forworld_streight/front_forworld_streight_1254.mp3 to /content/wav_files/front_forworld_streight/front_forworld_streight_1254.wav\n",
            "Converted /content/front_forworld_streight/front_forworld_streight/front_forworld_streight_1322.mp3 to /content/wav_files/front_forworld_streight/front_forworld_streight_1322.wav\n",
            "Converted /content/front_forworld_streight/front_forworld_streight/front_forworld_streight_905.mp3 to /content/wav_files/front_forworld_streight/front_forworld_streight_905.wav\n",
            "Converted /content/front_forworld_streight/front_forworld_streight/front_forworld_streight_900.mp3 to /content/wav_files/front_forworld_streight/front_forworld_streight_900.wav\n",
            "Converted /content/front_forworld_streight/front_forworld_streight/front_forworld_streight_1296.mp3 to /content/wav_files/front_forworld_streight/front_forworld_streight_1296.wav\n",
            "Converted /content/front_forworld_streight/front_forworld_streight/front_forworld_streight_1138.mp3 to /content/wav_files/front_forworld_streight/front_forworld_streight_1138.wav\n",
            "Converted /content/front_forworld_streight/front_forworld_streight/front_forworld_streight_967.mp3 to /content/wav_files/front_forworld_streight/front_forworld_streight_967.wav\n",
            "Converted /content/front_forworld_streight/front_forworld_streight/front_forworld_streight_923.mp3 to /content/wav_files/front_forworld_streight/front_forworld_streight_923.wav\n",
            "Converted /content/front_forworld_streight/front_forworld_streight/front_forworld_streight_1122.mp3 to /content/wav_files/front_forworld_streight/front_forworld_streight_1122.wav\n",
            "Converted /content/front_forworld_streight/front_forworld_streight/front_forworld_streight_898.mp3 to /content/wav_files/front_forworld_streight/front_forworld_streight_898.wav\n",
            "Converted /content/front_forworld_streight/front_forworld_streight/front_forworld_streight_909.mp3 to /content/wav_files/front_forworld_streight/front_forworld_streight_909.wav\n",
            "Converted /content/front_forworld_streight/front_forworld_streight/front_forworld_streight_1304.mp3 to /content/wav_files/front_forworld_streight/front_forworld_streight_1304.wav\n",
            "Converted /content/front_forworld_streight/front_forworld_streight/front_forworld_streight_1042.mp3 to /content/wav_files/front_forworld_streight/front_forworld_streight_1042.wav\n",
            "Converted /content/front_forworld_streight/front_forworld_streight/front_forworld_streight_1312.mp3 to /content/wav_files/front_forworld_streight/front_forworld_streight_1312.wav\n",
            "Converted /content/front_forworld_streight/front_forworld_streight/front_forworld_streight_894.mp3 to /content/wav_files/front_forworld_streight/front_forworld_streight_894.wav\n",
            "Converted /content/front_forworld_streight/front_forworld_streight/front_forworld_streight_1013.mp3 to /content/wav_files/front_forworld_streight/front_forworld_streight_1013.wav\n",
            "Converted /content/front_forworld_streight/front_forworld_streight/front_forworld_streight_1099.mp3 to /content/wav_files/front_forworld_streight/front_forworld_streight_1099.wav\n",
            "Converted /content/front_forworld_streight/front_forworld_streight/front_forworld_streight_1143.mp3 to /content/wav_files/front_forworld_streight/front_forworld_streight_1143.wav\n",
            "Converted /content/front_forworld_streight/front_forworld_streight/front_forworld_streight_882.mp3 to /content/wav_files/front_forworld_streight/front_forworld_streight_882.wav\n",
            "Converted /content/front_forworld_streight/front_forworld_streight/front_forworld_streight_1066.mp3 to /content/wav_files/front_forworld_streight/front_forworld_streight_1066.wav\n",
            "Converted /content/front_forworld_streight/front_forworld_streight/front_forworld_streight_1060.mp3 to /content/wav_files/front_forworld_streight/front_forworld_streight_1060.wav\n",
            "Converted /content/front_forworld_streight/front_forworld_streight/front_forworld_streight_1078.mp3 to /content/wav_files/front_forworld_streight/front_forworld_streight_1078.wav\n",
            "Converted /content/front_forworld_streight/front_forworld_streight/front_forworld_streight_1368.mp3 to /content/wav_files/front_forworld_streight/front_forworld_streight_1368.wav\n",
            "Converted /content/front_forworld_streight/front_forworld_streight/front_forworld_streight_1210.mp3 to /content/wav_files/front_forworld_streight/front_forworld_streight_1210.wav\n",
            "Converted /content/front_forworld_streight/front_forworld_streight/front_forworld_streight_1394.mp3 to /content/wav_files/front_forworld_streight/front_forworld_streight_1394.wav\n",
            "Converted /content/front_forworld_streight/front_forworld_streight/front_forworld_streight_998.mp3 to /content/wav_files/front_forworld_streight/front_forworld_streight_998.wav\n",
            "Converted /content/front_forworld_streight/front_forworld_streight/front_forworld_streight_947.mp3 to /content/wav_files/front_forworld_streight/front_forworld_streight_947.wav\n",
            "Converted /content/front_forworld_streight/front_forworld_streight/front_forworld_streight_969.mp3 to /content/wav_files/front_forworld_streight/front_forworld_streight_969.wav\n",
            "Converted /content/front_forworld_streight/front_forworld_streight/front_forworld_streight_1353.mp3 to /content/wav_files/front_forworld_streight/front_forworld_streight_1353.wav\n",
            "Converted /content/front_forworld_streight/front_forworld_streight/front_forworld_streight_1000.mp3 to /content/wav_files/front_forworld_streight/front_forworld_streight_1000.wav\n",
            "Converted /content/front_forworld_streight/front_forworld_streight/front_forworld_streight_952.mp3 to /content/wav_files/front_forworld_streight/front_forworld_streight_952.wav\n",
            "Converted /content/front_forworld_streight/front_forworld_streight/front_forworld_streight_1293.mp3 to /content/wav_files/front_forworld_streight/front_forworld_streight_1293.wav\n",
            "Converted /content/front_forworld_streight/front_forworld_streight/front_forworld_streight_1168.mp3 to /content/wav_files/front_forworld_streight/front_forworld_streight_1168.wav\n",
            "Converted /content/front_forworld_streight/front_forworld_streight/front_forworld_streight_1014.mp3 to /content/wav_files/front_forworld_streight/front_forworld_streight_1014.wav\n",
            "Converted /content/front_forworld_streight/front_forworld_streight/front_forworld_streight_918.mp3 to /content/wav_files/front_forworld_streight/front_forworld_streight_918.wav\n",
            "Converted /content/front_forworld_streight/front_forworld_streight/front_forworld_streight_1045.mp3 to /content/wav_files/front_forworld_streight/front_forworld_streight_1045.wav\n",
            "Converted /content/front_forworld_streight/front_forworld_streight/front_forworld_streight_1144.mp3 to /content/wav_files/front_forworld_streight/front_forworld_streight_1144.wav\n",
            "Converted /content/front_forworld_streight/front_forworld_streight/front_forworld_streight_1385.mp3 to /content/wav_files/front_forworld_streight/front_forworld_streight_1385.wav\n",
            "Converted /content/front_forworld_streight/front_forworld_streight/front_forworld_streight_1187.mp3 to /content/wav_files/front_forworld_streight/front_forworld_streight_1187.wav\n",
            "Converted /content/front_forworld_streight/front_forworld_streight/front_forworld_streight_1116.mp3 to /content/wav_files/front_forworld_streight/front_forworld_streight_1116.wav\n",
            "Converted /content/front_forworld_streight/front_forworld_streight/front_forworld_streight_1250.mp3 to /content/wav_files/front_forworld_streight/front_forworld_streight_1250.wav\n",
            "Converted /content/front_forworld_streight/front_forworld_streight/front_forworld_streight_1354.mp3 to /content/wav_files/front_forworld_streight/front_forworld_streight_1354.wav\n",
            "Converted /content/front_forworld_streight/front_forworld_streight/front_forworld_streight_934.mp3 to /content/wav_files/front_forworld_streight/front_forworld_streight_934.wav\n",
            "Converted /content/front_forworld_streight/front_forworld_streight/front_forworld_streight_1063.mp3 to /content/wav_files/front_forworld_streight/front_forworld_streight_1063.wav\n",
            "Converted /content/front_forworld_streight/front_forworld_streight/front_forworld_streight_1079.mp3 to /content/wav_files/front_forworld_streight/front_forworld_streight_1079.wav\n",
            "Converted /content/front_forworld_streight/front_forworld_streight/front_forworld_streight_1264.mp3 to /content/wav_files/front_forworld_streight/front_forworld_streight_1264.wav\n",
            "Converted /content/front_forworld_streight/front_forworld_streight/front_forworld_streight_1190.mp3 to /content/wav_files/front_forworld_streight/front_forworld_streight_1190.wav\n",
            "Converted /content/front_forworld_streight/front_forworld_streight/front_forworld_streight_961.mp3 to /content/wav_files/front_forworld_streight/front_forworld_streight_961.wav\n",
            "Converted /content/front_forworld_streight/front_forworld_streight/front_forworld_streight_1092.mp3 to /content/wav_files/front_forworld_streight/front_forworld_streight_1092.wav\n",
            "Converted /content/front_forworld_streight/front_forworld_streight/front_forworld_streight_1232.mp3 to /content/wav_files/front_forworld_streight/front_forworld_streight_1232.wav\n",
            "Converted /content/front_forworld_streight/front_forworld_streight/front_forworld_streight_893.mp3 to /content/wav_files/front_forworld_streight/front_forworld_streight_893.wav\n",
            "Converted /content/front_forworld_streight/front_forworld_streight/front_forworld_streight_1167.mp3 to /content/wav_files/front_forworld_streight/front_forworld_streight_1167.wav\n",
            "Converted /content/front_forworld_streight/front_forworld_streight/front_forworld_streight_1374.mp3 to /content/wav_files/front_forworld_streight/front_forworld_streight_1374.wav\n",
            "Converted /content/front_forworld_streight/front_forworld_streight/front_forworld_streight_1006.mp3 to /content/wav_files/front_forworld_streight/front_forworld_streight_1006.wav\n",
            "Converted /content/front_forworld_streight/front_forworld_streight/front_forworld_streight_904.mp3 to /content/wav_files/front_forworld_streight/front_forworld_streight_904.wav\n",
            "Converted /content/front_forworld_streight/front_forworld_streight/front_forworld_streight_922.mp3 to /content/wav_files/front_forworld_streight/front_forworld_streight_922.wav\n",
            "Converted /content/front_forworld_streight/front_forworld_streight/front_forworld_streight_1059.mp3 to /content/wav_files/front_forworld_streight/front_forworld_streight_1059.wav\n",
            "Converted /content/front_forworld_streight/front_forworld_streight/front_forworld_streight_1378.mp3 to /content/wav_files/front_forworld_streight/front_forworld_streight_1378.wav\n",
            "Converted /content/front_forworld_streight/front_forworld_streight/front_forworld_streight_1214.mp3 to /content/wav_files/front_forworld_streight/front_forworld_streight_1214.wav\n",
            "Converted /content/front_forworld_streight/front_forworld_streight/front_forworld_streight_950.mp3 to /content/wav_files/front_forworld_streight/front_forworld_streight_950.wav\n",
            "Converted /content/front_forworld_streight/front_forworld_streight/front_forworld_streight_972.mp3 to /content/wav_files/front_forworld_streight/front_forworld_streight_972.wav\n",
            "Converted /content/front_forworld_streight/front_forworld_streight/front_forworld_streight_1356.mp3 to /content/wav_files/front_forworld_streight/front_forworld_streight_1356.wav\n",
            "Converted /content/front_forworld_streight/front_forworld_streight/front_forworld_streight_1242.mp3 to /content/wav_files/front_forworld_streight/front_forworld_streight_1242.wav\n",
            "Converted /content/front_forworld_streight/front_forworld_streight/front_forworld_streight_1256.mp3 to /content/wav_files/front_forworld_streight/front_forworld_streight_1256.wav\n",
            "Converted /content/front_forworld_streight/front_forworld_streight/front_forworld_streight_1340.mp3 to /content/wav_files/front_forworld_streight/front_forworld_streight_1340.wav\n",
            "Converted /content/front_forworld_streight/front_forworld_streight/front_forworld_streight_907.mp3 to /content/wav_files/front_forworld_streight/front_forworld_streight_907.wav\n",
            "Converted /content/front_forworld_streight/front_forworld_streight/front_forworld_streight_997.mp3 to /content/wav_files/front_forworld_streight/front_forworld_streight_997.wav\n",
            "Converted /content/front_forworld_streight/front_forworld_streight/front_forworld_streight_895.mp3 to /content/wav_files/front_forworld_streight/front_forworld_streight_895.wav\n",
            "Converted /content/front_forworld_streight/front_forworld_streight/front_forworld_streight_1215.mp3 to /content/wav_files/front_forworld_streight/front_forworld_streight_1215.wav\n",
            "Converted /content/front_forworld_streight/front_forworld_streight/front_forworld_streight_1019.mp3 to /content/wav_files/front_forworld_streight/front_forworld_streight_1019.wav\n",
            "Converted /content/front_forworld_streight/front_forworld_streight/front_forworld_streight_978.mp3 to /content/wav_files/front_forworld_streight/front_forworld_streight_978.wav\n",
            "Converted /content/front_forworld_streight/front_forworld_streight/front_forworld_streight_1131.mp3 to /content/wav_files/front_forworld_streight/front_forworld_streight_1131.wav\n",
            "Converted /content/front_forworld_streight/front_forworld_streight/front_forworld_streight_1189.mp3 to /content/wav_files/front_forworld_streight/front_forworld_streight_1189.wav\n",
            "Converted /content/front_forworld_streight/front_forworld_streight/front_forworld_streight_916.mp3 to /content/wav_files/front_forworld_streight/front_forworld_streight_916.wav\n",
            "Converted /content/front_forworld_streight/front_forworld_streight/front_forworld_streight_926.mp3 to /content/wav_files/front_forworld_streight/front_forworld_streight_926.wav\n",
            "Converted /content/front_forworld_streight/front_forworld_streight/front_forworld_streight_1332.mp3 to /content/wav_files/front_forworld_streight/front_forworld_streight_1332.wav\n",
            "Converted /content/front_forworld_streight/front_forworld_streight/front_forworld_streight_1272.mp3 to /content/wav_files/front_forworld_streight/front_forworld_streight_1272.wav\n",
            "Converted /content/front_forworld_streight/front_forworld_streight/front_forworld_streight_1145.mp3 to /content/wav_files/front_forworld_streight/front_forworld_streight_1145.wav\n",
            "Converted /content/front_forworld_streight/front_forworld_streight/front_forworld_streight_1309.mp3 to /content/wav_files/front_forworld_streight/front_forworld_streight_1309.wav\n",
            "Converted /content/front_forworld_streight/front_forworld_streight/front_forworld_streight_942.mp3 to /content/wav_files/front_forworld_streight/front_forworld_streight_942.wav\n",
            "Converted /content/front_forworld_streight/front_forworld_streight/front_forworld_streight_1392.mp3 to /content/wav_files/front_forworld_streight/front_forworld_streight_1392.wav\n",
            "Converted /content/front_forworld_streight/front_forworld_streight/front_forworld_streight_1299.mp3 to /content/wav_files/front_forworld_streight/front_forworld_streight_1299.wav\n",
            "Converted /content/front_forworld_streight/front_forworld_streight/front_forworld_streight_1379.mp3 to /content/wav_files/front_forworld_streight/front_forworld_streight_1379.wav\n",
            "Converted /content/front_forworld_streight/front_forworld_streight/front_forworld_streight_1282.mp3 to /content/wav_files/front_forworld_streight/front_forworld_streight_1282.wav\n",
            "Converted /content/front_forworld_streight/front_forworld_streight/front_forworld_streight_1244.mp3 to /content/wav_files/front_forworld_streight/front_forworld_streight_1244.wav\n",
            "Converted /content/front_forworld_streight/front_forworld_streight/front_forworld_streight_933.mp3 to /content/wav_files/front_forworld_streight/front_forworld_streight_933.wav\n",
            "Converted /content/front_forworld_streight/front_forworld_streight/front_forworld_streight_1382.mp3 to /content/wav_files/front_forworld_streight/front_forworld_streight_1382.wav\n",
            "Converted /content/front_forworld_streight/front_forworld_streight/front_forworld_streight_1305.mp3 to /content/wav_files/front_forworld_streight/front_forworld_streight_1305.wav\n",
            "Converted /content/front_forworld_streight/front_forworld_streight/front_forworld_streight_1220.mp3 to /content/wav_files/front_forworld_streight/front_forworld_streight_1220.wav\n",
            "Converted /content/front_forworld_streight/front_forworld_streight/front_forworld_streight_1047.mp3 to /content/wav_files/front_forworld_streight/front_forworld_streight_1047.wav\n",
            "Converted /content/front_forworld_streight/front_forworld_streight/front_forworld_streight_1265.mp3 to /content/wav_files/front_forworld_streight/front_forworld_streight_1265.wav\n",
            "Converted /content/front_forworld_streight/front_forworld_streight/front_forworld_streight_1263.mp3 to /content/wav_files/front_forworld_streight/front_forworld_streight_1263.wav\n",
            "Converted /content/front_forworld_streight/front_forworld_streight/front_forworld_streight_1163.mp3 to /content/wav_files/front_forworld_streight/front_forworld_streight_1163.wav\n",
            "Converted /content/front_forworld_streight/front_forworld_streight/front_forworld_streight_1090.mp3 to /content/wav_files/front_forworld_streight/front_forworld_streight_1090.wav\n",
            "Converted /content/front_forworld_streight/front_forworld_streight/front_forworld_streight_1088.mp3 to /content/wav_files/front_forworld_streight/front_forworld_streight_1088.wav\n",
            "Converted /content/front_forworld_streight/front_forworld_streight/front_forworld_streight_1034.mp3 to /content/wav_files/front_forworld_streight/front_forworld_streight_1034.wav\n",
            "Converted /content/front_forworld_streight/front_forworld_streight/front_forworld_streight_943.mp3 to /content/wav_files/front_forworld_streight/front_forworld_streight_943.wav\n",
            "Converted /content/front_forworld_streight/front_forworld_streight/front_forworld_streight_1188.mp3 to /content/wav_files/front_forworld_streight/front_forworld_streight_1188.wav\n",
            "Converted /content/front_forworld_streight/front_forworld_streight/front_forworld_streight_1082.mp3 to /content/wav_files/front_forworld_streight/front_forworld_streight_1082.wav\n",
            "Converted /content/front_forworld_streight/front_forworld_streight/front_forworld_streight_964.mp3 to /content/wav_files/front_forworld_streight/front_forworld_streight_964.wav\n",
            "Converted /content/front_forworld_streight/front_forworld_streight/front_forworld_streight_1021.mp3 to /content/wav_files/front_forworld_streight/front_forworld_streight_1021.wav\n",
            "Converted /content/front_forworld_streight/front_forworld_streight/front_forworld_streight_980.mp3 to /content/wav_files/front_forworld_streight/front_forworld_streight_980.wav\n",
            "Converted /content/front_forworld_streight/front_forworld_streight/front_forworld_streight_1351.mp3 to /content/wav_files/front_forworld_streight/front_forworld_streight_1351.wav\n",
            "Converted /content/front_forworld_streight/front_forworld_streight/front_forworld_streight_1219.mp3 to /content/wav_files/front_forworld_streight/front_forworld_streight_1219.wav\n",
            "Converted /content/front_forworld_streight/front_forworld_streight/front_forworld_streight_1162.mp3 to /content/wav_files/front_forworld_streight/front_forworld_streight_1162.wav\n",
            "Converted /content/front_forworld_streight/front_forworld_streight/front_forworld_streight_1133.mp3 to /content/wav_files/front_forworld_streight/front_forworld_streight_1133.wav\n",
            "Converted /content/front_forworld_streight/front_forworld_streight/front_forworld_streight_1243.mp3 to /content/wav_files/front_forworld_streight/front_forworld_streight_1243.wav\n",
            "Converted /content/front_forworld_streight/front_forworld_streight/front_forworld_streight_962.mp3 to /content/wav_files/front_forworld_streight/front_forworld_streight_962.wav\n",
            "Converted /content/front_forworld_streight/front_forworld_streight/front_forworld_streight_1129.mp3 to /content/wav_files/front_forworld_streight/front_forworld_streight_1129.wav\n",
            "Converted /content/front_forworld_streight/front_forworld_streight/front_forworld_streight_1123.mp3 to /content/wav_files/front_forworld_streight/front_forworld_streight_1123.wav\n",
            "Converted /content/front_forworld_streight/front_forworld_streight/front_forworld_streight_917.mp3 to /content/wav_files/front_forworld_streight/front_forworld_streight_917.wav\n",
            "Converted /content/front_forworld_streight/front_forworld_streight/front_forworld_streight_1204.mp3 to /content/wav_files/front_forworld_streight/front_forworld_streight_1204.wav\n",
            "Converted /content/front_forworld_streight/front_forworld_streight/front_forworld_streight_890.mp3 to /content/wav_files/front_forworld_streight/front_forworld_streight_890.wav\n",
            "Converted /content/front_forworld_streight/front_forworld_streight/front_forworld_streight_1136.mp3 to /content/wav_files/front_forworld_streight/front_forworld_streight_1136.wav\n",
            "Converted /content/front_forworld_streight/front_forworld_streight/front_forworld_streight_1205.mp3 to /content/wav_files/front_forworld_streight/front_forworld_streight_1205.wav\n",
            "Converted /content/front_forworld_streight/front_forworld_streight/front_forworld_streight_1371.mp3 to /content/wav_files/front_forworld_streight/front_forworld_streight_1371.wav\n",
            "Converted /content/front_forworld_streight/front_forworld_streight/front_forworld_streight_1027.mp3 to /content/wav_files/front_forworld_streight/front_forworld_streight_1027.wav\n",
            "Converted /content/front_forworld_streight/front_forworld_streight/front_forworld_streight_1278.mp3 to /content/wav_files/front_forworld_streight/front_forworld_streight_1278.wav\n",
            "Converted /content/front_forworld_streight/front_forworld_streight/front_forworld_streight_1065.mp3 to /content/wav_files/front_forworld_streight/front_forworld_streight_1065.wav\n",
            "Converted /content/front_forworld_streight/front_forworld_streight/front_forworld_streight_945.mp3 to /content/wav_files/front_forworld_streight/front_forworld_streight_945.wav\n",
            "Converted /content/front_forworld_streight/front_forworld_streight/front_forworld_streight_1043.mp3 to /content/wav_files/front_forworld_streight/front_forworld_streight_1043.wav\n",
            "Converted /content/front_forworld_streight/front_forworld_streight/front_forworld_streight_1007.mp3 to /content/wav_files/front_forworld_streight/front_forworld_streight_1007.wav\n",
            "Converted /content/front_forworld_streight/front_forworld_streight/front_forworld_streight_1257.mp3 to /content/wav_files/front_forworld_streight/front_forworld_streight_1257.wav\n",
            "Converted /content/front_forworld_streight/front_forworld_streight/front_forworld_streight_1330.mp3 to /content/wav_files/front_forworld_streight/front_forworld_streight_1330.wav\n",
            "Converted /content/front_forworld_streight/front_forworld_streight/front_forworld_streight_1180.mp3 to /content/wav_files/front_forworld_streight/front_forworld_streight_1180.wav\n",
            "Converted /content/front_forworld_streight/front_forworld_streight/front_forworld_streight_1367.mp3 to /content/wav_files/front_forworld_streight/front_forworld_streight_1367.wav\n",
            "Converted /content/front_forworld_streight/front_forworld_streight/front_forworld_streight_1387.mp3 to /content/wav_files/front_forworld_streight/front_forworld_streight_1387.wav\n",
            "Converted /content/front_forworld_streight/front_forworld_streight/front_forworld_streight_1241.mp3 to /content/wav_files/front_forworld_streight/front_forworld_streight_1241.wav\n",
            "Converted /content/front_forworld_streight/front_forworld_streight/front_forworld_streight_1290.mp3 to /content/wav_files/front_forworld_streight/front_forworld_streight_1290.wav\n",
            "Converted /content/front_forworld_streight/front_forworld_streight/front_forworld_streight_1040.mp3 to /content/wav_files/front_forworld_streight/front_forworld_streight_1040.wav\n",
            "Converted /content/front_forworld_streight/front_forworld_streight/front_forworld_streight_1151.mp3 to /content/wav_files/front_forworld_streight/front_forworld_streight_1151.wav\n",
            "Converted /content/front_forworld_streight/front_forworld_streight/front_forworld_streight_1235.mp3 to /content/wav_files/front_forworld_streight/front_forworld_streight_1235.wav\n",
            "Converted /content/front_forworld_streight/front_forworld_streight/front_forworld_streight_1202.mp3 to /content/wav_files/front_forworld_streight/front_forworld_streight_1202.wav\n",
            "Converted /content/front_forworld_streight/front_forworld_streight/front_forworld_streight_1352.mp3 to /content/wav_files/front_forworld_streight/front_forworld_streight_1352.wav\n",
            "Converted /content/front_forworld_streight/front_forworld_streight/front_forworld_streight_951.mp3 to /content/wav_files/front_forworld_streight/front_forworld_streight_951.wav\n",
            "Converted /content/front_forworld_streight/front_forworld_streight/front_forworld_streight_988.mp3 to /content/wav_files/front_forworld_streight/front_forworld_streight_988.wav\n",
            "Converted /content/front_forworld_streight/front_forworld_streight/front_forworld_streight_921.mp3 to /content/wav_files/front_forworld_streight/front_forworld_streight_921.wav\n",
            "Converted /content/front_forworld_streight/front_forworld_streight/front_forworld_streight_1346.mp3 to /content/wav_files/front_forworld_streight/front_forworld_streight_1346.wav\n",
            "Converted /content/front_forworld_streight/front_forworld_streight/front_forworld_streight_1128.mp3 to /content/wav_files/front_forworld_streight/front_forworld_streight_1128.wav\n",
            "Converted /content/front_forworld_streight/front_forworld_streight/front_forworld_streight_1280.mp3 to /content/wav_files/front_forworld_streight/front_forworld_streight_1280.wav\n",
            "Converted /content/front_forworld_streight/front_forworld_streight/front_forworld_streight_1302.mp3 to /content/wav_files/front_forworld_streight/front_forworld_streight_1302.wav\n",
            "Converted /content/front_forworld_streight/front_forworld_streight/front_forworld_streight_1185.mp3 to /content/wav_files/front_forworld_streight/front_forworld_streight_1185.wav\n",
            "Converted /content/front_forworld_streight/front_forworld_streight/front_forworld_streight_1011.mp3 to /content/wav_files/front_forworld_streight/front_forworld_streight_1011.wav\n",
            "Converted /content/front_forworld_streight/front_forworld_streight/front_forworld_streight_1318.mp3 to /content/wav_files/front_forworld_streight/front_forworld_streight_1318.wav\n",
            "Converted /content/front_forworld_streight/front_forworld_streight/front_forworld_streight_915.mp3 to /content/wav_files/front_forworld_streight/front_forworld_streight_915.wav\n",
            "Converted /content/front_forworld_streight/front_forworld_streight/front_forworld_streight_989.mp3 to /content/wav_files/front_forworld_streight/front_forworld_streight_989.wav\n",
            "Converted /content/front_forworld_streight/front_forworld_streight/front_forworld_streight_1369.mp3 to /content/wav_files/front_forworld_streight/front_forworld_streight_1369.wav\n",
            "Converted /content/front_forworld_streight/front_forworld_streight/front_forworld_streight_1140.mp3 to /content/wav_files/front_forworld_streight/front_forworld_streight_1140.wav\n",
            "Converted /content/front_forworld_streight/front_forworld_streight/front_forworld_streight_919.mp3 to /content/wav_files/front_forworld_streight/front_forworld_streight_919.wav\n",
            "Converted /content/front_forworld_streight/front_forworld_streight/front_forworld_streight_906.mp3 to /content/wav_files/front_forworld_streight/front_forworld_streight_906.wav\n",
            "Converted /content/front_forworld_streight/front_forworld_streight/front_forworld_streight_1298.mp3 to /content/wav_files/front_forworld_streight/front_forworld_streight_1298.wav\n",
            "Converted /content/front_forworld_streight/front_forworld_streight/front_forworld_streight_1095.mp3 to /content/wav_files/front_forworld_streight/front_forworld_streight_1095.wav\n",
            "Converted /content/front_forworld_streight/front_forworld_streight/front_forworld_streight_1373.mp3 to /content/wav_files/front_forworld_streight/front_forworld_streight_1373.wav\n",
            "Converted /content/front_forworld_streight/front_forworld_streight/front_forworld_streight_927.mp3 to /content/wav_files/front_forworld_streight/front_forworld_streight_927.wav\n",
            "Converted /content/front_forworld_streight/front_forworld_streight/front_forworld_streight_1287.mp3 to /content/wav_files/front_forworld_streight/front_forworld_streight_1287.wav\n",
            "Converted /content/front_forworld_streight/front_forworld_streight/front_forworld_streight_965.mp3 to /content/wav_files/front_forworld_streight/front_forworld_streight_965.wav\n",
            "Converted /content/front_forworld_streight/front_forworld_streight/front_forworld_streight_1105.mp3 to /content/wav_files/front_forworld_streight/front_forworld_streight_1105.wav\n",
            "Converted /content/front_forworld_streight/front_forworld_streight/front_forworld_streight_1004.mp3 to /content/wav_files/front_forworld_streight/front_forworld_streight_1004.wav\n",
            "Converted /content/front_forworld_streight/front_forworld_streight/front_forworld_streight_1073.mp3 to /content/wav_files/front_forworld_streight/front_forworld_streight_1073.wav\n",
            "Converted /content/front_forworld_streight/front_forworld_streight/front_forworld_streight_1184.mp3 to /content/wav_files/front_forworld_streight/front_forworld_streight_1184.wav\n",
            "Converted /content/front_forworld_streight/front_forworld_streight/front_forworld_streight_1160.mp3 to /content/wav_files/front_forworld_streight/front_forworld_streight_1160.wav\n",
            "Converted /content/front_forworld_streight/front_forworld_streight/front_forworld_streight_1186.mp3 to /content/wav_files/front_forworld_streight/front_forworld_streight_1186.wav\n",
            "Converted /content/front_forworld_streight/front_forworld_streight/front_forworld_streight_1175.mp3 to /content/wav_files/front_forworld_streight/front_forworld_streight_1175.wav\n",
            "Converted /content/front_forworld_streight/front_forworld_streight/front_forworld_streight_1196.mp3 to /content/wav_files/front_forworld_streight/front_forworld_streight_1196.wav\n",
            "Converted /content/front_forworld_streight/front_forworld_streight/front_forworld_streight_935.mp3 to /content/wav_files/front_forworld_streight/front_forworld_streight_935.wav\n",
            "Converted /content/front_forworld_streight/front_forworld_streight/front_forworld_streight_941.mp3 to /content/wav_files/front_forworld_streight/front_forworld_streight_941.wav\n",
            "Converted /content/front_forworld_streight/front_forworld_streight/front_forworld_streight_1096.mp3 to /content/wav_files/front_forworld_streight/front_forworld_streight_1096.wav\n",
            "Converted /content/front_forworld_streight/front_forworld_streight/front_forworld_streight_1238.mp3 to /content/wav_files/front_forworld_streight/front_forworld_streight_1238.wav\n",
            "Converted /content/front_forworld_streight/front_forworld_streight/front_forworld_streight_1313.mp3 to /content/wav_files/front_forworld_streight/front_forworld_streight_1313.wav\n",
            "Converted /content/front_forworld_streight/front_forworld_streight/front_forworld_streight_1217.mp3 to /content/wav_files/front_forworld_streight/front_forworld_streight_1217.wav\n",
            "Converted /content/front_forworld_streight/front_forworld_streight/front_forworld_streight_970.mp3 to /content/wav_files/front_forworld_streight/front_forworld_streight_970.wav\n",
            "Converted /content/front_forworld_streight/front_forworld_streight/front_forworld_streight_1008.mp3 to /content/wav_files/front_forworld_streight/front_forworld_streight_1008.wav\n",
            "Converted /content/front_forworld_streight/front_forworld_streight/front_forworld_streight_1342.mp3 to /content/wav_files/front_forworld_streight/front_forworld_streight_1342.wav\n",
            "Converted /content/front_forworld_streight/front_forworld_streight/front_forworld_streight_1277.mp3 to /content/wav_files/front_forworld_streight/front_forworld_streight_1277.wav\n",
            "Converted /content/front_forworld_streight/front_forworld_streight/front_forworld_streight_1120.mp3 to /content/wav_files/front_forworld_streight/front_forworld_streight_1120.wav\n",
            "Converted /content/front_forworld_streight/front_forworld_streight/front_forworld_streight_1170.mp3 to /content/wav_files/front_forworld_streight/front_forworld_streight_1170.wav\n",
            "Converted /content/front_forworld_streight/front_forworld_streight/front_forworld_streight_1262.mp3 to /content/wav_files/front_forworld_streight/front_forworld_streight_1262.wav\n",
            "Converted /content/front_forworld_streight/front_forworld_streight/front_forworld_streight_1240.mp3 to /content/wav_files/front_forworld_streight/front_forworld_streight_1240.wav\n",
            "Converted /content/front_forworld_streight/front_forworld_streight/front_forworld_streight_1001.mp3 to /content/wav_files/front_forworld_streight/front_forworld_streight_1001.wav\n",
            "Converted /content/front_forworld_streight/front_forworld_streight/front_forworld_streight_1054.mp3 to /content/wav_files/front_forworld_streight/front_forworld_streight_1054.wav\n",
            "Converted /content/front_forworld_streight/front_forworld_streight/front_forworld_streight_1081.mp3 to /content/wav_files/front_forworld_streight/front_forworld_streight_1081.wav\n",
            "Converted /content/front_forworld_streight/front_forworld_streight/front_forworld_streight_1165.mp3 to /content/wav_files/front_forworld_streight/front_forworld_streight_1165.wav\n",
            "Converted /content/front_forworld_streight/front_forworld_streight/front_forworld_streight_1112.mp3 to /content/wav_files/front_forworld_streight/front_forworld_streight_1112.wav\n",
            "Converted /content/front_forworld_streight/front_forworld_streight/front_forworld_streight_1107.mp3 to /content/wav_files/front_forworld_streight/front_forworld_streight_1107.wav\n",
            "Converted /content/front_forworld_streight/front_forworld_streight/front_forworld_streight_1311.mp3 to /content/wav_files/front_forworld_streight/front_forworld_streight_1311.wav\n",
            "Converted /content/front_forworld_streight/front_forworld_streight/front_forworld_streight_1320.mp3 to /content/wav_files/front_forworld_streight/front_forworld_streight_1320.wav\n",
            "Converted /content/front_forworld_streight/front_forworld_streight/front_forworld_streight_1361.mp3 to /content/wav_files/front_forworld_streight/front_forworld_streight_1361.wav\n",
            "Converted /content/front_forworld_streight/front_forworld_streight/front_forworld_streight_1023.mp3 to /content/wav_files/front_forworld_streight/front_forworld_streight_1023.wav\n",
            "Converted /content/front_forworld_streight/front_forworld_streight/front_forworld_streight_912.mp3 to /content/wav_files/front_forworld_streight/front_forworld_streight_912.wav\n",
            "Converted /content/front_forworld_streight/front_forworld_streight/front_forworld_streight_1148.mp3 to /content/wav_files/front_forworld_streight/front_forworld_streight_1148.wav\n",
            "Converted /content/front_forworld_streight/front_forworld_streight/front_forworld_streight_1195.mp3 to /content/wav_files/front_forworld_streight/front_forworld_streight_1195.wav\n",
            "Converted /content/front_forworld_streight/front_forworld_streight/front_forworld_streight_993.mp3 to /content/wav_files/front_forworld_streight/front_forworld_streight_993.wav\n",
            "Converted /content/front_forworld_streight/front_forworld_streight/front_forworld_streight_1076.mp3 to /content/wav_files/front_forworld_streight/front_forworld_streight_1076.wav\n",
            "Converted /content/front_forworld_streight/front_forworld_streight/front_forworld_streight_1259.mp3 to /content/wav_files/front_forworld_streight/front_forworld_streight_1259.wav\n",
            "Converted /content/front_forworld_streight/front_forworld_streight/front_forworld_streight_1032.mp3 to /content/wav_files/front_forworld_streight/front_forworld_streight_1032.wav\n",
            "Converted /content/front_forworld_streight/front_forworld_streight/front_forworld_streight_1366.mp3 to /content/wav_files/front_forworld_streight/front_forworld_streight_1366.wav\n",
            "Converted /content/front_forworld_streight/front_forworld_streight/front_forworld_streight_891.mp3 to /content/wav_files/front_forworld_streight/front_forworld_streight_891.wav\n",
            "Converted /content/front_forworld_streight/front_forworld_streight/front_forworld_streight_1083.mp3 to /content/wav_files/front_forworld_streight/front_forworld_streight_1083.wav\n",
            "Converted /content/front_forworld_streight/front_forworld_streight/front_forworld_streight_986.mp3 to /content/wav_files/front_forworld_streight/front_forworld_streight_986.wav\n",
            "Converted /content/front_forworld_streight/front_forworld_streight/front_forworld_streight_1291.mp3 to /content/wav_files/front_forworld_streight/front_forworld_streight_1291.wav\n",
            "Converted /content/front_forworld_streight/front_forworld_streight/front_forworld_streight_1130.mp3 to /content/wav_files/front_forworld_streight/front_forworld_streight_1130.wav\n",
            "Converted /content/front_forworld_streight/front_forworld_streight/front_forworld_streight_1285.mp3 to /content/wav_files/front_forworld_streight/front_forworld_streight_1285.wav\n",
            "Converted /content/front_forworld_streight/front_forworld_streight/front_forworld_streight_983.mp3 to /content/wav_files/front_forworld_streight/front_forworld_streight_983.wav\n",
            "Converted /content/front_forworld_streight/front_forworld_streight/front_forworld_streight_1028.mp3 to /content/wav_files/front_forworld_streight/front_forworld_streight_1028.wav\n",
            "Converted /content/front_forworld_streight/front_forworld_streight/front_forworld_streight_1104.mp3 to /content/wav_files/front_forworld_streight/front_forworld_streight_1104.wav\n",
            "Converted /content/front_forworld_streight/front_forworld_streight/front_forworld_streight_1155.mp3 to /content/wav_files/front_forworld_streight/front_forworld_streight_1155.wav\n",
            "Converted /content/front_forworld_streight/front_forworld_streight/front_forworld_streight_1091.mp3 to /content/wav_files/front_forworld_streight/front_forworld_streight_1091.wav\n",
            "Converted /content/front_forworld_streight/front_forworld_streight/front_forworld_streight_1393.mp3 to /content/wav_files/front_forworld_streight/front_forworld_streight_1393.wav\n",
            "Converted /content/front_forworld_streight/front_forworld_streight/front_forworld_streight_1294.mp3 to /content/wav_files/front_forworld_streight/front_forworld_streight_1294.wav\n",
            "Converted /content/front_forworld_streight/front_forworld_streight/front_forworld_streight_987.mp3 to /content/wav_files/front_forworld_streight/front_forworld_streight_987.wav\n",
            "Converted /content/front_forworld_streight/front_forworld_streight/front_forworld_streight_1153.mp3 to /content/wav_files/front_forworld_streight/front_forworld_streight_1153.wav\n",
            "Converted /content/front_forworld_streight/front_forworld_streight/front_forworld_streight_1050.mp3 to /content/wav_files/front_forworld_streight/front_forworld_streight_1050.wav\n",
            "Converted /content/front_forworld_streight/front_forworld_streight/front_forworld_streight_1169.mp3 to /content/wav_files/front_forworld_streight/front_forworld_streight_1169.wav\n",
            "Converted /content/front_forworld_streight/front_forworld_streight/front_forworld_streight_1005.mp3 to /content/wav_files/front_forworld_streight/front_forworld_streight_1005.wav\n",
            "Converted /content/front_forworld_streight/front_forworld_streight/front_forworld_streight_1247.mp3 to /content/wav_files/front_forworld_streight/front_forworld_streight_1247.wav\n",
            "Converted /content/front_forworld_streight/front_forworld_streight/front_forworld_streight_1077.mp3 to /content/wav_files/front_forworld_streight/front_forworld_streight_1077.wav\n",
            "Converted /content/front_forworld_streight/front_forworld_streight/front_forworld_streight_1345.mp3 to /content/wav_files/front_forworld_streight/front_forworld_streight_1345.wav\n",
            "Converted /content/front_forworld_streight/front_forworld_streight/front_forworld_streight_1022.mp3 to /content/wav_files/front_forworld_streight/front_forworld_streight_1022.wav\n",
            "Converted /content/front_forworld_streight/front_forworld_streight/front_forworld_streight_1218.mp3 to /content/wav_files/front_forworld_streight/front_forworld_streight_1218.wav\n",
            "Converted /content/front_forworld_streight/front_forworld_streight/front_forworld_streight_1359.mp3 to /content/wav_files/front_forworld_streight/front_forworld_streight_1359.wav\n",
            "Converted /content/front_forworld_streight/front_forworld_streight/front_forworld_streight_1124.mp3 to /content/wav_files/front_forworld_streight/front_forworld_streight_1124.wav\n",
            "Converted /content/front_forworld_streight/front_forworld_streight/front_forworld_streight_1326.mp3 to /content/wav_files/front_forworld_streight/front_forworld_streight_1326.wav\n",
            "Converted /content/front_forworld_streight/front_forworld_streight/front_forworld_streight_1286.mp3 to /content/wav_files/front_forworld_streight/front_forworld_streight_1286.wav\n",
            "Converted /content/front_forworld_streight/front_forworld_streight/front_forworld_streight_1067.mp3 to /content/wav_files/front_forworld_streight/front_forworld_streight_1067.wav\n",
            "Converted /content/front_forworld_streight/front_forworld_streight/front_forworld_streight_973.mp3 to /content/wav_files/front_forworld_streight/front_forworld_streight_973.wav\n",
            "Converted /content/front_forworld_streight/front_forworld_streight/front_forworld_streight_963.mp3 to /content/wav_files/front_forworld_streight/front_forworld_streight_963.wav\n",
            "Converted /content/front_forworld_streight/front_forworld_streight/front_forworld_streight_1370.mp3 to /content/wav_files/front_forworld_streight/front_forworld_streight_1370.wav\n",
            "Converted /content/front_forworld_streight/front_forworld_streight/front_forworld_streight_1010.mp3 to /content/wav_files/front_forworld_streight/front_forworld_streight_1010.wav\n",
            "Converted /content/front_forworld_streight/front_forworld_streight/front_forworld_streight_1372.mp3 to /content/wav_files/front_forworld_streight/front_forworld_streight_1372.wav\n",
            "Converted /content/front_forworld_streight/front_forworld_streight/front_forworld_streight_1041.mp3 to /content/wav_files/front_forworld_streight/front_forworld_streight_1041.wav\n",
            "Converted /content/front_forworld_streight/front_forworld_streight/front_forworld_streight_954.mp3 to /content/wav_files/front_forworld_streight/front_forworld_streight_954.wav\n",
            "Converted /content/front_forworld_streight/front_forworld_streight/front_forworld_streight_1325.mp3 to /content/wav_files/front_forworld_streight/front_forworld_streight_1325.wav\n",
            "Converted /content/front_forworld_streight/front_forworld_streight/front_forworld_streight_1211.mp3 to /content/wav_files/front_forworld_streight/front_forworld_streight_1211.wav\n",
            "Converted /content/front_forworld_streight/front_forworld_streight/front_forworld_streight_1239.mp3 to /content/wav_files/front_forworld_streight/front_forworld_streight_1239.wav\n",
            "Converted /content/front_forworld_streight/front_forworld_streight/front_forworld_streight_1335.mp3 to /content/wav_files/front_forworld_streight/front_forworld_streight_1335.wav\n",
            "Converted /content/front_forworld_streight/front_forworld_streight/front_forworld_streight_1261.mp3 to /content/wav_files/front_forworld_streight/front_forworld_streight_1261.wav\n",
            "Converted /content/front_forworld_streight/front_forworld_streight/front_forworld_streight_957.mp3 to /content/wav_files/front_forworld_streight/front_forworld_streight_957.wav\n",
            "Converted /content/front_forworld_streight/front_forworld_streight/front_forworld_streight_1323.mp3 to /content/wav_files/front_forworld_streight/front_forworld_streight_1323.wav\n",
            "Converted /content/front_forworld_streight/front_forworld_streight/front_forworld_streight_1037.mp3 to /content/wav_files/front_forworld_streight/front_forworld_streight_1037.wav\n",
            "Converted /content/front_forworld_streight/front_forworld_streight/front_forworld_streight_1208.mp3 to /content/wav_files/front_forworld_streight/front_forworld_streight_1208.wav\n",
            "Converted /content/front_forworld_streight/front_forworld_streight/front_forworld_streight_938.mp3 to /content/wav_files/front_forworld_streight/front_forworld_streight_938.wav\n",
            "Converted /content/front_forworld_streight/front_forworld_streight/front_forworld_streight_1274.mp3 to /content/wav_files/front_forworld_streight/front_forworld_streight_1274.wav\n",
            "Converted /content/front_forworld_streight/front_forworld_streight/front_forworld_streight_937.mp3 to /content/wav_files/front_forworld_streight/front_forworld_streight_937.wav\n",
            "Converted /content/front_forworld_streight/front_forworld_streight/front_forworld_streight_1197.mp3 to /content/wav_files/front_forworld_streight/front_forworld_streight_1197.wav\n",
            "Converted /content/front_forworld_streight/front_forworld_streight/front_forworld_streight_1062.mp3 to /content/wav_files/front_forworld_streight/front_forworld_streight_1062.wav\n",
            "Converted /content/front_forworld_streight/front_forworld_streight/front_forworld_streight_1097.mp3 to /content/wav_files/front_forworld_streight/front_forworld_streight_1097.wav\n",
            "Converted /content/front_forworld_streight/front_forworld_streight/front_forworld_streight_1080.mp3 to /content/wav_files/front_forworld_streight/front_forworld_streight_1080.wav\n",
            "Converted /content/front_forworld_streight/front_forworld_streight/front_forworld_streight_995.mp3 to /content/wav_files/front_forworld_streight/front_forworld_streight_995.wav\n",
            "Converted /content/front_forworld_streight/front_forworld_streight/front_forworld_streight_981.mp3 to /content/wav_files/front_forworld_streight/front_forworld_streight_981.wav\n",
            "Converted /content/front_forworld_streight/front_forworld_streight/front_forworld_streight_1015.mp3 to /content/wav_files/front_forworld_streight/front_forworld_streight_1015.wav\n",
            "Converted /content/front_forworld_streight/front_forworld_streight/front_forworld_streight_888.mp3 to /content/wav_files/front_forworld_streight/front_forworld_streight_888.wav\n",
            "Converted /content/front_forworld_streight/front_forworld_streight/front_forworld_streight_928.mp3 to /content/wav_files/front_forworld_streight/front_forworld_streight_928.wav\n",
            "Converted /content/front_forworld_streight/front_forworld_streight/front_forworld_streight_1200.mp3 to /content/wav_files/front_forworld_streight/front_forworld_streight_1200.wav\n",
            "Converted /content/front_forworld_streight/front_forworld_streight/front_forworld_streight_1068.mp3 to /content/wav_files/front_forworld_streight/front_forworld_streight_1068.wav\n",
            "Converted /content/front_forworld_streight/front_forworld_streight/front_forworld_streight_1061.mp3 to /content/wav_files/front_forworld_streight/front_forworld_streight_1061.wav\n",
            "Converted /content/front_forworld_streight/front_forworld_streight/front_forworld_streight_892.mp3 to /content/wav_files/front_forworld_streight/front_forworld_streight_892.wav\n",
            "Converted /content/front_forworld_streight/front_forworld_streight/front_forworld_streight_953.mp3 to /content/wav_files/front_forworld_streight/front_forworld_streight_953.wav\n",
            "Converted /content/front_forworld_streight/front_forworld_streight/front_forworld_streight_1389.mp3 to /content/wav_files/front_forworld_streight/front_forworld_streight_1389.wav\n",
            "Converted /content/front_forworld_streight/front_forworld_streight/front_forworld_streight_1135.mp3 to /content/wav_files/front_forworld_streight/front_forworld_streight_1135.wav\n",
            "Converted /content/front_forworld_streight/front_forworld_streight/front_forworld_streight_930.mp3 to /content/wav_files/front_forworld_streight/front_forworld_streight_930.wav\n",
            "Converted /content/front_forworld_streight/front_forworld_streight/front_forworld_streight_1121.mp3 to /content/wav_files/front_forworld_streight/front_forworld_streight_1121.wav\n",
            "Converted /content/front_forworld_streight/front_forworld_streight/front_forworld_streight_1003.mp3 to /content/wav_files/front_forworld_streight/front_forworld_streight_1003.wav\n",
            "Converted /content/front_forworld_streight/front_forworld_streight/front_forworld_streight_1348.mp3 to /content/wav_files/front_forworld_streight/front_forworld_streight_1348.wav\n",
            "Converted /content/front_forworld_streight/front_forworld_streight/front_forworld_streight_1016.mp3 to /content/wav_files/front_forworld_streight/front_forworld_streight_1016.wav\n",
            "Converted /content/front_forworld_streight/front_forworld_streight/front_forworld_streight_1390.mp3 to /content/wav_files/front_forworld_streight/front_forworld_streight_1390.wav\n",
            "Converted /content/front_forworld_streight/front_forworld_streight/front_forworld_streight_1221.mp3 to /content/wav_files/front_forworld_streight/front_forworld_streight_1221.wav\n",
            "Converted /content/front_forworld_streight/front_forworld_streight/front_forworld_streight_1212.mp3 to /content/wav_files/front_forworld_streight/front_forworld_streight_1212.wav\n",
            "Converted /content/front_forworld_streight/front_forworld_streight/front_forworld_streight_889.mp3 to /content/wav_files/front_forworld_streight/front_forworld_streight_889.wav\n",
            "Converted /content/front_forworld_streight/front_forworld_streight/front_forworld_streight_1251.mp3 to /content/wav_files/front_forworld_streight/front_forworld_streight_1251.wav\n",
            "Converted /content/front_forworld_streight/front_forworld_streight/front_forworld_streight_1056.mp3 to /content/wav_files/front_forworld_streight/front_forworld_streight_1056.wav\n",
            "Converted /content/front_forworld_streight/front_forworld_streight/front_forworld_streight_1048.mp3 to /content/wav_files/front_forworld_streight/front_forworld_streight_1048.wav\n",
            "Converted /content/front_forworld_streight/front_forworld_streight/front_forworld_streight_1157.mp3 to /content/wav_files/front_forworld_streight/front_forworld_streight_1157.wav\n",
            "Converted /content/front_forworld_streight/front_forworld_streight/front_forworld_streight_1150.mp3 to /content/wav_files/front_forworld_streight/front_forworld_streight_1150.wav\n",
            "Converted /content/front_forworld_streight/front_forworld_streight/front_forworld_streight_1108.mp3 to /content/wav_files/front_forworld_streight/front_forworld_streight_1108.wav\n",
            "Converted /content/front_forworld_streight/front_forworld_streight/front_forworld_streight_985.mp3 to /content/wav_files/front_forworld_streight/front_forworld_streight_985.wav\n",
            "Converted /content/front_forworld_streight/front_forworld_streight/front_forworld_streight_1249.mp3 to /content/wav_files/front_forworld_streight/front_forworld_streight_1249.wav\n",
            "Converted /content/front_forworld_streight/front_forworld_streight/front_forworld_streight_1341.mp3 to /content/wav_files/front_forworld_streight/front_forworld_streight_1341.wav\n",
            "Converted /content/front_forworld_streight/front_forworld_streight/front_forworld_streight_1308.mp3 to /content/wav_files/front_forworld_streight/front_forworld_streight_1308.wav\n",
            "Converted /content/front_forworld_streight/front_forworld_streight/front_forworld_streight_936.mp3 to /content/wav_files/front_forworld_streight/front_forworld_streight_936.wav\n",
            "Converted /content/front_forworld_streight/front_forworld_streight/front_forworld_streight_1085.mp3 to /content/wav_files/front_forworld_streight/front_forworld_streight_1085.wav\n",
            "Converted /content/front_forworld_streight/front_forworld_streight/front_forworld_streight_968.mp3 to /content/wav_files/front_forworld_streight/front_forworld_streight_968.wav\n",
            "Converted /content/front_forworld_streight/front_forworld_streight/front_forworld_streight_1038.mp3 to /content/wav_files/front_forworld_streight/front_forworld_streight_1038.wav\n",
            "Converted /content/front_forworld_streight/front_forworld_streight/front_forworld_streight_1075.mp3 to /content/wav_files/front_forworld_streight/front_forworld_streight_1075.wav\n",
            "Converted /content/front_forworld_streight/front_forworld_streight/front_forworld_streight_1089.mp3 to /content/wav_files/front_forworld_streight/front_forworld_streight_1089.wav\n",
            "Converted /content/front_forworld_streight/front_forworld_streight/front_forworld_streight_948.mp3 to /content/wav_files/front_forworld_streight/front_forworld_streight_948.wav\n",
            "Converted /content/front_forworld_streight/front_forworld_streight/front_forworld_streight_887.mp3 to /content/wav_files/front_forworld_streight/front_forworld_streight_887.wav\n",
            "Converted /content/front_forworld_streight/front_forworld_streight/front_forworld_streight_1300.mp3 to /content/wav_files/front_forworld_streight/front_forworld_streight_1300.wav\n",
            "Converted /content/front_forworld_streight/front_forworld_streight/front_forworld_streight_999.mp3 to /content/wav_files/front_forworld_streight/front_forworld_streight_999.wav\n",
            "Converted /content/front_forworld_streight/front_forworld_streight/front_forworld_streight_1358.mp3 to /content/wav_files/front_forworld_streight/front_forworld_streight_1358.wav\n",
            "Converted /content/front_forworld_streight/front_forworld_streight/front_forworld_streight_1020.mp3 to /content/wav_files/front_forworld_streight/front_forworld_streight_1020.wav\n",
            "Converted /content/front_forworld_streight/front_forworld_streight/front_forworld_streight_1266.mp3 to /content/wav_files/front_forworld_streight/front_forworld_streight_1266.wav\n",
            "Converted /content/front_forworld_streight/front_forworld_streight/front_forworld_streight_1260.mp3 to /content/wav_files/front_forworld_streight/front_forworld_streight_1260.wav\n",
            "Converted /content/front_forworld_streight/front_forworld_streight/front_forworld_streight_1229.mp3 to /content/wav_files/front_forworld_streight/front_forworld_streight_1229.wav\n",
            "Converted /content/front_forworld_streight/front_forworld_streight/front_forworld_streight_1158.mp3 to /content/wav_files/front_forworld_streight/front_forworld_streight_1158.wav\n",
            "Converted /content/front_forworld_streight/front_forworld_streight/front_forworld_streight_1018.mp3 to /content/wav_files/front_forworld_streight/front_forworld_streight_1018.wav\n",
            "Converted /content/front_forworld_streight/front_forworld_streight/front_forworld_streight_1288.mp3 to /content/wav_files/front_forworld_streight/front_forworld_streight_1288.wav\n",
            "Converted /content/front_forworld_streight/front_forworld_streight/front_forworld_streight_1100.mp3 to /content/wav_files/front_forworld_streight/front_forworld_streight_1100.wav\n",
            "Converted /content/front_forworld_streight/front_forworld_streight/front_forworld_streight_1237.mp3 to /content/wav_files/front_forworld_streight/front_forworld_streight_1237.wav\n",
            "Converted /content/front_forworld_streight/front_forworld_streight/front_forworld_streight_1164.mp3 to /content/wav_files/front_forworld_streight/front_forworld_streight_1164.wav\n",
            "Converted /content/front_forworld_streight/front_forworld_streight/front_forworld_streight_1046.mp3 to /content/wav_files/front_forworld_streight/front_forworld_streight_1046.wav\n",
            "Converted /content/front_forworld_streight/front_forworld_streight/front_forworld_streight_1134.mp3 to /content/wav_files/front_forworld_streight/front_forworld_streight_1134.wav\n",
            "Converted /content/front_forworld_streight/front_forworld_streight/front_forworld_streight_1191.mp3 to /content/wav_files/front_forworld_streight/front_forworld_streight_1191.wav\n",
            "Converted /content/front_forworld_streight/front_forworld_streight/front_forworld_streight_1355.mp3 to /content/wav_files/front_forworld_streight/front_forworld_streight_1355.wav\n",
            "Converted /content/front_forworld_streight/front_forworld_streight/front_forworld_streight_1166.mp3 to /content/wav_files/front_forworld_streight/front_forworld_streight_1166.wav\n",
            "Converted /content/front_forworld_streight/front_forworld_streight/front_forworld_streight_1141.mp3 to /content/wav_files/front_forworld_streight/front_forworld_streight_1141.wav\n",
            "Converted /content/front_forworld_streight/front_forworld_streight/front_forworld_streight_1154.mp3 to /content/wav_files/front_forworld_streight/front_forworld_streight_1154.wav\n",
            "Converted /content/front_forworld_streight/front_forworld_streight/front_forworld_streight_1234.mp3 to /content/wav_files/front_forworld_streight/front_forworld_streight_1234.wav\n",
            "Converted /content/front_forworld_streight/front_forworld_streight/front_forworld_streight_1171.mp3 to /content/wav_files/front_forworld_streight/front_forworld_streight_1171.wav\n",
            "Converted /content/front_forworld_streight/front_forworld_streight/front_forworld_streight_1381.mp3 to /content/wav_files/front_forworld_streight/front_forworld_streight_1381.wav\n",
            "Converted /content/front_forworld_streight/front_forworld_streight/front_forworld_streight_1039.mp3 to /content/wav_files/front_forworld_streight/front_forworld_streight_1039.wav\n",
            "Converted /content/front_forworld_streight/front_forworld_streight/front_forworld_streight_1269.mp3 to /content/wav_files/front_forworld_streight/front_forworld_streight_1269.wav\n",
            "Converted /content/front_forworld_streight/front_forworld_streight/front_forworld_streight_1223.mp3 to /content/wav_files/front_forworld_streight/front_forworld_streight_1223.wav\n",
            "Converted /content/front_forworld_streight/front_forworld_streight/front_forworld_streight_1363.mp3 to /content/wav_files/front_forworld_streight/front_forworld_streight_1363.wav\n",
            "Converted /content/front_forworld_streight/front_forworld_streight/front_forworld_streight_1183.mp3 to /content/wav_files/front_forworld_streight/front_forworld_streight_1183.wav\n",
            "Converted /content/front_forworld_streight/front_forworld_streight/front_forworld_streight_1337.mp3 to /content/wav_files/front_forworld_streight/front_forworld_streight_1337.wav\n",
            "Converted /content/front_forworld_streight/front_forworld_streight/front_forworld_streight_976.mp3 to /content/wav_files/front_forworld_streight/front_forworld_streight_976.wav\n",
            "Converted /content/front_forworld_streight/front_forworld_streight/front_forworld_streight_959.mp3 to /content/wav_files/front_forworld_streight/front_forworld_streight_959.wav\n",
            "Converted /content/front_forworld_streight/front_forworld_streight/front_forworld_streight_939.mp3 to /content/wav_files/front_forworld_streight/front_forworld_streight_939.wav\n",
            "Converted /content/front_forworld_streight/front_forworld_streight/front_forworld_streight_940.mp3 to /content/wav_files/front_forworld_streight/front_forworld_streight_940.wav\n",
            "Converted /content/front_forworld_streight/front_forworld_streight/front_forworld_streight_920.mp3 to /content/wav_files/front_forworld_streight/front_forworld_streight_920.wav\n",
            "Converted /content/front_forworld_streight/front_forworld_streight/front_forworld_streight_1362.mp3 to /content/wav_files/front_forworld_streight/front_forworld_streight_1362.wav\n",
            "Converted /content/front_forworld_streight/front_forworld_streight/front_forworld_streight_1268.mp3 to /content/wav_files/front_forworld_streight/front_forworld_streight_1268.wav\n",
            "Converted /content/front_forworld_streight/front_forworld_streight/front_forworld_streight_1227.mp3 to /content/wav_files/front_forworld_streight/front_forworld_streight_1227.wav\n",
            "Converted /content/front_forworld_streight/front_forworld_streight/front_forworld_streight_1030.mp3 to /content/wav_files/front_forworld_streight/front_forworld_streight_1030.wav\n",
            "Converted /content/front_forworld_streight/front_forworld_streight/front_forworld_streight_996.mp3 to /content/wav_files/front_forworld_streight/front_forworld_streight_996.wav\n",
            "Converted /content/front_forworld_streight/front_forworld_streight/front_forworld_streight_883.mp3 to /content/wav_files/front_forworld_streight/front_forworld_streight_883.wav\n",
            "Converted /content/front_forworld_streight/front_forworld_streight/front_forworld_streight_1057.mp3 to /content/wav_files/front_forworld_streight/front_forworld_streight_1057.wav\n",
            "Converted /content/front_forworld_streight/front_forworld_streight/front_forworld_streight_903.mp3 to /content/wav_files/front_forworld_streight/front_forworld_streight_903.wav\n",
            "Converted /content/front_forworld_streight/front_forworld_streight/front_forworld_streight_1192.mp3 to /content/wav_files/front_forworld_streight/front_forworld_streight_1192.wav\n",
            "Converted /content/front_forworld_streight/front_forworld_streight/front_forworld_streight_1182.mp3 to /content/wav_files/front_forworld_streight/front_forworld_streight_1182.wav\n",
            "Converted /content/front_forworld_streight/front_forworld_streight/front_forworld_streight_1283.mp3 to /content/wav_files/front_forworld_streight/front_forworld_streight_1283.wav\n",
            "Converted /content/front_forworld_streight/front_forworld_streight/front_forworld_streight_1017.mp3 to /content/wav_files/front_forworld_streight/front_forworld_streight_1017.wav\n",
            "Converted /content/front_forworld_streight/front_forworld_streight/front_forworld_streight_1321.mp3 to /content/wav_files/front_forworld_streight/front_forworld_streight_1321.wav\n",
            "Converted /content/front_forworld_streight/front_forworld_streight/front_forworld_streight_1231.mp3 to /content/wav_files/front_forworld_streight/front_forworld_streight_1231.wav\n",
            "Converted /content/front_forworld_streight/front_forworld_streight/front_forworld_streight_1339.mp3 to /content/wav_files/front_forworld_streight/front_forworld_streight_1339.wav\n",
            "Converted /content/front_forworld_streight/front_forworld_streight/front_forworld_streight_1031.mp3 to /content/wav_files/front_forworld_streight/front_forworld_streight_1031.wav\n",
            "Converted /content/front_forworld_streight/front_forworld_streight/front_forworld_streight_1086.mp3 to /content/wav_files/front_forworld_streight/front_forworld_streight_1086.wav\n",
            "Converted /content/front_forworld_streight/front_forworld_streight/front_forworld_streight_1307.mp3 to /content/wav_files/front_forworld_streight/front_forworld_streight_1307.wav\n",
            "Converted /content/front_forworld_streight/front_forworld_streight/front_forworld_streight_1109.mp3 to /content/wav_files/front_forworld_streight/front_forworld_streight_1109.wav\n",
            "Converted /content/front_forworld_streight/front_forworld_streight/front_forworld_streight_956.mp3 to /content/wav_files/front_forworld_streight/front_forworld_streight_956.wav\n",
            "Converted /content/front_forworld_streight/front_forworld_streight/front_forworld_streight_1174.mp3 to /content/wav_files/front_forworld_streight/front_forworld_streight_1174.wav\n",
            "Converted /content/front_forworld_streight/front_forworld_streight/front_forworld_streight_1206.mp3 to /content/wav_files/front_forworld_streight/front_forworld_streight_1206.wav\n",
            "Converted /content/front_forworld_streight/front_forworld_streight/front_forworld_streight_1279.mp3 to /content/wav_files/front_forworld_streight/front_forworld_streight_1279.wav\n",
            "Converted /content/front_forworld_streight/front_forworld_streight/front_forworld_streight_1119.mp3 to /content/wav_files/front_forworld_streight/front_forworld_streight_1119.wav\n",
            "Converted /content/front_forworld_streight/front_forworld_streight/front_forworld_streight_1002.mp3 to /content/wav_files/front_forworld_streight/front_forworld_streight_1002.wav\n",
            "Converted /content/front_forworld_streight/front_forworld_streight/front_forworld_streight_1329.mp3 to /content/wav_files/front_forworld_streight/front_forworld_streight_1329.wav\n",
            "Converted /content/front_forworld_streight/front_forworld_streight/front_forworld_streight_1098.mp3 to /content/wav_files/front_forworld_streight/front_forworld_streight_1098.wav\n",
            "Converted /content/front_forworld_streight/front_forworld_streight/front_forworld_streight_1026.mp3 to /content/wav_files/front_forworld_streight/front_forworld_streight_1026.wav\n",
            "Converted /content/front_forworld_streight/front_forworld_streight/front_forworld_streight_1181.mp3 to /content/wav_files/front_forworld_streight/front_forworld_streight_1181.wav\n",
            "Converted /content/front_forworld_streight/front_forworld_streight/front_forworld_streight_971.mp3 to /content/wav_files/front_forworld_streight/front_forworld_streight_971.wav\n",
            "Converted /content/front_forworld_streight/front_forworld_streight/front_forworld_streight_1216.mp3 to /content/wav_files/front_forworld_streight/front_forworld_streight_1216.wav\n",
            "Converted /content/front_forworld_streight/front_forworld_streight/front_forworld_streight_977.mp3 to /content/wav_files/front_forworld_streight/front_forworld_streight_977.wav\n",
            "Converted /content/front_forworld_streight/front_forworld_streight/front_forworld_streight_1252.mp3 to /content/wav_files/front_forworld_streight/front_forworld_streight_1252.wav\n",
            "Converted /content/front_forworld_streight/front_forworld_streight/front_forworld_streight_1087.mp3 to /content/wav_files/front_forworld_streight/front_forworld_streight_1087.wav\n",
            "Converted /content/front_forworld_streight/front_forworld_streight/front_forworld_streight_1317.mp3 to /content/wav_files/front_forworld_streight/front_forworld_streight_1317.wav\n",
            "Converted /content/front_forworld_streight/front_forworld_streight/front_forworld_streight_1172.mp3 to /content/wav_files/front_forworld_streight/front_forworld_streight_1172.wav\n",
            "Converted /content/front_forworld_streight/front_forworld_streight/front_forworld_streight_1213.mp3 to /content/wav_files/front_forworld_streight/front_forworld_streight_1213.wav\n",
            "Converted /content/front_forworld_streight/front_forworld_streight/front_forworld_streight_1246.mp3 to /content/wav_files/front_forworld_streight/front_forworld_streight_1246.wav\n",
            "Converted /content/front_forworld_streight/front_forworld_streight/front_forworld_streight_1178.mp3 to /content/wav_files/front_forworld_streight/front_forworld_streight_1178.wav\n",
            "Converted /content/front_forworld_streight/front_forworld_streight/front_forworld_streight_949.mp3 to /content/wav_files/front_forworld_streight/front_forworld_streight_949.wav\n",
            "Converted /content/front_forworld_streight/front_forworld_streight/front_forworld_streight_886.mp3 to /content/wav_files/front_forworld_streight/front_forworld_streight_886.wav\n",
            "Converted /content/front_forworld_streight/front_forworld_streight/front_forworld_streight_1074.mp3 to /content/wav_files/front_forworld_streight/front_forworld_streight_1074.wav\n",
            "Converted /content/front_forworld_streight/front_forworld_streight/front_forworld_streight_1334.mp3 to /content/wav_files/front_forworld_streight/front_forworld_streight_1334.wav\n",
            "Converted /content/front_forworld_streight/front_forworld_streight/front_forworld_streight_994.mp3 to /content/wav_files/front_forworld_streight/front_forworld_streight_994.wav\n",
            "Converted /content/front_forworld_streight/front_forworld_streight/front_forworld_streight_1118.mp3 to /content/wav_files/front_forworld_streight/front_forworld_streight_1118.wav\n",
            "Converted /content/front_forworld_streight/front_forworld_streight/front_forworld_streight_1333.mp3 to /content/wav_files/front_forworld_streight/front_forworld_streight_1333.wav\n",
            "Converted /content/front_forworld_streight/front_forworld_streight/front_forworld_streight_1044.mp3 to /content/wav_files/front_forworld_streight/front_forworld_streight_1044.wav\n",
            "Converted /content/front_forworld_streight/front_forworld_streight/front_forworld_streight_982.mp3 to /content/wav_files/front_forworld_streight/front_forworld_streight_982.wav\n",
            "Converted /content/front_forworld_streight/front_forworld_streight/front_forworld_streight_1270.mp3 to /content/wav_files/front_forworld_streight/front_forworld_streight_1270.wav\n",
            "Converted /content/front_forworld_streight/front_forworld_streight/front_forworld_streight_944.mp3 to /content/wav_files/front_forworld_streight/front_forworld_streight_944.wav\n",
            "Converted /content/front_forworld_streight/front_forworld_streight/front_forworld_streight_880.mp3 to /content/wav_files/front_forworld_streight/front_forworld_streight_880.wav\n",
            "Converted /content/front_forworld_streight/front_forworld_streight/front_forworld_streight_1225.mp3 to /content/wav_files/front_forworld_streight/front_forworld_streight_1225.wav\n",
            "Converted /content/front_forworld_streight/front_forworld_streight/front_forworld_streight_1273.mp3 to /content/wav_files/front_forworld_streight/front_forworld_streight_1273.wav\n",
            "Converted /content/front_forworld_streight/front_forworld_streight/front_forworld_streight_1209.mp3 to /content/wav_files/front_forworld_streight/front_forworld_streight_1209.wav\n",
            "Converted /content/front_forworld_streight/front_forworld_streight/front_forworld_streight_1228.mp3 to /content/wav_files/front_forworld_streight/front_forworld_streight_1228.wav\n",
            "Converted /content/front_forworld_streight/front_forworld_streight/front_forworld_streight_1101.mp3 to /content/wav_files/front_forworld_streight/front_forworld_streight_1101.wav\n",
            "Converted /content/front_forworld_streight/front_forworld_streight/front_forworld_streight_1198.mp3 to /content/wav_files/front_forworld_streight/front_forworld_streight_1198.wav\n",
            "Converted /content/front_forworld_streight/front_forworld_streight/front_forworld_streight_1156.mp3 to /content/wav_files/front_forworld_streight/front_forworld_streight_1156.wav\n",
            "Converted /content/front_forworld_streight/front_forworld_streight/front_forworld_streight_1127.mp3 to /content/wav_files/front_forworld_streight/front_forworld_streight_1127.wav\n",
            "Converted /content/front_forworld_streight/front_forworld_streight/front_forworld_streight_1114.mp3 to /content/wav_files/front_forworld_streight/front_forworld_streight_1114.wav\n",
            "Converted /content/front_forworld_streight/front_forworld_streight/front_forworld_streight_1310.mp3 to /content/wav_files/front_forworld_streight/front_forworld_streight_1310.wav\n",
            "Converted /content/front_forworld_streight/front_forworld_streight/front_forworld_streight_1012.mp3 to /content/wav_files/front_forworld_streight/front_forworld_streight_1012.wav\n",
            "Converted /content/front_forworld_streight/front_forworld_streight/front_forworld_streight_925.mp3 to /content/wav_files/front_forworld_streight/front_forworld_streight_925.wav\n",
            "Converted /content/front_forworld_streight/front_forworld_streight/front_forworld_streight_1055.mp3 to /content/wav_files/front_forworld_streight/front_forworld_streight_1055.wav\n",
            "Converted /content/front_forworld_streight/front_forworld_streight/front_forworld_streight_1147.mp3 to /content/wav_files/front_forworld_streight/front_forworld_streight_1147.wav\n",
            "Converted /content/front_forworld_streight/front_forworld_streight/front_forworld_streight_1376.mp3 to /content/wav_files/front_forworld_streight/front_forworld_streight_1376.wav\n",
            "Converted /content/front_forworld_streight/front_forworld_streight/front_forworld_streight_946.mp3 to /content/wav_files/front_forworld_streight/front_forworld_streight_946.wav\n",
            "Converted /content/front_forworld_streight/front_forworld_streight/front_forworld_streight_1319.mp3 to /content/wav_files/front_forworld_streight/front_forworld_streight_1319.wav\n",
            "Converted /content/front_forworld_streight/front_forworld_streight/front_forworld_streight_1029.mp3 to /content/wav_files/front_forworld_streight/front_forworld_streight_1029.wav\n",
            "Converted /content/front_forworld_streight/front_forworld_streight/front_forworld_streight_1053.mp3 to /content/wav_files/front_forworld_streight/front_forworld_streight_1053.wav\n",
            "Converted /content/front_forworld_streight/front_forworld_streight/front_forworld_streight_1364.mp3 to /content/wav_files/front_forworld_streight/front_forworld_streight_1364.wav\n",
            "Converted /content/front_forworld_streight/front_forworld_streight/front_forworld_streight_911.mp3 to /content/wav_files/front_forworld_streight/front_forworld_streight_911.wav\n",
            "Converted /content/front_forworld_streight/front_forworld_streight/front_forworld_streight_1064.mp3 to /content/wav_files/front_forworld_streight/front_forworld_streight_1064.wav\n",
            "Converted /content/front_forworld_streight/front_forworld_streight/front_forworld_streight_1071.mp3 to /content/wav_files/front_forworld_streight/front_forworld_streight_1071.wav\n",
            "Converted /content/front_forworld_streight/front_forworld_streight/front_forworld_streight_1253.mp3 to /content/wav_files/front_forworld_streight/front_forworld_streight_1253.wav\n",
            "Converted /content/front_forworld_streight/front_forworld_streight/front_forworld_streight_1343.mp3 to /content/wav_files/front_forworld_streight/front_forworld_streight_1343.wav\n",
            "Converted /content/front_forworld_streight/front_forworld_streight/front_forworld_streight_1357.mp3 to /content/wav_files/front_forworld_streight/front_forworld_streight_1357.wav\n",
            "Converted /content/front_forworld_streight/front_forworld_streight/front_forworld_streight_1297.mp3 to /content/wav_files/front_forworld_streight/front_forworld_streight_1297.wav\n",
            "Converted /content/front_forworld_streight/front_forworld_streight/front_forworld_streight_1024.mp3 to /content/wav_files/front_forworld_streight/front_forworld_streight_1024.wav\n",
            "Converted /content/front_forworld_streight/front_forworld_streight/front_forworld_streight_1070.mp3 to /content/wav_files/front_forworld_streight/front_forworld_streight_1070.wav\n",
            "Converted /content/front_forworld_streight/front_forworld_streight/front_forworld_streight_1375.mp3 to /content/wav_files/front_forworld_streight/front_forworld_streight_1375.wav\n",
            "Converted /content/front_forworld_streight/front_forworld_streight/front_forworld_streight_1149.mp3 to /content/wav_files/front_forworld_streight/front_forworld_streight_1149.wav\n",
            "Converted /content/front_forworld_streight/front_forworld_streight/front_forworld_streight_1386.mp3 to /content/wav_files/front_forworld_streight/front_forworld_streight_1386.wav\n",
            "Converted /content/front_forworld_streight/front_forworld_streight/front_forworld_streight_1201.mp3 to /content/wav_files/front_forworld_streight/front_forworld_streight_1201.wav\n",
            "Converted /content/front_forworld_streight/front_forworld_streight/front_forworld_streight_1284.mp3 to /content/wav_files/front_forworld_streight/front_forworld_streight_1284.wav\n",
            "Converted /content/front_forworld_streight/front_forworld_streight/front_forworld_streight_1115.mp3 to /content/wav_files/front_forworld_streight/front_forworld_streight_1115.wav\n",
            "Converted /content/front_forworld_streight/front_forworld_streight/front_forworld_streight_1236.mp3 to /content/wav_files/front_forworld_streight/front_forworld_streight_1236.wav\n",
            "Converted /content/front_forworld_streight/front_forworld_streight/front_forworld_streight_1052.mp3 to /content/wav_files/front_forworld_streight/front_forworld_streight_1052.wav\n",
            "Converted /content/front_forworld_streight/front_forworld_streight/front_forworld_streight_932.mp3 to /content/wav_files/front_forworld_streight/front_forworld_streight_932.wav\n",
            "Converted /content/front_forworld_streight/front_forworld_streight/front_forworld_streight_899.mp3 to /content/wav_files/front_forworld_streight/front_forworld_streight_899.wav\n",
            "Converted /content/front_forworld_streight/front_forworld_streight/front_forworld_streight_1139.mp3 to /content/wav_files/front_forworld_streight/front_forworld_streight_1139.wav\n",
            "Converted /content/front_forworld_streight/front_forworld_streight/front_forworld_streight_896.mp3 to /content/wav_files/front_forworld_streight/front_forworld_streight_896.wav\n",
            "Converted /content/front_forworld_streight/front_forworld_streight/front_forworld_streight_1103.mp3 to /content/wav_files/front_forworld_streight/front_forworld_streight_1103.wav\n",
            "Converted /content/front_forworld_streight/front_forworld_streight/front_forworld_streight_1093.mp3 to /content/wav_files/front_forworld_streight/front_forworld_streight_1093.wav\n",
            "Converted /content/front_forworld_streight/front_forworld_streight/front_forworld_streight_1295.mp3 to /content/wav_files/front_forworld_streight/front_forworld_streight_1295.wav\n",
            "Converted /content/front_forworld_streight/front_forworld_streight/front_forworld_streight_1146.mp3 to /content/wav_files/front_forworld_streight/front_forworld_streight_1146.wav\n",
            "Converted /content/front_forworld_streight/front_forworld_streight/front_forworld_streight_1051.mp3 to /content/wav_files/front_forworld_streight/front_forworld_streight_1051.wav\n",
            "Converted /content/front_forworld_streight/front_forworld_streight/front_forworld_streight_1349.mp3 to /content/wav_files/front_forworld_streight/front_forworld_streight_1349.wav\n",
            "Converted /content/front_forworld_streight/front_forworld_streight/front_forworld_streight_1102.mp3 to /content/wav_files/front_forworld_streight/front_forworld_streight_1102.wav\n",
            "Converted /content/front_forworld_streight/front_forworld_streight/front_forworld_streight_1069.mp3 to /content/wav_files/front_forworld_streight/front_forworld_streight_1069.wav\n",
            "Converted /content/front_forworld_streight/front_forworld_streight/front_forworld_streight_879.mp3 to /content/wav_files/front_forworld_streight/front_forworld_streight_879.wav\n",
            "Converted /content/front_forworld_streight/front_forworld_streight/front_forworld_streight_979.mp3 to /content/wav_files/front_forworld_streight/front_forworld_streight_979.wav\n",
            "Converted /content/front_forworld_streight/front_forworld_streight/front_forworld_streight_1035.mp3 to /content/wav_files/front_forworld_streight/front_forworld_streight_1035.wav\n",
            "Converted /content/front_forworld_streight/front_forworld_streight/front_forworld_streight_1301.mp3 to /content/wav_files/front_forworld_streight/front_forworld_streight_1301.wav\n",
            "Converted /content/front_forworld_streight/front_forworld_streight/front_forworld_streight_1132.mp3 to /content/wav_files/front_forworld_streight/front_forworld_streight_1132.wav\n",
            "Converted /content/front_forworld_streight/front_forworld_streight/front_forworld_streight_1230.mp3 to /content/wav_files/front_forworld_streight/front_forworld_streight_1230.wav\n",
            "Converted /content/front_forworld_streight/front_forworld_streight/front_forworld_streight_901.mp3 to /content/wav_files/front_forworld_streight/front_forworld_streight_901.wav\n",
            "Converted /content/front_forworld_streight/front_forworld_streight/front_forworld_streight_1289.mp3 to /content/wav_files/front_forworld_streight/front_forworld_streight_1289.wav\n",
            "Converted /content/front_forworld_streight/front_forworld_streight/front_forworld_streight_1033.mp3 to /content/wav_files/front_forworld_streight/front_forworld_streight_1033.wav\n",
            "Converted /content/front_forworld_streight/front_forworld_streight/front_forworld_streight_884.mp3 to /content/wav_files/front_forworld_streight/front_forworld_streight_884.wav\n",
            "Converted /content/front_forworld_streight/front_forworld_streight/front_forworld_streight_1347.mp3 to /content/wav_files/front_forworld_streight/front_forworld_streight_1347.wav\n",
            "Converted /content/front_forworld_streight/front_forworld_streight/front_forworld_streight_1292.mp3 to /content/wav_files/front_forworld_streight/front_forworld_streight_1292.wav\n",
            "Converted /content/front_forworld_streight/front_forworld_streight/front_forworld_streight_1113.mp3 to /content/wav_files/front_forworld_streight/front_forworld_streight_1113.wav\n",
            "Converted /content/front_forworld_streight/front_forworld_streight/front_forworld_streight_1177.mp3 to /content/wav_files/front_forworld_streight/front_forworld_streight_1177.wav\n",
            "Converted /content/front_forworld_streight/front_forworld_streight/front_forworld_streight_1137.mp3 to /content/wav_files/front_forworld_streight/front_forworld_streight_1137.wav\n",
            "Converted /content/front_forworld_streight/front_forworld_streight/front_forworld_streight_1276.mp3 to /content/wav_files/front_forworld_streight/front_forworld_streight_1276.wav\n",
            "Converted /content/front_forworld_streight/front_forworld_streight/front_forworld_streight_1111.mp3 to /content/wav_files/front_forworld_streight/front_forworld_streight_1111.wav\n",
            "Converted /content/front_forworld_streight/front_forworld_streight/front_forworld_streight_1125.mp3 to /content/wav_files/front_forworld_streight/front_forworld_streight_1125.wav\n",
            "Converted /content/front_forworld_streight/front_forworld_streight/front_forworld_streight_958.mp3 to /content/wav_files/front_forworld_streight/front_forworld_streight_958.wav\n",
            "Converted /content/front_forworld_streight/front_forworld_streight/front_forworld_streight_992.mp3 to /content/wav_files/front_forworld_streight/front_forworld_streight_992.wav\n",
            "Converted /content/front_forworld_streight/front_forworld_streight/front_forworld_streight_975.mp3 to /content/wav_files/front_forworld_streight/front_forworld_streight_975.wav\n",
            "Converted /content/front_forworld_streight/front_forworld_streight/front_forworld_streight_1324.mp3 to /content/wav_files/front_forworld_streight/front_forworld_streight_1324.wav\n",
            "Converted /content/front_forworld_streight/front_forworld_streight/front_forworld_streight_1328.mp3 to /content/wav_files/front_forworld_streight/front_forworld_streight_1328.wav\n",
            "Converted /content/front_forworld_streight/front_forworld_streight/front_forworld_streight_929.mp3 to /content/wav_files/front_forworld_streight/front_forworld_streight_929.wav\n",
            "Converted /content/front_forworld_streight/front_forworld_streight/front_forworld_streight_885.mp3 to /content/wav_files/front_forworld_streight/front_forworld_streight_885.wav\n",
            "Converted /content/front_forworld_streight/front_forworld_streight/front_forworld_streight_1336.mp3 to /content/wav_files/front_forworld_streight/front_forworld_streight_1336.wav\n",
            "Converted /content/front_forworld_streight/front_forworld_streight/front_forworld_streight_1267.mp3 to /content/wav_files/front_forworld_streight/front_forworld_streight_1267.wav\n",
            "Converted /content/front_forworld_streight/front_forworld_streight/front_forworld_streight_1315.mp3 to /content/wav_files/front_forworld_streight/front_forworld_streight_1315.wav\n",
            "Converted /content/front_forworld_streight/front_forworld_streight/front_forworld_streight_1258.mp3 to /content/wav_files/front_forworld_streight/front_forworld_streight_1258.wav\n",
            "Converted /content/front_forworld_streight/front_forworld_streight/front_forworld_streight_1303.mp3 to /content/wav_files/front_forworld_streight/front_forworld_streight_1303.wav\n",
            "Converted /content/front_forworld_streight/front_forworld_streight/front_forworld_streight_1224.mp3 to /content/wav_files/front_forworld_streight/front_forworld_streight_1224.wav\n",
            "Converted /content/front_forworld_streight/front_forworld_streight/front_forworld_streight_1388.mp3 to /content/wav_files/front_forworld_streight/front_forworld_streight_1388.wav\n",
            "Converted /content/front_forworld_streight/front_forworld_streight/front_forworld_streight_1281.mp3 to /content/wav_files/front_forworld_streight/front_forworld_streight_1281.wav\n",
            "Converted /content/front_forworld_streight/front_forworld_streight/front_forworld_streight_1255.mp3 to /content/wav_files/front_forworld_streight/front_forworld_streight_1255.wav\n",
            "Converted /content/front_forworld_streight/front_forworld_streight/front_forworld_streight_878.mp3 to /content/wav_files/front_forworld_streight/front_forworld_streight_878.wav\n",
            "Converted /content/front_forworld_streight/front_forworld_streight/front_forworld_streight_984.mp3 to /content/wav_files/front_forworld_streight/front_forworld_streight_984.wav\n",
            "Converted /content/front_forworld_streight/front_forworld_streight/front_forworld_streight_1025.mp3 to /content/wav_files/front_forworld_streight/front_forworld_streight_1025.wav\n",
            "Converted /content/front_forworld_streight/front_forworld_streight/front_forworld_streight_1110.mp3 to /content/wav_files/front_forworld_streight/front_forworld_streight_1110.wav\n",
            "Converted /content/back_backworld/back_backworld/back_backworld_1972.mp3 to /content/wav_files/back_backworld/back_backworld_1972.wav\n",
            "Converted /content/back_backworld/back_backworld/back_backworld_1939.mp3 to /content/wav_files/back_backworld/back_backworld_1939.wav\n",
            "Converted /content/back_backworld/back_backworld/back_backworld_1958.mp3 to /content/wav_files/back_backworld/back_backworld_1958.wav\n",
            "Converted /content/back_backworld/back_backworld/back_backworld_1983.mp3 to /content/wav_files/back_backworld/back_backworld_1983.wav\n",
            "Converted /content/back_backworld/back_backworld/back_backworld_1937.mp3 to /content/wav_files/back_backworld/back_backworld_1937.wav\n",
            "Converted /content/back_backworld/back_backworld/back_backworld_1868.mp3 to /content/wav_files/back_backworld/back_backworld_1868.wav\n",
            "Converted /content/back_backworld/back_backworld/back_backworld_1834.mp3 to /content/wav_files/back_backworld/back_backworld_1834.wav\n",
            "Converted /content/back_backworld/back_backworld/back_backworld_1776.mp3 to /content/wav_files/back_backworld/back_backworld_1776.wav\n",
            "Converted /content/back_backworld/back_backworld/back_backworld_1771.mp3 to /content/wav_files/back_backworld/back_backworld_1771.wav\n",
            "Converted /content/back_backworld/back_backworld/back_backworld_1725.mp3 to /content/wav_files/back_backworld/back_backworld_1725.wav\n",
            "Converted /content/back_backworld/back_backworld/back_backworld_1908.mp3 to /content/wav_files/back_backworld/back_backworld_1908.wav\n",
            "Converted /content/back_backworld/back_backworld/back_backworld_1907.mp3 to /content/wav_files/back_backworld/back_backworld_1907.wav\n",
            "Converted /content/back_backworld/back_backworld/back_backworld_1927.mp3 to /content/wav_files/back_backworld/back_backworld_1927.wav\n",
            "Converted /content/back_backworld/back_backworld/back_backworld_1981.mp3 to /content/wav_files/back_backworld/back_backworld_1981.wav\n",
            "Converted /content/back_backworld/back_backworld/back_backworld_1778.mp3 to /content/wav_files/back_backworld/back_backworld_1778.wav\n",
            "Converted /content/back_backworld/back_backworld/back_backworld_2020.mp3 to /content/wav_files/back_backworld/back_backworld_2020.wav\n",
            "Converted /content/back_backworld/back_backworld/back_backworld_2028.mp3 to /content/wav_files/back_backworld/back_backworld_2028.wav\n",
            "Converted /content/back_backworld/back_backworld/back_backworld_1968.mp3 to /content/wav_files/back_backworld/back_backworld_1968.wav\n",
            "Converted /content/back_backworld/back_backworld/back_backworld_1716.mp3 to /content/wav_files/back_backworld/back_backworld_1716.wav\n",
            "Converted /content/back_backworld/back_backworld/back_backworld_1978.mp3 to /content/wav_files/back_backworld/back_backworld_1978.wav\n",
            "Converted /content/back_backworld/back_backworld/back_backworld_1851.mp3 to /content/wav_files/back_backworld/back_backworld_1851.wav\n",
            "Converted /content/back_backworld/back_backworld/back_backworld_1889.mp3 to /content/wav_files/back_backworld/back_backworld_1889.wav\n",
            "Converted /content/back_backworld/back_backworld/back_backworld_2044.mp3 to /content/wav_files/back_backworld/back_backworld_2044.wav\n",
            "Converted /content/back_backworld/back_backworld/back_backworld_1755.mp3 to /content/wav_files/back_backworld/back_backworld_1755.wav\n",
            "Converted /content/back_backworld/back_backworld/back_backworld_1902.mp3 to /content/wav_files/back_backworld/back_backworld_1902.wav\n",
            "Converted /content/back_backworld/back_backworld/back_backworld_1779.mp3 to /content/wav_files/back_backworld/back_backworld_1779.wav\n",
            "Converted /content/back_backworld/back_backworld/back_backworld_1719.mp3 to /content/wav_files/back_backworld/back_backworld_1719.wav\n",
            "Converted /content/back_backworld/back_backworld/back_backworld_1764.mp3 to /content/wav_files/back_backworld/back_backworld_1764.wav\n",
            "Converted /content/back_backworld/back_backworld/back_backworld_2023.mp3 to /content/wav_files/back_backworld/back_backworld_2023.wav\n",
            "Converted /content/back_backworld/back_backworld/back_backworld_1782.mp3 to /content/wav_files/back_backworld/back_backworld_1782.wav\n",
            "Converted /content/back_backworld/back_backworld/back_backworld_2024.mp3 to /content/wav_files/back_backworld/back_backworld_2024.wav\n",
            "Converted /content/back_backworld/back_backworld/back_backworld_1752.mp3 to /content/wav_files/back_backworld/back_backworld_1752.wav\n",
            "Converted /content/back_backworld/back_backworld/back_backworld_1893.mp3 to /content/wav_files/back_backworld/back_backworld_1893.wav\n",
            "Converted /content/back_backworld/back_backworld/back_backworld_2000.mp3 to /content/wav_files/back_backworld/back_backworld_2000.wav\n",
            "Converted /content/back_backworld/back_backworld/back_backworld_1833.mp3 to /content/wav_files/back_backworld/back_backworld_1833.wav\n",
            "Converted /content/back_backworld/back_backworld/back_backworld_1931.mp3 to /content/wav_files/back_backworld/back_backworld_1931.wav\n",
            "Converted /content/back_backworld/back_backworld/back_backworld_1826.mp3 to /content/wav_files/back_backworld/back_backworld_1826.wav\n",
            "Converted /content/back_backworld/back_backworld/back_backworld_1739.mp3 to /content/wav_files/back_backworld/back_backworld_1739.wav\n",
            "Converted /content/back_backworld/back_backworld/back_backworld_1795.mp3 to /content/wav_files/back_backworld/back_backworld_1795.wav\n",
            "Converted /content/back_backworld/back_backworld/back_backworld_1758.mp3 to /content/wav_files/back_backworld/back_backworld_1758.wav\n",
            "Converted /content/back_backworld/back_backworld/back_backworld_1901.mp3 to /content/wav_files/back_backworld/back_backworld_1901.wav\n",
            "Converted /content/back_backworld/back_backworld/back_backworld_1806.mp3 to /content/wav_files/back_backworld/back_backworld_1806.wav\n",
            "Converted /content/back_backworld/back_backworld/back_backworld_2007.mp3 to /content/wav_files/back_backworld/back_backworld_2007.wav\n",
            "Converted /content/back_backworld/back_backworld/back_backworld_1713.mp3 to /content/wav_files/back_backworld/back_backworld_1713.wav\n",
            "Converted /content/back_backworld/back_backworld/back_backworld_1916.mp3 to /content/wav_files/back_backworld/back_backworld_1916.wav\n",
            "Converted /content/back_backworld/back_backworld/back_backworld_1832.mp3 to /content/wav_files/back_backworld/back_backworld_1832.wav\n",
            "Converted /content/back_backworld/back_backworld/back_backworld_1865.mp3 to /content/wav_files/back_backworld/back_backworld_1865.wav\n",
            "Converted /content/back_backworld/back_backworld/back_backworld_1852.mp3 to /content/wav_files/back_backworld/back_backworld_1852.wav\n",
            "Converted /content/back_backworld/back_backworld/back_backworld_2040.mp3 to /content/wav_files/back_backworld/back_backworld_2040.wav\n",
            "Converted /content/back_backworld/back_backworld/back_backworld_2021.mp3 to /content/wav_files/back_backworld/back_backworld_2021.wav\n",
            "Converted /content/back_backworld/back_backworld/back_backworld_1859.mp3 to /content/wav_files/back_backworld/back_backworld_1859.wav\n",
            "Converted /content/back_backworld/back_backworld/back_backworld_1857.mp3 to /content/wav_files/back_backworld/back_backworld_1857.wav\n",
            "Converted /content/back_backworld/back_backworld/back_backworld_1809.mp3 to /content/wav_files/back_backworld/back_backworld_1809.wav\n",
            "Converted /content/back_backworld/back_backworld/back_backworld_1965.mp3 to /content/wav_files/back_backworld/back_backworld_1965.wav\n",
            "Converted /content/back_backworld/back_backworld/back_backworld_1921.mp3 to /content/wav_files/back_backworld/back_backworld_1921.wav\n",
            "Converted /content/back_backworld/back_backworld/back_backworld_1963.mp3 to /content/wav_files/back_backworld/back_backworld_1963.wav\n",
            "Converted /content/back_backworld/back_backworld/back_backworld_1785.mp3 to /content/wav_files/back_backworld/back_backworld_1785.wav\n",
            "Converted /content/back_backworld/back_backworld/back_backworld_1891.mp3 to /content/wav_files/back_backworld/back_backworld_1891.wav\n",
            "Converted /content/back_backworld/back_backworld/back_backworld_1754.mp3 to /content/wav_files/back_backworld/back_backworld_1754.wav\n",
            "Converted /content/back_backworld/back_backworld/back_backworld_1812.mp3 to /content/wav_files/back_backworld/back_backworld_1812.wav\n",
            "Converted /content/back_backworld/back_backworld/back_backworld_1808.mp3 to /content/wav_files/back_backworld/back_backworld_1808.wav\n",
            "Converted /content/back_backworld/back_backworld/back_backworld_1914.mp3 to /content/wav_files/back_backworld/back_backworld_1914.wav\n",
            "Converted /content/back_backworld/back_backworld/back_backworld_2004.mp3 to /content/wav_files/back_backworld/back_backworld_2004.wav\n",
            "Converted /content/back_backworld/back_backworld/back_backworld_1872.mp3 to /content/wav_files/back_backworld/back_backworld_1872.wav\n",
            "Converted /content/back_backworld/back_backworld/back_backworld_1798.mp3 to /content/wav_files/back_backworld/back_backworld_1798.wav\n",
            "Converted /content/back_backworld/back_backworld/back_backworld_1918.mp3 to /content/wav_files/back_backworld/back_backworld_1918.wav\n",
            "Converted /content/back_backworld/back_backworld/back_backworld_1915.mp3 to /content/wav_files/back_backworld/back_backworld_1915.wav\n",
            "Converted /content/back_backworld/back_backworld/back_backworld_1911.mp3 to /content/wav_files/back_backworld/back_backworld_1911.wav\n",
            "Converted /content/back_backworld/back_backworld/back_backworld_1969.mp3 to /content/wav_files/back_backworld/back_backworld_1969.wav\n",
            "Converted /content/back_backworld/back_backworld/back_backworld_1932.mp3 to /content/wav_files/back_backworld/back_backworld_1932.wav\n",
            "Converted /content/back_backworld/back_backworld/back_backworld_1928.mp3 to /content/wav_files/back_backworld/back_backworld_1928.wav\n",
            "Converted /content/back_backworld/back_backworld/back_backworld_2041.mp3 to /content/wav_files/back_backworld/back_backworld_2041.wav\n",
            "Converted /content/back_backworld/back_backworld/back_backworld_1836.mp3 to /content/wav_files/back_backworld/back_backworld_1836.wav\n",
            "Converted /content/back_backworld/back_backworld/back_backworld_1906.mp3 to /content/wav_files/back_backworld/back_backworld_1906.wav\n",
            "Converted /content/back_backworld/back_backworld/back_backworld_1885.mp3 to /content/wav_files/back_backworld/back_backworld_1885.wav\n",
            "Converted /content/back_backworld/back_backworld/back_backworld_1994.mp3 to /content/wav_files/back_backworld/back_backworld_1994.wav\n",
            "Converted /content/back_backworld/back_backworld/back_backworld_1811.mp3 to /content/wav_files/back_backworld/back_backworld_1811.wav\n",
            "Converted /content/back_backworld/back_backworld/back_backworld_2012.mp3 to /content/wav_files/back_backworld/back_backworld_2012.wav\n",
            "Converted /content/back_backworld/back_backworld/back_backworld_1883.mp3 to /content/wav_files/back_backworld/back_backworld_1883.wav\n",
            "Converted /content/back_backworld/back_backworld/back_backworld_1942.mp3 to /content/wav_files/back_backworld/back_backworld_1942.wav\n",
            "Converted /content/back_backworld/back_backworld/back_backworld_1838.mp3 to /content/wav_files/back_backworld/back_backworld_1838.wav\n",
            "Converted /content/back_backworld/back_backworld/back_backworld_1951.mp3 to /content/wav_files/back_backworld/back_backworld_1951.wav\n",
            "Converted /content/back_backworld/back_backworld/back_backworld_2014.mp3 to /content/wav_files/back_backworld/back_backworld_2014.wav\n",
            "Converted /content/back_backworld/back_backworld/back_backworld_1718.mp3 to /content/wav_files/back_backworld/back_backworld_1718.wav\n",
            "Converted /content/back_backworld/back_backworld/back_backworld_1919.mp3 to /content/wav_files/back_backworld/back_backworld_1919.wav\n",
            "Converted /content/back_backworld/back_backworld/back_backworld_1995.mp3 to /content/wav_files/back_backworld/back_backworld_1995.wav\n",
            "Converted /content/back_backworld/back_backworld/back_backworld_1840.mp3 to /content/wav_files/back_backworld/back_backworld_1840.wav\n",
            "Converted /content/back_backworld/back_backworld/back_backworld_1923.mp3 to /content/wav_files/back_backworld/back_backworld_1923.wav\n",
            "Converted /content/back_backworld/back_backworld/back_backworld_1714.mp3 to /content/wav_files/back_backworld/back_backworld_1714.wav\n",
            "Converted /content/back_backworld/back_backworld/back_backworld_1864.mp3 to /content/wav_files/back_backworld/back_backworld_1864.wav\n",
            "Converted /content/back_backworld/back_backworld/back_backworld_2046.mp3 to /content/wav_files/back_backworld/back_backworld_2046.wav\n",
            "Converted /content/back_backworld/back_backworld/back_backworld_1999.mp3 to /content/wav_files/back_backworld/back_backworld_1999.wav\n",
            "Converted /content/back_backworld/back_backworld/back_backworld_2015.mp3 to /content/wav_files/back_backworld/back_backworld_2015.wav\n",
            "Converted /content/back_backworld/back_backworld/back_backworld_1925.mp3 to /content/wav_files/back_backworld/back_backworld_1925.wav\n",
            "Converted /content/back_backworld/back_backworld/back_backworld_1873.mp3 to /content/wav_files/back_backworld/back_backworld_1873.wav\n",
            "Converted /content/back_backworld/back_backworld/back_backworld_1910.mp3 to /content/wav_files/back_backworld/back_backworld_1910.wav\n",
            "Converted /content/back_backworld/back_backworld/back_backworld_1982.mp3 to /content/wav_files/back_backworld/back_backworld_1982.wav\n",
            "Converted /content/back_backworld/back_backworld/back_backworld_1944.mp3 to /content/wav_files/back_backworld/back_backworld_1944.wav\n",
            "Converted /content/back_backworld/back_backworld/back_backworld_1860.mp3 to /content/wav_files/back_backworld/back_backworld_1860.wav\n",
            "Converted /content/back_backworld/back_backworld/back_backworld_2030.mp3 to /content/wav_files/back_backworld/back_backworld_2030.wav\n",
            "Converted /content/back_backworld/back_backworld/back_backworld_1774.mp3 to /content/wav_files/back_backworld/back_backworld_1774.wav\n",
            "Converted /content/back_backworld/back_backworld/back_backworld_1783.mp3 to /content/wav_files/back_backworld/back_backworld_1783.wav\n",
            "Converted /content/back_backworld/back_backworld/back_backworld_1807.mp3 to /content/wav_files/back_backworld/back_backworld_1807.wav\n",
            "Converted /content/back_backworld/back_backworld/back_backworld_1722.mp3 to /content/wav_files/back_backworld/back_backworld_1722.wav\n",
            "Converted /content/back_backworld/back_backworld/back_backworld_1799.mp3 to /content/wav_files/back_backworld/back_backworld_1799.wav\n",
            "Converted /content/back_backworld/back_backworld/back_backworld_1990.mp3 to /content/wav_files/back_backworld/back_backworld_1990.wav\n",
            "Converted /content/back_backworld/back_backworld/back_backworld_1896.mp3 to /content/wav_files/back_backworld/back_backworld_1896.wav\n",
            "Converted /content/back_backworld/back_backworld/back_backworld_1842.mp3 to /content/wav_files/back_backworld/back_backworld_1842.wav\n",
            "Converted /content/back_backworld/back_backworld/back_backworld_1828.mp3 to /content/wav_files/back_backworld/back_backworld_1828.wav\n",
            "Converted /content/back_backworld/back_backworld/back_backworld_1966.mp3 to /content/wav_files/back_backworld/back_backworld_1966.wav\n",
            "Converted /content/back_backworld/back_backworld/back_backworld_2011.mp3 to /content/wav_files/back_backworld/back_backworld_2011.wav\n",
            "Converted /content/back_backworld/back_backworld/back_backworld_1876.mp3 to /content/wav_files/back_backworld/back_backworld_1876.wav\n",
            "Converted /content/back_backworld/back_backworld/back_backworld_1986.mp3 to /content/wav_files/back_backworld/back_backworld_1986.wav\n",
            "Converted /content/back_backworld/back_backworld/back_backworld_1894.mp3 to /content/wav_files/back_backworld/back_backworld_1894.wav\n",
            "Converted /content/back_backworld/back_backworld/back_backworld_2025.mp3 to /content/wav_files/back_backworld/back_backworld_2025.wav\n",
            "Converted /content/back_backworld/back_backworld/back_backworld_1957.mp3 to /content/wav_files/back_backworld/back_backworld_1957.wav\n",
            "Converted /content/back_backworld/back_backworld/back_backworld_1935.mp3 to /content/wav_files/back_backworld/back_backworld_1935.wav\n",
            "Converted /content/back_backworld/back_backworld/back_backworld_2008.mp3 to /content/wav_files/back_backworld/back_backworld_2008.wav\n",
            "Converted /content/back_backworld/back_backworld/back_backworld_1772.mp3 to /content/wav_files/back_backworld/back_backworld_1772.wav\n",
            "Converted /content/back_backworld/back_backworld/back_backworld_1959.mp3 to /content/wav_files/back_backworld/back_backworld_1959.wav\n",
            "Converted /content/back_backworld/back_backworld/back_backworld_1973.mp3 to /content/wav_files/back_backworld/back_backworld_1973.wav\n",
            "Converted /content/back_backworld/back_backworld/back_backworld_2026.mp3 to /content/wav_files/back_backworld/back_backworld_2026.wav\n",
            "Converted /content/back_backworld/back_backworld/back_backworld_2036.mp3 to /content/wav_files/back_backworld/back_backworld_2036.wav\n",
            "Converted /content/back_backworld/back_backworld/back_backworld_1790.mp3 to /content/wav_files/back_backworld/back_backworld_1790.wav\n",
            "Converted /content/back_backworld/back_backworld/back_backworld_1920.mp3 to /content/wav_files/back_backworld/back_backworld_1920.wav\n",
            "Converted /content/back_backworld/back_backworld/back_backworld_1929.mp3 to /content/wav_files/back_backworld/back_backworld_1929.wav\n",
            "Converted /content/back_backworld/back_backworld/back_backworld_1897.mp3 to /content/wav_files/back_backworld/back_backworld_1897.wav\n",
            "Converted /content/back_backworld/back_backworld/back_backworld_1936.mp3 to /content/wav_files/back_backworld/back_backworld_1936.wav\n",
            "Converted /content/back_backworld/back_backworld/back_backworld_1847.mp3 to /content/wav_files/back_backworld/back_backworld_1847.wav\n",
            "Converted /content/back_backworld/back_backworld/back_backworld_1829.mp3 to /content/wav_files/back_backworld/back_backworld_1829.wav\n",
            "Converted /content/back_backworld/back_backworld/back_backworld_2016.mp3 to /content/wav_files/back_backworld/back_backworld_2016.wav\n",
            "Converted /content/back_backworld/back_backworld/back_backworld_1792.mp3 to /content/wav_files/back_backworld/back_backworld_1792.wav\n",
            "Converted /content/back_backworld/back_backworld/back_backworld_1802.mp3 to /content/wav_files/back_backworld/back_backworld_1802.wav\n",
            "Converted /content/back_backworld/back_backworld/back_backworld_1825.mp3 to /content/wav_files/back_backworld/back_backworld_1825.wav\n",
            "Converted /content/back_backworld/back_backworld/back_backworld_1979.mp3 to /content/wav_files/back_backworld/back_backworld_1979.wav\n",
            "Converted /content/back_backworld/back_backworld/back_backworld_1874.mp3 to /content/wav_files/back_backworld/back_backworld_1874.wav\n",
            "Converted /content/back_backworld/back_backworld/back_backworld_1844.mp3 to /content/wav_files/back_backworld/back_backworld_1844.wav\n",
            "Converted /content/back_backworld/back_backworld/back_backworld_1810.mp3 to /content/wav_files/back_backworld/back_backworld_1810.wav\n",
            "Converted /content/back_backworld/back_backworld/back_backworld_1878.mp3 to /content/wav_files/back_backworld/back_backworld_1878.wav\n",
            "Converted /content/back_backworld/back_backworld/back_backworld_1950.mp3 to /content/wav_files/back_backworld/back_backworld_1950.wav\n",
            "Converted /content/back_backworld/back_backworld/back_backworld_2039.mp3 to /content/wav_files/back_backworld/back_backworld_2039.wav\n",
            "Converted /content/back_backworld/back_backworld/back_backworld_1970.mp3 to /content/wav_files/back_backworld/back_backworld_1970.wav\n",
            "Converted /content/back_backworld/back_backworld/back_backworld_1879.mp3 to /content/wav_files/back_backworld/back_backworld_1879.wav\n",
            "Converted /content/back_backworld/back_backworld/back_backworld_1741.mp3 to /content/wav_files/back_backworld/back_backworld_1741.wav\n",
            "Converted /content/back_backworld/back_backworld/back_backworld_1993.mp3 to /content/wav_files/back_backworld/back_backworld_1993.wav\n",
            "Converted /content/back_backworld/back_backworld/back_backworld_2029.mp3 to /content/wav_files/back_backworld/back_backworld_2029.wav\n",
            "Converted /content/back_backworld/back_backworld/back_backworld_1753.mp3 to /content/wav_files/back_backworld/back_backworld_1753.wav\n",
            "Converted /content/back_backworld/back_backworld/back_backworld_1827.mp3 to /content/wav_files/back_backworld/back_backworld_1827.wav\n",
            "Converted /content/back_backworld/back_backworld/back_backworld_1954.mp3 to /content/wav_files/back_backworld/back_backworld_1954.wav\n",
            "Converted /content/back_backworld/back_backworld/back_backworld_1743.mp3 to /content/wav_files/back_backworld/back_backworld_1743.wav\n",
            "Converted /content/back_backworld/back_backworld/back_backworld_1736.mp3 to /content/wav_files/back_backworld/back_backworld_1736.wav\n",
            "Converted /content/back_backworld/back_backworld/back_backworld_1789.mp3 to /content/wav_files/back_backworld/back_backworld_1789.wav\n",
            "Converted /content/back_backworld/back_backworld/back_backworld_1846.mp3 to /content/wav_files/back_backworld/back_backworld_1846.wav\n",
            "Converted /content/back_backworld/back_backworld/back_backworld_1980.mp3 to /content/wav_files/back_backworld/back_backworld_1980.wav\n",
            "Converted /content/back_backworld/back_backworld/back_backworld_1768.mp3 to /content/wav_files/back_backworld/back_backworld_1768.wav\n",
            "Converted /content/back_backworld/back_backworld/back_backworld_1960.mp3 to /content/wav_files/back_backworld/back_backworld_1960.wav\n",
            "Converted /content/back_backworld/back_backworld/back_backworld_1818.mp3 to /content/wav_files/back_backworld/back_backworld_1818.wav\n",
            "Converted /content/back_backworld/back_backworld/back_backworld_1822.mp3 to /content/wav_files/back_backworld/back_backworld_1822.wav\n",
            "Converted /content/back_backworld/back_backworld/back_backworld_1794.mp3 to /content/wav_files/back_backworld/back_backworld_1794.wav\n",
            "Converted /content/back_backworld/back_backworld/back_backworld_2050.mp3 to /content/wav_files/back_backworld/back_backworld_2050.wav\n",
            "Converted /content/back_backworld/back_backworld/back_backworld_1750.mp3 to /content/wav_files/back_backworld/back_backworld_1750.wav\n",
            "Converted /content/back_backworld/back_backworld/back_backworld_1903.mp3 to /content/wav_files/back_backworld/back_backworld_1903.wav\n",
            "Converted /content/back_backworld/back_backworld/back_backworld_2047.mp3 to /content/wav_files/back_backworld/back_backworld_2047.wav\n",
            "Converted /content/back_backworld/back_backworld/back_backworld_1816.mp3 to /content/wav_files/back_backworld/back_backworld_1816.wav\n",
            "Converted /content/back_backworld/back_backworld/back_backworld_1835.mp3 to /content/wav_files/back_backworld/back_backworld_1835.wav\n",
            "Converted /content/back_backworld/back_backworld/back_backworld_1746.mp3 to /content/wav_files/back_backworld/back_backworld_1746.wav\n",
            "Converted /content/back_backworld/back_backworld/back_backworld_1899.mp3 to /content/wav_files/back_backworld/back_backworld_1899.wav\n",
            "Converted /content/back_backworld/back_backworld/back_backworld_1773.mp3 to /content/wav_files/back_backworld/back_backworld_1773.wav\n",
            "Converted /content/back_backworld/back_backworld/back_backworld_1735.mp3 to /content/wav_files/back_backworld/back_backworld_1735.wav\n",
            "Converted /content/back_backworld/back_backworld/back_backworld_1787.mp3 to /content/wav_files/back_backworld/back_backworld_1787.wav\n",
            "Converted /content/back_backworld/back_backworld/back_backworld_1848.mp3 to /content/wav_files/back_backworld/back_backworld_1848.wav\n",
            "Converted /content/back_backworld/back_backworld/back_backworld_1866.mp3 to /content/wav_files/back_backworld/back_backworld_1866.wav\n",
            "Converted /content/back_backworld/back_backworld/back_backworld_1946.mp3 to /content/wav_files/back_backworld/back_backworld_1946.wav\n",
            "Converted /content/back_backworld/back_backworld/back_backworld_1962.mp3 to /content/wav_files/back_backworld/back_backworld_1962.wav\n",
            "Converted /content/back_backworld/back_backworld/back_backworld_1869.mp3 to /content/wav_files/back_backworld/back_backworld_1869.wav\n",
            "Converted /content/back_backworld/back_backworld/back_backworld_1731.mp3 to /content/wav_files/back_backworld/back_backworld_1731.wav\n",
            "Converted /content/back_backworld/back_backworld/back_backworld_1974.mp3 to /content/wav_files/back_backworld/back_backworld_1974.wav\n",
            "Converted /content/back_backworld/back_backworld/back_backworld_1955.mp3 to /content/wav_files/back_backworld/back_backworld_1955.wav\n",
            "Converted /content/back_backworld/back_backworld/back_backworld_1784.mp3 to /content/wav_files/back_backworld/back_backworld_1784.wav\n",
            "Converted /content/back_backworld/back_backworld/back_backworld_1989.mp3 to /content/wav_files/back_backworld/back_backworld_1989.wav\n",
            "Converted /content/back_backworld/back_backworld/back_backworld_1877.mp3 to /content/wav_files/back_backworld/back_backworld_1877.wav\n",
            "Converted /content/back_backworld/back_backworld/back_backworld_1987.mp3 to /content/wav_files/back_backworld/back_backworld_1987.wav\n",
            "Converted /content/back_backworld/back_backworld/back_backworld_1742.mp3 to /content/wav_files/back_backworld/back_backworld_1742.wav\n",
            "Converted /content/back_backworld/back_backworld/back_backworld_1757.mp3 to /content/wav_files/back_backworld/back_backworld_1757.wav\n",
            "Converted /content/back_backworld/back_backworld/back_backworld_1824.mp3 to /content/wav_files/back_backworld/back_backworld_1824.wav\n",
            "Converted /content/back_backworld/back_backworld/back_backworld_1805.mp3 to /content/wav_files/back_backworld/back_backworld_1805.wav\n",
            "Converted /content/back_backworld/back_backworld/back_backworld_1940.mp3 to /content/wav_files/back_backworld/back_backworld_1940.wav\n",
            "Converted /content/back_backworld/back_backworld/back_backworld_1949.mp3 to /content/wav_files/back_backworld/back_backworld_1949.wav\n",
            "Converted /content/back_backworld/back_backworld/back_backworld_1830.mp3 to /content/wav_files/back_backworld/back_backworld_1830.wav\n",
            "Converted /content/back_backworld/back_backworld/back_backworld_1900.mp3 to /content/wav_files/back_backworld/back_backworld_1900.wav\n",
            "Converted /content/back_backworld/back_backworld/back_backworld_1890.mp3 to /content/wav_files/back_backworld/back_backworld_1890.wav\n",
            "Converted /content/back_backworld/back_backworld/back_backworld_2010.mp3 to /content/wav_files/back_backworld/back_backworld_2010.wav\n",
            "Converted /content/back_backworld/back_backworld/back_backworld_2048.mp3 to /content/wav_files/back_backworld/back_backworld_2048.wav\n",
            "Converted /content/back_backworld/back_backworld/back_backworld_2009.mp3 to /content/wav_files/back_backworld/back_backworld_2009.wav\n",
            "Converted /content/back_backworld/back_backworld/back_backworld_1820.mp3 to /content/wav_files/back_backworld/back_backworld_1820.wav\n",
            "Converted /content/back_backworld/back_backworld/back_backworld_1926.mp3 to /content/wav_files/back_backworld/back_backworld_1926.wav\n",
            "Converted /content/back_backworld/back_backworld/back_backworld_2035.mp3 to /content/wav_files/back_backworld/back_backworld_2035.wav\n",
            "Converted /content/back_backworld/back_backworld/back_backworld_1909.mp3 to /content/wav_files/back_backworld/back_backworld_1909.wav\n",
            "Converted /content/back_backworld/back_backworld/back_backworld_1801.mp3 to /content/wav_files/back_backworld/back_backworld_1801.wav\n",
            "Converted /content/back_backworld/back_backworld/back_backworld_1715.mp3 to /content/wav_files/back_backworld/back_backworld_1715.wav\n",
            "Converted /content/back_backworld/back_backworld/back_backworld_1892.mp3 to /content/wav_files/back_backworld/back_backworld_1892.wav\n",
            "Converted /content/back_backworld/back_backworld/back_backworld_1738.mp3 to /content/wav_files/back_backworld/back_backworld_1738.wav\n",
            "Converted /content/back_backworld/back_backworld/back_backworld_1780.mp3 to /content/wav_files/back_backworld/back_backworld_1780.wav\n",
            "Converted /content/back_backworld/back_backworld/back_backworld_1934.mp3 to /content/wav_files/back_backworld/back_backworld_1934.wav\n",
            "Converted /content/back_backworld/back_backworld/back_backworld_2038.mp3 to /content/wav_files/back_backworld/back_backworld_2038.wav\n",
            "Converted /content/back_backworld/back_backworld/back_backworld_1941.mp3 to /content/wav_files/back_backworld/back_backworld_1941.wav\n",
            "Converted /content/back_backworld/back_backworld/back_backworld_2013.mp3 to /content/wav_files/back_backworld/back_backworld_2013.wav\n",
            "Converted /content/back_backworld/back_backworld/back_backworld_1803.mp3 to /content/wav_files/back_backworld/back_backworld_1803.wav\n",
            "Converted /content/back_backworld/back_backworld/back_backworld_1726.mp3 to /content/wav_files/back_backworld/back_backworld_1726.wav\n",
            "Converted /content/back_backworld/back_backworld/back_backworld_1922.mp3 to /content/wav_files/back_backworld/back_backworld_1922.wav\n",
            "Converted /content/back_backworld/back_backworld/back_backworld_1751.mp3 to /content/wav_files/back_backworld/back_backworld_1751.wav\n",
            "Converted /content/back_backworld/back_backworld/back_backworld_1996.mp3 to /content/wav_files/back_backworld/back_backworld_1996.wav\n",
            "Converted /content/back_backworld/back_backworld/back_backworld_2032.mp3 to /content/wav_files/back_backworld/back_backworld_2032.wav\n",
            "Converted /content/back_backworld/back_backworld/back_backworld_1905.mp3 to /content/wav_files/back_backworld/back_backworld_1905.wav\n",
            "Converted /content/back_backworld/back_backworld/back_backworld_1841.mp3 to /content/wav_files/back_backworld/back_backworld_1841.wav\n",
            "Converted /content/back_backworld/back_backworld/back_backworld_1815.mp3 to /content/wav_files/back_backworld/back_backworld_1815.wav\n",
            "Converted /content/back_backworld/back_backworld/back_backworld_1800.mp3 to /content/wav_files/back_backworld/back_backworld_1800.wav\n",
            "Converted /content/back_backworld/back_backworld/back_backworld_1813.mp3 to /content/wav_files/back_backworld/back_backworld_1813.wav\n",
            "Converted /content/back_backworld/back_backworld/back_backworld_1760.mp3 to /content/wav_files/back_backworld/back_backworld_1760.wav\n",
            "Converted /content/back_backworld/back_backworld/back_backworld_2017.mp3 to /content/wav_files/back_backworld/back_backworld_2017.wav\n",
            "Converted /content/back_backworld/back_backworld/back_backworld_1843.mp3 to /content/wav_files/back_backworld/back_backworld_1843.wav\n",
            "Converted /content/back_backworld/back_backworld/back_backworld_1804.mp3 to /content/wav_files/back_backworld/back_backworld_1804.wav\n",
            "Converted /content/back_backworld/back_backworld/back_backworld_1862.mp3 to /content/wav_files/back_backworld/back_backworld_1862.wav\n",
            "Converted /content/back_backworld/back_backworld/back_backworld_1769.mp3 to /content/wav_files/back_backworld/back_backworld_1769.wav\n",
            "Converted /content/back_backworld/back_backworld/back_backworld_1849.mp3 to /content/wav_files/back_backworld/back_backworld_1849.wav\n",
            "Converted /content/back_backworld/back_backworld/back_backworld_1975.mp3 to /content/wav_files/back_backworld/back_backworld_1975.wav\n",
            "Converted /content/back_backworld/back_backworld/back_backworld_1888.mp3 to /content/wav_files/back_backworld/back_backworld_1888.wav\n",
            "Converted /content/back_backworld/back_backworld/back_backworld_1867.mp3 to /content/wav_files/back_backworld/back_backworld_1867.wav\n",
            "Converted /content/back_backworld/back_backworld/back_backworld_1875.mp3 to /content/wav_files/back_backworld/back_backworld_1875.wav\n",
            "Converted /content/back_backworld/back_backworld/back_backworld_1775.mp3 to /content/wav_files/back_backworld/back_backworld_1775.wav\n",
            "Converted /content/back_backworld/back_backworld/back_backworld_1837.mp3 to /content/wav_files/back_backworld/back_backworld_1837.wav\n",
            "Converted /content/back_backworld/back_backworld/back_backworld_1734.mp3 to /content/wav_files/back_backworld/back_backworld_1734.wav\n",
            "Converted /content/back_backworld/back_backworld/back_backworld_1763.mp3 to /content/wav_files/back_backworld/back_backworld_1763.wav\n",
            "Converted /content/back_backworld/back_backworld/back_backworld_1839.mp3 to /content/wav_files/back_backworld/back_backworld_1839.wav\n",
            "Converted /content/back_backworld/back_backworld/back_backworld_2005.mp3 to /content/wav_files/back_backworld/back_backworld_2005.wav\n",
            "Converted /content/back_backworld/back_backworld/back_backworld_1938.mp3 to /content/wav_files/back_backworld/back_backworld_1938.wav\n",
            "Converted /content/back_backworld/back_backworld/back_backworld_1732.mp3 to /content/wav_files/back_backworld/back_backworld_1732.wav\n",
            "Converted /content/back_backworld/back_backworld/back_backworld_1988.mp3 to /content/wav_files/back_backworld/back_backworld_1988.wav\n",
            "Converted /content/back_backworld/back_backworld/back_backworld_2034.mp3 to /content/wav_files/back_backworld/back_backworld_2034.wav\n",
            "Converted /content/back_backworld/back_backworld/back_backworld_1917.mp3 to /content/wav_files/back_backworld/back_backworld_1917.wav\n",
            "Converted /content/back_backworld/back_backworld/back_backworld_2042.mp3 to /content/wav_files/back_backworld/back_backworld_2042.wav\n",
            "Converted /content/back_backworld/back_backworld/back_backworld_1717.mp3 to /content/wav_files/back_backworld/back_backworld_1717.wav\n",
            "Converted /content/back_backworld/back_backworld/back_backworld_1930.mp3 to /content/wav_files/back_backworld/back_backworld_1930.wav\n",
            "Converted /content/back_backworld/back_backworld/back_backworld_1895.mp3 to /content/wav_files/back_backworld/back_backworld_1895.wav\n",
            "Converted /content/back_backworld/back_backworld/back_backworld_1967.mp3 to /content/wav_files/back_backworld/back_backworld_1967.wav\n",
            "Converted /content/back_backworld/back_backworld/back_backworld_1850.mp3 to /content/wav_files/back_backworld/back_backworld_1850.wav\n",
            "Converted /content/back_backworld/back_backworld/back_backworld_1724.mp3 to /content/wav_files/back_backworld/back_backworld_1724.wav\n",
            "Converted /content/back_backworld/back_backworld/back_backworld_1786.mp3 to /content/wav_files/back_backworld/back_backworld_1786.wav\n",
            "Converted /content/back_backworld/back_backworld/back_backworld_1854.mp3 to /content/wav_files/back_backworld/back_backworld_1854.wav\n",
            "Converted /content/back_backworld/back_backworld/back_backworld_1924.mp3 to /content/wav_files/back_backworld/back_backworld_1924.wav\n",
            "Converted /content/back_backworld/back_backworld/back_backworld_1880.mp3 to /content/wav_files/back_backworld/back_backworld_1880.wav\n",
            "Converted /content/back_backworld/back_backworld/back_backworld_1887.mp3 to /content/wav_files/back_backworld/back_backworld_1887.wav\n",
            "Converted /content/back_backworld/back_backworld/back_backworld_1886.mp3 to /content/wav_files/back_backworld/back_backworld_1886.wav\n",
            "Converted /content/back_backworld/back_backworld/back_backworld_2022.mp3 to /content/wav_files/back_backworld/back_backworld_2022.wav\n",
            "Converted /content/back_backworld/back_backworld/back_backworld_1881.mp3 to /content/wav_files/back_backworld/back_backworld_1881.wav\n",
            "Converted /content/back_backworld/back_backworld/back_backworld_1745.mp3 to /content/wav_files/back_backworld/back_backworld_1745.wav\n",
            "Converted /content/back_backworld/back_backworld/back_backworld_1759.mp3 to /content/wav_files/back_backworld/back_backworld_1759.wav\n",
            "Converted /content/back_backworld/back_backworld/back_backworld_1956.mp3 to /content/wav_files/back_backworld/back_backworld_1956.wav\n",
            "Converted /content/back_backworld/back_backworld/back_backworld_1884.mp3 to /content/wav_files/back_backworld/back_backworld_1884.wav\n",
            "Converted /content/back_backworld/back_backworld/back_backworld_1855.mp3 to /content/wav_files/back_backworld/back_backworld_1855.wav\n",
            "Converted /content/back_backworld/back_backworld/back_backworld_1747.mp3 to /content/wav_files/back_backworld/back_backworld_1747.wav\n",
            "Converted /content/back_backworld/back_backworld/back_backworld_1821.mp3 to /content/wav_files/back_backworld/back_backworld_1821.wav\n",
            "Converted /content/back_backworld/back_backworld/back_backworld_1761.mp3 to /content/wav_files/back_backworld/back_backworld_1761.wav\n",
            "Converted /content/back_backworld/back_backworld/back_backworld_1933.mp3 to /content/wav_files/back_backworld/back_backworld_1933.wav\n",
            "Converted /content/back_backworld/back_backworld/back_backworld_1912.mp3 to /content/wav_files/back_backworld/back_backworld_1912.wav\n",
            "Converted /content/back_backworld/back_backworld/back_backworld_1845.mp3 to /content/wav_files/back_backworld/back_backworld_1845.wav\n",
            "Converted /content/back_backworld/back_backworld/back_backworld_1740.mp3 to /content/wav_files/back_backworld/back_backworld_1740.wav\n",
            "Converted /content/back_backworld/back_backworld/back_backworld_1814.mp3 to /content/wav_files/back_backworld/back_backworld_1814.wav\n",
            "Converted /content/back_backworld/back_backworld/back_backworld_1744.mp3 to /content/wav_files/back_backworld/back_backworld_1744.wav\n",
            "Converted /content/back_backworld/back_backworld/back_backworld_1977.mp3 to /content/wav_files/back_backworld/back_backworld_1977.wav\n",
            "Converted /content/back_backworld/back_backworld/back_backworld_1781.mp3 to /content/wav_files/back_backworld/back_backworld_1781.wav\n",
            "Converted /content/back_backworld/back_backworld/back_backworld_1991.mp3 to /content/wav_files/back_backworld/back_backworld_1991.wav\n",
            "Converted /content/back_backworld/back_backworld/back_backworld_1777.mp3 to /content/wav_files/back_backworld/back_backworld_1777.wav\n",
            "Converted /content/back_backworld/back_backworld/back_backworld_1904.mp3 to /content/wav_files/back_backworld/back_backworld_1904.wav\n",
            "Converted /content/back_backworld/back_backworld/back_backworld_1984.mp3 to /content/wav_files/back_backworld/back_backworld_1984.wav\n",
            "Converted /content/back_backworld/back_backworld/back_backworld_1985.mp3 to /content/wav_files/back_backworld/back_backworld_1985.wav\n",
            "Converted /content/back_backworld/back_backworld/back_backworld_1721.mp3 to /content/wav_files/back_backworld/back_backworld_1721.wav\n",
            "Converted /content/back_backworld/back_backworld/back_backworld_2027.mp3 to /content/wav_files/back_backworld/back_backworld_2027.wav\n",
            "Converted /content/back_backworld/back_backworld/back_backworld_1858.mp3 to /content/wav_files/back_backworld/back_backworld_1858.wav\n",
            "Converted /content/back_backworld/back_backworld/back_backworld_1797.mp3 to /content/wav_files/back_backworld/back_backworld_1797.wav\n",
            "Converted /content/back_backworld/back_backworld/back_backworld_1756.mp3 to /content/wav_files/back_backworld/back_backworld_1756.wav\n",
            "Converted /content/back_backworld/back_backworld/back_backworld_1971.mp3 to /content/wav_files/back_backworld/back_backworld_1971.wav\n",
            "Converted /content/back_backworld/back_backworld/back_backworld_1796.mp3 to /content/wav_files/back_backworld/back_backworld_1796.wav\n",
            "Converted /content/back_backworld/back_backworld/back_backworld_1898.mp3 to /content/wav_files/back_backworld/back_backworld_1898.wav\n",
            "Converted /content/back_backworld/back_backworld/back_backworld_1913.mp3 to /content/wav_files/back_backworld/back_backworld_1913.wav\n",
            "Converted /content/back_backworld/back_backworld/back_backworld_1961.mp3 to /content/wav_files/back_backworld/back_backworld_1961.wav\n",
            "Converted /content/back_backworld/back_backworld/back_backworld_1831.mp3 to /content/wav_files/back_backworld/back_backworld_1831.wav\n",
            "Converted /content/back_backworld/back_backworld/back_backworld_2031.mp3 to /content/wav_files/back_backworld/back_backworld_2031.wav\n",
            "Converted /content/back_backworld/back_backworld/back_backworld_1733.mp3 to /content/wav_files/back_backworld/back_backworld_1733.wav\n",
            "Converted /content/back_backworld/back_backworld/back_backworld_1749.mp3 to /content/wav_files/back_backworld/back_backworld_1749.wav\n",
            "Converted /content/back_backworld/back_backworld/back_backworld_2019.mp3 to /content/wav_files/back_backworld/back_backworld_2019.wav\n",
            "Converted /content/back_backworld/back_backworld/back_backworld_1723.mp3 to /content/wav_files/back_backworld/back_backworld_1723.wav\n",
            "Converted /content/back_backworld/back_backworld/back_backworld_1947.mp3 to /content/wav_files/back_backworld/back_backworld_1947.wav\n",
            "Converted /content/back_backworld/back_backworld/back_backworld_2018.mp3 to /content/wav_files/back_backworld/back_backworld_2018.wav\n",
            "Converted /content/back_backworld/back_backworld/back_backworld_1997.mp3 to /content/wav_files/back_backworld/back_backworld_1997.wav\n",
            "Converted /content/back_backworld/back_backworld/back_backworld_1853.mp3 to /content/wav_files/back_backworld/back_backworld_1853.wav\n",
            "Converted /content/back_backworld/back_backworld/back_backworld_1766.mp3 to /content/wav_files/back_backworld/back_backworld_1766.wav\n",
            "Converted /content/back_backworld/back_backworld/back_backworld_1793.mp3 to /content/wav_files/back_backworld/back_backworld_1793.wav\n",
            "Converted /content/back_backworld/back_backworld/back_backworld_1729.mp3 to /content/wav_files/back_backworld/back_backworld_1729.wav\n",
            "Converted /content/back_backworld/back_backworld/back_backworld_1856.mp3 to /content/wav_files/back_backworld/back_backworld_1856.wav\n",
            "Converted /content/back_backworld/back_backworld/back_backworld_2001.mp3 to /content/wav_files/back_backworld/back_backworld_2001.wav\n",
            "Converted /content/back_backworld/back_backworld/back_backworld_1770.mp3 to /content/wav_files/back_backworld/back_backworld_1770.wav\n",
            "Converted /content/back_backworld/back_backworld/back_backworld_1791.mp3 to /content/wav_files/back_backworld/back_backworld_1791.wav\n",
            "Converted /content/back_backworld/back_backworld/back_backworld_1863.mp3 to /content/wav_files/back_backworld/back_backworld_1863.wav\n",
            "Converted /content/back_backworld/back_backworld/back_backworld_1767.mp3 to /content/wav_files/back_backworld/back_backworld_1767.wav\n",
            "Converted /content/back_backworld/back_backworld/back_backworld_1720.mp3 to /content/wav_files/back_backworld/back_backworld_1720.wav\n",
            "Converted /content/back_backworld/back_backworld/back_backworld_2043.mp3 to /content/wav_files/back_backworld/back_backworld_2043.wav\n",
            "Converted /content/back_backworld/back_backworld/back_backworld_1948.mp3 to /content/wav_files/back_backworld/back_backworld_1948.wav\n",
            "Converted /content/back_backworld/back_backworld/back_backworld_1823.mp3 to /content/wav_files/back_backworld/back_backworld_1823.wav\n",
            "Converted /content/back_backworld/back_backworld/back_backworld_2049.mp3 to /content/wav_files/back_backworld/back_backworld_2049.wav\n",
            "Converted /content/back_backworld/back_backworld/back_backworld_1943.mp3 to /content/wav_files/back_backworld/back_backworld_1943.wav\n",
            "Converted /content/back_backworld/back_backworld/back_backworld_2002.mp3 to /content/wav_files/back_backworld/back_backworld_2002.wav\n",
            "Converted /content/back_backworld/back_backworld/back_backworld_1998.mp3 to /content/wav_files/back_backworld/back_backworld_1998.wav\n",
            "Converted /content/back_backworld/back_backworld/back_backworld_1765.mp3 to /content/wav_files/back_backworld/back_backworld_1765.wav\n",
            "Converted /content/back_backworld/back_backworld/back_backworld_1861.mp3 to /content/wav_files/back_backworld/back_backworld_1861.wav\n",
            "Converted /content/back_backworld/back_backworld/back_backworld_2045.mp3 to /content/wav_files/back_backworld/back_backworld_2045.wav\n",
            "Converted /content/back_backworld/back_backworld/back_backworld_1727.mp3 to /content/wav_files/back_backworld/back_backworld_1727.wav\n",
            "Converted /content/back_backworld/back_backworld/back_backworld_1976.mp3 to /content/wav_files/back_backworld/back_backworld_1976.wav\n",
            "Converted /content/back_backworld/back_backworld/back_backworld_1871.mp3 to /content/wav_files/back_backworld/back_backworld_1871.wav\n",
            "Converted /content/back_backworld/back_backworld/back_backworld_1762.mp3 to /content/wav_files/back_backworld/back_backworld_1762.wav\n",
            "Converted /content/back_backworld/back_backworld/back_backworld_1945.mp3 to /content/wav_files/back_backworld/back_backworld_1945.wav\n",
            "Converted /content/back_backworld/back_backworld/back_backworld_1737.mp3 to /content/wav_files/back_backworld/back_backworld_1737.wav\n",
            "Converted /content/back_backworld/back_backworld/back_backworld_2033.mp3 to /content/wav_files/back_backworld/back_backworld_2033.wav\n",
            "Converted /content/back_backworld/back_backworld/back_backworld_2003.mp3 to /content/wav_files/back_backworld/back_backworld_2003.wav\n",
            "Converted /content/back_backworld/back_backworld/back_backworld_1992.mp3 to /content/wav_files/back_backworld/back_backworld_1992.wav\n",
            "Converted /content/back_backworld/back_backworld/back_backworld_2037.mp3 to /content/wav_files/back_backworld/back_backworld_2037.wav\n",
            "Converted /content/back_backworld/back_backworld/back_backworld_1819.mp3 to /content/wav_files/back_backworld/back_backworld_1819.wav\n",
            "Converted /content/back_backworld/back_backworld/back_backworld_1870.mp3 to /content/wav_files/back_backworld/back_backworld_1870.wav\n",
            "Converted /content/back_backworld/back_backworld/back_backworld_1730.mp3 to /content/wav_files/back_backworld/back_backworld_1730.wav\n",
            "Converted /content/back_backworld/back_backworld/back_backworld_1788.mp3 to /content/wav_files/back_backworld/back_backworld_1788.wav\n",
            "Converted /content/back_backworld/back_backworld/back_backworld_1817.mp3 to /content/wav_files/back_backworld/back_backworld_1817.wav\n",
            "Converted /content/back_backworld/back_backworld/back_backworld_1728.mp3 to /content/wav_files/back_backworld/back_backworld_1728.wav\n",
            "Converted /content/back_backworld/back_backworld/back_backworld_1952.mp3 to /content/wav_files/back_backworld/back_backworld_1952.wav\n",
            "Converted /content/back_backworld/back_backworld/back_backworld_1964.mp3 to /content/wav_files/back_backworld/back_backworld_1964.wav\n",
            "Converted /content/back_backworld/back_backworld/back_backworld_1882.mp3 to /content/wav_files/back_backworld/back_backworld_1882.wav\n",
            "Converted /content/back_backworld/back_backworld/back_backworld_1748.mp3 to /content/wav_files/back_backworld/back_backworld_1748.wav\n",
            "Converted /content/back_backworld/back_backworld/back_backworld_2006.mp3 to /content/wav_files/back_backworld/back_backworld_2006.wav\n",
            "Converted /content/back_backworld/back_backworld/back_backworld_1953.mp3 to /content/wav_files/back_backworld/back_backworld_1953.wav\n"
          ]
        }
      ],
      "source": [
        "from pydub import AudioSegment\n",
        "import os\n",
        "\n",
        "def convert_folder_to_wav(input_folder, output_folder):\n",
        "    if not os.path.exists(output_folder):\n",
        "        os.makedirs(output_folder)\n",
        "    for file in os.listdir(input_folder):\n",
        "        if file.lower().endswith(('.m4a', '.mp3')):\n",
        "            input_file_path = os.path.join(input_folder, file)\n",
        "            sound = AudioSegment.from_file(input_file_path)\n",
        "            wav_filename = os.path.splitext(file)[0] + '.wav'\n",
        "            output_file_path = os.path.join(output_folder, wav_filename)\n",
        "            sound.export(output_file_path, format='wav')\n",
        "            print(f\"Converted {input_file_path} to {output_file_path}\")\n",
        "\n",
        "input_folders = [\n",
        "    '/content/stop/stop',\n",
        "    '/content/left/left',\n",
        "    '/content/right/right',\n",
        "    '/content/Fast_Faster/Fast_Faster',\n",
        "    '/content/slow_slower/slow_slower',\n",
        "    '/content/front_forworld_streight/front_forworld_streight',\n",
        "    '/content/back_backworld/back_backworld'\n",
        "\n",
        "]\n",
        "\n",
        "output_root = '/content/wav_files'\n",
        "\n",
        "for input_folder in input_folders:\n",
        "\n",
        "    folder_name = os.path.basename(input_folder.rstrip('/'))\n",
        "\n",
        "\n",
        "    output_folder = os.path.join(output_root, folder_name)\n",
        "\n",
        "    convert_folder_to_wav(input_folder, output_folder)\n"
      ]
    },
    {
      "cell_type": "markdown",
      "metadata": {
        "id": "QCWYZ5jTkmBp"
      },
      "source": [
        "#MFFCC Feature Extraction\n"
      ]
    },
    {
      "cell_type": "code",
      "execution_count": null,
      "metadata": {
        "colab": {
          "base_uri": "https://localhost:8080/"
        },
        "id": "Eaz8Xc7GYvU0",
        "outputId": "a5e4fd47-d4a8-4843-945e-fe4867fc16d5"
      },
      "outputs": [
        {
          "output_type": "stream",
          "name": "stderr",
          "text": [
            "/usr/local/lib/python3.11/dist-packages/librosa/core/spectrum.py:266: UserWarning: n_fft=2048 is too large for input signal of length=2027\n",
            "  warnings.warn(\n"
          ]
        },
        {
          "output_type": "stream",
          "name": "stdout",
          "text": [
            "Extracted features from 2050 files.\n",
            "Labels count: 2050\n"
          ]
        }
      ],
      "source": [
        "import os\n",
        "import librosa\n",
        "import numpy as np\n",
        "\n",
        "features = []\n",
        "labels = []\n",
        "\n",
        "commands = ['left','right','front_forworld_streight','back_backworld','stop','Fast_Faster','slow_slower']\n",
        "output_folder = '/content/wav_files'\n",
        "\n",
        "for cmd in commands:\n",
        "    folder = os.path.join(output_folder, cmd)\n",
        "    if os.path.exists(folder):\n",
        "        for file in os.listdir(folder):\n",
        "            if file.endswith('.wav'):\n",
        "                file_path = os.path.join(folder, file)\n",
        "                try:\n",
        "                    y, sr = librosa.load(file_path, sr=16000)\n",
        "                    mfcc = librosa.feature.mfcc(y=y, sr=sr, n_mfcc=13)\n",
        "                    mfcc_mean = np.mean(mfcc.T, axis=0)\n",
        "                    features.append(mfcc_mean)\n",
        "                    labels.append(cmd)\n",
        "                except Exception as e:\n",
        "                    print(f\"Error processing {file_path}: {e}\")\n",
        "    else:\n",
        "        print(f\"Folder not found: {folder}\")\n",
        "\n",
        "print(f\"Extracted features from {len(features)} files.\")\n",
        "print(f\"Labels count: {len(labels)}\")\n"
      ]
    },
    {
      "cell_type": "markdown",
      "metadata": {
        "id": "wz1_xjJmk1UJ"
      },
      "source": [
        "#Convert Features, Labels and Model Training"
      ]
    },
    {
      "cell_type": "code",
      "execution_count": null,
      "metadata": {
        "colab": {
          "base_uri": "https://localhost:8080/"
        },
        "id": "HPe3Qm4hZY3z",
        "outputId": "50f9c7dc-48c5-46ad-89d5-c387995567b3"
      },
      "outputs": [
        {
          "name": "stdout",
          "output_type": "stream",
          "text": [
            "Accuracy: 36.59%\n",
            "                         precision    recall  f1-score   support\n",
            "\n",
            "            Fast_Faster       0.37      0.53      0.44        64\n",
            "         back_backworld       0.42      0.51      0.46        67\n",
            "front_forworld_streight       0.33      0.64      0.44       103\n",
            "                   left       0.00      0.00      0.00        36\n",
            "                  right       0.00      0.00      0.00        35\n",
            "            slow_slower       0.47      0.23      0.30        71\n",
            "                   stop       0.00      0.00      0.00        34\n",
            "\n",
            "               accuracy                           0.37       410\n",
            "              macro avg       0.23      0.27      0.23       410\n",
            "           weighted avg       0.29      0.37      0.31       410\n",
            "\n"
          ]
        },
        {
          "name": "stderr",
          "output_type": "stream",
          "text": [
            "/usr/local/lib/python3.11/dist-packages/sklearn/metrics/_classification.py:1565: UndefinedMetricWarning: Precision is ill-defined and being set to 0.0 in labels with no predicted samples. Use `zero_division` parameter to control this behavior.\n",
            "  _warn_prf(average, modifier, f\"{metric.capitalize()} is\", len(result))\n",
            "/usr/local/lib/python3.11/dist-packages/sklearn/metrics/_classification.py:1565: UndefinedMetricWarning: Precision is ill-defined and being set to 0.0 in labels with no predicted samples. Use `zero_division` parameter to control this behavior.\n",
            "  _warn_prf(average, modifier, f\"{metric.capitalize()} is\", len(result))\n",
            "/usr/local/lib/python3.11/dist-packages/sklearn/metrics/_classification.py:1565: UndefinedMetricWarning: Precision is ill-defined and being set to 0.0 in labels with no predicted samples. Use `zero_division` parameter to control this behavior.\n",
            "  _warn_prf(average, modifier, f\"{metric.capitalize()} is\", len(result))\n"
          ]
        }
      ],
      "source": [
        "from sklearn.preprocessing import LabelEncoder\n",
        "from sklearn.model_selection import train_test_split\n",
        "from sklearn.svm import SVC\n",
        "from sklearn.metrics import accuracy_score, classification_report\n",
        "\n",
        "X = np.array(features)\n",
        "y = np.array(labels)\n",
        "\n",
        "label_encoder = LabelEncoder()\n",
        "y_encoded = label_encoder.fit_transform(y)\n",
        "\n",
        "X_train, X_test, y_train, y_test = train_test_split(\n",
        "    X, y_encoded, test_size=0.2, random_state=42, stratify=y_encoded\n",
        ")\n",
        "\n",
        "model = SVC(kernel='linear', probability=True)\n",
        "model.fit(X_train, y_train)\n",
        "\n",
        "y_pred = model.predict(X_test)\n",
        "\n",
        "print(f\"Accuracy: {accuracy_score(y_test, y_pred)*100:.2f}%\")\n",
        "print(classification_report(y_test, y_pred, target_names=label_encoder.classes_))\n"
      ]
    },
    {
      "cell_type": "markdown",
      "metadata": {
        "id": "2JbTyut9mOFO"
      },
      "source": [
        "#Algorithm SMOTE"
      ]
    },
    {
      "cell_type": "code",
      "execution_count": null,
      "metadata": {
        "colab": {
          "base_uri": "https://localhost:8080/"
        },
        "id": "5hLLtPqLa0F2",
        "outputId": "969340ec-89f5-4dcf-b27f-09fdbb367fe8"
      },
      "outputs": [
        {
          "name": "stdout",
          "output_type": "stream",
          "text": [
            "Accuracy after SMOTE: 29.97%\n",
            "                         precision    recall  f1-score   support\n",
            "\n",
            "            Fast_Faster       0.29      0.35      0.31       103\n",
            "         back_backworld       0.30      0.49      0.37       103\n",
            "front_forworld_streight       0.08      0.04      0.05       103\n",
            "                   left       0.41      0.57      0.48       104\n",
            "                  right       0.40      0.08      0.13       104\n",
            "            slow_slower       0.24      0.16      0.19       103\n",
            "                   stop       0.30      0.42      0.35       104\n",
            "\n",
            "               accuracy                           0.30       724\n",
            "              macro avg       0.29      0.30      0.27       724\n",
            "           weighted avg       0.29      0.30      0.27       724\n",
            "\n"
          ]
        }
      ],
      "source": [
        "from imblearn.over_sampling import SMOTE\n",
        "\n",
        "smote = SMOTE(random_state=42)\n",
        "X_resampled, y_resampled = smote.fit_resample(X, y_encoded)\n",
        "\n",
        "X_train, X_test, y_train, y_test = train_test_split(\n",
        "    X_resampled, y_resampled, test_size=0.2, random_state=42, stratify=y_resampled\n",
        ")\n",
        "\n",
        "model = SVC(kernel='rbf', probability=True)\n",
        "model.fit(X_train, y_train)\n",
        "\n",
        "y_pred = model.predict(X_test)\n",
        "\n",
        "print(f\"Accuracy after SMOTE: {accuracy_score(y_test, y_pred)*100:.2f}%\")\n",
        "print(classification_report(y_test, y_pred, target_names=label_encoder.classes_))\n"
      ]
    },
    {
      "cell_type": "markdown",
      "metadata": {
        "id": "ohuxGqNgqBmn"
      },
      "source": [
        "#Download The Audio File and Extract Two Important Audio Features."
      ]
    },
    {
      "cell_type": "code",
      "execution_count": null,
      "metadata": {
        "id": "32IC1R4CbJ3j"
      },
      "outputs": [],
      "source": [
        "def extract_features_enhanced(file_path):\n",
        "    y, sr = librosa.load(file_path, sr=16000)\n",
        "    mfcc = librosa.feature.mfcc(y=y, sr=sr, n_mfcc=20)\n",
        "    chroma = librosa.feature.chroma_stft(y=y, sr=sr)\n",
        "    mfcc_mean = np.mean(mfcc.T, axis=0)\n",
        "    chroma_mean = np.mean(chroma.T, axis=0)\n",
        "    return np.hstack((mfcc_mean, chroma_mean))\n"
      ]
    },
    {
      "cell_type": "markdown",
      "metadata": {
        "id": "Xh5UOCqSoltN"
      },
      "source": [
        "#Algorithm RandomForestClassifier"
      ]
    },
    {
      "cell_type": "code",
      "execution_count": null,
      "metadata": {
        "colab": {
          "base_uri": "https://localhost:8080/"
        },
        "id": "xu0Zhl6ggg0I",
        "outputId": "b6834e63-9aa1-4025-efa7-26a8127746ef"
      },
      "outputs": [
        {
          "name": "stdout",
          "output_type": "stream",
          "text": [
            "Random Forest Accuracy: 67.96%\n",
            "                         precision    recall  f1-score   support\n",
            "\n",
            "            Fast_Faster       0.71      0.72      0.71       103\n",
            "         back_backworld       0.62      0.65      0.64       103\n",
            "front_forworld_streight       0.47      0.25      0.33       103\n",
            "                   left       0.73      0.82      0.77       104\n",
            "                  right       0.72      0.70      0.71       104\n",
            "            slow_slower       0.72      0.82      0.77       103\n",
            "                   stop       0.67      0.80      0.73       104\n",
            "\n",
            "               accuracy                           0.68       724\n",
            "              macro avg       0.66      0.68      0.67       724\n",
            "           weighted avg       0.66      0.68      0.67       724\n",
            "\n"
          ]
        }
      ],
      "source": [
        "from sklearn.ensemble import RandomForestClassifier\n",
        "\n",
        "model_rf = RandomForestClassifier(n_estimators=100, random_state=42)\n",
        "model_rf.fit(X_train, y_train)\n",
        "\n",
        "y_pred_rf = model_rf.predict(X_test)\n",
        "\n",
        "print(f\"Random Forest Accuracy: {accuracy_score(y_test, y_pred_rf)*100:.2f}%\")\n",
        "print(classification_report(y_test, y_pred_rf, target_names=label_encoder.classes_))\n"
      ]
    },
    {
      "cell_type": "markdown",
      "metadata": {
        "id": "TsX-iurdrvru"
      },
      "source": [
        "#Four sets of important audio features are extracted:MFCC , Chroma ,Spectral Contrast ,Tonnetz"
      ]
    },
    {
      "cell_type": "code",
      "execution_count": null,
      "metadata": {
        "id": "HWMRqAUYgjqF"
      },
      "outputs": [],
      "source": [
        "import librosa\n",
        "import numpy as np\n",
        "\n",
        "def extract_features_enhanced(file_path):\n",
        "    y, sr = librosa.load(file_path, sr=16000)\n",
        "\n",
        "    # MFCC\n",
        "    mfcc = librosa.feature.mfcc(y=y, sr=sr, n_mfcc=20)\n",
        "    mfcc_mean = np.mean(mfcc.T, axis=0)\n",
        "\n",
        "    # Chroma\n",
        "    chroma = librosa.feature.chroma_stft(y=y, sr=sr)\n",
        "    chroma_mean = np.mean(chroma.T, axis=0)\n",
        "\n",
        "    # Spectral Contrast\n",
        "    spec_contrast = librosa.feature.spectral_contrast(y=y, sr=sr)\n",
        "    spec_contrast_mean = np.mean(spec_contrast.T, axis=0)\n",
        "\n",
        "    # Tonnetz\n",
        "    tonnetz = librosa.feature.tonnetz(y=librosa.effects.harmonic(y), sr=sr)\n",
        "    tonnetz_mean = np.mean(tonnetz.T, axis=0)\n",
        "\n",
        "    features = np.hstack([mfcc_mean, chroma_mean, spec_contrast_mean, tonnetz_mean])\n",
        "    return features\n"
      ]
    },
    {
      "cell_type": "markdown",
      "metadata": {
        "id": "f88lSAccoWvw"
      },
      "source": [
        "#Algorithm GridSearchCV"
      ]
    },
    {
      "cell_type": "code",
      "execution_count": null,
      "metadata": {
        "colab": {
          "base_uri": "https://localhost:8080/"
        },
        "id": "EANR4eWvg-SJ",
        "outputId": "d48f5ced-f3fa-4f23-b5ff-26df0695b9fd"
      },
      "outputs": [
        {
          "name": "stdout",
          "output_type": "stream",
          "text": [
            "Fitting 3 folds for each of 36 candidates, totalling 108 fits\n",
            "أفضل المعاملات: {'max_depth': None, 'min_samples_split': 2, 'n_estimators': 300}\n",
            "Accuracy after tuning: 68.92%\n",
            "                         precision    recall  f1-score   support\n",
            "\n",
            "            Fast_Faster       0.76      0.71      0.73       103\n",
            "         back_backworld       0.55      0.64      0.59       103\n",
            "front_forworld_streight       0.51      0.29      0.37       103\n",
            "                   left       0.76      0.82      0.79       104\n",
            "                  right       0.77      0.72      0.74       104\n",
            "            slow_slower       0.76      0.83      0.80       103\n",
            "                   stop       0.66      0.81      0.73       104\n",
            "\n",
            "               accuracy                           0.69       724\n",
            "              macro avg       0.68      0.69      0.68       724\n",
            "           weighted avg       0.68      0.69      0.68       724\n",
            "\n"
          ]
        }
      ],
      "source": [
        "from sklearn.model_selection import GridSearchCV\n",
        "from sklearn.ensemble import RandomForestClassifier\n",
        "\n",
        "param_grid = {\n",
        "    'n_estimators': [100, 200, 300],\n",
        "    'max_depth': [None, 10, 20, 30],\n",
        "    'min_samples_split': [2, 5, 10]\n",
        "}\n",
        "\n",
        "rf = RandomForestClassifier(random_state=42)\n",
        "grid_search = GridSearchCV(estimator=rf, param_grid=param_grid, cv=3, n_jobs=-1, verbose=2)\n",
        "grid_search.fit(X_train, y_train)\n",
        "\n",
        "print(\"أفضل المعاملات:\", grid_search.best_params_)\n",
        "\n",
        "best_rf = grid_search.best_estimator_\n",
        "\n",
        "y_pred = best_rf.predict(X_test)\n",
        "\n",
        "from sklearn.metrics import accuracy_score, classification_report\n",
        "print(f\"Accuracy after tuning: {accuracy_score(y_test, y_pred)*100:.2f}%\")\n",
        "print(classification_report(y_test, y_pred, target_names=label_encoder.classes_))\n"
      ]
    },
    {
      "cell_type": "markdown",
      "metadata": {
        "id": "bfef3g0WrhBE"
      },
      "source": [
        "#Algorithm XGB"
      ]
    },
    {
      "cell_type": "code",
      "execution_count": null,
      "metadata": {
        "colab": {
          "base_uri": "https://localhost:8080/"
        },
        "id": "JrMa0QU0hBHQ",
        "outputId": "9be18ced-ada0-47ee-c025-6b219ed6eee2"
      },
      "outputs": [
        {
          "name": "stderr",
          "output_type": "stream",
          "text": [
            "/usr/local/lib/python3.11/dist-packages/xgboost/core.py:158: UserWarning: [22:09:17] WARNING: /workspace/src/learner.cc:740: \n",
            "Parameters: { \"use_label_encoder\" } are not used.\n",
            "\n",
            "  warnings.warn(smsg, UserWarning)\n"
          ]
        },
        {
          "name": "stdout",
          "output_type": "stream",
          "text": [
            "XGBoost Accuracy: 64.23%\n",
            "                         precision    recall  f1-score   support\n",
            "\n",
            "            Fast_Faster       0.72      0.70      0.71       103\n",
            "         back_backworld       0.56      0.57      0.56       103\n",
            "front_forworld_streight       0.36      0.25      0.30       103\n",
            "                   left       0.76      0.78      0.77       104\n",
            "                  right       0.68      0.64      0.66       104\n",
            "            slow_slower       0.69      0.79      0.73       103\n",
            "                   stop       0.65      0.76      0.70       104\n",
            "\n",
            "               accuracy                           0.64       724\n",
            "              macro avg       0.63      0.64      0.63       724\n",
            "           weighted avg       0.63      0.64      0.63       724\n",
            "\n"
          ]
        }
      ],
      "source": [
        "import xgboost as xgb\n",
        "\n",
        "xgb_model = xgb.XGBClassifier(use_label_encoder=False, eval_metric='mlogloss', random_state=42)\n",
        "xgb_model.fit(X_train, y_train)\n",
        "\n",
        "y_pred_xgb = xgb_model.predict(X_test)\n",
        "print(f\"XGBoost Accuracy: {accuracy_score(y_test, y_pred_xgb)*100:.2f}%\")\n",
        "print(classification_report(y_test, y_pred_xgb, target_names=label_encoder.classes_))\n"
      ]
    },
    {
      "cell_type": "code",
      "execution_count": null,
      "metadata": {
        "id": "2X_G9g52Y-pu"
      },
      "outputs": [],
      "source": [
        "import random\n",
        "\n",
        "def balance_data(features, labels, commands, augment_func, target_count=None):\n",
        "    \"\"\"\n",
        "    يوازن عدد العينات لكل فئة عبر زيادة البيانات أو تقليلها.\n",
        "\n",
        "    features: قائمة أو مصفوفة الميزات\n",
        "    labels: قائمة التسميات\n",
        "    commands: قائمة الفئات (الأوامر)\n",
        "    augment_func: دالة زيادة البيانات تأخذ ميزة وتعيد ميزة جديدة\n",
        "    target_count: عدد العينات المطلوب لكل فئة (إذا None، يأخذ أكبر عدد)\n",
        "\n",
        "    ترجع:\n",
        "    balanced_features, balanced_labels\n",
        "    \"\"\"\n",
        "    from collections import defaultdict\n",
        "    data_per_class = defaultdict(list)\n",
        "\n",
        "    for feat, label in zip(features, labels):\n",
        "        data_per_class[label].append(feat)\n",
        "\n",
        "    if target_count is None:\n",
        "        target_count = max(len(v) for v in data_per_class.values())\n",
        "\n",
        "    balanced_features = []\n",
        "    balanced_labels = []\n",
        "\n",
        "    for label in commands:\n",
        "        samples = data_per_class[label]\n",
        "        n_samples = len(samples)\n",
        "\n",
        "        if n_samples == 0:\n",
        "            continue\n",
        "\n",
        "\n",
        "        if n_samples < target_count:\n",
        "            balanced_features.extend(samples)\n",
        "            balanced_labels.extend([label]*n_samples)\n",
        "\n",
        "            needed = target_count - n_samples\n",
        "            for _ in range(needed):\n",
        "\n",
        "                sample = random.choice(samples)\n",
        "                augmented_sample = augment_func(sample)\n",
        "                balanced_features.append(augmented_sample)\n",
        "                balanced_labels.append(label)\n",
        "\n",
        "\n",
        "        else:\n",
        "            selected_samples = random.sample(samples, target_count)\n",
        "            balanced_features.extend(selected_samples)\n",
        "            balanced_labels.extend([label]*target_count)\n",
        "\n",
        "    return np.array(balanced_features), np.array(balanced_labels)\n"
      ]
    },
    {
      "cell_type": "code",
      "execution_count": null,
      "metadata": {
        "id": "vqBGZxRmipBe"
      },
      "outputs": [],
      "source": [
        "def augment_mfcc(mfcc):\n",
        "    noise = np.random.normal(0, 0.005, mfcc.shape)\n",
        "    return mfcc + noise\n"
      ]
    },
    {
      "cell_type": "code",
      "execution_count": null,
      "metadata": {
        "id": "aKla2rVzix-F"
      },
      "outputs": [],
      "source": [
        "features_balanced, labels_balanced = balance_data(features, labels, commands, augment_mfcc)\n",
        "\n",
        "from sklearn.preprocessing import LabelEncoder\n",
        "from tensorflow.keras.utils import to_categorical\n",
        "\n",
        "label_encoder = LabelEncoder()\n",
        "y_encoded = label_encoder.fit_transform(labels_balanced)\n",
        "y_cat = to_categorical(y_encoded)\n",
        "\n",
        "from sklearn.model_selection import train_test_split\n",
        "X_train, X_test, y_train, y_test = train_test_split(\n",
        "    features_balanced, y_cat, test_size=0.2, random_state=42, stratify=y_encoded\n",
        ")\n"
      ]
    },
    {
      "cell_type": "code",
      "execution_count": null,
      "metadata": {
        "id": "p5d722kLvNIR"
      },
      "outputs": [],
      "source": [
        "from tensorflow.keras.utils import to_categorical\n",
        "\n",
        "num_classes = len(label_encoder.classes_)\n",
        "\n",
        "y_train_cat = to_categorical(y_train, num_classes)\n",
        "y_test_cat = to_categorical(y_test, num_classes)\n"
      ]
    },
    {
      "cell_type": "code",
      "execution_count": null,
      "metadata": {
        "id": "DjEYN1XzzjhM"
      },
      "outputs": [],
      "source": [
        "y_train_cat = to_categorical(y_train, num_classes)\n",
        "y_test_cat = to_categorical(y_test, num_classes)"
      ]
    },
    {
      "cell_type": "code",
      "execution_count": null,
      "metadata": {
        "colab": {
          "base_uri": "https://localhost:8080/"
        },
        "id": "4yZ9DzhQzpe2",
        "outputId": "81c1a308-fe50-4167-9416-b86235d92dac"
      },
      "outputs": [
        {
          "output_type": "stream",
          "name": "stdout",
          "text": [
            "(2895, 7)\n",
            "(724, 7)\n"
          ]
        }
      ],
      "source": [
        "print(y_train.shape)\n",
        "print(y_test.shape)"
      ]
    },
    {
      "cell_type": "code",
      "execution_count": null,
      "metadata": {
        "id": "1d2zJgdg0YlU"
      },
      "outputs": [],
      "source": [
        "X_test = np.array(X_test)\n",
        "y_test = np.array(y_test)\n"
      ]
    },
    {
      "cell_type": "markdown",
      "metadata": {
        "id": "6ponbjzXYa60"
      },
      "source": [
        "#The Best"
      ]
    },
    {
      "cell_type": "code",
      "execution_count": null,
      "metadata": {
        "colab": {
          "base_uri": "https://localhost:8080/"
        },
        "id": "EqfhnB31lAuV",
        "outputId": "442e2854-a003-4d3b-bacc-1af255833f00"
      },
      "outputs": [
        {
          "output_type": "stream",
          "name": "stdout",
          "text": [
            "Requirement already satisfied: tensorflow in /usr/local/lib/python3.11/dist-packages (2.18.0)\n",
            "Requirement already satisfied: librosa in /usr/local/lib/python3.11/dist-packages (0.11.0)\n",
            "Requirement already satisfied: pandas in /usr/local/lib/python3.11/dist-packages (2.2.2)\n",
            "Requirement already satisfied: scikit-learn in /usr/local/lib/python3.11/dist-packages (1.6.1)\n",
            "Requirement already satisfied: absl-py>=1.0.0 in /usr/local/lib/python3.11/dist-packages (from tensorflow) (1.4.0)\n",
            "Requirement already satisfied: astunparse>=1.6.0 in /usr/local/lib/python3.11/dist-packages (from tensorflow) (1.6.3)\n",
            "Requirement already satisfied: flatbuffers>=24.3.25 in /usr/local/lib/python3.11/dist-packages (from tensorflow) (25.2.10)\n",
            "Requirement already satisfied: gast!=0.5.0,!=0.5.1,!=0.5.2,>=0.2.1 in /usr/local/lib/python3.11/dist-packages (from tensorflow) (0.6.0)\n",
            "Requirement already satisfied: google-pasta>=0.1.1 in /usr/local/lib/python3.11/dist-packages (from tensorflow) (0.2.0)\n",
            "Requirement already satisfied: libclang>=13.0.0 in /usr/local/lib/python3.11/dist-packages (from tensorflow) (18.1.1)\n",
            "Requirement already satisfied: opt-einsum>=2.3.2 in /usr/local/lib/python3.11/dist-packages (from tensorflow) (3.4.0)\n",
            "Requirement already satisfied: packaging in /usr/local/lib/python3.11/dist-packages (from tensorflow) (24.2)\n",
            "Requirement already satisfied: protobuf!=4.21.0,!=4.21.1,!=4.21.2,!=4.21.3,!=4.21.4,!=4.21.5,<6.0.0dev,>=3.20.3 in /usr/local/lib/python3.11/dist-packages (from tensorflow) (5.29.4)\n",
            "Requirement already satisfied: requests<3,>=2.21.0 in /usr/local/lib/python3.11/dist-packages (from tensorflow) (2.32.3)\n",
            "Requirement already satisfied: setuptools in /usr/local/lib/python3.11/dist-packages (from tensorflow) (75.2.0)\n",
            "Requirement already satisfied: six>=1.12.0 in /usr/local/lib/python3.11/dist-packages (from tensorflow) (1.17.0)\n",
            "Requirement already satisfied: termcolor>=1.1.0 in /usr/local/lib/python3.11/dist-packages (from tensorflow) (3.1.0)\n",
            "Requirement already satisfied: typing-extensions>=3.6.6 in /usr/local/lib/python3.11/dist-packages (from tensorflow) (4.13.2)\n",
            "Requirement already satisfied: wrapt>=1.11.0 in /usr/local/lib/python3.11/dist-packages (from tensorflow) (1.17.2)\n",
            "Requirement already satisfied: grpcio<2.0,>=1.24.3 in /usr/local/lib/python3.11/dist-packages (from tensorflow) (1.71.0)\n",
            "Requirement already satisfied: tensorboard<2.19,>=2.18 in /usr/local/lib/python3.11/dist-packages (from tensorflow) (2.18.0)\n",
            "Requirement already satisfied: keras>=3.5.0 in /usr/local/lib/python3.11/dist-packages (from tensorflow) (3.8.0)\n",
            "Requirement already satisfied: numpy<2.1.0,>=1.26.0 in /usr/local/lib/python3.11/dist-packages (from tensorflow) (2.0.2)\n",
            "Requirement already satisfied: h5py>=3.11.0 in /usr/local/lib/python3.11/dist-packages (from tensorflow) (3.13.0)\n",
            "Requirement already satisfied: ml-dtypes<0.5.0,>=0.4.0 in /usr/local/lib/python3.11/dist-packages (from tensorflow) (0.4.1)\n",
            "Requirement already satisfied: tensorflow-io-gcs-filesystem>=0.23.1 in /usr/local/lib/python3.11/dist-packages (from tensorflow) (0.37.1)\n",
            "Requirement already satisfied: audioread>=2.1.9 in /usr/local/lib/python3.11/dist-packages (from librosa) (3.0.1)\n",
            "Requirement already satisfied: numba>=0.51.0 in /usr/local/lib/python3.11/dist-packages (from librosa) (0.60.0)\n",
            "Requirement already satisfied: scipy>=1.6.0 in /usr/local/lib/python3.11/dist-packages (from librosa) (1.15.3)\n",
            "Requirement already satisfied: joblib>=1.0 in /usr/local/lib/python3.11/dist-packages (from librosa) (1.5.0)\n",
            "Requirement already satisfied: decorator>=4.3.0 in /usr/local/lib/python3.11/dist-packages (from librosa) (4.4.2)\n",
            "Requirement already satisfied: soundfile>=0.12.1 in /usr/local/lib/python3.11/dist-packages (from librosa) (0.13.1)\n",
            "Requirement already satisfied: pooch>=1.1 in /usr/local/lib/python3.11/dist-packages (from librosa) (1.8.2)\n",
            "Requirement already satisfied: soxr>=0.3.2 in /usr/local/lib/python3.11/dist-packages (from librosa) (0.5.0.post1)\n",
            "Requirement already satisfied: lazy_loader>=0.1 in /usr/local/lib/python3.11/dist-packages (from librosa) (0.4)\n",
            "Requirement already satisfied: msgpack>=1.0 in /usr/local/lib/python3.11/dist-packages (from librosa) (1.1.0)\n",
            "Requirement already satisfied: python-dateutil>=2.8.2 in /usr/local/lib/python3.11/dist-packages (from pandas) (2.9.0.post0)\n",
            "Requirement already satisfied: pytz>=2020.1 in /usr/local/lib/python3.11/dist-packages (from pandas) (2025.2)\n",
            "Requirement already satisfied: tzdata>=2022.7 in /usr/local/lib/python3.11/dist-packages (from pandas) (2025.2)\n",
            "Requirement already satisfied: threadpoolctl>=3.1.0 in /usr/local/lib/python3.11/dist-packages (from scikit-learn) (3.6.0)\n",
            "Requirement already satisfied: wheel<1.0,>=0.23.0 in /usr/local/lib/python3.11/dist-packages (from astunparse>=1.6.0->tensorflow) (0.45.1)\n",
            "Requirement already satisfied: rich in /usr/local/lib/python3.11/dist-packages (from keras>=3.5.0->tensorflow) (13.9.4)\n",
            "Requirement already satisfied: namex in /usr/local/lib/python3.11/dist-packages (from keras>=3.5.0->tensorflow) (0.0.9)\n",
            "Requirement already satisfied: optree in /usr/local/lib/python3.11/dist-packages (from keras>=3.5.0->tensorflow) (0.15.0)\n",
            "Requirement already satisfied: llvmlite<0.44,>=0.43.0dev0 in /usr/local/lib/python3.11/dist-packages (from numba>=0.51.0->librosa) (0.43.0)\n",
            "Requirement already satisfied: platformdirs>=2.5.0 in /usr/local/lib/python3.11/dist-packages (from pooch>=1.1->librosa) (4.3.8)\n",
            "Requirement already satisfied: charset-normalizer<4,>=2 in /usr/local/lib/python3.11/dist-packages (from requests<3,>=2.21.0->tensorflow) (3.4.2)\n",
            "Requirement already satisfied: idna<4,>=2.5 in /usr/local/lib/python3.11/dist-packages (from requests<3,>=2.21.0->tensorflow) (3.10)\n",
            "Requirement already satisfied: urllib3<3,>=1.21.1 in /usr/local/lib/python3.11/dist-packages (from requests<3,>=2.21.0->tensorflow) (2.4.0)\n",
            "Requirement already satisfied: certifi>=2017.4.17 in /usr/local/lib/python3.11/dist-packages (from requests<3,>=2.21.0->tensorflow) (2025.4.26)\n",
            "Requirement already satisfied: cffi>=1.0 in /usr/local/lib/python3.11/dist-packages (from soundfile>=0.12.1->librosa) (1.17.1)\n",
            "Requirement already satisfied: markdown>=2.6.8 in /usr/local/lib/python3.11/dist-packages (from tensorboard<2.19,>=2.18->tensorflow) (3.8)\n",
            "Requirement already satisfied: tensorboard-data-server<0.8.0,>=0.7.0 in /usr/local/lib/python3.11/dist-packages (from tensorboard<2.19,>=2.18->tensorflow) (0.7.2)\n",
            "Requirement already satisfied: werkzeug>=1.0.1 in /usr/local/lib/python3.11/dist-packages (from tensorboard<2.19,>=2.18->tensorflow) (3.1.3)\n",
            "Requirement already satisfied: pycparser in /usr/local/lib/python3.11/dist-packages (from cffi>=1.0->soundfile>=0.12.1->librosa) (2.22)\n",
            "Requirement already satisfied: MarkupSafe>=2.1.1 in /usr/local/lib/python3.11/dist-packages (from werkzeug>=1.0.1->tensorboard<2.19,>=2.18->tensorflow) (3.0.2)\n",
            "Requirement already satisfied: markdown-it-py>=2.2.0 in /usr/local/lib/python3.11/dist-packages (from rich->keras>=3.5.0->tensorflow) (3.0.0)\n",
            "Requirement already satisfied: pygments<3.0.0,>=2.13.0 in /usr/local/lib/python3.11/dist-packages (from rich->keras>=3.5.0->tensorflow) (2.19.1)\n",
            "Requirement already satisfied: mdurl~=0.1 in /usr/local/lib/python3.11/dist-packages (from markdown-it-py>=2.2.0->rich->keras>=3.5.0->tensorflow) (0.1.2)\n"
          ]
        }
      ],
      "source": [
        "!pip install tensorflow librosa pandas scikit-learn\n"
      ]
    },
    {
      "cell_type": "markdown",
      "source": [
        "#Download Speech Commands"
      ],
      "metadata": {
        "id": "bWR9tsuv1AN-"
      }
    },
    {
      "cell_type": "code",
      "execution_count": null,
      "metadata": {
        "colab": {
          "base_uri": "https://localhost:8080/"
        },
        "id": "V3TIvltqkVPf",
        "outputId": "1dc64a7c-8fad-492b-de03-06866d2f2fed"
      },
      "outputs": [
        {
          "output_type": "stream",
          "name": "stdout",
          "text": [
            "Downloading dataset...\n",
            "Extracting dataset...\n"
          ]
        }
      ],
      "source": [
        "import os\n",
        "\n",
        "DATASET_URL = \"http://download.tensorflow.org/data/speech_commands_v0.02.tar.gz\"\n",
        "DATASET_PATH = \"speech_commands.tar.gz\"\n",
        "EXTRACT_PATH = \"speech_commands\"\n",
        "\n",
        "# تحميل البيانات إذا لم تكن موجودة\n",
        "if not os.path.exists(DATASET_PATH):\n",
        "    import requests\n",
        "    print(\"Downloading dataset...\")\n",
        "    r = requests.get(DATASET_URL, stream=True)\n",
        "    with open(DATASET_PATH, 'wb') as f:\n",
        "        for chunk in r.iter_content(chunk_size=1024):\n",
        "            if chunk:\n",
        "                f.write(chunk)\n",
        "else:\n",
        "    print(\"Dataset already downloaded.\")\n",
        "\n",
        "# استخراج الملفات\n",
        "if not os.path.exists(EXTRACT_PATH):\n",
        "    os.makedirs(EXTRACT_PATH, exist_ok=True)\n",
        "    import tarfile\n",
        "    print(\"Extracting dataset...\")\n",
        "    with tarfile.open(DATASET_PATH, \"r:gz\") as tar:\n",
        "        tar.extractall(EXTRACT_PATH)\n",
        "else:\n",
        "    print(\"Dataset already extracted.\")\n"
      ]
    },
    {
      "cell_type": "markdown",
      "source": [
        "#Verify the number of samples for each order."
      ],
      "metadata": {
        "id": "qKohb52b1MPR"
      }
    },
    {
      "cell_type": "code",
      "execution_count": null,
      "metadata": {
        "colab": {
          "base_uri": "https://localhost:8080/"
        },
        "id": "BoMt1XpMlHWL",
        "outputId": "218534f1-6501-4840-9b01-95a45d95e367"
      },
      "outputs": [
        {
          "output_type": "stream",
          "name": "stdout",
          "text": [
            "left: يوجد 3801 ملف\n",
            "right: يوجد 3778 ملف\n",
            "front: يوجد 0 ملف\n",
            "تحذير: لا يوجد ملفات للأمر front\n",
            "forward: يوجد 1557 ملف\n",
            "streight: يوجد 0 ملف\n",
            "تحذير: لا يوجد ملفات للأمر streight\n",
            "back: يوجد 0 ملف\n",
            "تحذير: لا يوجد ملفات للأمر back\n",
            "backward: يوجد 1664 ملف\n",
            "stop: يوجد 3872 ملف\n",
            "Fast: يوجد 0 ملف\n",
            "تحذير: لا يوجد ملفات للأمر Fast\n",
            "Faster: يوجد 0 ملف\n",
            "تحذير: لا يوجد ملفات للأمر Faster\n",
            "slow: يوجد 0 ملف\n",
            "تحذير: لا يوجد ملفات للأمر slow\n",
            "slower: يوجد 0 ملف\n",
            "تحذير: لا يوجد ملفات للأمر slower\n",
            "عدد العينات الإجمالي: 2500\n"
          ]
        }
      ],
      "source": [
        "import glob\n",
        "import numpy as np\n",
        "import librosa\n",
        "import random\n",
        "\n",
        "commands = ['left', 'right', 'front','forward','streight', 'back','backward', 'stop', 'Fast','Faster','slow','slower']\n",
        "n_samples_per_command = 500\n",
        "all_files = []\n",
        "labels = []\n",
        "speakers = []\n",
        "\n",
        "for idx, cmd in enumerate(commands):\n",
        "    files = glob.glob(f'{EXTRACT_PATH}/{cmd}/*.wav')\n",
        "    print(f\"{cmd}: يوجد {len(files)} ملف\")\n",
        "    if len(files) == 0:\n",
        "        print(f\"تحذير: لا يوجد ملفات للأمر {cmd}\")\n",
        "        continue\n",
        "    n_samples = min(n_samples_per_command, len(files))\n",
        "    sampled_files = random.sample(files, n_samples)\n",
        "    all_files.extend(sampled_files)\n",
        "    labels.extend([idx]*n_samples)\n",
        "    speakers.extend([os.path.basename(f).split('_')[0] for f in sampled_files])\n",
        "\n",
        "print(f\"عدد العينات الإجمالي: {len(all_files)}\")\n"
      ]
    },
    {
      "cell_type": "markdown",
      "source": [
        "#Feature extraction"
      ],
      "metadata": {
        "id": "8AM-8OXK1fQM"
      }
    },
    {
      "cell_type": "code",
      "execution_count": null,
      "metadata": {
        "id": "iJaHo9sWlPkH"
      },
      "outputs": [],
      "source": [
        "def extract_features(file_path, n_mels=64, n_frames=5, frame_length=20, sr=16000):\n",
        "    audio, _ = librosa.load(file_path, sr=sr)\n",
        "    mel_spec = librosa.feature.melspectrogram(y=audio, sr=sr, n_mels=n_mels)\n",
        "    mel_spec_db = librosa.power_to_db(mel_spec, ref=np.max)\n",
        "    mel_spec_db = (mel_spec_db - np.mean(mel_spec_db)) / (np.std(mel_spec_db) + 1e-6)\n",
        "    total_frames = n_frames * frame_length\n",
        "    if mel_spec_db.shape[1] < total_frames:\n",
        "        pad_width = total_frames - mel_spec_db.shape[1]\n",
        "        mel_spec_db = np.pad(mel_spec_db, ((0,0),(0,pad_width)), mode='constant')\n",
        "    else:\n",
        "        mel_spec_db = mel_spec_db[:, :total_frames]\n",
        "    frames = []\n",
        "    for i in range(n_frames):\n",
        "        start = i * frame_length\n",
        "        end = start + frame_length\n",
        "        frame = mel_spec_db[:, start:end]\n",
        "        frames.append(frame.T)\n",
        "    frames = np.stack(frames)\n",
        "    frames = np.expand_dims(frames, axis=-1)\n",
        "    return frames\n"
      ]
    },
    {
      "cell_type": "code",
      "execution_count": null,
      "metadata": {
        "colab": {
          "base_uri": "https://localhost:8080/"
        },
        "id": "rZWV5HMjlPgy",
        "outputId": "0c62da20-d0c4-4572-f08d-660c66e6276a"
      },
      "outputs": [
        {
          "output_type": "stream",
          "name": "stdout",
          "text": [
            "شكل البيانات: (2500, 5, 20, 64, 1) (2500,)\n"
          ]
        }
      ],
      "source": [
        "X = []\n",
        "for file in all_files:\n",
        "    X.append(extract_features(file))\n",
        "X = np.array(X)\n",
        "y = np.array(labels)\n",
        "speakers = np.array(speakers)\n",
        "print(\"شكل البيانات:\", X.shape, y.shape)\n"
      ]
    },
    {
      "cell_type": "code",
      "execution_count": null,
      "metadata": {
        "id": "S4J7eFY9lPeg"
      },
      "outputs": [],
      "source": [
        "from sklearn.model_selection import train_test_split\n",
        "\n",
        "unique_speakers = np.unique(speakers)\n",
        "test_speakers = np.random.choice(unique_speakers, size=int(0.2*len(unique_speakers)), replace=False)\n",
        "train_idx = [i for i, s in enumerate(speakers) if s not in test_speakers]\n",
        "test_idx = [i for i, s in enumerate(speakers) if s in test_speakers]\n",
        "\n",
        "X_train, y_train = X[train_idx], y[train_idx]\n",
        "X_test, y_test = X[test_idx], y[test_idx]\n"
      ]
    },
    {
      "cell_type": "code",
      "execution_count": null,
      "metadata": {
        "colab": {
          "base_uri": "https://localhost:8080/"
        },
        "id": "GksX90-wlPbP",
        "outputId": "5efb5827-8b7c-41d3-cbef-a4748e2639a9"
      },
      "outputs": [
        {
          "output_type": "stream",
          "name": "stdout",
          "text": [
            "Train: (2006, 5, 20, 64, 1) (2006, 12)\n",
            "Test: (494, 5, 20, 64, 1) (494, 12)\n"
          ]
        }
      ],
      "source": [
        "from tensorflow.keras.utils import to_categorical\n",
        "\n",
        "y_train_cat = to_categorical(y_train, num_classes=len(commands))\n",
        "y_test_cat = to_categorical(y_test, num_classes=len(commands))\n",
        "\n",
        "print(\"Train:\", X_train.shape, y_train_cat.shape)\n",
        "print(\"Test:\", X_test.shape, y_test_cat.shape)\n"
      ]
    },
    {
      "cell_type": "code",
      "execution_count": null,
      "metadata": {
        "id": "bP1epPa_UDiO"
      },
      "outputs": [],
      "source": [
        "from tensorflow.keras.layers import Attention"
      ]
    },
    {
      "cell_type": "markdown",
      "source": [
        "#Label Encoder"
      ],
      "metadata": {
        "id": "oxpgSZ_emqNx"
      }
    },
    {
      "cell_type": "code",
      "execution_count": null,
      "metadata": {
        "id": "4-g7jRGndvwY"
      },
      "outputs": [],
      "source": [
        "from sklearn.preprocessing import LabelEncoder\n",
        "\n",
        "\n",
        "label_encoder = LabelEncoder()\n",
        "\n",
        "\n",
        "y_encoded = label_encoder.fit_transform(labels_balanced)\n",
        "\n",
        "\n",
        "y_cat = to_categorical(y_encoded)\n"
      ]
    },
    {
      "cell_type": "markdown",
      "source": [
        "#The Best Model"
      ],
      "metadata": {
        "id": "rRVKiTpDop2e"
      }
    },
    {
      "cell_type": "code",
      "execution_count": null,
      "metadata": {
        "colab": {
          "base_uri": "https://localhost:8080/"
        },
        "id": "wb-DutETdzhi",
        "outputId": "4b5b1a37-e3a4-4d3a-d593-f6fb7c406646"
      },
      "outputs": [
        {
          "output_type": "stream",
          "name": "stdout",
          "text": [
            "تم تحميل 28242 عينة مع شكل (28242, 100, 39)\n",
            "شكل بيانات التدريب: (39036, 5, 20, 39) (39036, 12)\n",
            "شكل بيانات الاختبار: (6984, 5, 20, 39) (6984, 12)\n",
            "Epoch 1/80\n",
            "1220/1220 - 200s - 164ms/step - accuracy: 0.5412 - loss: 1.6061 - val_accuracy: 0.7456 - val_loss: 1.0329 - learning_rate: 1.0000e-03\n",
            "Epoch 2/80\n",
            "1220/1220 - 209s - 171ms/step - accuracy: 0.7730 - loss: 0.9094 - val_accuracy: 0.8090 - val_loss: 0.8449 - learning_rate: 1.0000e-03\n",
            "Epoch 3/80\n",
            "1220/1220 - 196s - 161ms/step - accuracy: 0.8323 - loss: 0.7128 - val_accuracy: 0.8507 - val_loss: 0.6692 - learning_rate: 1.0000e-03\n",
            "Epoch 4/80\n",
            "1220/1220 - 206s - 169ms/step - accuracy: 0.8523 - loss: 0.6356 - val_accuracy: 0.8681 - val_loss: 0.6205 - learning_rate: 1.0000e-03\n",
            "Epoch 5/80\n",
            "1220/1220 - 196s - 161ms/step - accuracy: 0.8618 - loss: 0.5997 - val_accuracy: 0.8807 - val_loss: 0.5577 - learning_rate: 1.0000e-03\n",
            "Epoch 6/80\n",
            "1220/1220 - 184s - 151ms/step - accuracy: 0.8739 - loss: 0.5682 - val_accuracy: 0.8862 - val_loss: 0.5645 - learning_rate: 1.0000e-03\n",
            "Epoch 7/80\n",
            "1220/1220 - 187s - 153ms/step - accuracy: 0.8787 - loss: 0.5514 - val_accuracy: 0.8779 - val_loss: 0.5618 - learning_rate: 1.0000e-03\n",
            "Epoch 8/80\n",
            "1220/1220 - 190s - 156ms/step - accuracy: 0.8817 - loss: 0.5372 - val_accuracy: 0.8807 - val_loss: 0.5557 - learning_rate: 1.0000e-03\n",
            "Epoch 9/80\n",
            "1220/1220 - 197s - 161ms/step - accuracy: 0.8883 - loss: 0.5261 - val_accuracy: 0.8918 - val_loss: 0.5370 - learning_rate: 1.0000e-03\n",
            "Epoch 10/80\n",
            "1220/1220 - 205s - 168ms/step - accuracy: 0.8926 - loss: 0.5131 - val_accuracy: 0.9009 - val_loss: 0.4996 - learning_rate: 1.0000e-03\n",
            "Epoch 11/80\n",
            "1220/1220 - 187s - 153ms/step - accuracy: 0.8932 - loss: 0.5037 - val_accuracy: 0.8981 - val_loss: 0.5171 - learning_rate: 1.0000e-03\n",
            "Epoch 12/80\n",
            "1220/1220 - 192s - 157ms/step - accuracy: 0.8964 - loss: 0.4997 - val_accuracy: 0.9068 - val_loss: 0.4833 - learning_rate: 1.0000e-03\n",
            "Epoch 13/80\n",
            "1220/1220 - 201s - 165ms/step - accuracy: 0.8973 - loss: 0.4923 - val_accuracy: 0.9013 - val_loss: 0.5053 - learning_rate: 1.0000e-03\n",
            "Epoch 14/80\n",
            "1220/1220 - 205s - 168ms/step - accuracy: 0.8991 - loss: 0.4845 - val_accuracy: 0.8982 - val_loss: 0.5252 - learning_rate: 1.0000e-03\n",
            "Epoch 15/80\n",
            "1220/1220 - 200s - 164ms/step - accuracy: 0.9030 - loss: 0.4824 - val_accuracy: 0.8992 - val_loss: 0.5045 - learning_rate: 1.0000e-03\n",
            "Epoch 16/80\n",
            "1220/1220 - 202s - 166ms/step - accuracy: 0.9011 - loss: 0.4808 - val_accuracy: 0.8794 - val_loss: 0.6044 - learning_rate: 1.0000e-03\n",
            "Epoch 17/80\n",
            "1220/1220 - 196s - 161ms/step - accuracy: 0.9064 - loss: 0.4667 - val_accuracy: 0.8930 - val_loss: 0.5130 - learning_rate: 1.0000e-03\n",
            "Epoch 18/80\n",
            "1220/1220 - 188s - 154ms/step - accuracy: 0.9047 - loss: 0.4656 - val_accuracy: 0.8952 - val_loss: 0.5048 - learning_rate: 1.0000e-03\n",
            "Epoch 19/80\n",
            "\n",
            "Epoch 19: ReduceLROnPlateau reducing learning rate to 0.0005000000237487257.\n",
            "1220/1220 - 204s - 167ms/step - accuracy: 0.9074 - loss: 0.4604 - val_accuracy: 0.8820 - val_loss: 0.5584 - learning_rate: 1.0000e-03\n",
            "Epoch 20/80\n",
            "1220/1220 - 197s - 162ms/step - accuracy: 0.9247 - loss: 0.3957 - val_accuracy: 0.9172 - val_loss: 0.4268 - learning_rate: 5.0000e-04\n",
            "Epoch 21/80\n",
            "1220/1220 - 207s - 170ms/step - accuracy: 0.9300 - loss: 0.3584 - val_accuracy: 0.9134 - val_loss: 0.4230 - learning_rate: 5.0000e-04\n",
            "Epoch 22/80\n",
            "1220/1220 - 196s - 160ms/step - accuracy: 0.9337 - loss: 0.3384 - val_accuracy: 0.9138 - val_loss: 0.4106 - learning_rate: 5.0000e-04\n",
            "Epoch 23/80\n",
            "1220/1220 - 203s - 166ms/step - accuracy: 0.9334 - loss: 0.3278 - val_accuracy: 0.9055 - val_loss: 0.4324 - learning_rate: 5.0000e-04\n",
            "Epoch 24/80\n",
            "1220/1220 - 184s - 151ms/step - accuracy: 0.9361 - loss: 0.3119 - val_accuracy: 0.9117 - val_loss: 0.4269 - learning_rate: 5.0000e-04\n",
            "Epoch 25/80\n",
            "1220/1220 - 185s - 152ms/step - accuracy: 0.9365 - loss: 0.3051 - val_accuracy: 0.9231 - val_loss: 0.3744 - learning_rate: 5.0000e-04\n",
            "Epoch 26/80\n",
            "1220/1220 - 184s - 151ms/step - accuracy: 0.9371 - loss: 0.3039 - val_accuracy: 0.9164 - val_loss: 0.3909 - learning_rate: 5.0000e-04\n",
            "Epoch 27/80\n",
            "1220/1220 - 189s - 155ms/step - accuracy: 0.9397 - loss: 0.2987 - val_accuracy: 0.9192 - val_loss: 0.3908 - learning_rate: 5.0000e-04\n",
            "Epoch 28/80\n",
            "1220/1220 - 197s - 162ms/step - accuracy: 0.9414 - loss: 0.2876 - val_accuracy: 0.9134 - val_loss: 0.4006 - learning_rate: 5.0000e-04\n",
            "Epoch 29/80\n",
            "1220/1220 - 186s - 152ms/step - accuracy: 0.9414 - loss: 0.2885 - val_accuracy: 0.9162 - val_loss: 0.3912 - learning_rate: 5.0000e-04\n",
            "Epoch 30/80\n",
            "1220/1220 - 193s - 158ms/step - accuracy: 0.9418 - loss: 0.2823 - val_accuracy: 0.9243 - val_loss: 0.3509 - learning_rate: 5.0000e-04\n",
            "Epoch 31/80\n",
            "1220/1220 - 195s - 160ms/step - accuracy: 0.9407 - loss: 0.2840 - val_accuracy: 0.9148 - val_loss: 0.4027 - learning_rate: 5.0000e-04\n",
            "Epoch 32/80\n",
            "1220/1220 - 207s - 170ms/step - accuracy: 0.9451 - loss: 0.2706 - val_accuracy: 0.9231 - val_loss: 0.3889 - learning_rate: 5.0000e-04\n",
            "Epoch 33/80\n",
            "1220/1220 - 202s - 165ms/step - accuracy: 0.9446 - loss: 0.2687 - val_accuracy: 0.9151 - val_loss: 0.4175 - learning_rate: 5.0000e-04\n",
            "Epoch 34/80\n",
            "1220/1220 - 207s - 170ms/step - accuracy: 0.9464 - loss: 0.2679 - val_accuracy: 0.9224 - val_loss: 0.3760 - learning_rate: 5.0000e-04\n",
            "Epoch 35/80\n",
            "1220/1220 - 190s - 156ms/step - accuracy: 0.9454 - loss: 0.2676 - val_accuracy: 0.9195 - val_loss: 0.3871 - learning_rate: 5.0000e-04\n",
            "Epoch 36/80\n",
            "1220/1220 - 201s - 165ms/step - accuracy: 0.9474 - loss: 0.2620 - val_accuracy: 0.9197 - val_loss: 0.3981 - learning_rate: 5.0000e-04\n",
            "Epoch 37/80\n",
            "\n",
            "Epoch 37: ReduceLROnPlateau reducing learning rate to 0.0002500000118743628.\n",
            "1220/1220 - 200s - 164ms/step - accuracy: 0.9448 - loss: 0.2676 - val_accuracy: 0.9145 - val_loss: 0.4211 - learning_rate: 5.0000e-04\n",
            "Epoch 38/80\n",
            "1220/1220 - 206s - 169ms/step - accuracy: 0.9555 - loss: 0.2350 - val_accuracy: 0.9211 - val_loss: 0.4011 - learning_rate: 2.5000e-04\n",
            "Epoch 39/80\n",
            "1220/1220 - 196s - 161ms/step - accuracy: 0.9580 - loss: 0.2195 - val_accuracy: 0.9197 - val_loss: 0.4081 - learning_rate: 2.5000e-04\n",
            "Epoch 40/80\n",
            "1220/1220 - 207s - 169ms/step - accuracy: 0.9601 - loss: 0.2079 - val_accuracy: 0.9261 - val_loss: 0.3809 - learning_rate: 2.5000e-04\n",
            "Epoch 41/80\n",
            "1220/1220 - 199s - 163ms/step - accuracy: 0.9606 - loss: 0.2048 - val_accuracy: 0.9238 - val_loss: 0.3720 - learning_rate: 2.5000e-04\n",
            "Epoch 42/80\n",
            "1220/1220 - 181s - 149ms/step - accuracy: 0.9619 - loss: 0.1953 - val_accuracy: 0.9204 - val_loss: 0.4086 - learning_rate: 2.5000e-04\n",
            "Epoch 43/80\n",
            "1220/1220 - 192s - 157ms/step - accuracy: 0.9628 - loss: 0.1921 - val_accuracy: 0.9280 - val_loss: 0.3748 - learning_rate: 2.5000e-04\n",
            "Epoch 44/80\n",
            "\n",
            "Epoch 44: ReduceLROnPlateau reducing learning rate to 0.0001250000059371814.\n",
            "1220/1220 - 207s - 169ms/step - accuracy: 0.9624 - loss: 0.1895 - val_accuracy: 0.9237 - val_loss: 0.3864 - learning_rate: 2.5000e-04\n",
            "Epoch 45/80\n",
            "1220/1220 - 200s - 164ms/step - accuracy: 0.9647 - loss: 0.1776 - val_accuracy: 0.9255 - val_loss: 0.3634 - learning_rate: 1.2500e-04\n",
            "\u001b[1m219/219\u001b[0m \u001b[32m━━━━━━━━━━━━━━━━━━━━\u001b[0m\u001b[37m\u001b[0m \u001b[1m7s\u001b[0m 31ms/step - accuracy: 0.9341 - loss: 0.3127\n",
            "Test Accuracy: 92.43%\n",
            "\u001b[1m1220/1220\u001b[0m \u001b[32m━━━━━━━━━━━━━━━━━━━━\u001b[0m\u001b[37m\u001b[0m \u001b[1m40s\u001b[0m 33ms/step - accuracy: 0.9572 - loss: 0.2461\n"
          ]
        },
        {
          "output_type": "stream",
          "name": "stderr",
          "text": [
            "WARNING:absl:You are saving your model as an HDF5 file via `model.save()` or `keras.saving.save_model(model)`. This file format is considered legacy. We recommend using instead the native Keras format, e.g. `model.save('my_model.keras')` or `keras.saving.save_model(model, 'my_model.keras')`. \n"
          ]
        },
        {
          "output_type": "stream",
          "name": "stdout",
          "text": [
            "Train Accuracy: 95.77%\n"
          ]
        }
      ],
      "source": [
        "import os\n",
        "import numpy as np\n",
        "import librosa\n",
        "import random\n",
        "from tensorflow.keras.layers import Attention\n",
        "from collections import defaultdict\n",
        "from sklearn.preprocessing import LabelEncoder\n",
        "from sklearn.model_selection import train_test_split\n",
        "from tensorflow.keras.utils import to_categorical\n",
        "from tensorflow.keras.models import Sequential\n",
        "from tensorflow.keras.layers import TimeDistributed, Conv1D, MaxPooling1D, Flatten, LSTM, Dense, Dropout, BatchNormalization, Input, Layer\n",
        "from tensorflow.keras.regularizers import l2\n",
        "from tensorflow.keras.callbacks import EarlyStopping, ReduceLROnPlateau\n",
        "from tensorflow.keras.optimizers import Nadam\n",
        "import tensorflow as tf\n",
        "\n",
        "# قائمة جميع الأوامر\n",
        "commands = [\n",
        "    'left', 'right', 'front_forworld_streight', 'back_backworld', 'stop',\n",
        "    'Fast_Faster', 'slow_slower',  # أوامرك الخاصة\n",
        "    'up', 'down', 'go','backward','forward'  # أوامر Google Speech Commands\n",
        "]\n",
        "\n",
        "google_data_path = '/content/speech_commands'\n",
        "custom_data_path = '/content/wav_files'\n",
        "max_pad_len = 100  # عدد الإطارات الزمنية القصوى\n",
        "num_segments = 5\n",
        "segment_length = max_pad_len // num_segments\n",
        "\n",
        "def verify_paths():\n",
        "    paths = {\n",
        "        'Google Speech Commands': google_data_path,\n",
        "        'Custom Data': custom_data_path\n",
        "    }\n",
        "    missing_paths = []\n",
        "    for name, path in paths.items():\n",
        "        if not os.path.exists(path):\n",
        "            missing_paths.append(name)\n",
        "    if missing_paths:\n",
        "        raise ValueError(f\"Missing required data: {missing_paths}\")\n",
        "\n",
        "verify_paths()\n",
        "\n",
        "def spec_augment(mfcc, num_mask=2, freq_masking_max_percentage=0.15, time_masking_max_percentage=0.15):\n",
        "    mfcc = mfcc.copy()\n",
        "    num_mel_channels = mfcc.shape[1]\n",
        "    num_time_steps = mfcc.shape[0]\n",
        "    for _ in range(num_mask):\n",
        "        # Frequency Masking\n",
        "        freq_percentage = random.uniform(0.0, freq_masking_max_percentage)\n",
        "        freq_mask = int(freq_percentage * num_mel_channels)\n",
        "        f0 = random.randint(0, max(0, num_mel_channels - freq_mask))\n",
        "        mfcc[:, f0:f0+freq_mask] = 0\n",
        "        # Time Masking\n",
        "        time_percentage = random.uniform(0.0, time_masking_max_percentage)\n",
        "        time_mask = int(time_percentage * num_time_steps)\n",
        "        t0 = random.randint(0, max(0, num_time_steps - time_mask))\n",
        "        mfcc[t0:t0+time_mask, :] = 0\n",
        "    return mfcc\n",
        "\n",
        "def augment_mfcc(mfcc):\n",
        "    mfcc_aug = mfcc.copy()\n",
        "    noise = np.random.normal(0, 0.005, mfcc_aug.shape)\n",
        "    mfcc_aug += noise\n",
        "    mfcc_aug = spec_augment(mfcc_aug)\n",
        "    return mfcc_aug\n",
        "\n",
        "def extract_mfcc(file_path, max_pad_len=max_pad_len):\n",
        "    try:\n",
        "        y, sr = librosa.load(file_path, sr=16000)\n",
        "        min_len = 16000  # ثانية واحدة عند 16kHz\n",
        "        if len(y) < min_len:\n",
        "            y = np.pad(y, (0, min_len - len(y)), mode='constant')\n",
        "        mfcc = librosa.feature.mfcc(y=y, sr=sr, n_mfcc=13, n_fft=2048, hop_length=512, fmax=8000)\n",
        "        width = 9\n",
        "        if mfcc.shape[1] < width:\n",
        "            width = mfcc.shape[1] if mfcc.shape[1] % 2 == 1 else mfcc.shape[1] - 1\n",
        "        if width < 3:\n",
        "            width = 3\n",
        "        delta = librosa.feature.delta(mfcc, width=width, mode='nearest')\n",
        "        delta2 = librosa.feature.delta(mfcc, order=2, width=width, mode='nearest')\n",
        "        combined = np.vstack([mfcc, delta, delta2]).T  # (time_steps, 39)\n",
        "        if combined.shape[0] < max_pad_len:\n",
        "            pad_width = max_pad_len - combined.shape[0]\n",
        "            combined = np.pad(combined, ((0, pad_width), (0, 0)), mode='constant')\n",
        "        else:\n",
        "            combined = combined[:max_pad_len, :]\n",
        "        combined = (combined - combined.mean()) / (combined.std() + 1e-8)\n",
        "        return combined\n",
        "    except Exception as e:\n",
        "        print(f\"Error processing {file_path}: {e}\")\n",
        "        return None\n",
        "\n",
        "def get_speaker_id(filename):\n",
        "    # لملفات جوجل: '0a7c2a8d_nohash_0.wav' => '0a7c2a8d'\n",
        "    return filename.split('_')[0]\n",
        "\n",
        "def load_all_data():\n",
        "    features = []\n",
        "    labels = []\n",
        "    speakers = []\n",
        "    # Google Speech Commands\n",
        "    for command in ['up', 'down', 'go', 'left', 'right','stop','backward','forward']:\n",
        "        command_path = os.path.join(google_data_path, command)\n",
        "        if os.path.exists(command_path):\n",
        "            for filename in os.listdir(command_path):\n",
        "                if filename.endswith('.wav'):\n",
        "                    file_path = os.path.join(command_path, filename)\n",
        "                    mfcc = extract_mfcc(file_path)\n",
        "                    if mfcc is not None and mfcc.shape == (max_pad_len, 39):\n",
        "                        features.append(mfcc)\n",
        "                        labels.append(command)\n",
        "                        speakers.append(get_speaker_id(filename))\n",
        "    # بياناتك الخاصة (إذا لم يكن لديك معرف متحدث، استخدم اسم الملف كمعرف)\n",
        "    for command in ['left', 'right', 'front_forworld_streight', 'back_backworld', 'stop', 'Fast_Faster', 'slow_slower']:\n",
        "        command_path = os.path.join(custom_data_path, command)\n",
        "        if os.path.exists(command_path):\n",
        "            for filename in os.listdir(command_path):\n",
        "                if filename.endswith('.wav'):\n",
        "                    file_path = os.path.join(command_path, filename)\n",
        "                    mfcc = extract_mfcc(file_path)\n",
        "                    if mfcc is not None and mfcc.shape == (max_pad_len, 39):\n",
        "                        features.append(mfcc)\n",
        "                        labels.append(command)\n",
        "                        speakers.append(get_speaker_id(filename))  # أو استخدم اسم الملف/مجلد كمُعرف\n",
        "    return np.array(features), np.array(labels), np.array(speakers)\n",
        "\n",
        "def balance_data(features, labels, commands, augment_func, target_count=None):\n",
        "    data_per_class = defaultdict(list)\n",
        "    for feat, label in zip(features, labels):\n",
        "        data_per_class[label].append(feat)\n",
        "    if target_count is None:\n",
        "        target_count = max(len(v) for v in data_per_class.values())\n",
        "    balanced_features = []\n",
        "    balanced_labels = []\n",
        "    for label in commands:\n",
        "        samples = data_per_class[label]\n",
        "        n_samples = len(samples)\n",
        "        if n_samples == 0:\n",
        "            continue\n",
        "        if n_samples < target_count:\n",
        "            balanced_features.extend(samples)\n",
        "            balanced_labels.extend([label]*n_samples)\n",
        "            needed = target_count - n_samples\n",
        "            for _ in range(needed):\n",
        "                sample = random.choice(samples)\n",
        "                augmented_sample = augment_func(sample)\n",
        "                balanced_features.append(augmented_sample)\n",
        "                balanced_labels.append(label)\n",
        "        else:\n",
        "            selected_samples = random.sample(samples, target_count)\n",
        "            balanced_features.extend(selected_samples)\n",
        "            balanced_labels.extend([label]*target_count)\n",
        "    return np.array(balanced_features), np.array(balanced_labels)\n",
        "\n",
        "def reshape_to_sequences(X):\n",
        "    num_samples, timesteps, features = X.shape\n",
        "    X_seq = np.zeros((num_samples, num_segments, segment_length, features))\n",
        "    for i in range(num_samples):\n",
        "        for j in range(num_segments):\n",
        "            start = j * segment_length\n",
        "            end = start + segment_length\n",
        "            X_seq[i, j] = X[i, start:end, :]\n",
        "    return X_seq\n",
        "\n",
        "# تحميل وتجهيز البيانات مع معرف المتحدث\n",
        "features, labels, speakers = load_all_data()\n",
        "print(f\"تم تحميل {len(features)} عينة مع شكل {features.shape}\")\n",
        "\n",
        "# تقسيم المتحدثين إلى تدريب واختبار (Speaker Independent)\n",
        "unique_speakers = np.unique(speakers)\n",
        "train_speakers, test_speakers = train_test_split(unique_speakers, test_size=0.2, random_state=42)\n",
        "\n",
        "train_indices = np.isin(speakers, train_speakers)\n",
        "test_indices = np.isin(speakers, test_speakers)\n",
        "\n",
        "features_train = features[train_indices]\n",
        "labels_train = labels[train_indices]\n",
        "features_test = features[test_indices]\n",
        "labels_test = labels[test_indices]\n",
        "\n",
        "# توازن البيانات\n",
        "features_train_bal, labels_train_bal = balance_data(features_train, labels_train, commands, augment_mfcc)\n",
        "features_test_bal, labels_test_bal = balance_data(features_test, labels_test, commands, augment_mfcc)\n",
        "\n",
        "# الترميز والتحويل\n",
        "label_encoder = LabelEncoder()\n",
        "y_train_encoded = label_encoder.fit_transform(labels_train_bal)\n",
        "y_test_encoded = label_encoder.transform(labels_test_bal)\n",
        "y_train_cat = to_categorical(y_train_encoded)\n",
        "y_test_cat = to_categorical(y_test_encoded)\n",
        "\n",
        "X_train_seq = reshape_to_sequences(features_train_bal)\n",
        "X_test_seq = reshape_to_sequences(features_test_bal)\n",
        "\n",
        "print(\"شكل بيانات التدريب:\", X_train_seq.shape, y_train_cat.shape)\n",
        "print(\"شكل بيانات الاختبار:\", X_test_seq.shape, y_test_cat.shape)\n",
        "\n",
        "# طبقة Attention\n",
        "class Attention(Layer):\n",
        "    def __init__(self, **kwargs):\n",
        "        super(Attention, self).__init__(**kwargs)\n",
        "    def build(self, input_shape):\n",
        "        self.W = self.add_weight(name='att_weight', shape=(input_shape[-1], 1), initializer='random_normal', trainable=True)\n",
        "        self.b = self.add_weight(name='att_bias', shape=(input_shape[1], 1), initializer='zeros', trainable=True)\n",
        "        super(Attention, self).build(input_shape)\n",
        "    def call(self, x):\n",
        "        e = tf.keras.backend.tanh(tf.keras.backend.dot(x, self.W) + self.b)\n",
        "        a = tf.keras.backend.softmax(e, axis=1)\n",
        "        output = x * a\n",
        "        return tf.keras.backend.sum(output, axis=1)\n",
        "\n",
        "# بناء النموذج\n",
        "model = Sequential([\n",
        "Input(shape=(num_segments, segment_length, 39)),\n",
        "TimeDistributed(Conv1D(filters=128, kernel_size=3, activation='relu', kernel_regularizer=l2(0.001))),\n",
        "TimeDistributed(BatchNormalization()),\n",
        "TimeDistributed(MaxPooling1D(pool_size=2)),\n",
        "TimeDistributed(Dropout(0.2)),\n",
        "TimeDistributed(Conv1D(filters=256, kernel_size=3, activation='relu', kernel_regularizer=l2(0.001))),\n",
        "TimeDistributed(BatchNormalization()),\n",
        "TimeDistributed(MaxPooling1D(pool_size=2)),\n",
        "TimeDistributed(Dropout(0.2)),\n",
        "TimeDistributed(Flatten()),\n",
        "LSTM(512, return_sequences=True, dropout=0.2),\n",
        "Attention(),\n",
        "Dense(256, activation='relu', kernel_regularizer=l2(0.001)),\n",
        "BatchNormalization(),\n",
        "Dropout(0.2),\n",
        "Dense(len(commands), activation='softmax')\n",
        "])\n",
        "\n",
        "model.compile(\n",
        "    loss='categorical_crossentropy',\n",
        "    optimizer=Nadam(learning_rate=0.001),\n",
        "    metrics=['accuracy']\n",
        ")\n",
        "\n",
        "early_stop = EarlyStopping(\n",
        "    monitor='val_loss',\n",
        "    patience=15,\n",
        "    restore_best_weights=True,\n",
        "    min_delta=0.0001\n",
        ")\n",
        "\n",
        "reduce_lr = ReduceLROnPlateau(\n",
        "    monitor='val_loss',\n",
        "    factor=0.5,\n",
        "    patience=7,\n",
        "    min_lr=1e-6,\n",
        "    verbose=1\n",
        ")\n",
        "\n",
        "history = model.fit(\n",
        "    X_train_seq, y_train_cat,\n",
        "    epochs=80,\n",
        "    batch_size=32,\n",
        "    validation_data=(X_test_seq, y_test_cat),\n",
        "    callbacks=[early_stop, reduce_lr],\n",
        "    verbose=2\n",
        ")\n",
        "\n",
        "loss, accuracy = model.evaluate(X_test_seq, y_test_cat)\n",
        "print(f\"Test Accuracy: {accuracy * 100:.2f}%\")\n",
        "loss, accuracy = model.evaluate(X_train_seq, y_train_cat)\n",
        "print(f\"Train Accuracy: {accuracy * 100:.2f}%\")\n",
        "def predict_external(file_path):\n",
        "    mfcc = extract_mfcc(file_path)\n",
        "    if mfcc is None or mfcc.shape != (max_pad_len, 39):\n",
        "        print(\"ملف صوتي غير صالح.\")\n",
        "        return\n",
        "    mfcc_seq = reshape_to_sequences(np.expand_dims(mfcc, axis=0))\n",
        "    pred = model.predict(mfcc_seq)\n",
        "    pred_label = label_encoder.inverse_transform([np.argmax(pred)])\n",
        "    print(f\"الأمر المتوقع: {pred_label[0]}\")\n",
        "\n",
        "model.save('speech_speaker_commands_model.h5')\n"
      ]
    },
    {
      "cell_type": "markdown",
      "source": [
        "#Testing Model & Loading Model"
      ],
      "metadata": {
        "id": "Bgzg48X7tOqu"
      }
    },
    {
      "cell_type": "code",
      "source": [
        "from tensorflow.keras.models import load_model\n",
        "import joblib\n",
        "\n",
        "def predict_external(file_path):\n",
        "    # تحميل النموذج مع الطبقة المخصصة\n",
        "    model = load_model('speech_speaker_commands_model.h5', custom_objects={'Attention': Attention})\n",
        "    # تحميل الـ LabelEncoder\n",
        "    label_encoder = joblib.load('label_encoder.joblib')\n",
        "\n",
        "    mfcc = extract_mfcc(file_path)\n",
        "    if mfcc is None or mfcc.shape != (max_pad_len, 39):\n",
        "        print(\"ملف صوتي غير صالح.\")\n",
        "        return\n",
        "    mfcc_seq = reshape_to_sequences(np.expand_dims(mfcc, axis=0))\n",
        "    pred = model.predict(mfcc_seq)\n",
        "    pred_label = label_encoder.inverse_transform([np.argmax(pred)])\n",
        "    print(f\"الأمر المتوقع: {pred_label[0]}\")\n",
        "\n",
        "# مثال على الاستخدام:\n",
        "# predict_external('/content/left.wav')"
      ],
      "metadata": {
        "id": "FOGQed5EcnvO"
      },
      "execution_count": null,
      "outputs": []
    },
    {
      "cell_type": "code",
      "source": [
        "import joblib\n",
        "joblib.dump(label_encoder, 'label_encoder.joblib')\n"
      ],
      "metadata": {
        "colab": {
          "base_uri": "https://localhost:8080/"
        },
        "id": "utCueBiXc67S",
        "outputId": "72c2ac51-2ea5-4bad-b17c-ca349b68c24a"
      },
      "execution_count": null,
      "outputs": [
        {
          "output_type": "execute_result",
          "data": {
            "text/plain": [
              "['label_encoder.joblib']"
            ]
          },
          "metadata": {},
          "execution_count": 82
        }
      ]
    },
    {
      "cell_type": "code",
      "source": [
        "predict_external('/content/fasterr.wav')"
      ],
      "metadata": {
        "colab": {
          "base_uri": "https://localhost:8080/"
        },
        "id": "DfIrnY95cRVD",
        "outputId": "4a57e8dc-19ef-47ec-e05e-55cdd986c046"
      },
      "execution_count": null,
      "outputs": [
        {
          "output_type": "stream",
          "name": "stderr",
          "text": [
            "WARNING:absl:Compiled the loaded model, but the compiled metrics have yet to be built. `model.compile_metrics` will be empty until you train or evaluate the model.\n"
          ]
        },
        {
          "output_type": "stream",
          "name": "stdout",
          "text": [
            "\u001b[1m1/1\u001b[0m \u001b[32m━━━━━━━━━━━━━━━━━━━━\u001b[0m\u001b[37m\u001b[0m \u001b[1m1s\u001b[0m 1s/step\n",
            "الأمر المتوقع: Fast_Faster\n"
          ]
        }
      ]
    },
    {
      "cell_type": "code",
      "source": [
        "predict_external('/content/left.wav')"
      ],
      "metadata": {
        "colab": {
          "base_uri": "https://localhost:8080/"
        },
        "id": "M48py4qWcmHq",
        "outputId": "f7308d17-a756-480a-c140-a2e00c8e999a"
      },
      "execution_count": null,
      "outputs": [
        {
          "output_type": "stream",
          "name": "stderr",
          "text": [
            "WARNING:absl:Compiled the loaded model, but the compiled metrics have yet to be built. `model.compile_metrics` will be empty until you train or evaluate the model.\n"
          ]
        },
        {
          "output_type": "stream",
          "name": "stdout",
          "text": [
            "\u001b[1m1/1\u001b[0m \u001b[32m━━━━━━━━━━━━━━━━━━━━\u001b[0m\u001b[37m\u001b[0m \u001b[1m4s\u001b[0m 4s/step\n",
            "الأمر المتوقع: left\n"
          ]
        }
      ]
    },
    {
      "cell_type": "code",
      "source": [
        "predict_external('/content/right.wav')"
      ],
      "metadata": {
        "colab": {
          "base_uri": "https://localhost:8080/"
        },
        "id": "Twi3WhEKc_-X",
        "outputId": "e5536bf1-d17d-4f84-8f9c-4c32a56b706a"
      },
      "execution_count": null,
      "outputs": [
        {
          "output_type": "stream",
          "name": "stderr",
          "text": [
            "WARNING:absl:Compiled the loaded model, but the compiled metrics have yet to be built. `model.compile_metrics` will be empty until you train or evaluate the model.\n"
          ]
        },
        {
          "output_type": "stream",
          "name": "stdout",
          "text": [
            "\u001b[1m1/1\u001b[0m \u001b[32m━━━━━━━━━━━━━━━━━━━━\u001b[0m\u001b[37m\u001b[0m \u001b[1m2s\u001b[0m 2s/step\n",
            "الأمر المتوقع: right\n"
          ]
        }
      ]
    },
    {
      "cell_type": "code",
      "source": [
        "predict_external('/content/stop.wav')"
      ],
      "metadata": {
        "colab": {
          "base_uri": "https://localhost:8080/"
        },
        "id": "S5NSyIPHdD46",
        "outputId": "2b4e3985-6d46-436a-ad98-1d21955b3b4d"
      },
      "execution_count": null,
      "outputs": [
        {
          "output_type": "stream",
          "name": "stderr",
          "text": [
            "WARNING:absl:Compiled the loaded model, but the compiled metrics have yet to be built. `model.compile_metrics` will be empty until you train or evaluate the model.\n",
            "WARNING:tensorflow:5 out of the last 11 calls to <function TensorFlowTrainer.make_predict_function.<locals>.one_step_on_data_distributed at 0x7d46bc90d800> triggered tf.function retracing. Tracing is expensive and the excessive number of tracings could be due to (1) creating @tf.function repeatedly in a loop, (2) passing tensors with different shapes, (3) passing Python objects instead of tensors. For (1), please define your @tf.function outside of the loop. For (2), @tf.function has reduce_retracing=True option that can avoid unnecessary retracing. For (3), please refer to https://www.tensorflow.org/guide/function#controlling_retracing and https://www.tensorflow.org/api_docs/python/tf/function for  more details.\n"
          ]
        },
        {
          "output_type": "stream",
          "name": "stdout",
          "text": [
            "\u001b[1m1/1\u001b[0m \u001b[32m━━━━━━━━━━━━━━━━━━━━\u001b[0m\u001b[37m\u001b[0m \u001b[1m2s\u001b[0m 2s/step\n",
            "الأمر المتوقع: stop\n"
          ]
        }
      ]
    },
    {
      "cell_type": "code",
      "source": [
        "predict_external('/content/forward.wav')"
      ],
      "metadata": {
        "colab": {
          "base_uri": "https://localhost:8080/"
        },
        "id": "oPrATCledHpV",
        "outputId": "3f5e6deb-ee74-473a-c166-0e2b8fc491ca"
      },
      "execution_count": null,
      "outputs": [
        {
          "output_type": "stream",
          "name": "stderr",
          "text": [
            "WARNING:absl:Compiled the loaded model, but the compiled metrics have yet to be built. `model.compile_metrics` will be empty until you train or evaluate the model.\n",
            "WARNING:tensorflow:6 out of the last 12 calls to <function TensorFlowTrainer.make_predict_function.<locals>.one_step_on_data_distributed at 0x7d46bc771440> triggered tf.function retracing. Tracing is expensive and the excessive number of tracings could be due to (1) creating @tf.function repeatedly in a loop, (2) passing tensors with different shapes, (3) passing Python objects instead of tensors. For (1), please define your @tf.function outside of the loop. For (2), @tf.function has reduce_retracing=True option that can avoid unnecessary retracing. For (3), please refer to https://www.tensorflow.org/guide/function#controlling_retracing and https://www.tensorflow.org/api_docs/python/tf/function for  more details.\n"
          ]
        },
        {
          "output_type": "stream",
          "name": "stdout",
          "text": [
            "\u001b[1m1/1\u001b[0m \u001b[32m━━━━━━━━━━━━━━━━━━━━\u001b[0m\u001b[37m\u001b[0m \u001b[1m2s\u001b[0m 2s/step\n",
            "الأمر المتوقع: front_forworld_streight\n"
          ]
        }
      ]
    },
    {
      "cell_type": "code",
      "source": [
        "predict_external('/content/back.wav')"
      ],
      "metadata": {
        "colab": {
          "base_uri": "https://localhost:8080/"
        },
        "id": "buJKCOMtdLjC",
        "outputId": "f06ec5c7-9816-4f81-8a1b-515fd2f04e3d"
      },
      "execution_count": null,
      "outputs": [
        {
          "output_type": "stream",
          "name": "stderr",
          "text": [
            "WARNING:absl:Compiled the loaded model, but the compiled metrics have yet to be built. `model.compile_metrics` will be empty until you train or evaluate the model.\n"
          ]
        },
        {
          "output_type": "stream",
          "name": "stdout",
          "text": [
            "\u001b[1m1/1\u001b[0m \u001b[32m━━━━━━━━━━━━━━━━━━━━\u001b[0m\u001b[37m\u001b[0m \u001b[1m3s\u001b[0m 3s/step\n",
            "الأمر المتوقع: back_backworld\n"
          ]
        }
      ]
    },
    {
      "cell_type": "code",
      "source": [
        "predict_external('/content/wav_files/front_forworld_streight/front_forworld_streight_1003.wav')"
      ],
      "metadata": {
        "colab": {
          "base_uri": "https://localhost:8080/"
        },
        "id": "ptc9xThcdNpl",
        "outputId": "1128d8be-d543-4251-d38f-2338d7568242"
      },
      "execution_count": null,
      "outputs": [
        {
          "output_type": "stream",
          "name": "stderr",
          "text": [
            "WARNING:absl:Compiled the loaded model, but the compiled metrics have yet to be built. `model.compile_metrics` will be empty until you train or evaluate the model.\n"
          ]
        },
        {
          "output_type": "stream",
          "name": "stdout",
          "text": [
            "\u001b[1m1/1\u001b[0m \u001b[32m━━━━━━━━━━━━━━━━━━━━\u001b[0m\u001b[37m\u001b[0m \u001b[1m2s\u001b[0m 2s/step\n",
            "الأمر المتوقع: front_forworld_streight\n"
          ]
        }
      ]
    },
    {
      "cell_type": "code",
      "source": [
        "predict_external('/content/wav_files/Fast_Faster/fast_faster_1399.wav')"
      ],
      "metadata": {
        "colab": {
          "base_uri": "https://localhost:8080/"
        },
        "id": "UB-TkMhHdYob",
        "outputId": "82ac1473-98e2-4bbf-bc74-7687a065914d"
      },
      "execution_count": null,
      "outputs": [
        {
          "output_type": "stream",
          "name": "stderr",
          "text": [
            "WARNING:absl:Compiled the loaded model, but the compiled metrics have yet to be built. `model.compile_metrics` will be empty until you train or evaluate the model.\n"
          ]
        },
        {
          "output_type": "stream",
          "name": "stdout",
          "text": [
            "\u001b[1m1/1\u001b[0m \u001b[32m━━━━━━━━━━━━━━━━━━━━\u001b[0m\u001b[37m\u001b[0m \u001b[1m2s\u001b[0m 2s/step\n",
            "الأمر المتوقع: Fast_Faster\n"
          ]
        }
      ]
    },
    {
      "cell_type": "code",
      "source": [
        "predict_external('/content/wav_files/back_backworld/back_backworld_1714.wav')"
      ],
      "metadata": {
        "colab": {
          "base_uri": "https://localhost:8080/"
        },
        "id": "2SqQzdwFdlqP",
        "outputId": "85eac22c-dc03-4576-b88e-695454427d62"
      },
      "execution_count": null,
      "outputs": [
        {
          "output_type": "stream",
          "name": "stderr",
          "text": [
            "WARNING:absl:Compiled the loaded model, but the compiled metrics have yet to be built. `model.compile_metrics` will be empty until you train or evaluate the model.\n"
          ]
        },
        {
          "output_type": "stream",
          "name": "stdout",
          "text": [
            "\u001b[1m1/1\u001b[0m \u001b[32m━━━━━━━━━━━━━━━━━━━━\u001b[0m\u001b[37m\u001b[0m \u001b[1m2s\u001b[0m 2s/step\n",
            "الأمر المتوقع: back_backworld\n"
          ]
        }
      ]
    },
    {
      "cell_type": "code",
      "source": [
        "predict_external('/content/wav_files/left/left_701.wav')"
      ],
      "metadata": {
        "colab": {
          "base_uri": "https://localhost:8080/"
        },
        "id": "75dVjW4jdrS5",
        "outputId": "c68023e7-fd09-42ca-ee89-a6fbbda617f9"
      },
      "execution_count": null,
      "outputs": [
        {
          "output_type": "stream",
          "name": "stderr",
          "text": [
            "WARNING:absl:Compiled the loaded model, but the compiled metrics have yet to be built. `model.compile_metrics` will be empty until you train or evaluate the model.\n"
          ]
        },
        {
          "output_type": "stream",
          "name": "stdout",
          "text": [
            "\u001b[1m1/1\u001b[0m \u001b[32m━━━━━━━━━━━━━━━━━━━━\u001b[0m\u001b[37m\u001b[0m \u001b[1m3s\u001b[0m 3s/step\n",
            "الأمر المتوقع: left\n"
          ]
        }
      ]
    },
    {
      "cell_type": "code",
      "source": [
        "predict_external('/content/wav_files/right/right_527.wav')"
      ],
      "metadata": {
        "colab": {
          "base_uri": "https://localhost:8080/"
        },
        "id": "hV7pmP-ZdwRK",
        "outputId": "b6585fbe-2fd3-4964-cd01-5354235cea3b"
      },
      "execution_count": null,
      "outputs": [
        {
          "output_type": "stream",
          "name": "stderr",
          "text": [
            "WARNING:absl:Compiled the loaded model, but the compiled metrics have yet to be built. `model.compile_metrics` will be empty until you train or evaluate the model.\n"
          ]
        },
        {
          "output_type": "stream",
          "name": "stdout",
          "text": [
            "\u001b[1m1/1\u001b[0m \u001b[32m━━━━━━━━━━━━━━━━━━━━\u001b[0m\u001b[37m\u001b[0m \u001b[1m2s\u001b[0m 2s/step\n",
            "الأمر المتوقع: right\n"
          ]
        }
      ]
    },
    {
      "cell_type": "code",
      "source": [
        "predict_external('/content/wav_files/slow_slower/slow_slower_100.wav')"
      ],
      "metadata": {
        "colab": {
          "base_uri": "https://localhost:8080/"
        },
        "id": "50P5pIPQd012",
        "outputId": "7d31f4ab-22af-4b70-ce04-d979251e94b1"
      },
      "execution_count": null,
      "outputs": [
        {
          "output_type": "stream",
          "name": "stderr",
          "text": [
            "WARNING:absl:Compiled the loaded model, but the compiled metrics have yet to be built. `model.compile_metrics` will be empty until you train or evaluate the model.\n"
          ]
        },
        {
          "output_type": "stream",
          "name": "stdout",
          "text": [
            "\u001b[1m1/1\u001b[0m \u001b[32m━━━━━━━━━━━━━━━━━━━━\u001b[0m\u001b[37m\u001b[0m \u001b[1m2s\u001b[0m 2s/step\n",
            "الأمر المتوقع: slow_slower\n"
          ]
        }
      ]
    },
    {
      "cell_type": "code",
      "source": [
        "predict_external('/content/stop.wav')"
      ],
      "metadata": {
        "colab": {
          "base_uri": "https://localhost:8080/"
        },
        "id": "0KIHOfYid6_L",
        "outputId": "caccd169-d19c-40a0-beb3-88dfef3d689a"
      },
      "execution_count": null,
      "outputs": [
        {
          "output_type": "stream",
          "name": "stderr",
          "text": [
            "WARNING:absl:Compiled the loaded model, but the compiled metrics have yet to be built. `model.compile_metrics` will be empty until you train or evaluate the model.\n"
          ]
        },
        {
          "output_type": "stream",
          "name": "stdout",
          "text": [
            "\u001b[1m1/1\u001b[0m \u001b[32m━━━━━━━━━━━━━━━━━━━━\u001b[0m\u001b[37m\u001b[0m \u001b[1m2s\u001b[0m 2s/step\n",
            "الأمر المتوقع: stop\n"
          ]
        }
      ]
    },
    {
      "cell_type": "code",
      "source": [
        "predict_external('/content/wav_files/stop/stop_354.wav')"
      ],
      "metadata": {
        "colab": {
          "base_uri": "https://localhost:8080/"
        },
        "id": "39m7bD30d_uP",
        "outputId": "1369a0e4-07f5-40c4-e267-359e52525f7f"
      },
      "execution_count": null,
      "outputs": [
        {
          "output_type": "stream",
          "name": "stderr",
          "text": [
            "WARNING:absl:Compiled the loaded model, but the compiled metrics have yet to be built. `model.compile_metrics` will be empty until you train or evaluate the model.\n"
          ]
        },
        {
          "output_type": "stream",
          "name": "stdout",
          "text": [
            "\u001b[1m1/1\u001b[0m \u001b[32m━━━━━━━━━━━━━━━━━━━━\u001b[0m\u001b[37m\u001b[0m \u001b[1m3s\u001b[0m 3s/step\n",
            "الأمر المتوقع: stop\n"
          ]
        }
      ]
    },
    {
      "cell_type": "code",
      "source": [
        "predict_external('/content/front.wav')"
      ],
      "metadata": {
        "colab": {
          "base_uri": "https://localhost:8080/"
        },
        "id": "Wq52R8DZeT9q",
        "outputId": "cb36cce8-d055-427d-996b-51c80d7d6278"
      },
      "execution_count": null,
      "outputs": [
        {
          "output_type": "stream",
          "name": "stderr",
          "text": [
            "WARNING:absl:Compiled the loaded model, but the compiled metrics have yet to be built. `model.compile_metrics` will be empty until you train or evaluate the model.\n"
          ]
        },
        {
          "output_type": "stream",
          "name": "stdout",
          "text": [
            "\u001b[1m1/1\u001b[0m \u001b[32m━━━━━━━━━━━━━━━━━━━━\u001b[0m\u001b[37m\u001b[0m \u001b[1m2s\u001b[0m 2s/step\n",
            "الأمر المتوقع: front_forworld_streight\n"
          ]
        }
      ]
    },
    {
      "cell_type": "code",
      "source": [
        "predict_external('/content/leftt.wav')"
      ],
      "metadata": {
        "colab": {
          "base_uri": "https://localhost:8080/"
        },
        "id": "9jmCBK3CeZic",
        "outputId": "4089913d-ba6a-49a7-9497-e24f4c3b01d5"
      },
      "execution_count": null,
      "outputs": [
        {
          "output_type": "stream",
          "name": "stderr",
          "text": [
            "WARNING:absl:Compiled the loaded model, but the compiled metrics have yet to be built. `model.compile_metrics` will be empty until you train or evaluate the model.\n"
          ]
        },
        {
          "output_type": "stream",
          "name": "stdout",
          "text": [
            "\u001b[1m1/1\u001b[0m \u001b[32m━━━━━━━━━━━━━━━━━━━━\u001b[0m\u001b[37m\u001b[0m \u001b[1m4s\u001b[0m 4s/step\n",
            "الأمر المتوقع: left\n"
          ]
        }
      ]
    },
    {
      "cell_type": "code",
      "source": [
        "predict_external('/content/slowe.wav')"
      ],
      "metadata": {
        "colab": {
          "base_uri": "https://localhost:8080/"
        },
        "id": "6sKOEl8yeePq",
        "outputId": "9fd42b29-c683-4f27-c650-bedfcc8b3214"
      },
      "execution_count": null,
      "outputs": [
        {
          "output_type": "stream",
          "name": "stderr",
          "text": [
            "WARNING:absl:Compiled the loaded model, but the compiled metrics have yet to be built. `model.compile_metrics` will be empty until you train or evaluate the model.\n"
          ]
        },
        {
          "output_type": "stream",
          "name": "stdout",
          "text": [
            "\u001b[1m1/1\u001b[0m \u001b[32m━━━━━━━━━━━━━━━━━━━━\u001b[0m\u001b[37m\u001b[0m \u001b[1m2s\u001b[0m 2s/step\n",
            "الأمر المتوقع: slow_slower\n"
          ]
        }
      ]
    },
    {
      "cell_type": "code",
      "source": [
        "predict_external('/content/wav_files/slow_slower/slow_slower_146.wav')"
      ],
      "metadata": {
        "colab": {
          "base_uri": "https://localhost:8080/"
        },
        "id": "1_OT3zWDekAP",
        "outputId": "02e5809a-2b7f-450c-a1c2-8c5c102d5e7d"
      },
      "execution_count": null,
      "outputs": [
        {
          "output_type": "stream",
          "name": "stderr",
          "text": [
            "WARNING:absl:Compiled the loaded model, but the compiled metrics have yet to be built. `model.compile_metrics` will be empty until you train or evaluate the model.\n"
          ]
        },
        {
          "output_type": "stream",
          "name": "stdout",
          "text": [
            "\u001b[1m1/1\u001b[0m \u001b[32m━━━━━━━━━━━━━━━━━━━━\u001b[0m\u001b[37m\u001b[0m \u001b[1m2s\u001b[0m 2s/step\n",
            "الأمر المتوقع: slow_slower\n"
          ]
        }
      ]
    },
    {
      "cell_type": "code",
      "source": [
        "predict_external('/content/wav_files/slow_slower/slow_slower_138.wav')"
      ],
      "metadata": {
        "colab": {
          "base_uri": "https://localhost:8080/"
        },
        "id": "Hnvvq_YWeq2W",
        "outputId": "ce96cfa9-7240-4553-dae4-a25e67384b6d"
      },
      "execution_count": null,
      "outputs": [
        {
          "output_type": "stream",
          "name": "stderr",
          "text": [
            "WARNING:absl:Compiled the loaded model, but the compiled metrics have yet to be built. `model.compile_metrics` will be empty until you train or evaluate the model.\n"
          ]
        },
        {
          "output_type": "stream",
          "name": "stdout",
          "text": [
            "\u001b[1m1/1\u001b[0m \u001b[32m━━━━━━━━━━━━━━━━━━━━\u001b[0m\u001b[37m\u001b[0m \u001b[1m3s\u001b[0m 3s/step\n",
            "الأمر المتوقع: slow_slower\n"
          ]
        }
      ]
    },
    {
      "cell_type": "code",
      "source": [
        "predict_external('/content/wav_files/stop/stop_364.wav')"
      ],
      "metadata": {
        "colab": {
          "base_uri": "https://localhost:8080/"
        },
        "id": "sxlez2z7e7gE",
        "outputId": "7cf3099b-f461-4b1c-f27d-97f43e63f181"
      },
      "execution_count": null,
      "outputs": [
        {
          "output_type": "stream",
          "name": "stderr",
          "text": [
            "WARNING:absl:Compiled the loaded model, but the compiled metrics have yet to be built. `model.compile_metrics` will be empty until you train or evaluate the model.\n"
          ]
        },
        {
          "output_type": "stream",
          "name": "stdout",
          "text": [
            "\u001b[1m1/1\u001b[0m \u001b[32m━━━━━━━━━━━━━━━━━━━━\u001b[0m\u001b[37m\u001b[0m \u001b[1m2s\u001b[0m 2s/step\n",
            "الأمر المتوقع: stop\n"
          ]
        }
      ]
    },
    {
      "cell_type": "code",
      "source": [
        "predict_external('/content/stop (2).wav')"
      ],
      "metadata": {
        "colab": {
          "base_uri": "https://localhost:8080/"
        },
        "id": "uHVmH29hfCHD",
        "outputId": "1ba3bfa9-f34d-4b17-feed-a4d99a7c061d"
      },
      "execution_count": null,
      "outputs": [
        {
          "output_type": "stream",
          "name": "stderr",
          "text": [
            "WARNING:absl:Compiled the loaded model, but the compiled metrics have yet to be built. `model.compile_metrics` will be empty until you train or evaluate the model.\n"
          ]
        },
        {
          "output_type": "stream",
          "name": "stdout",
          "text": [
            "\u001b[1m1/1\u001b[0m \u001b[32m━━━━━━━━━━━━━━━━━━━━\u001b[0m\u001b[37m\u001b[0m \u001b[1m2s\u001b[0m 2s/step\n",
            "الأمر المتوقع: stop\n"
          ]
        }
      ]
    },
    {
      "cell_type": "code",
      "source": [
        "predict_external('/content/streight.wav')"
      ],
      "metadata": {
        "colab": {
          "base_uri": "https://localhost:8080/"
        },
        "id": "rJpQuCztfJrk",
        "outputId": "d04aae53-9c55-44ad-e3ad-a5990a23760b"
      },
      "execution_count": null,
      "outputs": [
        {
          "output_type": "stream",
          "name": "stderr",
          "text": [
            "WARNING:absl:Compiled the loaded model, but the compiled metrics have yet to be built. `model.compile_metrics` will be empty until you train or evaluate the model.\n"
          ]
        },
        {
          "output_type": "stream",
          "name": "stdout",
          "text": [
            "\u001b[1m1/1\u001b[0m \u001b[32m━━━━━━━━━━━━━━━━━━━━\u001b[0m\u001b[37m\u001b[0m \u001b[1m2s\u001b[0m 2s/step\n",
            "الأمر المتوقع: front_forworld_streight\n"
          ]
        }
      ]
    },
    {
      "cell_type": "code",
      "source": [
        "predict_external('/content/fastt.wav')"
      ],
      "metadata": {
        "colab": {
          "base_uri": "https://localhost:8080/"
        },
        "id": "XvaNZRy6fTnr",
        "outputId": "77843046-669b-43c9-c404-8e98ba283867"
      },
      "execution_count": null,
      "outputs": [
        {
          "output_type": "stream",
          "name": "stderr",
          "text": [
            "WARNING:absl:Compiled the loaded model, but the compiled metrics have yet to be built. `model.compile_metrics` will be empty until you train or evaluate the model.\n"
          ]
        },
        {
          "output_type": "stream",
          "name": "stdout",
          "text": [
            "\u001b[1m1/1\u001b[0m \u001b[32m━━━━━━━━━━━━━━━━━━━━\u001b[0m\u001b[37m\u001b[0m \u001b[1m2s\u001b[0m 2s/step\n",
            "الأمر المتوقع: Fast_Faster\n"
          ]
        }
      ]
    },
    {
      "cell_type": "code",
      "source": [
        "predict_external('/content/fasterr.wav')"
      ],
      "metadata": {
        "colab": {
          "base_uri": "https://localhost:8080/"
        },
        "id": "ghjl6zfYfaCA",
        "outputId": "148769d3-fdaf-488c-cd73-3287f438290c"
      },
      "execution_count": null,
      "outputs": [
        {
          "output_type": "stream",
          "name": "stderr",
          "text": [
            "WARNING:absl:Compiled the loaded model, but the compiled metrics have yet to be built. `model.compile_metrics` will be empty until you train or evaluate the model.\n"
          ]
        },
        {
          "output_type": "stream",
          "name": "stdout",
          "text": [
            "\u001b[1m1/1\u001b[0m \u001b[32m━━━━━━━━━━━━━━━━━━━━\u001b[0m\u001b[37m\u001b[0m \u001b[1m2s\u001b[0m 2s/step\n",
            "الأمر المتوقع: Fast_Faster\n"
          ]
        }
      ]
    },
    {
      "cell_type": "code",
      "source": [
        "predict_external('/content/fasterrr.wav')"
      ],
      "metadata": {
        "colab": {
          "base_uri": "https://localhost:8080/"
        },
        "id": "AByRW6coffcq",
        "outputId": "d63f65d2-d73e-438c-9936-786487f8d155"
      },
      "execution_count": null,
      "outputs": [
        {
          "output_type": "stream",
          "name": "stderr",
          "text": [
            "WARNING:absl:Compiled the loaded model, but the compiled metrics have yet to be built. `model.compile_metrics` will be empty until you train or evaluate the model.\n"
          ]
        },
        {
          "output_type": "stream",
          "name": "stdout",
          "text": [
            "\u001b[1m1/1\u001b[0m \u001b[32m━━━━━━━━━━━━━━━━━━━━\u001b[0m\u001b[37m\u001b[0m \u001b[1m2s\u001b[0m 2s/step\n",
            "الأمر المتوقع: Fast_Faster\n"
          ]
        }
      ]
    },
    {
      "cell_type": "code",
      "source": [
        "predict_external('/content/slowe.wav')"
      ],
      "metadata": {
        "colab": {
          "base_uri": "https://localhost:8080/"
        },
        "id": "C8qR3npJfjGA",
        "outputId": "21287eb0-6eb5-4f09-ea19-7613d2ce7340"
      },
      "execution_count": null,
      "outputs": [
        {
          "output_type": "stream",
          "name": "stderr",
          "text": [
            "WARNING:absl:Compiled the loaded model, but the compiled metrics have yet to be built. `model.compile_metrics` will be empty until you train or evaluate the model.\n"
          ]
        },
        {
          "output_type": "stream",
          "name": "stdout",
          "text": [
            "\u001b[1m1/1\u001b[0m \u001b[32m━━━━━━━━━━━━━━━━━━━━\u001b[0m\u001b[37m\u001b[0m \u001b[1m2s\u001b[0m 2s/step\n",
            "الأمر المتوقع: slow_slower\n"
          ]
        }
      ]
    },
    {
      "cell_type": "markdown",
      "source": [
        "#Loading Model"
      ],
      "metadata": {
        "id": "X4lAx1VztDVN"
      }
    },
    {
      "cell_type": "code",
      "source": [
        "from tensorflow.keras.models import load_model\n",
        "\n",
        "# تحميل النموذج مع طبقة Attention المخصصة\n",
        "model = load_model('speech_speaker_commands_model.h5', custom_objects={'Attention': Attention})\n",
        "\n",
        "# عرض ملخص النموذج\n",
        "model.summary()\n"
      ],
      "metadata": {
        "colab": {
          "base_uri": "https://localhost:8080/",
          "height": 884
        },
        "id": "Ja45xdtOfo7J",
        "outputId": "a507a36c-053c-473f-b3e5-ad15437cfc8f"
      },
      "execution_count": null,
      "outputs": [
        {
          "output_type": "stream",
          "name": "stderr",
          "text": [
            "WARNING:absl:Compiled the loaded model, but the compiled metrics have yet to be built. `model.compile_metrics` will be empty until you train or evaluate the model.\n"
          ]
        },
        {
          "output_type": "display_data",
          "data": {
            "text/plain": [
              "\u001b[1mModel: \"sequential\"\u001b[0m\n"
            ],
            "text/html": [
              "<pre style=\"white-space:pre;overflow-x:auto;line-height:normal;font-family:Menlo,'DejaVu Sans Mono',consolas,'Courier New',monospace\"><span style=\"font-weight: bold\">Model: \"sequential\"</span>\n",
              "</pre>\n"
            ]
          },
          "metadata": {}
        },
        {
          "output_type": "display_data",
          "data": {
            "text/plain": [
              "┏━━━━━━━━━━━━━━━━━━━━━━━━━━━━━━━━━┳━━━━━━━━━━━━━━━━━━━━━━━━┳━━━━━━━━━━━━━━━┓\n",
              "┃\u001b[1m \u001b[0m\u001b[1mLayer (type)                   \u001b[0m\u001b[1m \u001b[0m┃\u001b[1m \u001b[0m\u001b[1mOutput Shape          \u001b[0m\u001b[1m \u001b[0m┃\u001b[1m \u001b[0m\u001b[1m      Param #\u001b[0m\u001b[1m \u001b[0m┃\n",
              "┡━━━━━━━━━━━━━━━━━━━━━━━━━━━━━━━━━╇━━━━━━━━━━━━━━━━━━━━━━━━╇━━━━━━━━━━━━━━━┩\n",
              "│ time_distributed                │ (\u001b[38;5;45mNone\u001b[0m, \u001b[38;5;34m5\u001b[0m, \u001b[38;5;34m20\u001b[0m, \u001b[38;5;34m96\u001b[0m)      │        \u001b[38;5;34m11,328\u001b[0m │\n",
              "│ (\u001b[38;5;33mTimeDistributed\u001b[0m)               │                        │               │\n",
              "├─────────────────────────────────┼────────────────────────┼───────────────┤\n",
              "│ time_distributed_1              │ (\u001b[38;5;45mNone\u001b[0m, \u001b[38;5;34m5\u001b[0m, \u001b[38;5;34m20\u001b[0m, \u001b[38;5;34m96\u001b[0m)      │           \u001b[38;5;34m384\u001b[0m │\n",
              "│ (\u001b[38;5;33mTimeDistributed\u001b[0m)               │                        │               │\n",
              "├─────────────────────────────────┼────────────────────────┼───────────────┤\n",
              "│ time_distributed_2              │ (\u001b[38;5;45mNone\u001b[0m, \u001b[38;5;34m5\u001b[0m, \u001b[38;5;34m10\u001b[0m, \u001b[38;5;34m96\u001b[0m)      │             \u001b[38;5;34m0\u001b[0m │\n",
              "│ (\u001b[38;5;33mTimeDistributed\u001b[0m)               │                        │               │\n",
              "├─────────────────────────────────┼────────────────────────┼───────────────┤\n",
              "│ time_distributed_3              │ (\u001b[38;5;45mNone\u001b[0m, \u001b[38;5;34m5\u001b[0m, \u001b[38;5;34m10\u001b[0m, \u001b[38;5;34m96\u001b[0m)      │             \u001b[38;5;34m0\u001b[0m │\n",
              "│ (\u001b[38;5;33mTimeDistributed\u001b[0m)               │                        │               │\n",
              "├─────────────────────────────────┼────────────────────────┼───────────────┤\n",
              "│ time_distributed_4              │ (\u001b[38;5;45mNone\u001b[0m, \u001b[38;5;34m5\u001b[0m, \u001b[38;5;34m10\u001b[0m, \u001b[38;5;34m128\u001b[0m)     │        \u001b[38;5;34m36,992\u001b[0m │\n",
              "│ (\u001b[38;5;33mTimeDistributed\u001b[0m)               │                        │               │\n",
              "├─────────────────────────────────┼────────────────────────┼───────────────┤\n",
              "│ time_distributed_5              │ (\u001b[38;5;45mNone\u001b[0m, \u001b[38;5;34m5\u001b[0m, \u001b[38;5;34m10\u001b[0m, \u001b[38;5;34m128\u001b[0m)     │           \u001b[38;5;34m512\u001b[0m │\n",
              "│ (\u001b[38;5;33mTimeDistributed\u001b[0m)               │                        │               │\n",
              "├─────────────────────────────────┼────────────────────────┼───────────────┤\n",
              "│ time_distributed_6              │ (\u001b[38;5;45mNone\u001b[0m, \u001b[38;5;34m5\u001b[0m, \u001b[38;5;34m5\u001b[0m, \u001b[38;5;34m128\u001b[0m)      │             \u001b[38;5;34m0\u001b[0m │\n",
              "│ (\u001b[38;5;33mTimeDistributed\u001b[0m)               │                        │               │\n",
              "├─────────────────────────────────┼────────────────────────┼───────────────┤\n",
              "│ time_distributed_7              │ (\u001b[38;5;45mNone\u001b[0m, \u001b[38;5;34m5\u001b[0m, \u001b[38;5;34m5\u001b[0m, \u001b[38;5;34m128\u001b[0m)      │             \u001b[38;5;34m0\u001b[0m │\n",
              "│ (\u001b[38;5;33mTimeDistributed\u001b[0m)               │                        │               │\n",
              "├─────────────────────────────────┼────────────────────────┼───────────────┤\n",
              "│ time_distributed_8              │ (\u001b[38;5;45mNone\u001b[0m, \u001b[38;5;34m5\u001b[0m, \u001b[38;5;34m640\u001b[0m)         │             \u001b[38;5;34m0\u001b[0m │\n",
              "│ (\u001b[38;5;33mTimeDistributed\u001b[0m)               │                        │               │\n",
              "├─────────────────────────────────┼────────────────────────┼───────────────┤\n",
              "│ lstm (\u001b[38;5;33mLSTM\u001b[0m)                     │ (\u001b[38;5;45mNone\u001b[0m, \u001b[38;5;34m5\u001b[0m, \u001b[38;5;34m256\u001b[0m)         │       \u001b[38;5;34m918,528\u001b[0m │\n",
              "├─────────────────────────────────┼────────────────────────┼───────────────┤\n",
              "│ attention (\u001b[38;5;33mAttention\u001b[0m)           │ (\u001b[38;5;45mNone\u001b[0m, \u001b[38;5;34m256\u001b[0m)            │           \u001b[38;5;34m261\u001b[0m │\n",
              "├─────────────────────────────────┼────────────────────────┼───────────────┤\n",
              "│ batch_normalization_2           │ (\u001b[38;5;45mNone\u001b[0m, \u001b[38;5;34m256\u001b[0m)            │         \u001b[38;5;34m1,024\u001b[0m │\n",
              "│ (\u001b[38;5;33mBatchNormalization\u001b[0m)            │                        │               │\n",
              "├─────────────────────────────────┼────────────────────────┼───────────────┤\n",
              "│ dropout_2 (\u001b[38;5;33mDropout\u001b[0m)             │ (\u001b[38;5;45mNone\u001b[0m, \u001b[38;5;34m256\u001b[0m)            │             \u001b[38;5;34m0\u001b[0m │\n",
              "├─────────────────────────────────┼────────────────────────┼───────────────┤\n",
              "│ dense (\u001b[38;5;33mDense\u001b[0m)                   │ (\u001b[38;5;45mNone\u001b[0m, \u001b[38;5;34m128\u001b[0m)            │        \u001b[38;5;34m32,896\u001b[0m │\n",
              "├─────────────────────────────────┼────────────────────────┼───────────────┤\n",
              "│ dropout_3 (\u001b[38;5;33mDropout\u001b[0m)             │ (\u001b[38;5;45mNone\u001b[0m, \u001b[38;5;34m128\u001b[0m)            │             \u001b[38;5;34m0\u001b[0m │\n",
              "├─────────────────────────────────┼────────────────────────┼───────────────┤\n",
              "│ dense_1 (\u001b[38;5;33mDense\u001b[0m)                 │ (\u001b[38;5;45mNone\u001b[0m, \u001b[38;5;34m12\u001b[0m)             │         \u001b[38;5;34m1,548\u001b[0m │\n",
              "└─────────────────────────────────┴────────────────────────┴───────────────┘\n"
            ],
            "text/html": [
              "<pre style=\"white-space:pre;overflow-x:auto;line-height:normal;font-family:Menlo,'DejaVu Sans Mono',consolas,'Courier New',monospace\">┏━━━━━━━━━━━━━━━━━━━━━━━━━━━━━━━━━┳━━━━━━━━━━━━━━━━━━━━━━━━┳━━━━━━━━━━━━━━━┓\n",
              "┃<span style=\"font-weight: bold\"> Layer (type)                    </span>┃<span style=\"font-weight: bold\"> Output Shape           </span>┃<span style=\"font-weight: bold\">       Param # </span>┃\n",
              "┡━━━━━━━━━━━━━━━━━━━━━━━━━━━━━━━━━╇━━━━━━━━━━━━━━━━━━━━━━━━╇━━━━━━━━━━━━━━━┩\n",
              "│ time_distributed                │ (<span style=\"color: #00d7ff; text-decoration-color: #00d7ff\">None</span>, <span style=\"color: #00af00; text-decoration-color: #00af00\">5</span>, <span style=\"color: #00af00; text-decoration-color: #00af00\">20</span>, <span style=\"color: #00af00; text-decoration-color: #00af00\">96</span>)      │        <span style=\"color: #00af00; text-decoration-color: #00af00\">11,328</span> │\n",
              "│ (<span style=\"color: #0087ff; text-decoration-color: #0087ff\">TimeDistributed</span>)               │                        │               │\n",
              "├─────────────────────────────────┼────────────────────────┼───────────────┤\n",
              "│ time_distributed_1              │ (<span style=\"color: #00d7ff; text-decoration-color: #00d7ff\">None</span>, <span style=\"color: #00af00; text-decoration-color: #00af00\">5</span>, <span style=\"color: #00af00; text-decoration-color: #00af00\">20</span>, <span style=\"color: #00af00; text-decoration-color: #00af00\">96</span>)      │           <span style=\"color: #00af00; text-decoration-color: #00af00\">384</span> │\n",
              "│ (<span style=\"color: #0087ff; text-decoration-color: #0087ff\">TimeDistributed</span>)               │                        │               │\n",
              "├─────────────────────────────────┼────────────────────────┼───────────────┤\n",
              "│ time_distributed_2              │ (<span style=\"color: #00d7ff; text-decoration-color: #00d7ff\">None</span>, <span style=\"color: #00af00; text-decoration-color: #00af00\">5</span>, <span style=\"color: #00af00; text-decoration-color: #00af00\">10</span>, <span style=\"color: #00af00; text-decoration-color: #00af00\">96</span>)      │             <span style=\"color: #00af00; text-decoration-color: #00af00\">0</span> │\n",
              "│ (<span style=\"color: #0087ff; text-decoration-color: #0087ff\">TimeDistributed</span>)               │                        │               │\n",
              "├─────────────────────────────────┼────────────────────────┼───────────────┤\n",
              "│ time_distributed_3              │ (<span style=\"color: #00d7ff; text-decoration-color: #00d7ff\">None</span>, <span style=\"color: #00af00; text-decoration-color: #00af00\">5</span>, <span style=\"color: #00af00; text-decoration-color: #00af00\">10</span>, <span style=\"color: #00af00; text-decoration-color: #00af00\">96</span>)      │             <span style=\"color: #00af00; text-decoration-color: #00af00\">0</span> │\n",
              "│ (<span style=\"color: #0087ff; text-decoration-color: #0087ff\">TimeDistributed</span>)               │                        │               │\n",
              "├─────────────────────────────────┼────────────────────────┼───────────────┤\n",
              "│ time_distributed_4              │ (<span style=\"color: #00d7ff; text-decoration-color: #00d7ff\">None</span>, <span style=\"color: #00af00; text-decoration-color: #00af00\">5</span>, <span style=\"color: #00af00; text-decoration-color: #00af00\">10</span>, <span style=\"color: #00af00; text-decoration-color: #00af00\">128</span>)     │        <span style=\"color: #00af00; text-decoration-color: #00af00\">36,992</span> │\n",
              "│ (<span style=\"color: #0087ff; text-decoration-color: #0087ff\">TimeDistributed</span>)               │                        │               │\n",
              "├─────────────────────────────────┼────────────────────────┼───────────────┤\n",
              "│ time_distributed_5              │ (<span style=\"color: #00d7ff; text-decoration-color: #00d7ff\">None</span>, <span style=\"color: #00af00; text-decoration-color: #00af00\">5</span>, <span style=\"color: #00af00; text-decoration-color: #00af00\">10</span>, <span style=\"color: #00af00; text-decoration-color: #00af00\">128</span>)     │           <span style=\"color: #00af00; text-decoration-color: #00af00\">512</span> │\n",
              "│ (<span style=\"color: #0087ff; text-decoration-color: #0087ff\">TimeDistributed</span>)               │                        │               │\n",
              "├─────────────────────────────────┼────────────────────────┼───────────────┤\n",
              "│ time_distributed_6              │ (<span style=\"color: #00d7ff; text-decoration-color: #00d7ff\">None</span>, <span style=\"color: #00af00; text-decoration-color: #00af00\">5</span>, <span style=\"color: #00af00; text-decoration-color: #00af00\">5</span>, <span style=\"color: #00af00; text-decoration-color: #00af00\">128</span>)      │             <span style=\"color: #00af00; text-decoration-color: #00af00\">0</span> │\n",
              "│ (<span style=\"color: #0087ff; text-decoration-color: #0087ff\">TimeDistributed</span>)               │                        │               │\n",
              "├─────────────────────────────────┼────────────────────────┼───────────────┤\n",
              "│ time_distributed_7              │ (<span style=\"color: #00d7ff; text-decoration-color: #00d7ff\">None</span>, <span style=\"color: #00af00; text-decoration-color: #00af00\">5</span>, <span style=\"color: #00af00; text-decoration-color: #00af00\">5</span>, <span style=\"color: #00af00; text-decoration-color: #00af00\">128</span>)      │             <span style=\"color: #00af00; text-decoration-color: #00af00\">0</span> │\n",
              "│ (<span style=\"color: #0087ff; text-decoration-color: #0087ff\">TimeDistributed</span>)               │                        │               │\n",
              "├─────────────────────────────────┼────────────────────────┼───────────────┤\n",
              "│ time_distributed_8              │ (<span style=\"color: #00d7ff; text-decoration-color: #00d7ff\">None</span>, <span style=\"color: #00af00; text-decoration-color: #00af00\">5</span>, <span style=\"color: #00af00; text-decoration-color: #00af00\">640</span>)         │             <span style=\"color: #00af00; text-decoration-color: #00af00\">0</span> │\n",
              "│ (<span style=\"color: #0087ff; text-decoration-color: #0087ff\">TimeDistributed</span>)               │                        │               │\n",
              "├─────────────────────────────────┼────────────────────────┼───────────────┤\n",
              "│ lstm (<span style=\"color: #0087ff; text-decoration-color: #0087ff\">LSTM</span>)                     │ (<span style=\"color: #00d7ff; text-decoration-color: #00d7ff\">None</span>, <span style=\"color: #00af00; text-decoration-color: #00af00\">5</span>, <span style=\"color: #00af00; text-decoration-color: #00af00\">256</span>)         │       <span style=\"color: #00af00; text-decoration-color: #00af00\">918,528</span> │\n",
              "├─────────────────────────────────┼────────────────────────┼───────────────┤\n",
              "│ attention (<span style=\"color: #0087ff; text-decoration-color: #0087ff\">Attention</span>)           │ (<span style=\"color: #00d7ff; text-decoration-color: #00d7ff\">None</span>, <span style=\"color: #00af00; text-decoration-color: #00af00\">256</span>)            │           <span style=\"color: #00af00; text-decoration-color: #00af00\">261</span> │\n",
              "├─────────────────────────────────┼────────────────────────┼───────────────┤\n",
              "│ batch_normalization_2           │ (<span style=\"color: #00d7ff; text-decoration-color: #00d7ff\">None</span>, <span style=\"color: #00af00; text-decoration-color: #00af00\">256</span>)            │         <span style=\"color: #00af00; text-decoration-color: #00af00\">1,024</span> │\n",
              "│ (<span style=\"color: #0087ff; text-decoration-color: #0087ff\">BatchNormalization</span>)            │                        │               │\n",
              "├─────────────────────────────────┼────────────────────────┼───────────────┤\n",
              "│ dropout_2 (<span style=\"color: #0087ff; text-decoration-color: #0087ff\">Dropout</span>)             │ (<span style=\"color: #00d7ff; text-decoration-color: #00d7ff\">None</span>, <span style=\"color: #00af00; text-decoration-color: #00af00\">256</span>)            │             <span style=\"color: #00af00; text-decoration-color: #00af00\">0</span> │\n",
              "├─────────────────────────────────┼────────────────────────┼───────────────┤\n",
              "│ dense (<span style=\"color: #0087ff; text-decoration-color: #0087ff\">Dense</span>)                   │ (<span style=\"color: #00d7ff; text-decoration-color: #00d7ff\">None</span>, <span style=\"color: #00af00; text-decoration-color: #00af00\">128</span>)            │        <span style=\"color: #00af00; text-decoration-color: #00af00\">32,896</span> │\n",
              "├─────────────────────────────────┼────────────────────────┼───────────────┤\n",
              "│ dropout_3 (<span style=\"color: #0087ff; text-decoration-color: #0087ff\">Dropout</span>)             │ (<span style=\"color: #00d7ff; text-decoration-color: #00d7ff\">None</span>, <span style=\"color: #00af00; text-decoration-color: #00af00\">128</span>)            │             <span style=\"color: #00af00; text-decoration-color: #00af00\">0</span> │\n",
              "├─────────────────────────────────┼────────────────────────┼───────────────┤\n",
              "│ dense_1 (<span style=\"color: #0087ff; text-decoration-color: #0087ff\">Dense</span>)                 │ (<span style=\"color: #00d7ff; text-decoration-color: #00d7ff\">None</span>, <span style=\"color: #00af00; text-decoration-color: #00af00\">12</span>)             │         <span style=\"color: #00af00; text-decoration-color: #00af00\">1,548</span> │\n",
              "└─────────────────────────────────┴────────────────────────┴───────────────┘\n",
              "</pre>\n"
            ]
          },
          "metadata": {}
        },
        {
          "output_type": "display_data",
          "data": {
            "text/plain": [
              "\u001b[1m Total params: \u001b[0m\u001b[38;5;34m1,003,476\u001b[0m (3.83 MB)\n"
            ],
            "text/html": [
              "<pre style=\"white-space:pre;overflow-x:auto;line-height:normal;font-family:Menlo,'DejaVu Sans Mono',consolas,'Courier New',monospace\"><span style=\"font-weight: bold\"> Total params: </span><span style=\"color: #00af00; text-decoration-color: #00af00\">1,003,476</span> (3.83 MB)\n",
              "</pre>\n"
            ]
          },
          "metadata": {}
        },
        {
          "output_type": "display_data",
          "data": {
            "text/plain": [
              "\u001b[1m Trainable params: \u001b[0m\u001b[38;5;34m1,002,513\u001b[0m (3.82 MB)\n"
            ],
            "text/html": [
              "<pre style=\"white-space:pre;overflow-x:auto;line-height:normal;font-family:Menlo,'DejaVu Sans Mono',consolas,'Courier New',monospace\"><span style=\"font-weight: bold\"> Trainable params: </span><span style=\"color: #00af00; text-decoration-color: #00af00\">1,002,513</span> (3.82 MB)\n",
              "</pre>\n"
            ]
          },
          "metadata": {}
        },
        {
          "output_type": "display_data",
          "data": {
            "text/plain": [
              "\u001b[1m Non-trainable params: \u001b[0m\u001b[38;5;34m960\u001b[0m (3.75 KB)\n"
            ],
            "text/html": [
              "<pre style=\"white-space:pre;overflow-x:auto;line-height:normal;font-family:Menlo,'DejaVu Sans Mono',consolas,'Courier New',monospace\"><span style=\"font-weight: bold\"> Non-trainable params: </span><span style=\"color: #00af00; text-decoration-color: #00af00\">960</span> (3.75 KB)\n",
              "</pre>\n"
            ]
          },
          "metadata": {}
        },
        {
          "output_type": "display_data",
          "data": {
            "text/plain": [
              "\u001b[1m Optimizer params: \u001b[0m\u001b[38;5;34m3\u001b[0m (16.00 B)\n"
            ],
            "text/html": [
              "<pre style=\"white-space:pre;overflow-x:auto;line-height:normal;font-family:Menlo,'DejaVu Sans Mono',consolas,'Courier New',monospace\"><span style=\"font-weight: bold\"> Optimizer params: </span><span style=\"color: #00af00; text-decoration-color: #00af00\">3</span> (16.00 B)\n",
              "</pre>\n"
            ]
          },
          "metadata": {}
        }
      ]
    },
    {
      "cell_type": "code",
      "source": [
        "predict_external('/content/stop/stop/stop_422.mp3')"
      ],
      "metadata": {
        "colab": {
          "base_uri": "https://localhost:8080/"
        },
        "id": "XhWYVxgQf61H",
        "outputId": "52ba484f-2c8c-4474-e9d6-746f89eead26"
      },
      "execution_count": null,
      "outputs": [
        {
          "output_type": "stream",
          "name": "stderr",
          "text": [
            "WARNING:absl:Compiled the loaded model, but the compiled metrics have yet to be built. `model.compile_metrics` will be empty until you train or evaluate the model.\n"
          ]
        },
        {
          "output_type": "stream",
          "name": "stdout",
          "text": [
            "\u001b[1m1/1\u001b[0m \u001b[32m━━━━━━━━━━━━━━━━━━━━\u001b[0m\u001b[37m\u001b[0m \u001b[1m2s\u001b[0m 2s/step\n",
            "الأمر المتوقع: stop\n"
          ]
        }
      ]
    },
    {
      "cell_type": "code",
      "source": [
        "predict_external('/content/wav_files/stop/stop_504.wav')"
      ],
      "metadata": {
        "colab": {
          "base_uri": "https://localhost:8080/"
        },
        "id": "1sYukRG7h90v",
        "outputId": "a70c1bb8-bfb7-457c-e6d4-62a986437fc0"
      },
      "execution_count": null,
      "outputs": [
        {
          "output_type": "stream",
          "name": "stderr",
          "text": [
            "WARNING:absl:Compiled the loaded model, but the compiled metrics have yet to be built. `model.compile_metrics` will be empty until you train or evaluate the model.\n"
          ]
        },
        {
          "output_type": "stream",
          "name": "stdout",
          "text": [
            "\u001b[1m1/1\u001b[0m \u001b[32m━━━━━━━━━━━━━━━━━━━━\u001b[0m\u001b[37m\u001b[0m \u001b[1m7s\u001b[0m 7s/step\n",
            "الأمر المتوقع: stop\n"
          ]
        }
      ]
    },
    {
      "cell_type": "code",
      "source": [
        "predict_external('/content/wav_files/slow_slower/slow_slower_131.wav')"
      ],
      "metadata": {
        "colab": {
          "base_uri": "https://localhost:8080/"
        },
        "id": "OR4LPBH3ibO4",
        "outputId": "d9dd5e78-39d7-4f85-af2b-efbca53f5bb5"
      },
      "execution_count": null,
      "outputs": [
        {
          "output_type": "stream",
          "name": "stderr",
          "text": [
            "WARNING:absl:Compiled the loaded model, but the compiled metrics have yet to be built. `model.compile_metrics` will be empty until you train or evaluate the model.\n"
          ]
        },
        {
          "output_type": "stream",
          "name": "stdout",
          "text": [
            "\u001b[1m1/1\u001b[0m \u001b[32m━━━━━━━━━━━━━━━━━━━━\u001b[0m\u001b[37m\u001b[0m \u001b[1m4s\u001b[0m 4s/step\n",
            "الأمر المتوقع: slow_slower\n"
          ]
        }
      ]
    },
    {
      "cell_type": "code",
      "source": [
        "predict_external('/content/stop (2).wav')"
      ],
      "metadata": {
        "colab": {
          "base_uri": "https://localhost:8080/"
        },
        "id": "5WNpeVvFjHmg",
        "outputId": "b23708c3-ffbf-4c0d-bf1f-74c7a7d1aa1c"
      },
      "execution_count": null,
      "outputs": [
        {
          "output_type": "stream",
          "name": "stderr",
          "text": [
            "WARNING:absl:Compiled the loaded model, but the compiled metrics have yet to be built. `model.compile_metrics` will be empty until you train or evaluate the model.\n"
          ]
        },
        {
          "output_type": "stream",
          "name": "stdout",
          "text": [
            "\u001b[1m1/1\u001b[0m \u001b[32m━━━━━━━━━━━━━━━━━━━━\u001b[0m\u001b[37m\u001b[0m \u001b[1m2s\u001b[0m 2s/step\n",
            "الأمر المتوقع: stop\n"
          ]
        }
      ]
    },
    {
      "cell_type": "code",
      "source": [
        "predict_external('/content/wav_files/slow_slower/slow_slower_97.wav')"
      ],
      "metadata": {
        "colab": {
          "base_uri": "https://localhost:8080/"
        },
        "id": "_YoRjpfhkHIW",
        "outputId": "f489cddf-6cd0-4de0-f461-3418948a399a"
      },
      "execution_count": null,
      "outputs": [
        {
          "output_type": "stream",
          "name": "stderr",
          "text": [
            "WARNING:absl:Compiled the loaded model, but the compiled metrics have yet to be built. `model.compile_metrics` will be empty until you train or evaluate the model.\n"
          ]
        },
        {
          "output_type": "stream",
          "name": "stdout",
          "text": [
            "\u001b[1m1/1\u001b[0m \u001b[32m━━━━━━━━━━━━━━━━━━━━\u001b[0m\u001b[37m\u001b[0m \u001b[1m3s\u001b[0m 3s/step\n",
            "الأمر المتوقع: slow_slower\n"
          ]
        }
      ]
    },
    {
      "cell_type": "code",
      "source": [
        "predict_external('/content/slow_slower/slow_slower/slow_slower_112.mp3')"
      ],
      "metadata": {
        "colab": {
          "base_uri": "https://localhost:8080/"
        },
        "id": "2d1oAADikY2L",
        "outputId": "6b2851cc-2f23-4b29-db5f-952c9970b9d7"
      },
      "execution_count": null,
      "outputs": [
        {
          "output_type": "stream",
          "name": "stderr",
          "text": [
            "WARNING:absl:Compiled the loaded model, but the compiled metrics have yet to be built. `model.compile_metrics` will be empty until you train or evaluate the model.\n"
          ]
        },
        {
          "output_type": "stream",
          "name": "stdout",
          "text": [
            "\u001b[1m1/1\u001b[0m \u001b[32m━━━━━━━━━━━━━━━━━━━━\u001b[0m\u001b[37m\u001b[0m \u001b[1m2s\u001b[0m 2s/step\n",
            "الأمر المتوقع: slow_slower\n"
          ]
        }
      ]
    },
    {
      "cell_type": "code",
      "source": [
        "predict_external('/content/stop/stop/stop_367.mp3')"
      ],
      "metadata": {
        "colab": {
          "base_uri": "https://localhost:8080/"
        },
        "id": "8w7aK8-ppFB-",
        "outputId": "f4ce76e1-e1a9-442a-84db-6c9141fa696a"
      },
      "execution_count": null,
      "outputs": [
        {
          "output_type": "stream",
          "name": "stderr",
          "text": [
            "WARNING:absl:Compiled the loaded model, but the compiled metrics have yet to be built. `model.compile_metrics` will be empty until you train or evaluate the model.\n"
          ]
        },
        {
          "output_type": "stream",
          "name": "stdout",
          "text": [
            "\u001b[1m1/1\u001b[0m \u001b[32m━━━━━━━━━━━━━━━━━━━━\u001b[0m\u001b[37m\u001b[0m \u001b[1m2s\u001b[0m 2s/step\n",
            "الأمر المتوقع: stop\n"
          ]
        }
      ]
    },
    {
      "cell_type": "code",
      "source": [
        "predict_external('/content/right/right/right_538.mp3')"
      ],
      "metadata": {
        "colab": {
          "base_uri": "https://localhost:8080/"
        },
        "id": "SIRiuQXIpWCn",
        "outputId": "0c0a8544-486b-4d7f-cd36-e8b50c5b61ab"
      },
      "execution_count": null,
      "outputs": [
        {
          "output_type": "stream",
          "name": "stderr",
          "text": [
            "WARNING:absl:Compiled the loaded model, but the compiled metrics have yet to be built. `model.compile_metrics` will be empty until you train or evaluate the model.\n"
          ]
        },
        {
          "output_type": "stream",
          "name": "stdout",
          "text": [
            "\u001b[1m1/1\u001b[0m \u001b[32m━━━━━━━━━━━━━━━━━━━━\u001b[0m\u001b[37m\u001b[0m \u001b[1m2s\u001b[0m 2s/step\n",
            "الأمر المتوقع: right\n"
          ]
        }
      ]
    },
    {
      "cell_type": "code",
      "source": [
        "predict_external('/content/left/left/left_711.mp3')"
      ],
      "metadata": {
        "colab": {
          "base_uri": "https://localhost:8080/"
        },
        "id": "_PIUhZQaptk4",
        "outputId": "5ca41de6-4df0-459d-de45-a2f6444c76dd"
      },
      "execution_count": null,
      "outputs": [
        {
          "output_type": "stream",
          "name": "stderr",
          "text": [
            "WARNING:absl:Compiled the loaded model, but the compiled metrics have yet to be built. `model.compile_metrics` will be empty until you train or evaluate the model.\n"
          ]
        },
        {
          "output_type": "stream",
          "name": "stdout",
          "text": [
            "\u001b[1m1/1\u001b[0m \u001b[32m━━━━━━━━━━━━━━━━━━━━\u001b[0m\u001b[37m\u001b[0m \u001b[1m3s\u001b[0m 3s/step\n",
            "الأمر المتوقع: left\n"
          ]
        }
      ]
    },
    {
      "cell_type": "code",
      "source": [
        "predict_external('/content/front_forworld_streight/front_forworld_streight/front_forworld_streight_1014.mp3')"
      ],
      "metadata": {
        "colab": {
          "base_uri": "https://localhost:8080/"
        },
        "id": "Qv3n8DM3p1VJ",
        "outputId": "c77b9322-c410-4644-b596-19de25427e48"
      },
      "execution_count": null,
      "outputs": [
        {
          "output_type": "stream",
          "name": "stderr",
          "text": [
            "WARNING:absl:Compiled the loaded model, but the compiled metrics have yet to be built. `model.compile_metrics` will be empty until you train or evaluate the model.\n"
          ]
        },
        {
          "output_type": "stream",
          "name": "stdout",
          "text": [
            "\u001b[1m1/1\u001b[0m \u001b[32m━━━━━━━━━━━━━━━━━━━━\u001b[0m\u001b[37m\u001b[0m \u001b[1m3s\u001b[0m 3s/step\n",
            "الأمر المتوقع: front_forworld_streight\n"
          ]
        }
      ]
    },
    {
      "cell_type": "code",
      "source": [
        "predict_external('/content/back_backworld/back_backworld/back_backworld_1726.mp3')"
      ],
      "metadata": {
        "colab": {
          "base_uri": "https://localhost:8080/"
        },
        "id": "VAR-31h6p7qN",
        "outputId": "8120fc84-7e82-4f72-8b35-d1a5d98c62d5"
      },
      "execution_count": null,
      "outputs": [
        {
          "output_type": "stream",
          "name": "stderr",
          "text": [
            "WARNING:absl:Compiled the loaded model, but the compiled metrics have yet to be built. `model.compile_metrics` will be empty until you train or evaluate the model.\n"
          ]
        },
        {
          "output_type": "stream",
          "name": "stdout",
          "text": [
            "\u001b[1m1/1\u001b[0m \u001b[32m━━━━━━━━━━━━━━━━━━━━\u001b[0m\u001b[37m\u001b[0m \u001b[1m2s\u001b[0m 2s/step\n",
            "الأمر المتوقع: back_backworld\n"
          ]
        }
      ]
    },
    {
      "cell_type": "code",
      "source": [
        "predict_external('/content/Fast_Faster/Fast_Faster/fast_faster_1407.mp3')"
      ],
      "metadata": {
        "colab": {
          "base_uri": "https://localhost:8080/"
        },
        "id": "-VrkpGuvqEqB",
        "outputId": "d8bb533b-713a-4deb-aa1c-4603695db562"
      },
      "execution_count": null,
      "outputs": [
        {
          "output_type": "stream",
          "name": "stderr",
          "text": [
            "WARNING:absl:Compiled the loaded model, but the compiled metrics have yet to be built. `model.compile_metrics` will be empty until you train or evaluate the model.\n"
          ]
        },
        {
          "output_type": "stream",
          "name": "stdout",
          "text": [
            "\u001b[1m1/1\u001b[0m \u001b[32m━━━━━━━━━━━━━━━━━━━━\u001b[0m\u001b[37m\u001b[0m \u001b[1m2s\u001b[0m 2s/step\n",
            "الأمر المتوقع: Fast_Faster\n"
          ]
        }
      ]
    },
    {
      "cell_type": "code",
      "source": [
        "predict_external('/content/speech_commands/backward/02ade946_nohash_2.wav')"
      ],
      "metadata": {
        "colab": {
          "base_uri": "https://localhost:8080/"
        },
        "id": "S-elxE7wqKzV",
        "outputId": "52c924d9-653b-44ea-b85c-e2c1a8d12be2"
      },
      "execution_count": null,
      "outputs": [
        {
          "output_type": "stream",
          "name": "stderr",
          "text": [
            "WARNING:absl:Compiled the loaded model, but the compiled metrics have yet to be built. `model.compile_metrics` will be empty until you train or evaluate the model.\n"
          ]
        },
        {
          "output_type": "stream",
          "name": "stdout",
          "text": [
            "\u001b[1m1/1\u001b[0m \u001b[32m━━━━━━━━━━━━━━━━━━━━\u001b[0m\u001b[37m\u001b[0m \u001b[1m3s\u001b[0m 3s/step\n",
            "الأمر المتوقع: backward\n"
          ]
        }
      ]
    },
    {
      "cell_type": "code",
      "source": [
        "predict_external('/content/speech_commands/forward/0ea9c8ce_nohash_1.wav')"
      ],
      "metadata": {
        "colab": {
          "base_uri": "https://localhost:8080/"
        },
        "id": "37Khfx8-reD6",
        "outputId": "fa912d37-367d-451e-cc85-dc4f9dfa5a0b"
      },
      "execution_count": null,
      "outputs": [
        {
          "output_type": "stream",
          "name": "stderr",
          "text": [
            "WARNING:absl:Compiled the loaded model, but the compiled metrics have yet to be built. `model.compile_metrics` will be empty until you train or evaluate the model.\n"
          ]
        },
        {
          "output_type": "stream",
          "name": "stdout",
          "text": [
            "\u001b[1m1/1\u001b[0m \u001b[32m━━━━━━━━━━━━━━━━━━━━\u001b[0m\u001b[37m\u001b[0m \u001b[1m2s\u001b[0m 2s/step\n",
            "الأمر المتوقع: forward\n"
          ]
        }
      ]
    },
    {
      "cell_type": "code",
      "source": [
        "predict_external('/content/speech_commands/left/0132a06d_nohash_4.wav')"
      ],
      "metadata": {
        "colab": {
          "base_uri": "https://localhost:8080/"
        },
        "id": "_mLHLE_Urn5_",
        "outputId": "98cd28e9-a8d2-440f-e925-5498ebfaa3dd"
      },
      "execution_count": null,
      "outputs": [
        {
          "output_type": "stream",
          "name": "stderr",
          "text": [
            "WARNING:absl:Compiled the loaded model, but the compiled metrics have yet to be built. `model.compile_metrics` will be empty until you train or evaluate the model.\n"
          ]
        },
        {
          "output_type": "stream",
          "name": "stdout",
          "text": [
            "\u001b[1m1/1\u001b[0m \u001b[32m━━━━━━━━━━━━━━━━━━━━\u001b[0m\u001b[37m\u001b[0m \u001b[1m1s\u001b[0m 1s/step\n",
            "الأمر المتوقع: left\n"
          ]
        }
      ]
    },
    {
      "cell_type": "code",
      "source": [
        "predict_external('/content/speech_commands/right/0135f3f2_nohash_0.wav')"
      ],
      "metadata": {
        "colab": {
          "base_uri": "https://localhost:8080/"
        },
        "id": "kW678GSDr4U8",
        "outputId": "4bee292e-8e11-4b66-cf57-d5ed034b76a0"
      },
      "execution_count": null,
      "outputs": [
        {
          "output_type": "stream",
          "name": "stderr",
          "text": [
            "WARNING:absl:Compiled the loaded model, but the compiled metrics have yet to be built. `model.compile_metrics` will be empty until you train or evaluate the model.\n"
          ]
        },
        {
          "output_type": "stream",
          "name": "stdout",
          "text": [
            "\u001b[1m1/1\u001b[0m \u001b[32m━━━━━━━━━━━━━━━━━━━━\u001b[0m\u001b[37m\u001b[0m \u001b[1m3s\u001b[0m 3s/step\n",
            "الأمر المتوقع: right\n"
          ]
        }
      ]
    },
    {
      "cell_type": "code",
      "source": [
        "predict_external('/content/speech_commands/stop/0135f3f2_nohash_0.wav')"
      ],
      "metadata": {
        "colab": {
          "base_uri": "https://localhost:8080/"
        },
        "id": "pIDvO7Klr4Rh",
        "outputId": "599ae757-f0ed-4c7a-dc70-1f328919bd10"
      },
      "execution_count": null,
      "outputs": [
        {
          "output_type": "stream",
          "name": "stderr",
          "text": [
            "WARNING:absl:Compiled the loaded model, but the compiled metrics have yet to be built. `model.compile_metrics` will be empty until you train or evaluate the model.\n"
          ]
        },
        {
          "output_type": "stream",
          "name": "stdout",
          "text": [
            "\u001b[1m1/1\u001b[0m \u001b[32m━━━━━━━━━━━━━━━━━━━━\u001b[0m\u001b[37m\u001b[0m \u001b[1m2s\u001b[0m 2s/step\n",
            "الأمر المتوقع: stop\n"
          ]
        }
      ]
    }
  ],
  "metadata": {
    "colab": {
      "provenance": []
    },
    "kernelspec": {
      "display_name": "Python 3",
      "name": "python3"
    },
    "language_info": {
      "name": "python"
    }
  },
  "nbformat": 4,
  "nbformat_minor": 0
}